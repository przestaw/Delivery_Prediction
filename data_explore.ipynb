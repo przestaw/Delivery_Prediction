{
 "cells": [
  {
   "cell_type": "markdown",
   "metadata": {
    "collapsed": true,
    "pycharm": {
     "name": "#%% md\n"
    }
   },
   "source": [
    "# Data Exploration\n",
    "### objective :\n",
    "*Wygląda na to, że nasze firmy kurierskie czasami nie radzą sobie z dostawami. Lepiej by było, gdybyśmy wiedzieli, ile taka dostawa dla danego zamówienia może potrwać.*"
   ]
  },
  {
   "cell_type": "code",
   "execution_count": 252,
   "outputs": [],
   "source": [
    "import datetime\n",
    "import json # as pandas struggled with json\n",
    "import numpy as np\n",
    "import pandas as pd\n",
    "import pandas.io.json as pd_json\n",
    "%matplotlib inline"
   ],
   "metadata": {
    "collapsed": false,
    "pycharm": {
     "name": "#%%\n"
    }
   }
  },
  {
   "cell_type": "markdown",
   "source": [
    "### Load files:"
   ],
   "metadata": {
    "collapsed": false
   }
  },
  {
   "cell_type": "code",
   "execution_count": 253,
   "outputs": [
    {
     "name": "stderr",
     "output_type": "stream",
     "text": [
      "/home/przemek/.local/lib/python3.6/site-packages/ipykernel_launcher.py:5: FutureWarning: pandas.io.json.json_normalize is deprecated, use pandas.json_normalize instead\n",
      "  \"\"\"\n"
     ]
    },
    {
     "data": {
      "text/plain": "    user_id                    name      city                    street\n0       102   Oliwier Maślankiewicz     Konin           pl. Kwiatowa 03\n1       103       Kajetan Karmelita  Warszawa           ulica Maczka 31\n2       104          Eryk Kuncewicz    Police     ulica Krakowska 14/94\n3       105            Sylwia Sabak     Radom        ulica Szpitalna 71\n4       106             Inga Stępka    Mielec          aleja Liliowa 50\n5       107           Filip Włodyka    Gdynia          aleja Ludowa 797\n6       108          Jerzy Podgórny  Warszawa            ul. Głogowa 78\n7       109          Julita Żuberek     Kutno            ul. Wesoła 214\n8       110        Urszula Lepianka     Konin             al. Rataja 60\n9       111          Mateusz Posmyk     Kutno          ulica Jadwigi 92\n10      112            Robert Mazek     Radom            pl. Majowa 249\n11      113         Artur Borkowicz    Mielec          plac Widokowa 54\n12      114          Dominik Stypka  Szczecin  ulica Wypoczynkowa 87/03\n13      115             Inga Skałka    Gdynia            ulica Cicha 10\n14      116          Julianna Moryc     Radom      ulica Słowackiego 73\n15      117          Kornel Makurat    Police     ulica Modrzewiowa 985\n16      118        Natasza Leszczyk     Kutno          ulica Średnia 91\n17      119           Mieszko Marko    Police           ul. Wiązowa 318\n18      120         Wojciech Skwira  Szczecin   ulica Kraszewskiego 852\n19      121  Aleksander Płocharczyk    Mielec            al. Targowa 38\n20      122          Karina Wasyluk     Kutno        aleja Brzechwy 167\n21      123          Daniel Bluszcz  Szczecin           ulica Ciasna 28\n22      124      Krzysztof Łukowiak  Warszawa             ulica Miła 25\n23      125            Kornel Słysz     Konin           ul. Głogowa 349\n24      126         Lidia Brodowicz    Gdynia            aleja Cicha 43\n25      127              Jan Szlaga     Radom          pl. Wilcza 01/61\n26      128           Mateusz Damps    Mielec        ulica Wierzbowa 14\n27      129        Miłosz Patrzałek    Gdynia           plac Bankowa 05\n28      130           Patryk Salawa  Warszawa      pl. Konwaliowa 35/75\n29      131          Miłosz Wiencek     Kutno      ulica Bałtycka 92/87",
      "text/html": "<div>\n<style scoped>\n    .dataframe tbody tr th:only-of-type {\n        vertical-align: middle;\n    }\n\n    .dataframe tbody tr th {\n        vertical-align: top;\n    }\n\n    .dataframe thead th {\n        text-align: right;\n    }\n</style>\n<table border=\"1\" class=\"dataframe\">\n  <thead>\n    <tr style=\"text-align: right;\">\n      <th></th>\n      <th>user_id</th>\n      <th>name</th>\n      <th>city</th>\n      <th>street</th>\n    </tr>\n  </thead>\n  <tbody>\n    <tr>\n      <th>0</th>\n      <td>102</td>\n      <td>Oliwier Maślankiewicz</td>\n      <td>Konin</td>\n      <td>pl. Kwiatowa 03</td>\n    </tr>\n    <tr>\n      <th>1</th>\n      <td>103</td>\n      <td>Kajetan Karmelita</td>\n      <td>Warszawa</td>\n      <td>ulica Maczka 31</td>\n    </tr>\n    <tr>\n      <th>2</th>\n      <td>104</td>\n      <td>Eryk Kuncewicz</td>\n      <td>Police</td>\n      <td>ulica Krakowska 14/94</td>\n    </tr>\n    <tr>\n      <th>3</th>\n      <td>105</td>\n      <td>Sylwia Sabak</td>\n      <td>Radom</td>\n      <td>ulica Szpitalna 71</td>\n    </tr>\n    <tr>\n      <th>4</th>\n      <td>106</td>\n      <td>Inga Stępka</td>\n      <td>Mielec</td>\n      <td>aleja Liliowa 50</td>\n    </tr>\n    <tr>\n      <th>5</th>\n      <td>107</td>\n      <td>Filip Włodyka</td>\n      <td>Gdynia</td>\n      <td>aleja Ludowa 797</td>\n    </tr>\n    <tr>\n      <th>6</th>\n      <td>108</td>\n      <td>Jerzy Podgórny</td>\n      <td>Warszawa</td>\n      <td>ul. Głogowa 78</td>\n    </tr>\n    <tr>\n      <th>7</th>\n      <td>109</td>\n      <td>Julita Żuberek</td>\n      <td>Kutno</td>\n      <td>ul. Wesoła 214</td>\n    </tr>\n    <tr>\n      <th>8</th>\n      <td>110</td>\n      <td>Urszula Lepianka</td>\n      <td>Konin</td>\n      <td>al. Rataja 60</td>\n    </tr>\n    <tr>\n      <th>9</th>\n      <td>111</td>\n      <td>Mateusz Posmyk</td>\n      <td>Kutno</td>\n      <td>ulica Jadwigi 92</td>\n    </tr>\n    <tr>\n      <th>10</th>\n      <td>112</td>\n      <td>Robert Mazek</td>\n      <td>Radom</td>\n      <td>pl. Majowa 249</td>\n    </tr>\n    <tr>\n      <th>11</th>\n      <td>113</td>\n      <td>Artur Borkowicz</td>\n      <td>Mielec</td>\n      <td>plac Widokowa 54</td>\n    </tr>\n    <tr>\n      <th>12</th>\n      <td>114</td>\n      <td>Dominik Stypka</td>\n      <td>Szczecin</td>\n      <td>ulica Wypoczynkowa 87/03</td>\n    </tr>\n    <tr>\n      <th>13</th>\n      <td>115</td>\n      <td>Inga Skałka</td>\n      <td>Gdynia</td>\n      <td>ulica Cicha 10</td>\n    </tr>\n    <tr>\n      <th>14</th>\n      <td>116</td>\n      <td>Julianna Moryc</td>\n      <td>Radom</td>\n      <td>ulica Słowackiego 73</td>\n    </tr>\n    <tr>\n      <th>15</th>\n      <td>117</td>\n      <td>Kornel Makurat</td>\n      <td>Police</td>\n      <td>ulica Modrzewiowa 985</td>\n    </tr>\n    <tr>\n      <th>16</th>\n      <td>118</td>\n      <td>Natasza Leszczyk</td>\n      <td>Kutno</td>\n      <td>ulica Średnia 91</td>\n    </tr>\n    <tr>\n      <th>17</th>\n      <td>119</td>\n      <td>Mieszko Marko</td>\n      <td>Police</td>\n      <td>ul. Wiązowa 318</td>\n    </tr>\n    <tr>\n      <th>18</th>\n      <td>120</td>\n      <td>Wojciech Skwira</td>\n      <td>Szczecin</td>\n      <td>ulica Kraszewskiego 852</td>\n    </tr>\n    <tr>\n      <th>19</th>\n      <td>121</td>\n      <td>Aleksander Płocharczyk</td>\n      <td>Mielec</td>\n      <td>al. Targowa 38</td>\n    </tr>\n    <tr>\n      <th>20</th>\n      <td>122</td>\n      <td>Karina Wasyluk</td>\n      <td>Kutno</td>\n      <td>aleja Brzechwy 167</td>\n    </tr>\n    <tr>\n      <th>21</th>\n      <td>123</td>\n      <td>Daniel Bluszcz</td>\n      <td>Szczecin</td>\n      <td>ulica Ciasna 28</td>\n    </tr>\n    <tr>\n      <th>22</th>\n      <td>124</td>\n      <td>Krzysztof Łukowiak</td>\n      <td>Warszawa</td>\n      <td>ulica Miła 25</td>\n    </tr>\n    <tr>\n      <th>23</th>\n      <td>125</td>\n      <td>Kornel Słysz</td>\n      <td>Konin</td>\n      <td>ul. Głogowa 349</td>\n    </tr>\n    <tr>\n      <th>24</th>\n      <td>126</td>\n      <td>Lidia Brodowicz</td>\n      <td>Gdynia</td>\n      <td>aleja Cicha 43</td>\n    </tr>\n    <tr>\n      <th>25</th>\n      <td>127</td>\n      <td>Jan Szlaga</td>\n      <td>Radom</td>\n      <td>pl. Wilcza 01/61</td>\n    </tr>\n    <tr>\n      <th>26</th>\n      <td>128</td>\n      <td>Mateusz Damps</td>\n      <td>Mielec</td>\n      <td>ulica Wierzbowa 14</td>\n    </tr>\n    <tr>\n      <th>27</th>\n      <td>129</td>\n      <td>Miłosz Patrzałek</td>\n      <td>Gdynia</td>\n      <td>plac Bankowa 05</td>\n    </tr>\n    <tr>\n      <th>28</th>\n      <td>130</td>\n      <td>Patryk Salawa</td>\n      <td>Warszawa</td>\n      <td>pl. Konwaliowa 35/75</td>\n    </tr>\n    <tr>\n      <th>29</th>\n      <td>131</td>\n      <td>Miłosz Wiencek</td>\n      <td>Kutno</td>\n      <td>ulica Bałtycka 92/87</td>\n    </tr>\n  </tbody>\n</table>\n</div>"
     },
     "execution_count": 253,
     "metadata": {},
     "output_type": "execute_result"
    }
   ],
   "source": [
    "def load_file(filename):\n",
    "    with open(filename, encoding=\"utf8\") as f:\n",
    "        data = f.readlines()\n",
    "        data = [json.loads(line) for line in data] #convert string to dict format\n",
    "        df = pd_json.json_normalize(data)\n",
    "    return df\n",
    "\n",
    "users = load_file(r'data/users.jsonl')# pd.read_json(r\"data/users.jsonl\", typ='series', lines=True, dtype='dict')\n",
    "users.head(30)"
   ],
   "metadata": {
    "collapsed": false,
    "pycharm": {
     "name": "#%%\n"
    }
   }
  },
  {
   "cell_type": "code",
   "execution_count": 254,
   "outputs": [
    {
     "name": "stderr",
     "output_type": "stream",
     "text": [
      "/home/przemek/.local/lib/python3.6/site-packages/ipykernel_launcher.py:5: FutureWarning: pandas.io.json.json_normalize is deprecated, use pandas.json_normalize instead\n",
      "  \"\"\"\n"
     ]
    },
    {
     "data": {
      "text/plain": "    purchase_id   purchase_timestamp   delivery_timestamp  delivery_company\n0         20001  2020-02-10T02:11:41  2020-02-12T13:11:41             360.0\n1         20002  2020-03-18T08:22:20                 None             360.0\n2         20003  2020-01-21T18:07:56  2020-01-24T05:07:56             360.0\n3         20004  2020-02-21T15:33:36  2020-02-24T02:33:36               NaN\n4         20005  2020-03-09T14:46:19  2020-03-13T19:46:19             620.0\n5         20006  2020-02-02T02:07:04  2020-02-06T07:07:04             620.0\n6         20007  2020-01-20T20:33:10  2020-01-25T01:33:10             620.0\n7         20008  2020-02-02T20:41:01  2020-02-05T07:41:01             360.0\n8         20009  2020-01-31T02:24:21  2020-02-04T07:24:21             620.0\n9         20010  2020-01-17T04:30:21  2020-01-19T15:30:21             360.0\n10        20011  2020-02-27T01:33:02  2020-02-29T02:33:02             516.0\n11        20012  2020-03-14T08:38:39                 None             620.0\n12        20013  2020-03-06T11:34:57  2020-03-08T12:34:57             516.0\n13        20014  2020-01-09T13:51:09  2020-01-12T00:51:09             360.0\n14        20015  2020-03-06T04:38:11  2020-03-08T15:38:11             360.0\n15        20016  2020-02-02T14:33:55  2020-02-05T01:33:55             360.0\n16        20017  2020-01-31T00:31:59  2020-02-04T05:31:59             620.0\n17        20018  2020-01-02T19:34:45  2020-01-05T06:34:45             360.0\n18        20019  2020-01-27T07:48:16  2020-01-31T12:48:16             620.0\n19        20020  2020-03-17T09:31:38  2020-03-19T20:31:38             360.0\n20        20021  2020-03-04T14:21:42  2020-03-08T19:21:42             620.0\n21        20022  2020-03-12T08:30:55  2020-03-14T19:30:55             360.0\n22        20023  2020-02-29T11:38:50  2020-03-04T16:38:50             620.0\n23        20024  2020-01-02T04:43:24  2020-01-04T15:43:24             360.0\n24        20025  2020-02-15T22:10:03                 None             620.0\n25        20026  2020-01-19T08:29:43  2020-01-21T09:29:43             516.0\n26        20027  2020-01-13T10:23:55  2020-01-15T21:23:55             360.0\n27        20028  2020-01-31T05:50:36  2020-02-04T10:50:36             620.0\n28        20029  2020-03-14T05:04:02  2020-03-18T10:04:02             620.0\n29        20030  2020-01-27T07:20:17  2020-01-31T12:20:17             620.0",
      "text/html": "<div>\n<style scoped>\n    .dataframe tbody tr th:only-of-type {\n        vertical-align: middle;\n    }\n\n    .dataframe tbody tr th {\n        vertical-align: top;\n    }\n\n    .dataframe thead th {\n        text-align: right;\n    }\n</style>\n<table border=\"1\" class=\"dataframe\">\n  <thead>\n    <tr style=\"text-align: right;\">\n      <th></th>\n      <th>purchase_id</th>\n      <th>purchase_timestamp</th>\n      <th>delivery_timestamp</th>\n      <th>delivery_company</th>\n    </tr>\n  </thead>\n  <tbody>\n    <tr>\n      <th>0</th>\n      <td>20001</td>\n      <td>2020-02-10T02:11:41</td>\n      <td>2020-02-12T13:11:41</td>\n      <td>360.0</td>\n    </tr>\n    <tr>\n      <th>1</th>\n      <td>20002</td>\n      <td>2020-03-18T08:22:20</td>\n      <td>None</td>\n      <td>360.0</td>\n    </tr>\n    <tr>\n      <th>2</th>\n      <td>20003</td>\n      <td>2020-01-21T18:07:56</td>\n      <td>2020-01-24T05:07:56</td>\n      <td>360.0</td>\n    </tr>\n    <tr>\n      <th>3</th>\n      <td>20004</td>\n      <td>2020-02-21T15:33:36</td>\n      <td>2020-02-24T02:33:36</td>\n      <td>NaN</td>\n    </tr>\n    <tr>\n      <th>4</th>\n      <td>20005</td>\n      <td>2020-03-09T14:46:19</td>\n      <td>2020-03-13T19:46:19</td>\n      <td>620.0</td>\n    </tr>\n    <tr>\n      <th>5</th>\n      <td>20006</td>\n      <td>2020-02-02T02:07:04</td>\n      <td>2020-02-06T07:07:04</td>\n      <td>620.0</td>\n    </tr>\n    <tr>\n      <th>6</th>\n      <td>20007</td>\n      <td>2020-01-20T20:33:10</td>\n      <td>2020-01-25T01:33:10</td>\n      <td>620.0</td>\n    </tr>\n    <tr>\n      <th>7</th>\n      <td>20008</td>\n      <td>2020-02-02T20:41:01</td>\n      <td>2020-02-05T07:41:01</td>\n      <td>360.0</td>\n    </tr>\n    <tr>\n      <th>8</th>\n      <td>20009</td>\n      <td>2020-01-31T02:24:21</td>\n      <td>2020-02-04T07:24:21</td>\n      <td>620.0</td>\n    </tr>\n    <tr>\n      <th>9</th>\n      <td>20010</td>\n      <td>2020-01-17T04:30:21</td>\n      <td>2020-01-19T15:30:21</td>\n      <td>360.0</td>\n    </tr>\n    <tr>\n      <th>10</th>\n      <td>20011</td>\n      <td>2020-02-27T01:33:02</td>\n      <td>2020-02-29T02:33:02</td>\n      <td>516.0</td>\n    </tr>\n    <tr>\n      <th>11</th>\n      <td>20012</td>\n      <td>2020-03-14T08:38:39</td>\n      <td>None</td>\n      <td>620.0</td>\n    </tr>\n    <tr>\n      <th>12</th>\n      <td>20013</td>\n      <td>2020-03-06T11:34:57</td>\n      <td>2020-03-08T12:34:57</td>\n      <td>516.0</td>\n    </tr>\n    <tr>\n      <th>13</th>\n      <td>20014</td>\n      <td>2020-01-09T13:51:09</td>\n      <td>2020-01-12T00:51:09</td>\n      <td>360.0</td>\n    </tr>\n    <tr>\n      <th>14</th>\n      <td>20015</td>\n      <td>2020-03-06T04:38:11</td>\n      <td>2020-03-08T15:38:11</td>\n      <td>360.0</td>\n    </tr>\n    <tr>\n      <th>15</th>\n      <td>20016</td>\n      <td>2020-02-02T14:33:55</td>\n      <td>2020-02-05T01:33:55</td>\n      <td>360.0</td>\n    </tr>\n    <tr>\n      <th>16</th>\n      <td>20017</td>\n      <td>2020-01-31T00:31:59</td>\n      <td>2020-02-04T05:31:59</td>\n      <td>620.0</td>\n    </tr>\n    <tr>\n      <th>17</th>\n      <td>20018</td>\n      <td>2020-01-02T19:34:45</td>\n      <td>2020-01-05T06:34:45</td>\n      <td>360.0</td>\n    </tr>\n    <tr>\n      <th>18</th>\n      <td>20019</td>\n      <td>2020-01-27T07:48:16</td>\n      <td>2020-01-31T12:48:16</td>\n      <td>620.0</td>\n    </tr>\n    <tr>\n      <th>19</th>\n      <td>20020</td>\n      <td>2020-03-17T09:31:38</td>\n      <td>2020-03-19T20:31:38</td>\n      <td>360.0</td>\n    </tr>\n    <tr>\n      <th>20</th>\n      <td>20021</td>\n      <td>2020-03-04T14:21:42</td>\n      <td>2020-03-08T19:21:42</td>\n      <td>620.0</td>\n    </tr>\n    <tr>\n      <th>21</th>\n      <td>20022</td>\n      <td>2020-03-12T08:30:55</td>\n      <td>2020-03-14T19:30:55</td>\n      <td>360.0</td>\n    </tr>\n    <tr>\n      <th>22</th>\n      <td>20023</td>\n      <td>2020-02-29T11:38:50</td>\n      <td>2020-03-04T16:38:50</td>\n      <td>620.0</td>\n    </tr>\n    <tr>\n      <th>23</th>\n      <td>20024</td>\n      <td>2020-01-02T04:43:24</td>\n      <td>2020-01-04T15:43:24</td>\n      <td>360.0</td>\n    </tr>\n    <tr>\n      <th>24</th>\n      <td>20025</td>\n      <td>2020-02-15T22:10:03</td>\n      <td>None</td>\n      <td>620.0</td>\n    </tr>\n    <tr>\n      <th>25</th>\n      <td>20026</td>\n      <td>2020-01-19T08:29:43</td>\n      <td>2020-01-21T09:29:43</td>\n      <td>516.0</td>\n    </tr>\n    <tr>\n      <th>26</th>\n      <td>20027</td>\n      <td>2020-01-13T10:23:55</td>\n      <td>2020-01-15T21:23:55</td>\n      <td>360.0</td>\n    </tr>\n    <tr>\n      <th>27</th>\n      <td>20028</td>\n      <td>2020-01-31T05:50:36</td>\n      <td>2020-02-04T10:50:36</td>\n      <td>620.0</td>\n    </tr>\n    <tr>\n      <th>28</th>\n      <td>20029</td>\n      <td>2020-03-14T05:04:02</td>\n      <td>2020-03-18T10:04:02</td>\n      <td>620.0</td>\n    </tr>\n    <tr>\n      <th>29</th>\n      <td>20030</td>\n      <td>2020-01-27T07:20:17</td>\n      <td>2020-01-31T12:20:17</td>\n      <td>620.0</td>\n    </tr>\n  </tbody>\n</table>\n</div>"
     },
     "execution_count": 254,
     "metadata": {},
     "output_type": "execute_result"
    }
   ],
   "source": [
    "deliveries = load_file(\"data/deliveries.jsonl\")\n",
    "deliveries.head(30)"
   ],
   "metadata": {
    "collapsed": false,
    "pycharm": {
     "name": "#%%\n"
    }
   }
  },
  {
   "cell_type": "code",
   "execution_count": 255,
   "outputs": [
    {
     "name": "stderr",
     "output_type": "stream",
     "text": [
      "/home/przemek/.local/lib/python3.6/site-packages/ipykernel_launcher.py:5: FutureWarning: pandas.io.json.json_normalize is deprecated, use pandas.json_normalize instead\n",
      "  \"\"\"\n"
     ]
    },
    {
     "data": {
      "text/plain": "    session_id            timestamp  user_id  product_id    event_type  \\\n0       100001  2020-02-10T01:49:08    102.0      1081.0  VIEW_PRODUCT   \n1       100001  2020-02-10T01:52:15    102.0         NaN  VIEW_PRODUCT   \n2       100001  2020-02-10T01:56:33    102.0      1080.0  VIEW_PRODUCT   \n3       100001  2020-02-10T01:58:07    102.0      1079.0  VIEW_PRODUCT   \n4       100001  2020-02-10T02:01:33    102.0      1077.0  VIEW_PRODUCT   \n5       100001  2020-02-10T02:03:54    102.0      1003.0  VIEW_PRODUCT   \n6       100001  2020-02-10T02:04:56    102.0      1002.0  VIEW_PRODUCT   \n7       100001  2020-02-10T02:07:25    102.0      1078.0  VIEW_PRODUCT   \n8       100001  2020-02-10T02:11:41    102.0      1078.0   BUY_PRODUCT   \n9       100002  2020-03-18T08:22:14    102.0      1318.0  VIEW_PRODUCT   \n10      100002  2020-03-18T08:22:20    102.0      1318.0   BUY_PRODUCT   \n11      100003  2020-01-21T17:51:27    102.0      1043.0  VIEW_PRODUCT   \n12      100003  2020-01-21T17:52:50    102.0      1044.0  VIEW_PRODUCT   \n13      100003  2020-01-21T17:55:13    102.0      1040.0  VIEW_PRODUCT   \n14      100003  2020-01-21T17:59:00    102.0      1047.0  VIEW_PRODUCT   \n15      100003  2020-01-21T17:59:34    102.0      1045.0  VIEW_PRODUCT   \n16      100003  2020-01-21T18:02:12    102.0      1042.0  VIEW_PRODUCT   \n17      100003  2020-01-21T18:05:53    102.0      1084.0  VIEW_PRODUCT   \n18      100003  2020-01-21T18:06:50      NaN      1046.0  VIEW_PRODUCT   \n19      100003  2020-01-21T18:07:56    102.0      1046.0   BUY_PRODUCT   \n20      100004  2020-02-17T01:07:25    102.0      1283.0  VIEW_PRODUCT   \n21      100005  2020-02-21T15:29:55    102.0      1001.0  VIEW_PRODUCT   \n22      100005  2020-02-21T15:33:36    102.0      1001.0   BUY_PRODUCT   \n23      100006  2020-03-09T14:35:36    102.0      1073.0  VIEW_PRODUCT   \n24      100006  2020-03-09T14:39:20    102.0      1072.0  VIEW_PRODUCT   \n25      100006  2020-03-09T14:43:27    102.0      1222.0  VIEW_PRODUCT   \n26      100006  2020-03-09T14:44:50    102.0      1201.0  VIEW_PRODUCT   \n27      100006  2020-03-09T14:46:19    102.0      1201.0   BUY_PRODUCT   \n28      100007  2020-02-02T01:57:53    102.0      1044.0  VIEW_PRODUCT   \n29      100007  2020-02-02T01:58:46    102.0      1040.0  VIEW_PRODUCT   \n\n    offered_discount  purchase_id  \n0                  0          NaN  \n1                  0          NaN  \n2                  0          NaN  \n3                  0          NaN  \n4                  0          NaN  \n5                  0          NaN  \n6                  0          NaN  \n7                  0          NaN  \n8                  0      20001.0  \n9                  0          NaN  \n10                 0      20002.0  \n11                10          NaN  \n12                10          NaN  \n13                10          NaN  \n14                10          NaN  \n15                10          NaN  \n16                10          NaN  \n17                10          NaN  \n18                10          NaN  \n19                10      20003.0  \n20                 0          NaN  \n21                15          NaN  \n22                15      20004.0  \n23                 0          NaN  \n24                 0          NaN  \n25                 0          NaN  \n26                 0          NaN  \n27                 0      20005.0  \n28                20          NaN  \n29                20          NaN  ",
      "text/html": "<div>\n<style scoped>\n    .dataframe tbody tr th:only-of-type {\n        vertical-align: middle;\n    }\n\n    .dataframe tbody tr th {\n        vertical-align: top;\n    }\n\n    .dataframe thead th {\n        text-align: right;\n    }\n</style>\n<table border=\"1\" class=\"dataframe\">\n  <thead>\n    <tr style=\"text-align: right;\">\n      <th></th>\n      <th>session_id</th>\n      <th>timestamp</th>\n      <th>user_id</th>\n      <th>product_id</th>\n      <th>event_type</th>\n      <th>offered_discount</th>\n      <th>purchase_id</th>\n    </tr>\n  </thead>\n  <tbody>\n    <tr>\n      <th>0</th>\n      <td>100001</td>\n      <td>2020-02-10T01:49:08</td>\n      <td>102.0</td>\n      <td>1081.0</td>\n      <td>VIEW_PRODUCT</td>\n      <td>0</td>\n      <td>NaN</td>\n    </tr>\n    <tr>\n      <th>1</th>\n      <td>100001</td>\n      <td>2020-02-10T01:52:15</td>\n      <td>102.0</td>\n      <td>NaN</td>\n      <td>VIEW_PRODUCT</td>\n      <td>0</td>\n      <td>NaN</td>\n    </tr>\n    <tr>\n      <th>2</th>\n      <td>100001</td>\n      <td>2020-02-10T01:56:33</td>\n      <td>102.0</td>\n      <td>1080.0</td>\n      <td>VIEW_PRODUCT</td>\n      <td>0</td>\n      <td>NaN</td>\n    </tr>\n    <tr>\n      <th>3</th>\n      <td>100001</td>\n      <td>2020-02-10T01:58:07</td>\n      <td>102.0</td>\n      <td>1079.0</td>\n      <td>VIEW_PRODUCT</td>\n      <td>0</td>\n      <td>NaN</td>\n    </tr>\n    <tr>\n      <th>4</th>\n      <td>100001</td>\n      <td>2020-02-10T02:01:33</td>\n      <td>102.0</td>\n      <td>1077.0</td>\n      <td>VIEW_PRODUCT</td>\n      <td>0</td>\n      <td>NaN</td>\n    </tr>\n    <tr>\n      <th>5</th>\n      <td>100001</td>\n      <td>2020-02-10T02:03:54</td>\n      <td>102.0</td>\n      <td>1003.0</td>\n      <td>VIEW_PRODUCT</td>\n      <td>0</td>\n      <td>NaN</td>\n    </tr>\n    <tr>\n      <th>6</th>\n      <td>100001</td>\n      <td>2020-02-10T02:04:56</td>\n      <td>102.0</td>\n      <td>1002.0</td>\n      <td>VIEW_PRODUCT</td>\n      <td>0</td>\n      <td>NaN</td>\n    </tr>\n    <tr>\n      <th>7</th>\n      <td>100001</td>\n      <td>2020-02-10T02:07:25</td>\n      <td>102.0</td>\n      <td>1078.0</td>\n      <td>VIEW_PRODUCT</td>\n      <td>0</td>\n      <td>NaN</td>\n    </tr>\n    <tr>\n      <th>8</th>\n      <td>100001</td>\n      <td>2020-02-10T02:11:41</td>\n      <td>102.0</td>\n      <td>1078.0</td>\n      <td>BUY_PRODUCT</td>\n      <td>0</td>\n      <td>20001.0</td>\n    </tr>\n    <tr>\n      <th>9</th>\n      <td>100002</td>\n      <td>2020-03-18T08:22:14</td>\n      <td>102.0</td>\n      <td>1318.0</td>\n      <td>VIEW_PRODUCT</td>\n      <td>0</td>\n      <td>NaN</td>\n    </tr>\n    <tr>\n      <th>10</th>\n      <td>100002</td>\n      <td>2020-03-18T08:22:20</td>\n      <td>102.0</td>\n      <td>1318.0</td>\n      <td>BUY_PRODUCT</td>\n      <td>0</td>\n      <td>20002.0</td>\n    </tr>\n    <tr>\n      <th>11</th>\n      <td>100003</td>\n      <td>2020-01-21T17:51:27</td>\n      <td>102.0</td>\n      <td>1043.0</td>\n      <td>VIEW_PRODUCT</td>\n      <td>10</td>\n      <td>NaN</td>\n    </tr>\n    <tr>\n      <th>12</th>\n      <td>100003</td>\n      <td>2020-01-21T17:52:50</td>\n      <td>102.0</td>\n      <td>1044.0</td>\n      <td>VIEW_PRODUCT</td>\n      <td>10</td>\n      <td>NaN</td>\n    </tr>\n    <tr>\n      <th>13</th>\n      <td>100003</td>\n      <td>2020-01-21T17:55:13</td>\n      <td>102.0</td>\n      <td>1040.0</td>\n      <td>VIEW_PRODUCT</td>\n      <td>10</td>\n      <td>NaN</td>\n    </tr>\n    <tr>\n      <th>14</th>\n      <td>100003</td>\n      <td>2020-01-21T17:59:00</td>\n      <td>102.0</td>\n      <td>1047.0</td>\n      <td>VIEW_PRODUCT</td>\n      <td>10</td>\n      <td>NaN</td>\n    </tr>\n    <tr>\n      <th>15</th>\n      <td>100003</td>\n      <td>2020-01-21T17:59:34</td>\n      <td>102.0</td>\n      <td>1045.0</td>\n      <td>VIEW_PRODUCT</td>\n      <td>10</td>\n      <td>NaN</td>\n    </tr>\n    <tr>\n      <th>16</th>\n      <td>100003</td>\n      <td>2020-01-21T18:02:12</td>\n      <td>102.0</td>\n      <td>1042.0</td>\n      <td>VIEW_PRODUCT</td>\n      <td>10</td>\n      <td>NaN</td>\n    </tr>\n    <tr>\n      <th>17</th>\n      <td>100003</td>\n      <td>2020-01-21T18:05:53</td>\n      <td>102.0</td>\n      <td>1084.0</td>\n      <td>VIEW_PRODUCT</td>\n      <td>10</td>\n      <td>NaN</td>\n    </tr>\n    <tr>\n      <th>18</th>\n      <td>100003</td>\n      <td>2020-01-21T18:06:50</td>\n      <td>NaN</td>\n      <td>1046.0</td>\n      <td>VIEW_PRODUCT</td>\n      <td>10</td>\n      <td>NaN</td>\n    </tr>\n    <tr>\n      <th>19</th>\n      <td>100003</td>\n      <td>2020-01-21T18:07:56</td>\n      <td>102.0</td>\n      <td>1046.0</td>\n      <td>BUY_PRODUCT</td>\n      <td>10</td>\n      <td>20003.0</td>\n    </tr>\n    <tr>\n      <th>20</th>\n      <td>100004</td>\n      <td>2020-02-17T01:07:25</td>\n      <td>102.0</td>\n      <td>1283.0</td>\n      <td>VIEW_PRODUCT</td>\n      <td>0</td>\n      <td>NaN</td>\n    </tr>\n    <tr>\n      <th>21</th>\n      <td>100005</td>\n      <td>2020-02-21T15:29:55</td>\n      <td>102.0</td>\n      <td>1001.0</td>\n      <td>VIEW_PRODUCT</td>\n      <td>15</td>\n      <td>NaN</td>\n    </tr>\n    <tr>\n      <th>22</th>\n      <td>100005</td>\n      <td>2020-02-21T15:33:36</td>\n      <td>102.0</td>\n      <td>1001.0</td>\n      <td>BUY_PRODUCT</td>\n      <td>15</td>\n      <td>20004.0</td>\n    </tr>\n    <tr>\n      <th>23</th>\n      <td>100006</td>\n      <td>2020-03-09T14:35:36</td>\n      <td>102.0</td>\n      <td>1073.0</td>\n      <td>VIEW_PRODUCT</td>\n      <td>0</td>\n      <td>NaN</td>\n    </tr>\n    <tr>\n      <th>24</th>\n      <td>100006</td>\n      <td>2020-03-09T14:39:20</td>\n      <td>102.0</td>\n      <td>1072.0</td>\n      <td>VIEW_PRODUCT</td>\n      <td>0</td>\n      <td>NaN</td>\n    </tr>\n    <tr>\n      <th>25</th>\n      <td>100006</td>\n      <td>2020-03-09T14:43:27</td>\n      <td>102.0</td>\n      <td>1222.0</td>\n      <td>VIEW_PRODUCT</td>\n      <td>0</td>\n      <td>NaN</td>\n    </tr>\n    <tr>\n      <th>26</th>\n      <td>100006</td>\n      <td>2020-03-09T14:44:50</td>\n      <td>102.0</td>\n      <td>1201.0</td>\n      <td>VIEW_PRODUCT</td>\n      <td>0</td>\n      <td>NaN</td>\n    </tr>\n    <tr>\n      <th>27</th>\n      <td>100006</td>\n      <td>2020-03-09T14:46:19</td>\n      <td>102.0</td>\n      <td>1201.0</td>\n      <td>BUY_PRODUCT</td>\n      <td>0</td>\n      <td>20005.0</td>\n    </tr>\n    <tr>\n      <th>28</th>\n      <td>100007</td>\n      <td>2020-02-02T01:57:53</td>\n      <td>102.0</td>\n      <td>1044.0</td>\n      <td>VIEW_PRODUCT</td>\n      <td>20</td>\n      <td>NaN</td>\n    </tr>\n    <tr>\n      <th>29</th>\n      <td>100007</td>\n      <td>2020-02-02T01:58:46</td>\n      <td>102.0</td>\n      <td>1040.0</td>\n      <td>VIEW_PRODUCT</td>\n      <td>20</td>\n      <td>NaN</td>\n    </tr>\n  </tbody>\n</table>\n</div>"
     },
     "execution_count": 255,
     "metadata": {},
     "output_type": "execute_result"
    }
   ],
   "source": [
    "sessions = load_file(\"data/sessions.jsonl\")\n",
    "sessions.head(30)"
   ],
   "metadata": {
    "collapsed": false,
    "pycharm": {
     "name": "#%%\n"
    }
   }
  },
  {
   "cell_type": "code",
   "execution_count": 256,
   "outputs": [
    {
     "name": "stderr",
     "output_type": "stream",
     "text": [
      "/home/przemek/.local/lib/python3.6/site-packages/ipykernel_launcher.py:5: FutureWarning: pandas.io.json.json_normalize is deprecated, use pandas.json_normalize instead\n",
      "  \"\"\"\n"
     ]
    },
    {
     "data": {
      "text/plain": "   product_id                                    product_name  \\\n0        1001                   Telefon Siemens Gigaset DA310   \n1        1002                              Kyocera FS-1135MFP   \n2        1003                              Kyocera FS-3640MFP   \n3        1004                            Fallout 3 (Xbox 360)   \n4        1005  Szalone Króliki Na żywo i w kolorze (Xbox 360)   \n\n                                       category_path         price  \n0          Telefony i akcesoria;Telefony stacjonarne  5.897000e+01  \n1  Komputery;Drukarki i skanery;Biurowe urządzeni...  2.048500e+03  \n2  Komputery;Drukarki i skanery;Biurowe urządzeni...  7.639000e+09  \n3          Gry i konsole;Gry na konsole;Gry Xbox 360  4.999000e+01  \n4          Gry i konsole;Gry na konsole;Gry Xbox 360  4.999000e+01  ",
      "text/html": "<div>\n<style scoped>\n    .dataframe tbody tr th:only-of-type {\n        vertical-align: middle;\n    }\n\n    .dataframe tbody tr th {\n        vertical-align: top;\n    }\n\n    .dataframe thead th {\n        text-align: right;\n    }\n</style>\n<table border=\"1\" class=\"dataframe\">\n  <thead>\n    <tr style=\"text-align: right;\">\n      <th></th>\n      <th>product_id</th>\n      <th>product_name</th>\n      <th>category_path</th>\n      <th>price</th>\n    </tr>\n  </thead>\n  <tbody>\n    <tr>\n      <th>0</th>\n      <td>1001</td>\n      <td>Telefon Siemens Gigaset DA310</td>\n      <td>Telefony i akcesoria;Telefony stacjonarne</td>\n      <td>5.897000e+01</td>\n    </tr>\n    <tr>\n      <th>1</th>\n      <td>1002</td>\n      <td>Kyocera FS-1135MFP</td>\n      <td>Komputery;Drukarki i skanery;Biurowe urządzeni...</td>\n      <td>2.048500e+03</td>\n    </tr>\n    <tr>\n      <th>2</th>\n      <td>1003</td>\n      <td>Kyocera FS-3640MFP</td>\n      <td>Komputery;Drukarki i skanery;Biurowe urządzeni...</td>\n      <td>7.639000e+09</td>\n    </tr>\n    <tr>\n      <th>3</th>\n      <td>1004</td>\n      <td>Fallout 3 (Xbox 360)</td>\n      <td>Gry i konsole;Gry na konsole;Gry Xbox 360</td>\n      <td>4.999000e+01</td>\n    </tr>\n    <tr>\n      <th>4</th>\n      <td>1005</td>\n      <td>Szalone Króliki Na żywo i w kolorze (Xbox 360)</td>\n      <td>Gry i konsole;Gry na konsole;Gry Xbox 360</td>\n      <td>4.999000e+01</td>\n    </tr>\n  </tbody>\n</table>\n</div>"
     },
     "execution_count": 256,
     "metadata": {},
     "output_type": "execute_result"
    }
   ],
   "source": [
    "products = load_file(\"data/products.jsonl\")\n",
    "products.head()"
   ],
   "metadata": {
    "collapsed": false,
    "pycharm": {
     "name": "#%%\n"
    }
   }
  },
  {
   "cell_type": "markdown",
   "source": [
    "### Obserwacje\n",
    "Jak widać nie wszystkie sesje zakończone zakupem posiadają id użytkownika, co mogłoby być przydatne by ustalić np miasto dostawy. Dodatkowo nie wszystkie dostawy posiadają informację o czasie dostarczenia.\n",
    "\n",
    "Połączmy dane w jedną tabelę"
   ],
   "metadata": {
    "collapsed": false
   }
  },
  {
   "cell_type": "code",
   "execution_count": 257,
   "outputs": [
    {
     "data": {
      "text/plain": "      session_id            timestamp  user_id  product_id   event_type  \\\n0         100001  2020-02-10T02:11:41    102.0      1078.0  BUY_PRODUCT   \n1         100002  2020-03-18T08:22:20    102.0      1318.0  BUY_PRODUCT   \n2         100003  2020-01-21T18:07:56    102.0      1046.0  BUY_PRODUCT   \n3         100005  2020-02-21T15:33:36    102.0      1001.0  BUY_PRODUCT   \n4         100006  2020-03-09T14:46:19    102.0      1201.0  BUY_PRODUCT   \n...          ...                  ...      ...         ...          ...   \n7263      110434  2020-02-28T13:13:00    301.0      1077.0  BUY_PRODUCT   \n7264      110436  2020-02-16T21:22:58    301.0      1037.0  BUY_PRODUCT   \n7265      110437  2020-02-24T11:35:37    301.0      1012.0  BUY_PRODUCT   \n7266      110439  2020-01-31T23:34:46    301.0      1007.0  BUY_PRODUCT   \n7267      110440  2020-02-14T09:16:05    301.0      1291.0  BUY_PRODUCT   \n\n      offered_discount  purchase_id   purchase_timestamp   delivery_timestamp  \\\n0                    0      20001.0  2020-02-10T02:11:41  2020-02-12T13:11:41   \n1                    0      20002.0  2020-03-18T08:22:20                 None   \n2                   10      20003.0  2020-01-21T18:07:56  2020-01-24T05:07:56   \n3                   15      20004.0  2020-02-21T15:33:36  2020-02-24T02:33:36   \n4                    0      20005.0  2020-03-09T14:46:19  2020-03-13T19:46:19   \n...                ...          ...                  ...                  ...   \n7263                 0      27264.0  2020-02-28T13:13:00  2020-03-04T15:13:00   \n7264                10      27265.0  2020-02-16T21:22:58  2020-02-20T10:22:58   \n7265                15      27266.0  2020-02-24T11:35:37  2020-02-29T13:35:37   \n7266                10      27267.0  2020-01-31T23:34:46  2020-02-04T12:34:46   \n7267                 0      27268.0  2020-02-14T09:16:05  2020-02-18T02:16:05   \n\n      delivery_company                   name      city           street  \\\n0                360.0  Oliwier Maślankiewicz     Konin  pl. Kwiatowa 03   \n1                360.0  Oliwier Maślankiewicz     Konin  pl. Kwiatowa 03   \n2                360.0  Oliwier Maślankiewicz     Konin  pl. Kwiatowa 03   \n3                  NaN  Oliwier Maślankiewicz     Konin  pl. Kwiatowa 03   \n4                620.0  Oliwier Maślankiewicz     Konin  pl. Kwiatowa 03   \n...                ...                    ...       ...              ...   \n7263             620.0        Ada Laszkiewicz  Szczecin  ul. Sportowa 70   \n7264             360.0        Ada Laszkiewicz  Szczecin  ul. Sportowa 70   \n7265             620.0        Ada Laszkiewicz  Szczecin  ul. Sportowa 70   \n7266             360.0        Ada Laszkiewicz  Szczecin  ul. Sportowa 70   \n7267             516.0        Ada Laszkiewicz  Szczecin  ul. Sportowa 70   \n\n                             product_name  \\\n0                      Kyocera FS-3540MFP   \n1                   Plantronics Savi W710   \n2     LEGO Batman 2 DC Super Heroes (PS3)   \n3           Telefon Siemens Gigaset DA310   \n4                         Jabra Speak 410   \n...                                   ...   \n7263                  Kyocera FS-C2026MFP   \n7264                      LCD Asus VK248H   \n7265         Fallout New Vegas (Xbox 360)   \n7266              Dead Space 3 (Xbox 360)   \n7267                      Philips SDV6224   \n\n                                          category_path         price  \n0     Komputery;Drukarki i skanery;Biurowe urządzeni...  5.126000e+03  \n1                            Sprzęt RTV;Audio;Słuchawki  5.530000e+02  \n2         Gry i konsole;Gry na konsole;Gry PlayStation3  6.118000e+01  \n3             Telefony i akcesoria;Telefony stacjonarne  5.897000e+01  \n4     Telefony i akcesoria;Akcesoria telefoniczne;Ze...  3.274700e+02  \n...                                                 ...           ...  \n7263  Komputery;Drukarki i skanery;Biurowe urządzeni...  3.777000e+03  \n7264                    Komputery;Monitory;Monitory LCD  7.990000e+08  \n7265          Gry i konsole;Gry na konsole;Gry Xbox 360  6.900000e+01  \n7266          Gry i konsole;Gry na konsole;Gry Xbox 360  8.999000e+01  \n7267  Sprzęt RTV;Video;Telewizory i akcesoria;Anteny... -1.687900e+02  \n\n[7268 rows x 16 columns]",
      "text/html": "<div>\n<style scoped>\n    .dataframe tbody tr th:only-of-type {\n        vertical-align: middle;\n    }\n\n    .dataframe tbody tr th {\n        vertical-align: top;\n    }\n\n    .dataframe thead th {\n        text-align: right;\n    }\n</style>\n<table border=\"1\" class=\"dataframe\">\n  <thead>\n    <tr style=\"text-align: right;\">\n      <th></th>\n      <th>session_id</th>\n      <th>timestamp</th>\n      <th>user_id</th>\n      <th>product_id</th>\n      <th>event_type</th>\n      <th>offered_discount</th>\n      <th>purchase_id</th>\n      <th>purchase_timestamp</th>\n      <th>delivery_timestamp</th>\n      <th>delivery_company</th>\n      <th>name</th>\n      <th>city</th>\n      <th>street</th>\n      <th>product_name</th>\n      <th>category_path</th>\n      <th>price</th>\n    </tr>\n  </thead>\n  <tbody>\n    <tr>\n      <th>0</th>\n      <td>100001</td>\n      <td>2020-02-10T02:11:41</td>\n      <td>102.0</td>\n      <td>1078.0</td>\n      <td>BUY_PRODUCT</td>\n      <td>0</td>\n      <td>20001.0</td>\n      <td>2020-02-10T02:11:41</td>\n      <td>2020-02-12T13:11:41</td>\n      <td>360.0</td>\n      <td>Oliwier Maślankiewicz</td>\n      <td>Konin</td>\n      <td>pl. Kwiatowa 03</td>\n      <td>Kyocera FS-3540MFP</td>\n      <td>Komputery;Drukarki i skanery;Biurowe urządzeni...</td>\n      <td>5.126000e+03</td>\n    </tr>\n    <tr>\n      <th>1</th>\n      <td>100002</td>\n      <td>2020-03-18T08:22:20</td>\n      <td>102.0</td>\n      <td>1318.0</td>\n      <td>BUY_PRODUCT</td>\n      <td>0</td>\n      <td>20002.0</td>\n      <td>2020-03-18T08:22:20</td>\n      <td>None</td>\n      <td>360.0</td>\n      <td>Oliwier Maślankiewicz</td>\n      <td>Konin</td>\n      <td>pl. Kwiatowa 03</td>\n      <td>Plantronics Savi W710</td>\n      <td>Sprzęt RTV;Audio;Słuchawki</td>\n      <td>5.530000e+02</td>\n    </tr>\n    <tr>\n      <th>2</th>\n      <td>100003</td>\n      <td>2020-01-21T18:07:56</td>\n      <td>102.0</td>\n      <td>1046.0</td>\n      <td>BUY_PRODUCT</td>\n      <td>10</td>\n      <td>20003.0</td>\n      <td>2020-01-21T18:07:56</td>\n      <td>2020-01-24T05:07:56</td>\n      <td>360.0</td>\n      <td>Oliwier Maślankiewicz</td>\n      <td>Konin</td>\n      <td>pl. Kwiatowa 03</td>\n      <td>LEGO Batman 2 DC Super Heroes (PS3)</td>\n      <td>Gry i konsole;Gry na konsole;Gry PlayStation3</td>\n      <td>6.118000e+01</td>\n    </tr>\n    <tr>\n      <th>3</th>\n      <td>100005</td>\n      <td>2020-02-21T15:33:36</td>\n      <td>102.0</td>\n      <td>1001.0</td>\n      <td>BUY_PRODUCT</td>\n      <td>15</td>\n      <td>20004.0</td>\n      <td>2020-02-21T15:33:36</td>\n      <td>2020-02-24T02:33:36</td>\n      <td>NaN</td>\n      <td>Oliwier Maślankiewicz</td>\n      <td>Konin</td>\n      <td>pl. Kwiatowa 03</td>\n      <td>Telefon Siemens Gigaset DA310</td>\n      <td>Telefony i akcesoria;Telefony stacjonarne</td>\n      <td>5.897000e+01</td>\n    </tr>\n    <tr>\n      <th>4</th>\n      <td>100006</td>\n      <td>2020-03-09T14:46:19</td>\n      <td>102.0</td>\n      <td>1201.0</td>\n      <td>BUY_PRODUCT</td>\n      <td>0</td>\n      <td>20005.0</td>\n      <td>2020-03-09T14:46:19</td>\n      <td>2020-03-13T19:46:19</td>\n      <td>620.0</td>\n      <td>Oliwier Maślankiewicz</td>\n      <td>Konin</td>\n      <td>pl. Kwiatowa 03</td>\n      <td>Jabra Speak 410</td>\n      <td>Telefony i akcesoria;Akcesoria telefoniczne;Ze...</td>\n      <td>3.274700e+02</td>\n    </tr>\n    <tr>\n      <th>...</th>\n      <td>...</td>\n      <td>...</td>\n      <td>...</td>\n      <td>...</td>\n      <td>...</td>\n      <td>...</td>\n      <td>...</td>\n      <td>...</td>\n      <td>...</td>\n      <td>...</td>\n      <td>...</td>\n      <td>...</td>\n      <td>...</td>\n      <td>...</td>\n      <td>...</td>\n      <td>...</td>\n    </tr>\n    <tr>\n      <th>7263</th>\n      <td>110434</td>\n      <td>2020-02-28T13:13:00</td>\n      <td>301.0</td>\n      <td>1077.0</td>\n      <td>BUY_PRODUCT</td>\n      <td>0</td>\n      <td>27264.0</td>\n      <td>2020-02-28T13:13:00</td>\n      <td>2020-03-04T15:13:00</td>\n      <td>620.0</td>\n      <td>Ada Laszkiewicz</td>\n      <td>Szczecin</td>\n      <td>ul. Sportowa 70</td>\n      <td>Kyocera FS-C2026MFP</td>\n      <td>Komputery;Drukarki i skanery;Biurowe urządzeni...</td>\n      <td>3.777000e+03</td>\n    </tr>\n    <tr>\n      <th>7264</th>\n      <td>110436</td>\n      <td>2020-02-16T21:22:58</td>\n      <td>301.0</td>\n      <td>1037.0</td>\n      <td>BUY_PRODUCT</td>\n      <td>10</td>\n      <td>27265.0</td>\n      <td>2020-02-16T21:22:58</td>\n      <td>2020-02-20T10:22:58</td>\n      <td>360.0</td>\n      <td>Ada Laszkiewicz</td>\n      <td>Szczecin</td>\n      <td>ul. Sportowa 70</td>\n      <td>LCD Asus VK248H</td>\n      <td>Komputery;Monitory;Monitory LCD</td>\n      <td>7.990000e+08</td>\n    </tr>\n    <tr>\n      <th>7265</th>\n      <td>110437</td>\n      <td>2020-02-24T11:35:37</td>\n      <td>301.0</td>\n      <td>1012.0</td>\n      <td>BUY_PRODUCT</td>\n      <td>15</td>\n      <td>27266.0</td>\n      <td>2020-02-24T11:35:37</td>\n      <td>2020-02-29T13:35:37</td>\n      <td>620.0</td>\n      <td>Ada Laszkiewicz</td>\n      <td>Szczecin</td>\n      <td>ul. Sportowa 70</td>\n      <td>Fallout New Vegas (Xbox 360)</td>\n      <td>Gry i konsole;Gry na konsole;Gry Xbox 360</td>\n      <td>6.900000e+01</td>\n    </tr>\n    <tr>\n      <th>7266</th>\n      <td>110439</td>\n      <td>2020-01-31T23:34:46</td>\n      <td>301.0</td>\n      <td>1007.0</td>\n      <td>BUY_PRODUCT</td>\n      <td>10</td>\n      <td>27267.0</td>\n      <td>2020-01-31T23:34:46</td>\n      <td>2020-02-04T12:34:46</td>\n      <td>360.0</td>\n      <td>Ada Laszkiewicz</td>\n      <td>Szczecin</td>\n      <td>ul. Sportowa 70</td>\n      <td>Dead Space 3 (Xbox 360)</td>\n      <td>Gry i konsole;Gry na konsole;Gry Xbox 360</td>\n      <td>8.999000e+01</td>\n    </tr>\n    <tr>\n      <th>7267</th>\n      <td>110440</td>\n      <td>2020-02-14T09:16:05</td>\n      <td>301.0</td>\n      <td>1291.0</td>\n      <td>BUY_PRODUCT</td>\n      <td>0</td>\n      <td>27268.0</td>\n      <td>2020-02-14T09:16:05</td>\n      <td>2020-02-18T02:16:05</td>\n      <td>516.0</td>\n      <td>Ada Laszkiewicz</td>\n      <td>Szczecin</td>\n      <td>ul. Sportowa 70</td>\n      <td>Philips SDV6224</td>\n      <td>Sprzęt RTV;Video;Telewizory i akcesoria;Anteny...</td>\n      <td>-1.687900e+02</td>\n    </tr>\n  </tbody>\n</table>\n<p>7268 rows × 16 columns</p>\n</div>"
     },
     "execution_count": 257,
     "metadata": {},
     "output_type": "execute_result"
    }
   ],
   "source": [
    "# inner join sessins and deliveries\n",
    "merged_data = pd.merge(left=sessions, right=deliveries, left_on='purchase_id', right_on='purchase_id')\n",
    "\n",
    "# left join users\n",
    "merged_data = pd.merge(left=merged_data, right=users, how='left', left_on='user_id', right_on='user_id')\n",
    "\n",
    "# left join products\n",
    "merged_data = pd.merge(left=merged_data, right=products, how='left', left_on='product_id', right_on='product_id')\n",
    "\n",
    "merged_data"
   ],
   "metadata": {
    "collapsed": false,
    "pycharm": {
     "name": "#%%\n"
    }
   }
  },
  {
   "cell_type": "markdown",
   "source": [
    "### Odrzućmy część kolumn"
   ],
   "metadata": {
    "collapsed": false
   }
  },
  {
   "cell_type": "code",
   "execution_count": 258,
   "outputs": [
    {
     "data": {
      "text/plain": "      user_id   purchase_timestamp   delivery_timestamp  delivery_company  \\\n0       102.0  2020-02-10T02:11:41  2020-02-12T13:11:41             360.0   \n1       102.0  2020-03-18T08:22:20                 None             360.0   \n2       102.0  2020-01-21T18:07:56  2020-01-24T05:07:56             360.0   \n3       102.0  2020-02-21T15:33:36  2020-02-24T02:33:36               NaN   \n4       102.0  2020-03-09T14:46:19  2020-03-13T19:46:19             620.0   \n...       ...                  ...                  ...               ...   \n7263    301.0  2020-02-28T13:13:00  2020-03-04T15:13:00             620.0   \n7264    301.0  2020-02-16T21:22:58  2020-02-20T10:22:58             360.0   \n7265    301.0  2020-02-24T11:35:37  2020-02-29T13:35:37             620.0   \n7266    301.0  2020-01-31T23:34:46  2020-02-04T12:34:46             360.0   \n7267    301.0  2020-02-14T09:16:05  2020-02-18T02:16:05             516.0   \n\n                       name      city           street  \\\n0     Oliwier Maślankiewicz     Konin  pl. Kwiatowa 03   \n1     Oliwier Maślankiewicz     Konin  pl. Kwiatowa 03   \n2     Oliwier Maślankiewicz     Konin  pl. Kwiatowa 03   \n3     Oliwier Maślankiewicz     Konin  pl. Kwiatowa 03   \n4     Oliwier Maślankiewicz     Konin  pl. Kwiatowa 03   \n...                     ...       ...              ...   \n7263        Ada Laszkiewicz  Szczecin  ul. Sportowa 70   \n7264        Ada Laszkiewicz  Szczecin  ul. Sportowa 70   \n7265        Ada Laszkiewicz  Szczecin  ul. Sportowa 70   \n7266        Ada Laszkiewicz  Szczecin  ul. Sportowa 70   \n7267        Ada Laszkiewicz  Szczecin  ul. Sportowa 70   \n\n                                          category_path         price  \n0     Komputery;Drukarki i skanery;Biurowe urządzeni...  5.126000e+03  \n1                            Sprzęt RTV;Audio;Słuchawki  5.530000e+02  \n2         Gry i konsole;Gry na konsole;Gry PlayStation3  6.118000e+01  \n3             Telefony i akcesoria;Telefony stacjonarne  5.897000e+01  \n4     Telefony i akcesoria;Akcesoria telefoniczne;Ze...  3.274700e+02  \n...                                                 ...           ...  \n7263  Komputery;Drukarki i skanery;Biurowe urządzeni...  3.777000e+03  \n7264                    Komputery;Monitory;Monitory LCD  7.990000e+08  \n7265          Gry i konsole;Gry na konsole;Gry Xbox 360  6.900000e+01  \n7266          Gry i konsole;Gry na konsole;Gry Xbox 360  8.999000e+01  \n7267  Sprzęt RTV;Video;Telewizory i akcesoria;Anteny... -1.687900e+02  \n\n[7268 rows x 9 columns]",
      "text/html": "<div>\n<style scoped>\n    .dataframe tbody tr th:only-of-type {\n        vertical-align: middle;\n    }\n\n    .dataframe tbody tr th {\n        vertical-align: top;\n    }\n\n    .dataframe thead th {\n        text-align: right;\n    }\n</style>\n<table border=\"1\" class=\"dataframe\">\n  <thead>\n    <tr style=\"text-align: right;\">\n      <th></th>\n      <th>user_id</th>\n      <th>purchase_timestamp</th>\n      <th>delivery_timestamp</th>\n      <th>delivery_company</th>\n      <th>name</th>\n      <th>city</th>\n      <th>street</th>\n      <th>category_path</th>\n      <th>price</th>\n    </tr>\n  </thead>\n  <tbody>\n    <tr>\n      <th>0</th>\n      <td>102.0</td>\n      <td>2020-02-10T02:11:41</td>\n      <td>2020-02-12T13:11:41</td>\n      <td>360.0</td>\n      <td>Oliwier Maślankiewicz</td>\n      <td>Konin</td>\n      <td>pl. Kwiatowa 03</td>\n      <td>Komputery;Drukarki i skanery;Biurowe urządzeni...</td>\n      <td>5.126000e+03</td>\n    </tr>\n    <tr>\n      <th>1</th>\n      <td>102.0</td>\n      <td>2020-03-18T08:22:20</td>\n      <td>None</td>\n      <td>360.0</td>\n      <td>Oliwier Maślankiewicz</td>\n      <td>Konin</td>\n      <td>pl. Kwiatowa 03</td>\n      <td>Sprzęt RTV;Audio;Słuchawki</td>\n      <td>5.530000e+02</td>\n    </tr>\n    <tr>\n      <th>2</th>\n      <td>102.0</td>\n      <td>2020-01-21T18:07:56</td>\n      <td>2020-01-24T05:07:56</td>\n      <td>360.0</td>\n      <td>Oliwier Maślankiewicz</td>\n      <td>Konin</td>\n      <td>pl. Kwiatowa 03</td>\n      <td>Gry i konsole;Gry na konsole;Gry PlayStation3</td>\n      <td>6.118000e+01</td>\n    </tr>\n    <tr>\n      <th>3</th>\n      <td>102.0</td>\n      <td>2020-02-21T15:33:36</td>\n      <td>2020-02-24T02:33:36</td>\n      <td>NaN</td>\n      <td>Oliwier Maślankiewicz</td>\n      <td>Konin</td>\n      <td>pl. Kwiatowa 03</td>\n      <td>Telefony i akcesoria;Telefony stacjonarne</td>\n      <td>5.897000e+01</td>\n    </tr>\n    <tr>\n      <th>4</th>\n      <td>102.0</td>\n      <td>2020-03-09T14:46:19</td>\n      <td>2020-03-13T19:46:19</td>\n      <td>620.0</td>\n      <td>Oliwier Maślankiewicz</td>\n      <td>Konin</td>\n      <td>pl. Kwiatowa 03</td>\n      <td>Telefony i akcesoria;Akcesoria telefoniczne;Ze...</td>\n      <td>3.274700e+02</td>\n    </tr>\n    <tr>\n      <th>...</th>\n      <td>...</td>\n      <td>...</td>\n      <td>...</td>\n      <td>...</td>\n      <td>...</td>\n      <td>...</td>\n      <td>...</td>\n      <td>...</td>\n      <td>...</td>\n    </tr>\n    <tr>\n      <th>7263</th>\n      <td>301.0</td>\n      <td>2020-02-28T13:13:00</td>\n      <td>2020-03-04T15:13:00</td>\n      <td>620.0</td>\n      <td>Ada Laszkiewicz</td>\n      <td>Szczecin</td>\n      <td>ul. Sportowa 70</td>\n      <td>Komputery;Drukarki i skanery;Biurowe urządzeni...</td>\n      <td>3.777000e+03</td>\n    </tr>\n    <tr>\n      <th>7264</th>\n      <td>301.0</td>\n      <td>2020-02-16T21:22:58</td>\n      <td>2020-02-20T10:22:58</td>\n      <td>360.0</td>\n      <td>Ada Laszkiewicz</td>\n      <td>Szczecin</td>\n      <td>ul. Sportowa 70</td>\n      <td>Komputery;Monitory;Monitory LCD</td>\n      <td>7.990000e+08</td>\n    </tr>\n    <tr>\n      <th>7265</th>\n      <td>301.0</td>\n      <td>2020-02-24T11:35:37</td>\n      <td>2020-02-29T13:35:37</td>\n      <td>620.0</td>\n      <td>Ada Laszkiewicz</td>\n      <td>Szczecin</td>\n      <td>ul. Sportowa 70</td>\n      <td>Gry i konsole;Gry na konsole;Gry Xbox 360</td>\n      <td>6.900000e+01</td>\n    </tr>\n    <tr>\n      <th>7266</th>\n      <td>301.0</td>\n      <td>2020-01-31T23:34:46</td>\n      <td>2020-02-04T12:34:46</td>\n      <td>360.0</td>\n      <td>Ada Laszkiewicz</td>\n      <td>Szczecin</td>\n      <td>ul. Sportowa 70</td>\n      <td>Gry i konsole;Gry na konsole;Gry Xbox 360</td>\n      <td>8.999000e+01</td>\n    </tr>\n    <tr>\n      <th>7267</th>\n      <td>301.0</td>\n      <td>2020-02-14T09:16:05</td>\n      <td>2020-02-18T02:16:05</td>\n      <td>516.0</td>\n      <td>Ada Laszkiewicz</td>\n      <td>Szczecin</td>\n      <td>ul. Sportowa 70</td>\n      <td>Sprzęt RTV;Video;Telewizory i akcesoria;Anteny...</td>\n      <td>-1.687900e+02</td>\n    </tr>\n  </tbody>\n</table>\n<p>7268 rows × 9 columns</p>\n</div>"
     },
     "execution_count": 258,
     "metadata": {},
     "output_type": "execute_result"
    }
   ],
   "source": [
    "columns = ['session_id', 'purchase_id', 'event_type', 'offered_discount', 'timestamp', 'product_id', 'product_name']\n",
    "for col in columns:\n",
    "    merged_data = merged_data.drop(col, axis=1)\n",
    "\n",
    "merged_data"
   ],
   "metadata": {
    "collapsed": false,
    "pycharm": {
     "name": "#%%\n"
    }
   }
  },
  {
   "cell_type": "markdown",
   "source": [
    "### Kolumny wyliczane.\n",
    "Przydatne mogą okazać się podstawowe kategorie i sam czas dostawy"
   ],
   "metadata": {
    "collapsed": false,
    "pycharm": {
     "name": "#%% md\n"
    }
   }
  },
  {
   "cell_type": "code",
   "execution_count": 259,
   "outputs": [
    {
     "name": "stdout",
     "output_type": "stream",
     "text": [
      "0      2 days 11:00:00\n",
      "1                  NaT\n",
      "2      2 days 11:00:00\n",
      "3      2 days 11:00:00\n",
      "4      4 days 05:00:00\n",
      "             ...      \n",
      "7263   5 days 02:00:00\n",
      "7264   3 days 13:00:00\n",
      "7265   5 days 02:00:00\n",
      "7266   3 days 13:00:00\n",
      "7267   3 days 17:00:00\n",
      "Name: delivery_total_time, Length: 7268, dtype: timedelta64[ns]\n"
     ]
    }
   ],
   "source": [
    "merged_data['delivery_timestamp'] = pd.to_datetime(merged_data.delivery_timestamp)\n",
    "merged_data['purchase_timestamp'] = pd.to_datetime(merged_data.purchase_timestamp)\n",
    "merged_data['delivery_total_time'] = merged_data['delivery_timestamp'] - merged_data['purchase_timestamp']\n",
    "\n",
    "print(merged_data['delivery_total_time'])"
   ],
   "metadata": {
    "collapsed": false,
    "pycharm": {
     "name": "#%%\n"
    }
   }
  },
  {
   "cell_type": "code",
   "execution_count": 260,
   "outputs": [
    {
     "data": {
      "text/plain": "      user_id  purchase_timestamp  delivery_timestamp  delivery_company  \\\n0       102.0 2020-02-10 02:11:41 2020-02-12 13:11:41             360.0   \n1       102.0 2020-03-18 08:22:20                 NaT             360.0   \n2       102.0 2020-01-21 18:07:56 2020-01-24 05:07:56             360.0   \n3       102.0 2020-02-21 15:33:36 2020-02-24 02:33:36               NaN   \n4       102.0 2020-03-09 14:46:19 2020-03-13 19:46:19             620.0   \n...       ...                 ...                 ...               ...   \n7263    301.0 2020-02-28 13:13:00 2020-03-04 15:13:00             620.0   \n7264    301.0 2020-02-16 21:22:58 2020-02-20 10:22:58             360.0   \n7265    301.0 2020-02-24 11:35:37 2020-02-29 13:35:37             620.0   \n7266    301.0 2020-01-31 23:34:46 2020-02-04 12:34:46             360.0   \n7267    301.0 2020-02-14 09:16:05 2020-02-18 02:16:05             516.0   \n\n                       name      city           street  \\\n0     Oliwier Maślankiewicz     Konin  pl. Kwiatowa 03   \n1     Oliwier Maślankiewicz     Konin  pl. Kwiatowa 03   \n2     Oliwier Maślankiewicz     Konin  pl. Kwiatowa 03   \n3     Oliwier Maślankiewicz     Konin  pl. Kwiatowa 03   \n4     Oliwier Maślankiewicz     Konin  pl. Kwiatowa 03   \n...                     ...       ...              ...   \n7263        Ada Laszkiewicz  Szczecin  ul. Sportowa 70   \n7264        Ada Laszkiewicz  Szczecin  ul. Sportowa 70   \n7265        Ada Laszkiewicz  Szczecin  ul. Sportowa 70   \n7266        Ada Laszkiewicz  Szczecin  ul. Sportowa 70   \n7267        Ada Laszkiewicz  Szczecin  ul. Sportowa 70   \n\n                                          category_path         price  \\\n0     Komputery;Drukarki i skanery;Biurowe urządzeni...  5.126000e+03   \n1                            Sprzęt RTV;Audio;Słuchawki  5.530000e+02   \n2         Gry i konsole;Gry na konsole;Gry PlayStation3  6.118000e+01   \n3             Telefony i akcesoria;Telefony stacjonarne  5.897000e+01   \n4     Telefony i akcesoria;Akcesoria telefoniczne;Ze...  3.274700e+02   \n...                                                 ...           ...   \n7263  Komputery;Drukarki i skanery;Biurowe urządzeni...  3.777000e+03   \n7264                    Komputery;Monitory;Monitory LCD  7.990000e+08   \n7265          Gry i konsole;Gry na konsole;Gry Xbox 360  6.900000e+01   \n7266          Gry i konsole;Gry na konsole;Gry Xbox 360  8.999000e+01   \n7267  Sprzęt RTV;Video;Telewizory i akcesoria;Anteny... -1.687900e+02   \n\n     delivery_total_time              category             subcategory  \n0        2 days 11:00:00             Komputery      Drukarki i skanery  \n1                    NaT            Sprzęt RTV                   Audio  \n2        2 days 11:00:00         Gry i konsole          Gry na konsole  \n3        2 days 11:00:00  Telefony i akcesoria    Telefony stacjonarne  \n4        4 days 05:00:00  Telefony i akcesoria  Akcesoria telefoniczne  \n...                  ...                   ...                     ...  \n7263     5 days 02:00:00             Komputery      Drukarki i skanery  \n7264     3 days 13:00:00             Komputery                Monitory  \n7265     5 days 02:00:00         Gry i konsole          Gry na konsole  \n7266     3 days 13:00:00         Gry i konsole          Gry na konsole  \n7267     3 days 17:00:00            Sprzęt RTV                   Video  \n\n[7268 rows x 12 columns]",
      "text/html": "<div>\n<style scoped>\n    .dataframe tbody tr th:only-of-type {\n        vertical-align: middle;\n    }\n\n    .dataframe tbody tr th {\n        vertical-align: top;\n    }\n\n    .dataframe thead th {\n        text-align: right;\n    }\n</style>\n<table border=\"1\" class=\"dataframe\">\n  <thead>\n    <tr style=\"text-align: right;\">\n      <th></th>\n      <th>user_id</th>\n      <th>purchase_timestamp</th>\n      <th>delivery_timestamp</th>\n      <th>delivery_company</th>\n      <th>name</th>\n      <th>city</th>\n      <th>street</th>\n      <th>category_path</th>\n      <th>price</th>\n      <th>delivery_total_time</th>\n      <th>category</th>\n      <th>subcategory</th>\n    </tr>\n  </thead>\n  <tbody>\n    <tr>\n      <th>0</th>\n      <td>102.0</td>\n      <td>2020-02-10 02:11:41</td>\n      <td>2020-02-12 13:11:41</td>\n      <td>360.0</td>\n      <td>Oliwier Maślankiewicz</td>\n      <td>Konin</td>\n      <td>pl. Kwiatowa 03</td>\n      <td>Komputery;Drukarki i skanery;Biurowe urządzeni...</td>\n      <td>5.126000e+03</td>\n      <td>2 days 11:00:00</td>\n      <td>Komputery</td>\n      <td>Drukarki i skanery</td>\n    </tr>\n    <tr>\n      <th>1</th>\n      <td>102.0</td>\n      <td>2020-03-18 08:22:20</td>\n      <td>NaT</td>\n      <td>360.0</td>\n      <td>Oliwier Maślankiewicz</td>\n      <td>Konin</td>\n      <td>pl. Kwiatowa 03</td>\n      <td>Sprzęt RTV;Audio;Słuchawki</td>\n      <td>5.530000e+02</td>\n      <td>NaT</td>\n      <td>Sprzęt RTV</td>\n      <td>Audio</td>\n    </tr>\n    <tr>\n      <th>2</th>\n      <td>102.0</td>\n      <td>2020-01-21 18:07:56</td>\n      <td>2020-01-24 05:07:56</td>\n      <td>360.0</td>\n      <td>Oliwier Maślankiewicz</td>\n      <td>Konin</td>\n      <td>pl. Kwiatowa 03</td>\n      <td>Gry i konsole;Gry na konsole;Gry PlayStation3</td>\n      <td>6.118000e+01</td>\n      <td>2 days 11:00:00</td>\n      <td>Gry i konsole</td>\n      <td>Gry na konsole</td>\n    </tr>\n    <tr>\n      <th>3</th>\n      <td>102.0</td>\n      <td>2020-02-21 15:33:36</td>\n      <td>2020-02-24 02:33:36</td>\n      <td>NaN</td>\n      <td>Oliwier Maślankiewicz</td>\n      <td>Konin</td>\n      <td>pl. Kwiatowa 03</td>\n      <td>Telefony i akcesoria;Telefony stacjonarne</td>\n      <td>5.897000e+01</td>\n      <td>2 days 11:00:00</td>\n      <td>Telefony i akcesoria</td>\n      <td>Telefony stacjonarne</td>\n    </tr>\n    <tr>\n      <th>4</th>\n      <td>102.0</td>\n      <td>2020-03-09 14:46:19</td>\n      <td>2020-03-13 19:46:19</td>\n      <td>620.0</td>\n      <td>Oliwier Maślankiewicz</td>\n      <td>Konin</td>\n      <td>pl. Kwiatowa 03</td>\n      <td>Telefony i akcesoria;Akcesoria telefoniczne;Ze...</td>\n      <td>3.274700e+02</td>\n      <td>4 days 05:00:00</td>\n      <td>Telefony i akcesoria</td>\n      <td>Akcesoria telefoniczne</td>\n    </tr>\n    <tr>\n      <th>...</th>\n      <td>...</td>\n      <td>...</td>\n      <td>...</td>\n      <td>...</td>\n      <td>...</td>\n      <td>...</td>\n      <td>...</td>\n      <td>...</td>\n      <td>...</td>\n      <td>...</td>\n      <td>...</td>\n      <td>...</td>\n    </tr>\n    <tr>\n      <th>7263</th>\n      <td>301.0</td>\n      <td>2020-02-28 13:13:00</td>\n      <td>2020-03-04 15:13:00</td>\n      <td>620.0</td>\n      <td>Ada Laszkiewicz</td>\n      <td>Szczecin</td>\n      <td>ul. Sportowa 70</td>\n      <td>Komputery;Drukarki i skanery;Biurowe urządzeni...</td>\n      <td>3.777000e+03</td>\n      <td>5 days 02:00:00</td>\n      <td>Komputery</td>\n      <td>Drukarki i skanery</td>\n    </tr>\n    <tr>\n      <th>7264</th>\n      <td>301.0</td>\n      <td>2020-02-16 21:22:58</td>\n      <td>2020-02-20 10:22:58</td>\n      <td>360.0</td>\n      <td>Ada Laszkiewicz</td>\n      <td>Szczecin</td>\n      <td>ul. Sportowa 70</td>\n      <td>Komputery;Monitory;Monitory LCD</td>\n      <td>7.990000e+08</td>\n      <td>3 days 13:00:00</td>\n      <td>Komputery</td>\n      <td>Monitory</td>\n    </tr>\n    <tr>\n      <th>7265</th>\n      <td>301.0</td>\n      <td>2020-02-24 11:35:37</td>\n      <td>2020-02-29 13:35:37</td>\n      <td>620.0</td>\n      <td>Ada Laszkiewicz</td>\n      <td>Szczecin</td>\n      <td>ul. Sportowa 70</td>\n      <td>Gry i konsole;Gry na konsole;Gry Xbox 360</td>\n      <td>6.900000e+01</td>\n      <td>5 days 02:00:00</td>\n      <td>Gry i konsole</td>\n      <td>Gry na konsole</td>\n    </tr>\n    <tr>\n      <th>7266</th>\n      <td>301.0</td>\n      <td>2020-01-31 23:34:46</td>\n      <td>2020-02-04 12:34:46</td>\n      <td>360.0</td>\n      <td>Ada Laszkiewicz</td>\n      <td>Szczecin</td>\n      <td>ul. Sportowa 70</td>\n      <td>Gry i konsole;Gry na konsole;Gry Xbox 360</td>\n      <td>8.999000e+01</td>\n      <td>3 days 13:00:00</td>\n      <td>Gry i konsole</td>\n      <td>Gry na konsole</td>\n    </tr>\n    <tr>\n      <th>7267</th>\n      <td>301.0</td>\n      <td>2020-02-14 09:16:05</td>\n      <td>2020-02-18 02:16:05</td>\n      <td>516.0</td>\n      <td>Ada Laszkiewicz</td>\n      <td>Szczecin</td>\n      <td>ul. Sportowa 70</td>\n      <td>Sprzęt RTV;Video;Telewizory i akcesoria;Anteny...</td>\n      <td>-1.687900e+02</td>\n      <td>3 days 17:00:00</td>\n      <td>Sprzęt RTV</td>\n      <td>Video</td>\n    </tr>\n  </tbody>\n</table>\n<p>7268 rows × 12 columns</p>\n</div>"
     },
     "execution_count": 260,
     "metadata": {},
     "output_type": "execute_result"
    }
   ],
   "source": [
    "category_path_arr = merged_data['category_path'].str.split(';', 2)\n",
    "category_arr = []\n",
    "subcategory_arr = []\n",
    "for path in category_path_arr:\n",
    "    if type(path) == float:\n",
    "        category_arr.append(path)\n",
    "        subcategory_arr.append(path)\n",
    "    else:\n",
    "        category_arr.append(path[0])\n",
    "        subcategory_arr.append(path[1])\n",
    "\n",
    "merged_data['category'] = category_arr\n",
    "merged_data['subcategory'] = subcategory_arr\n",
    "\n",
    "merged_data"
   ],
   "metadata": {
    "collapsed": false,
    "pycharm": {
     "name": "#%%\n"
    }
   }
  }
 ],
 "metadata": {
  "kernelspec": {
   "display_name": "Python 3",
   "language": "python",
   "name": "python3"
  },
  "language_info": {
   "codemirror_mode": {
    "name": "ipython",
    "version": 2
   },
   "file_extension": ".py",
   "mimetype": "text/x-python",
   "name": "python",
   "nbconvert_exporter": "python",
   "pygments_lexer": "ipython2",
   "version": "2.7.6"
  }
 },
 "nbformat": 4,
 "nbformat_minor": 0
}