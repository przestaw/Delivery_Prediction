{
 "cells": [
  {
   "cell_type": "markdown",
   "metadata": {
    "collapsed": true,
    "pycharm": {
     "name": "#%% md\n"
    }
   },
   "source": [
    "# Data Exploration\n",
    "### objective :\n",
    "*Wygląda na to, że nasze firmy kurierskie czasami nie radzą sobie z dostawami. Lepiej by było, gdybyśmy wiedzieli, ile taka dostawa dla danego zamówienia może potrwać.*"
   ]
  },
  {
   "cell_type": "code",
   "execution_count": 1,
   "metadata": {
    "pycharm": {
     "name": "#%%\n"
    }
   },
   "outputs": [],
   "source": [
    "import datetime\n",
    "import json # as pandas struggled with json\n",
    "import numpy as np\n",
    "import pandas as pd\n",
    "import missingno as msno\n",
    "from sklearn import preprocessing\n",
    "%matplotlib inline"
   ]
  },
  {
   "cell_type": "markdown",
   "metadata": {},
   "source": [
    "### Load files:"
   ]
  },
  {
   "cell_type": "code",
   "execution_count": 2,
   "metadata": {
    "pycharm": {
     "name": "#%%\n"
    }
   },
   "outputs": [
    {
     "data": {
      "text/plain": "    user_id                    name      city                    street\n0       102   Oliwier Maślankiewicz     Konin           pl. Kwiatowa 03\n1       103       Kajetan Karmelita  Warszawa           ulica Maczka 31\n2       104          Eryk Kuncewicz    Police     ulica Krakowska 14/94\n3       105            Sylwia Sabak     Radom        ulica Szpitalna 71\n4       106             Inga Stępka    Mielec          aleja Liliowa 50\n5       107           Filip Włodyka    Gdynia          aleja Ludowa 797\n6       108          Jerzy Podgórny  Warszawa            ul. Głogowa 78\n7       109          Julita Żuberek     Kutno            ul. Wesoła 214\n8       110        Urszula Lepianka     Konin             al. Rataja 60\n9       111          Mateusz Posmyk     Kutno          ulica Jadwigi 92\n10      112            Robert Mazek     Radom            pl. Majowa 249\n11      113         Artur Borkowicz    Mielec          plac Widokowa 54\n12      114          Dominik Stypka  Szczecin  ulica Wypoczynkowa 87/03\n13      115             Inga Skałka    Gdynia            ulica Cicha 10\n14      116          Julianna Moryc     Radom      ulica Słowackiego 73\n15      117          Kornel Makurat    Police     ulica Modrzewiowa 985\n16      118        Natasza Leszczyk     Kutno          ulica Średnia 91\n17      119           Mieszko Marko    Police           ul. Wiązowa 318\n18      120         Wojciech Skwira  Szczecin   ulica Kraszewskiego 852\n19      121  Aleksander Płocharczyk    Mielec            al. Targowa 38\n20      122          Karina Wasyluk     Kutno        aleja Brzechwy 167\n21      123          Daniel Bluszcz  Szczecin           ulica Ciasna 28\n22      124      Krzysztof Łukowiak  Warszawa             ulica Miła 25\n23      125            Kornel Słysz     Konin           ul. Głogowa 349\n24      126         Lidia Brodowicz    Gdynia            aleja Cicha 43\n25      127              Jan Szlaga     Radom          pl. Wilcza 01/61\n26      128           Mateusz Damps    Mielec        ulica Wierzbowa 14\n27      129        Miłosz Patrzałek    Gdynia           plac Bankowa 05\n28      130           Patryk Salawa  Warszawa      pl. Konwaliowa 35/75\n29      131          Miłosz Wiencek     Kutno      ulica Bałtycka 92/87",
      "text/html": "<div>\n<style scoped>\n    .dataframe tbody tr th:only-of-type {\n        vertical-align: middle;\n    }\n\n    .dataframe tbody tr th {\n        vertical-align: top;\n    }\n\n    .dataframe thead th {\n        text-align: right;\n    }\n</style>\n<table border=\"1\" class=\"dataframe\">\n  <thead>\n    <tr style=\"text-align: right;\">\n      <th></th>\n      <th>user_id</th>\n      <th>name</th>\n      <th>city</th>\n      <th>street</th>\n    </tr>\n  </thead>\n  <tbody>\n    <tr>\n      <th>0</th>\n      <td>102</td>\n      <td>Oliwier Maślankiewicz</td>\n      <td>Konin</td>\n      <td>pl. Kwiatowa 03</td>\n    </tr>\n    <tr>\n      <th>1</th>\n      <td>103</td>\n      <td>Kajetan Karmelita</td>\n      <td>Warszawa</td>\n      <td>ulica Maczka 31</td>\n    </tr>\n    <tr>\n      <th>2</th>\n      <td>104</td>\n      <td>Eryk Kuncewicz</td>\n      <td>Police</td>\n      <td>ulica Krakowska 14/94</td>\n    </tr>\n    <tr>\n      <th>3</th>\n      <td>105</td>\n      <td>Sylwia Sabak</td>\n      <td>Radom</td>\n      <td>ulica Szpitalna 71</td>\n    </tr>\n    <tr>\n      <th>4</th>\n      <td>106</td>\n      <td>Inga Stępka</td>\n      <td>Mielec</td>\n      <td>aleja Liliowa 50</td>\n    </tr>\n    <tr>\n      <th>5</th>\n      <td>107</td>\n      <td>Filip Włodyka</td>\n      <td>Gdynia</td>\n      <td>aleja Ludowa 797</td>\n    </tr>\n    <tr>\n      <th>6</th>\n      <td>108</td>\n      <td>Jerzy Podgórny</td>\n      <td>Warszawa</td>\n      <td>ul. Głogowa 78</td>\n    </tr>\n    <tr>\n      <th>7</th>\n      <td>109</td>\n      <td>Julita Żuberek</td>\n      <td>Kutno</td>\n      <td>ul. Wesoła 214</td>\n    </tr>\n    <tr>\n      <th>8</th>\n      <td>110</td>\n      <td>Urszula Lepianka</td>\n      <td>Konin</td>\n      <td>al. Rataja 60</td>\n    </tr>\n    <tr>\n      <th>9</th>\n      <td>111</td>\n      <td>Mateusz Posmyk</td>\n      <td>Kutno</td>\n      <td>ulica Jadwigi 92</td>\n    </tr>\n    <tr>\n      <th>10</th>\n      <td>112</td>\n      <td>Robert Mazek</td>\n      <td>Radom</td>\n      <td>pl. Majowa 249</td>\n    </tr>\n    <tr>\n      <th>11</th>\n      <td>113</td>\n      <td>Artur Borkowicz</td>\n      <td>Mielec</td>\n      <td>plac Widokowa 54</td>\n    </tr>\n    <tr>\n      <th>12</th>\n      <td>114</td>\n      <td>Dominik Stypka</td>\n      <td>Szczecin</td>\n      <td>ulica Wypoczynkowa 87/03</td>\n    </tr>\n    <tr>\n      <th>13</th>\n      <td>115</td>\n      <td>Inga Skałka</td>\n      <td>Gdynia</td>\n      <td>ulica Cicha 10</td>\n    </tr>\n    <tr>\n      <th>14</th>\n      <td>116</td>\n      <td>Julianna Moryc</td>\n      <td>Radom</td>\n      <td>ulica Słowackiego 73</td>\n    </tr>\n    <tr>\n      <th>15</th>\n      <td>117</td>\n      <td>Kornel Makurat</td>\n      <td>Police</td>\n      <td>ulica Modrzewiowa 985</td>\n    </tr>\n    <tr>\n      <th>16</th>\n      <td>118</td>\n      <td>Natasza Leszczyk</td>\n      <td>Kutno</td>\n      <td>ulica Średnia 91</td>\n    </tr>\n    <tr>\n      <th>17</th>\n      <td>119</td>\n      <td>Mieszko Marko</td>\n      <td>Police</td>\n      <td>ul. Wiązowa 318</td>\n    </tr>\n    <tr>\n      <th>18</th>\n      <td>120</td>\n      <td>Wojciech Skwira</td>\n      <td>Szczecin</td>\n      <td>ulica Kraszewskiego 852</td>\n    </tr>\n    <tr>\n      <th>19</th>\n      <td>121</td>\n      <td>Aleksander Płocharczyk</td>\n      <td>Mielec</td>\n      <td>al. Targowa 38</td>\n    </tr>\n    <tr>\n      <th>20</th>\n      <td>122</td>\n      <td>Karina Wasyluk</td>\n      <td>Kutno</td>\n      <td>aleja Brzechwy 167</td>\n    </tr>\n    <tr>\n      <th>21</th>\n      <td>123</td>\n      <td>Daniel Bluszcz</td>\n      <td>Szczecin</td>\n      <td>ulica Ciasna 28</td>\n    </tr>\n    <tr>\n      <th>22</th>\n      <td>124</td>\n      <td>Krzysztof Łukowiak</td>\n      <td>Warszawa</td>\n      <td>ulica Miła 25</td>\n    </tr>\n    <tr>\n      <th>23</th>\n      <td>125</td>\n      <td>Kornel Słysz</td>\n      <td>Konin</td>\n      <td>ul. Głogowa 349</td>\n    </tr>\n    <tr>\n      <th>24</th>\n      <td>126</td>\n      <td>Lidia Brodowicz</td>\n      <td>Gdynia</td>\n      <td>aleja Cicha 43</td>\n    </tr>\n    <tr>\n      <th>25</th>\n      <td>127</td>\n      <td>Jan Szlaga</td>\n      <td>Radom</td>\n      <td>pl. Wilcza 01/61</td>\n    </tr>\n    <tr>\n      <th>26</th>\n      <td>128</td>\n      <td>Mateusz Damps</td>\n      <td>Mielec</td>\n      <td>ulica Wierzbowa 14</td>\n    </tr>\n    <tr>\n      <th>27</th>\n      <td>129</td>\n      <td>Miłosz Patrzałek</td>\n      <td>Gdynia</td>\n      <td>plac Bankowa 05</td>\n    </tr>\n    <tr>\n      <th>28</th>\n      <td>130</td>\n      <td>Patryk Salawa</td>\n      <td>Warszawa</td>\n      <td>pl. Konwaliowa 35/75</td>\n    </tr>\n    <tr>\n      <th>29</th>\n      <td>131</td>\n      <td>Miłosz Wiencek</td>\n      <td>Kutno</td>\n      <td>ulica Bałtycka 92/87</td>\n    </tr>\n  </tbody>\n</table>\n</div>"
     },
     "execution_count": 2,
     "metadata": {},
     "output_type": "execute_result"
    }
   ],
   "source": [
    "def load_file(filename):\n",
    "    with open(filename, encoding=\"utf8\") as f:\n",
    "        data = f.readlines()\n",
    "        data = [json.loads(line) for line in data] #convert string to dict format\n",
    "        df = pd.json_normalize(data)\n",
    "    return df\n",
    "\n",
    "users = load_file(r'data/users.jsonl')# pd.read_json(r\"data/users.jsonl\", typ='series', lines=True, dtype='dict')\n",
    "users.head(30)"
   ]
  },
  {
   "cell_type": "code",
   "execution_count": 3,
   "metadata": {
    "pycharm": {
     "name": "#%%\n"
    }
   },
   "outputs": [
    {
     "data": {
      "text/plain": "    purchase_id   purchase_timestamp   delivery_timestamp  delivery_company\n0         20001  2020-02-10T02:11:41  2020-02-12T13:11:41             360.0\n1         20002  2020-03-18T08:22:20                 None             360.0\n2         20003  2020-01-21T18:07:56  2020-01-24T05:07:56             360.0\n3         20004  2020-02-21T15:33:36  2020-02-24T02:33:36               NaN\n4         20005  2020-03-09T14:46:19  2020-03-13T19:46:19             620.0\n5         20006  2020-02-02T02:07:04  2020-02-06T07:07:04             620.0\n6         20007  2020-01-20T20:33:10  2020-01-25T01:33:10             620.0\n7         20008  2020-02-02T20:41:01  2020-02-05T07:41:01             360.0\n8         20009  2020-01-31T02:24:21  2020-02-04T07:24:21             620.0\n9         20010  2020-01-17T04:30:21  2020-01-19T15:30:21             360.0\n10        20011  2020-02-27T01:33:02  2020-02-29T02:33:02             516.0\n11        20012  2020-03-14T08:38:39                 None             620.0\n12        20013  2020-03-06T11:34:57  2020-03-08T12:34:57             516.0\n13        20014  2020-01-09T13:51:09  2020-01-12T00:51:09             360.0\n14        20015  2020-03-06T04:38:11  2020-03-08T15:38:11             360.0\n15        20016  2020-02-02T14:33:55  2020-02-05T01:33:55             360.0\n16        20017  2020-01-31T00:31:59  2020-02-04T05:31:59             620.0\n17        20018  2020-01-02T19:34:45  2020-01-05T06:34:45             360.0\n18        20019  2020-01-27T07:48:16  2020-01-31T12:48:16             620.0\n19        20020  2020-03-17T09:31:38  2020-03-19T20:31:38             360.0\n20        20021  2020-03-04T14:21:42  2020-03-08T19:21:42             620.0\n21        20022  2020-03-12T08:30:55  2020-03-14T19:30:55             360.0\n22        20023  2020-02-29T11:38:50  2020-03-04T16:38:50             620.0\n23        20024  2020-01-02T04:43:24  2020-01-04T15:43:24             360.0\n24        20025  2020-02-15T22:10:03                 None             620.0\n25        20026  2020-01-19T08:29:43  2020-01-21T09:29:43             516.0\n26        20027  2020-01-13T10:23:55  2020-01-15T21:23:55             360.0\n27        20028  2020-01-31T05:50:36  2020-02-04T10:50:36             620.0\n28        20029  2020-03-14T05:04:02  2020-03-18T10:04:02             620.0\n29        20030  2020-01-27T07:20:17  2020-01-31T12:20:17             620.0",
      "text/html": "<div>\n<style scoped>\n    .dataframe tbody tr th:only-of-type {\n        vertical-align: middle;\n    }\n\n    .dataframe tbody tr th {\n        vertical-align: top;\n    }\n\n    .dataframe thead th {\n        text-align: right;\n    }\n</style>\n<table border=\"1\" class=\"dataframe\">\n  <thead>\n    <tr style=\"text-align: right;\">\n      <th></th>\n      <th>purchase_id</th>\n      <th>purchase_timestamp</th>\n      <th>delivery_timestamp</th>\n      <th>delivery_company</th>\n    </tr>\n  </thead>\n  <tbody>\n    <tr>\n      <th>0</th>\n      <td>20001</td>\n      <td>2020-02-10T02:11:41</td>\n      <td>2020-02-12T13:11:41</td>\n      <td>360.0</td>\n    </tr>\n    <tr>\n      <th>1</th>\n      <td>20002</td>\n      <td>2020-03-18T08:22:20</td>\n      <td>None</td>\n      <td>360.0</td>\n    </tr>\n    <tr>\n      <th>2</th>\n      <td>20003</td>\n      <td>2020-01-21T18:07:56</td>\n      <td>2020-01-24T05:07:56</td>\n      <td>360.0</td>\n    </tr>\n    <tr>\n      <th>3</th>\n      <td>20004</td>\n      <td>2020-02-21T15:33:36</td>\n      <td>2020-02-24T02:33:36</td>\n      <td>NaN</td>\n    </tr>\n    <tr>\n      <th>4</th>\n      <td>20005</td>\n      <td>2020-03-09T14:46:19</td>\n      <td>2020-03-13T19:46:19</td>\n      <td>620.0</td>\n    </tr>\n    <tr>\n      <th>5</th>\n      <td>20006</td>\n      <td>2020-02-02T02:07:04</td>\n      <td>2020-02-06T07:07:04</td>\n      <td>620.0</td>\n    </tr>\n    <tr>\n      <th>6</th>\n      <td>20007</td>\n      <td>2020-01-20T20:33:10</td>\n      <td>2020-01-25T01:33:10</td>\n      <td>620.0</td>\n    </tr>\n    <tr>\n      <th>7</th>\n      <td>20008</td>\n      <td>2020-02-02T20:41:01</td>\n      <td>2020-02-05T07:41:01</td>\n      <td>360.0</td>\n    </tr>\n    <tr>\n      <th>8</th>\n      <td>20009</td>\n      <td>2020-01-31T02:24:21</td>\n      <td>2020-02-04T07:24:21</td>\n      <td>620.0</td>\n    </tr>\n    <tr>\n      <th>9</th>\n      <td>20010</td>\n      <td>2020-01-17T04:30:21</td>\n      <td>2020-01-19T15:30:21</td>\n      <td>360.0</td>\n    </tr>\n    <tr>\n      <th>10</th>\n      <td>20011</td>\n      <td>2020-02-27T01:33:02</td>\n      <td>2020-02-29T02:33:02</td>\n      <td>516.0</td>\n    </tr>\n    <tr>\n      <th>11</th>\n      <td>20012</td>\n      <td>2020-03-14T08:38:39</td>\n      <td>None</td>\n      <td>620.0</td>\n    </tr>\n    <tr>\n      <th>12</th>\n      <td>20013</td>\n      <td>2020-03-06T11:34:57</td>\n      <td>2020-03-08T12:34:57</td>\n      <td>516.0</td>\n    </tr>\n    <tr>\n      <th>13</th>\n      <td>20014</td>\n      <td>2020-01-09T13:51:09</td>\n      <td>2020-01-12T00:51:09</td>\n      <td>360.0</td>\n    </tr>\n    <tr>\n      <th>14</th>\n      <td>20015</td>\n      <td>2020-03-06T04:38:11</td>\n      <td>2020-03-08T15:38:11</td>\n      <td>360.0</td>\n    </tr>\n    <tr>\n      <th>15</th>\n      <td>20016</td>\n      <td>2020-02-02T14:33:55</td>\n      <td>2020-02-05T01:33:55</td>\n      <td>360.0</td>\n    </tr>\n    <tr>\n      <th>16</th>\n      <td>20017</td>\n      <td>2020-01-31T00:31:59</td>\n      <td>2020-02-04T05:31:59</td>\n      <td>620.0</td>\n    </tr>\n    <tr>\n      <th>17</th>\n      <td>20018</td>\n      <td>2020-01-02T19:34:45</td>\n      <td>2020-01-05T06:34:45</td>\n      <td>360.0</td>\n    </tr>\n    <tr>\n      <th>18</th>\n      <td>20019</td>\n      <td>2020-01-27T07:48:16</td>\n      <td>2020-01-31T12:48:16</td>\n      <td>620.0</td>\n    </tr>\n    <tr>\n      <th>19</th>\n      <td>20020</td>\n      <td>2020-03-17T09:31:38</td>\n      <td>2020-03-19T20:31:38</td>\n      <td>360.0</td>\n    </tr>\n    <tr>\n      <th>20</th>\n      <td>20021</td>\n      <td>2020-03-04T14:21:42</td>\n      <td>2020-03-08T19:21:42</td>\n      <td>620.0</td>\n    </tr>\n    <tr>\n      <th>21</th>\n      <td>20022</td>\n      <td>2020-03-12T08:30:55</td>\n      <td>2020-03-14T19:30:55</td>\n      <td>360.0</td>\n    </tr>\n    <tr>\n      <th>22</th>\n      <td>20023</td>\n      <td>2020-02-29T11:38:50</td>\n      <td>2020-03-04T16:38:50</td>\n      <td>620.0</td>\n    </tr>\n    <tr>\n      <th>23</th>\n      <td>20024</td>\n      <td>2020-01-02T04:43:24</td>\n      <td>2020-01-04T15:43:24</td>\n      <td>360.0</td>\n    </tr>\n    <tr>\n      <th>24</th>\n      <td>20025</td>\n      <td>2020-02-15T22:10:03</td>\n      <td>None</td>\n      <td>620.0</td>\n    </tr>\n    <tr>\n      <th>25</th>\n      <td>20026</td>\n      <td>2020-01-19T08:29:43</td>\n      <td>2020-01-21T09:29:43</td>\n      <td>516.0</td>\n    </tr>\n    <tr>\n      <th>26</th>\n      <td>20027</td>\n      <td>2020-01-13T10:23:55</td>\n      <td>2020-01-15T21:23:55</td>\n      <td>360.0</td>\n    </tr>\n    <tr>\n      <th>27</th>\n      <td>20028</td>\n      <td>2020-01-31T05:50:36</td>\n      <td>2020-02-04T10:50:36</td>\n      <td>620.0</td>\n    </tr>\n    <tr>\n      <th>28</th>\n      <td>20029</td>\n      <td>2020-03-14T05:04:02</td>\n      <td>2020-03-18T10:04:02</td>\n      <td>620.0</td>\n    </tr>\n    <tr>\n      <th>29</th>\n      <td>20030</td>\n      <td>2020-01-27T07:20:17</td>\n      <td>2020-01-31T12:20:17</td>\n      <td>620.0</td>\n    </tr>\n  </tbody>\n</table>\n</div>"
     },
     "execution_count": 3,
     "metadata": {},
     "output_type": "execute_result"
    }
   ],
   "source": [
    "deliveries = load_file(\"data/deliveries.jsonl\")\n",
    "deliveries.head(30)"
   ]
  },
  {
   "cell_type": "code",
   "execution_count": 4,
   "metadata": {
    "pycharm": {
     "name": "#%%\n"
    }
   },
   "outputs": [
    {
     "data": {
      "text/plain": "    session_id            timestamp  user_id  product_id    event_type  \\\n0       100001  2020-02-10T01:49:08    102.0      1081.0  VIEW_PRODUCT   \n1       100001  2020-02-10T01:52:15    102.0         NaN  VIEW_PRODUCT   \n2       100001  2020-02-10T01:56:33    102.0      1080.0  VIEW_PRODUCT   \n3       100001  2020-02-10T01:58:07    102.0      1079.0  VIEW_PRODUCT   \n4       100001  2020-02-10T02:01:33    102.0      1077.0  VIEW_PRODUCT   \n5       100001  2020-02-10T02:03:54    102.0      1003.0  VIEW_PRODUCT   \n6       100001  2020-02-10T02:04:56    102.0      1002.0  VIEW_PRODUCT   \n7       100001  2020-02-10T02:07:25    102.0      1078.0  VIEW_PRODUCT   \n8       100001  2020-02-10T02:11:41    102.0      1078.0   BUY_PRODUCT   \n9       100002  2020-03-18T08:22:14    102.0      1318.0  VIEW_PRODUCT   \n10      100002  2020-03-18T08:22:20    102.0      1318.0   BUY_PRODUCT   \n11      100003  2020-01-21T17:51:27    102.0      1043.0  VIEW_PRODUCT   \n12      100003  2020-01-21T17:52:50    102.0      1044.0  VIEW_PRODUCT   \n13      100003  2020-01-21T17:55:13    102.0      1040.0  VIEW_PRODUCT   \n14      100003  2020-01-21T17:59:00    102.0      1047.0  VIEW_PRODUCT   \n15      100003  2020-01-21T17:59:34    102.0      1045.0  VIEW_PRODUCT   \n16      100003  2020-01-21T18:02:12    102.0      1042.0  VIEW_PRODUCT   \n17      100003  2020-01-21T18:05:53    102.0      1084.0  VIEW_PRODUCT   \n18      100003  2020-01-21T18:06:50      NaN      1046.0  VIEW_PRODUCT   \n19      100003  2020-01-21T18:07:56    102.0      1046.0   BUY_PRODUCT   \n20      100004  2020-02-17T01:07:25    102.0      1283.0  VIEW_PRODUCT   \n21      100005  2020-02-21T15:29:55    102.0      1001.0  VIEW_PRODUCT   \n22      100005  2020-02-21T15:33:36    102.0      1001.0   BUY_PRODUCT   \n23      100006  2020-03-09T14:35:36    102.0      1073.0  VIEW_PRODUCT   \n24      100006  2020-03-09T14:39:20    102.0      1072.0  VIEW_PRODUCT   \n25      100006  2020-03-09T14:43:27    102.0      1222.0  VIEW_PRODUCT   \n26      100006  2020-03-09T14:44:50    102.0      1201.0  VIEW_PRODUCT   \n27      100006  2020-03-09T14:46:19    102.0      1201.0   BUY_PRODUCT   \n28      100007  2020-02-02T01:57:53    102.0      1044.0  VIEW_PRODUCT   \n29      100007  2020-02-02T01:58:46    102.0      1040.0  VIEW_PRODUCT   \n\n    offered_discount  purchase_id  \n0                  0          NaN  \n1                  0          NaN  \n2                  0          NaN  \n3                  0          NaN  \n4                  0          NaN  \n5                  0          NaN  \n6                  0          NaN  \n7                  0          NaN  \n8                  0      20001.0  \n9                  0          NaN  \n10                 0      20002.0  \n11                10          NaN  \n12                10          NaN  \n13                10          NaN  \n14                10          NaN  \n15                10          NaN  \n16                10          NaN  \n17                10          NaN  \n18                10          NaN  \n19                10      20003.0  \n20                 0          NaN  \n21                15          NaN  \n22                15      20004.0  \n23                 0          NaN  \n24                 0          NaN  \n25                 0          NaN  \n26                 0          NaN  \n27                 0      20005.0  \n28                20          NaN  \n29                20          NaN  ",
      "text/html": "<div>\n<style scoped>\n    .dataframe tbody tr th:only-of-type {\n        vertical-align: middle;\n    }\n\n    .dataframe tbody tr th {\n        vertical-align: top;\n    }\n\n    .dataframe thead th {\n        text-align: right;\n    }\n</style>\n<table border=\"1\" class=\"dataframe\">\n  <thead>\n    <tr style=\"text-align: right;\">\n      <th></th>\n      <th>session_id</th>\n      <th>timestamp</th>\n      <th>user_id</th>\n      <th>product_id</th>\n      <th>event_type</th>\n      <th>offered_discount</th>\n      <th>purchase_id</th>\n    </tr>\n  </thead>\n  <tbody>\n    <tr>\n      <th>0</th>\n      <td>100001</td>\n      <td>2020-02-10T01:49:08</td>\n      <td>102.0</td>\n      <td>1081.0</td>\n      <td>VIEW_PRODUCT</td>\n      <td>0</td>\n      <td>NaN</td>\n    </tr>\n    <tr>\n      <th>1</th>\n      <td>100001</td>\n      <td>2020-02-10T01:52:15</td>\n      <td>102.0</td>\n      <td>NaN</td>\n      <td>VIEW_PRODUCT</td>\n      <td>0</td>\n      <td>NaN</td>\n    </tr>\n    <tr>\n      <th>2</th>\n      <td>100001</td>\n      <td>2020-02-10T01:56:33</td>\n      <td>102.0</td>\n      <td>1080.0</td>\n      <td>VIEW_PRODUCT</td>\n      <td>0</td>\n      <td>NaN</td>\n    </tr>\n    <tr>\n      <th>3</th>\n      <td>100001</td>\n      <td>2020-02-10T01:58:07</td>\n      <td>102.0</td>\n      <td>1079.0</td>\n      <td>VIEW_PRODUCT</td>\n      <td>0</td>\n      <td>NaN</td>\n    </tr>\n    <tr>\n      <th>4</th>\n      <td>100001</td>\n      <td>2020-02-10T02:01:33</td>\n      <td>102.0</td>\n      <td>1077.0</td>\n      <td>VIEW_PRODUCT</td>\n      <td>0</td>\n      <td>NaN</td>\n    </tr>\n    <tr>\n      <th>5</th>\n      <td>100001</td>\n      <td>2020-02-10T02:03:54</td>\n      <td>102.0</td>\n      <td>1003.0</td>\n      <td>VIEW_PRODUCT</td>\n      <td>0</td>\n      <td>NaN</td>\n    </tr>\n    <tr>\n      <th>6</th>\n      <td>100001</td>\n      <td>2020-02-10T02:04:56</td>\n      <td>102.0</td>\n      <td>1002.0</td>\n      <td>VIEW_PRODUCT</td>\n      <td>0</td>\n      <td>NaN</td>\n    </tr>\n    <tr>\n      <th>7</th>\n      <td>100001</td>\n      <td>2020-02-10T02:07:25</td>\n      <td>102.0</td>\n      <td>1078.0</td>\n      <td>VIEW_PRODUCT</td>\n      <td>0</td>\n      <td>NaN</td>\n    </tr>\n    <tr>\n      <th>8</th>\n      <td>100001</td>\n      <td>2020-02-10T02:11:41</td>\n      <td>102.0</td>\n      <td>1078.0</td>\n      <td>BUY_PRODUCT</td>\n      <td>0</td>\n      <td>20001.0</td>\n    </tr>\n    <tr>\n      <th>9</th>\n      <td>100002</td>\n      <td>2020-03-18T08:22:14</td>\n      <td>102.0</td>\n      <td>1318.0</td>\n      <td>VIEW_PRODUCT</td>\n      <td>0</td>\n      <td>NaN</td>\n    </tr>\n    <tr>\n      <th>10</th>\n      <td>100002</td>\n      <td>2020-03-18T08:22:20</td>\n      <td>102.0</td>\n      <td>1318.0</td>\n      <td>BUY_PRODUCT</td>\n      <td>0</td>\n      <td>20002.0</td>\n    </tr>\n    <tr>\n      <th>11</th>\n      <td>100003</td>\n      <td>2020-01-21T17:51:27</td>\n      <td>102.0</td>\n      <td>1043.0</td>\n      <td>VIEW_PRODUCT</td>\n      <td>10</td>\n      <td>NaN</td>\n    </tr>\n    <tr>\n      <th>12</th>\n      <td>100003</td>\n      <td>2020-01-21T17:52:50</td>\n      <td>102.0</td>\n      <td>1044.0</td>\n      <td>VIEW_PRODUCT</td>\n      <td>10</td>\n      <td>NaN</td>\n    </tr>\n    <tr>\n      <th>13</th>\n      <td>100003</td>\n      <td>2020-01-21T17:55:13</td>\n      <td>102.0</td>\n      <td>1040.0</td>\n      <td>VIEW_PRODUCT</td>\n      <td>10</td>\n      <td>NaN</td>\n    </tr>\n    <tr>\n      <th>14</th>\n      <td>100003</td>\n      <td>2020-01-21T17:59:00</td>\n      <td>102.0</td>\n      <td>1047.0</td>\n      <td>VIEW_PRODUCT</td>\n      <td>10</td>\n      <td>NaN</td>\n    </tr>\n    <tr>\n      <th>15</th>\n      <td>100003</td>\n      <td>2020-01-21T17:59:34</td>\n      <td>102.0</td>\n      <td>1045.0</td>\n      <td>VIEW_PRODUCT</td>\n      <td>10</td>\n      <td>NaN</td>\n    </tr>\n    <tr>\n      <th>16</th>\n      <td>100003</td>\n      <td>2020-01-21T18:02:12</td>\n      <td>102.0</td>\n      <td>1042.0</td>\n      <td>VIEW_PRODUCT</td>\n      <td>10</td>\n      <td>NaN</td>\n    </tr>\n    <tr>\n      <th>17</th>\n      <td>100003</td>\n      <td>2020-01-21T18:05:53</td>\n      <td>102.0</td>\n      <td>1084.0</td>\n      <td>VIEW_PRODUCT</td>\n      <td>10</td>\n      <td>NaN</td>\n    </tr>\n    <tr>\n      <th>18</th>\n      <td>100003</td>\n      <td>2020-01-21T18:06:50</td>\n      <td>NaN</td>\n      <td>1046.0</td>\n      <td>VIEW_PRODUCT</td>\n      <td>10</td>\n      <td>NaN</td>\n    </tr>\n    <tr>\n      <th>19</th>\n      <td>100003</td>\n      <td>2020-01-21T18:07:56</td>\n      <td>102.0</td>\n      <td>1046.0</td>\n      <td>BUY_PRODUCT</td>\n      <td>10</td>\n      <td>20003.0</td>\n    </tr>\n    <tr>\n      <th>20</th>\n      <td>100004</td>\n      <td>2020-02-17T01:07:25</td>\n      <td>102.0</td>\n      <td>1283.0</td>\n      <td>VIEW_PRODUCT</td>\n      <td>0</td>\n      <td>NaN</td>\n    </tr>\n    <tr>\n      <th>21</th>\n      <td>100005</td>\n      <td>2020-02-21T15:29:55</td>\n      <td>102.0</td>\n      <td>1001.0</td>\n      <td>VIEW_PRODUCT</td>\n      <td>15</td>\n      <td>NaN</td>\n    </tr>\n    <tr>\n      <th>22</th>\n      <td>100005</td>\n      <td>2020-02-21T15:33:36</td>\n      <td>102.0</td>\n      <td>1001.0</td>\n      <td>BUY_PRODUCT</td>\n      <td>15</td>\n      <td>20004.0</td>\n    </tr>\n    <tr>\n      <th>23</th>\n      <td>100006</td>\n      <td>2020-03-09T14:35:36</td>\n      <td>102.0</td>\n      <td>1073.0</td>\n      <td>VIEW_PRODUCT</td>\n      <td>0</td>\n      <td>NaN</td>\n    </tr>\n    <tr>\n      <th>24</th>\n      <td>100006</td>\n      <td>2020-03-09T14:39:20</td>\n      <td>102.0</td>\n      <td>1072.0</td>\n      <td>VIEW_PRODUCT</td>\n      <td>0</td>\n      <td>NaN</td>\n    </tr>\n    <tr>\n      <th>25</th>\n      <td>100006</td>\n      <td>2020-03-09T14:43:27</td>\n      <td>102.0</td>\n      <td>1222.0</td>\n      <td>VIEW_PRODUCT</td>\n      <td>0</td>\n      <td>NaN</td>\n    </tr>\n    <tr>\n      <th>26</th>\n      <td>100006</td>\n      <td>2020-03-09T14:44:50</td>\n      <td>102.0</td>\n      <td>1201.0</td>\n      <td>VIEW_PRODUCT</td>\n      <td>0</td>\n      <td>NaN</td>\n    </tr>\n    <tr>\n      <th>27</th>\n      <td>100006</td>\n      <td>2020-03-09T14:46:19</td>\n      <td>102.0</td>\n      <td>1201.0</td>\n      <td>BUY_PRODUCT</td>\n      <td>0</td>\n      <td>20005.0</td>\n    </tr>\n    <tr>\n      <th>28</th>\n      <td>100007</td>\n      <td>2020-02-02T01:57:53</td>\n      <td>102.0</td>\n      <td>1044.0</td>\n      <td>VIEW_PRODUCT</td>\n      <td>20</td>\n      <td>NaN</td>\n    </tr>\n    <tr>\n      <th>29</th>\n      <td>100007</td>\n      <td>2020-02-02T01:58:46</td>\n      <td>102.0</td>\n      <td>1040.0</td>\n      <td>VIEW_PRODUCT</td>\n      <td>20</td>\n      <td>NaN</td>\n    </tr>\n  </tbody>\n</table>\n</div>"
     },
     "execution_count": 4,
     "metadata": {},
     "output_type": "execute_result"
    }
   ],
   "source": [
    "sessions = load_file(\"data/sessions.jsonl\")\n",
    "sessions.head(30)"
   ]
  },
  {
   "cell_type": "code",
   "execution_count": 5,
   "metadata": {
    "pycharm": {
     "name": "#%%\n"
    }
   },
   "outputs": [
    {
     "data": {
      "text/plain": "   product_id                                    product_name  \\\n0        1001                   Telefon Siemens Gigaset DA310   \n1        1002                              Kyocera FS-1135MFP   \n2        1003                              Kyocera FS-3640MFP   \n3        1004                            Fallout 3 (Xbox 360)   \n4        1005  Szalone Króliki Na żywo i w kolorze (Xbox 360)   \n\n                                       category_path         price  \n0          Telefony i akcesoria;Telefony stacjonarne  5.897000e+01  \n1  Komputery;Drukarki i skanery;Biurowe urządzeni...  2.048500e+03  \n2  Komputery;Drukarki i skanery;Biurowe urządzeni...  7.639000e+09  \n3          Gry i konsole;Gry na konsole;Gry Xbox 360  4.999000e+01  \n4          Gry i konsole;Gry na konsole;Gry Xbox 360  4.999000e+01  ",
      "text/html": "<div>\n<style scoped>\n    .dataframe tbody tr th:only-of-type {\n        vertical-align: middle;\n    }\n\n    .dataframe tbody tr th {\n        vertical-align: top;\n    }\n\n    .dataframe thead th {\n        text-align: right;\n    }\n</style>\n<table border=\"1\" class=\"dataframe\">\n  <thead>\n    <tr style=\"text-align: right;\">\n      <th></th>\n      <th>product_id</th>\n      <th>product_name</th>\n      <th>category_path</th>\n      <th>price</th>\n    </tr>\n  </thead>\n  <tbody>\n    <tr>\n      <th>0</th>\n      <td>1001</td>\n      <td>Telefon Siemens Gigaset DA310</td>\n      <td>Telefony i akcesoria;Telefony stacjonarne</td>\n      <td>5.897000e+01</td>\n    </tr>\n    <tr>\n      <th>1</th>\n      <td>1002</td>\n      <td>Kyocera FS-1135MFP</td>\n      <td>Komputery;Drukarki i skanery;Biurowe urządzeni...</td>\n      <td>2.048500e+03</td>\n    </tr>\n    <tr>\n      <th>2</th>\n      <td>1003</td>\n      <td>Kyocera FS-3640MFP</td>\n      <td>Komputery;Drukarki i skanery;Biurowe urządzeni...</td>\n      <td>7.639000e+09</td>\n    </tr>\n    <tr>\n      <th>3</th>\n      <td>1004</td>\n      <td>Fallout 3 (Xbox 360)</td>\n      <td>Gry i konsole;Gry na konsole;Gry Xbox 360</td>\n      <td>4.999000e+01</td>\n    </tr>\n    <tr>\n      <th>4</th>\n      <td>1005</td>\n      <td>Szalone Króliki Na żywo i w kolorze (Xbox 360)</td>\n      <td>Gry i konsole;Gry na konsole;Gry Xbox 360</td>\n      <td>4.999000e+01</td>\n    </tr>\n  </tbody>\n</table>\n</div>"
     },
     "execution_count": 5,
     "metadata": {},
     "output_type": "execute_result"
    }
   ],
   "source": [
    "products = load_file(\"data/products.jsonl\")\n",
    "products.head()"
   ]
  },
  {
   "cell_type": "markdown",
   "source": [
    "### Obserwacje\n",
    "Jak widać nie wszystkie sesje zakończone zakupem posiadają id użytkownika, co mogłoby być przydatne by ustalić np miasto dostawy. Dodatkowo nie wszystkie dostawy posiadają informację o czasie dostarczenia."
   ],
   "metadata": {
    "collapsed": false
   }
  },
  {
   "cell_type": "code",
   "metadata": {
    "pycharm": {
     "name": "#%%\n"
    }
   },
   "source": [
    "def clean_nan_rows(dataframe, print_stats = False):\n",
    "    clean_df = dataframe.dropna(axis=0, how='any')\n",
    "    if print_stats:\n",
    "        print('Original Length=', len(dataframe), '\\tCleaned Length=', len(clean_df), '\\tMissing Data=', len(dataframe) - len(clean_df))\n",
    "    return clean_df\n",
    "\n",
    "print(\"Brakujące user_id w sessions dla operacji BUY_PRODUCT\\n\")\n",
    "buy_sessions = sessions[sessions.event_type == 'BUY_PRODUCT']\n",
    "clean_nan_rows(dataframe=buy_sessions['user_id'], print_stats=True)\n",
    "\n",
    "print(\"\\nBrakujące czasy dostawy w deliveries\\n\")\n",
    "clean_nan_rows(dataframe=deliveries['delivery_timestamp'], print_stats=True)"
   ],
   "execution_count": 6,
   "outputs": [
    {
     "name": "stdout",
     "output_type": "stream",
     "text": [
      "Brakujące user_id w sessions dla operacji BUY_PRODUCT\n",
      "\n",
      "Original Length= 7268 \tCleaned Length= 6914 \tMissing Data= 354\n",
      "\n",
      "Brakujące czasy dostawy w deliveries\n",
      "\n",
      "Original Length= 7268 \tCleaned Length= 6886 \tMissing Data= 382\n"
     ]
    },
    {
     "data": {
      "text/plain": "0       2020-02-12T13:11:41\n2       2020-01-24T05:07:56\n3       2020-02-24T02:33:36\n4       2020-03-13T19:46:19\n5       2020-02-06T07:07:04\n               ...         \n7263    2020-03-04T15:13:00\n7264    2020-02-20T10:22:58\n7265    2020-02-29T13:35:37\n7266    2020-02-04T12:34:46\n7267    2020-02-18T02:16:05\nName: delivery_timestamp, Length: 6886, dtype: object"
     },
     "execution_count": 6,
     "metadata": {},
     "output_type": "execute_result"
    }
   ]
  },
  {
   "cell_type": "code",
   "metadata": {
    "pycharm": {
     "name": "#%%\n"
    }
   },
   "source": [
    "def generate_sparsity_matrix(dataframe):\n",
    "    missing_df = dataframe.columns[dataframe.isnull().any()].tolist()\n",
    "    msno.matrix(dataframe[missing_df], figsize=(20, 5))\n",
    "\n",
    "print(\"Brakujące dane w sessions dla operacji BUY_PRODUCT:\")\n",
    "generate_sparsity_matrix(buy_sessions)"
   ],
   "execution_count": 7,
   "outputs": [
    {
     "name": "stdout",
     "output_type": "stream",
     "text": [
      "Brakujące dane w sessions dla operacji BUY_PRODUCT:\n"
     ]
    },
    {
     "data": {
      "text/plain": "<Figure size 1440x360 with 2 Axes>",
      "image/png": "[encoded data removed]"
     },
     "metadata": {
      "needs_background": "light"
     },
     "output_type": "display_data"
    }
   ]
  },
  {
   "cell_type": "code",
   "metadata": {
    "pycharm": {
     "name": "#%%\n"
    }
   },
   "source": [
    "print(\"Brakujące dane w deliveries :\")\n",
    "generate_sparsity_matrix(deliveries)"
   ],
   "execution_count": 8,
   "outputs": [
    {
     "name": "stdout",
     "output_type": "stream",
     "text": [
      "Brakujące dane w deliveries :\n"
     ]
    },
    {
     "data": {
      "text/plain": "<Figure size 1440x360 with 2 Axes>",
      "image/png": "[encoded data removed]"
     },
     "metadata": {
      "needs_background": "light"
     },
     "output_type": "display_data"
    }
   ]
  },
  {
   "cell_type": "markdown",
   "metadata": {},
   "source": [
    "### Czy brak danych o dostawie ma związek z firma transportowa?"
   ]
  },
  {
   "cell_type": "code",
   "metadata": {
    "pycharm": {
     "name": "#%%\n"
    }
   },
   "source": [
    "# TODO\n"
   ],
   "execution_count": 9,
   "outputs": []
  },
  {
   "cell_type": "markdown",
   "metadata": {},
   "source": [
    "### Transformacje\n",
    "\n",
    "Połączmy dane w jedną tabelę oraz rozbijmy kategorie na główna i podkategorię"
   ]
  },
  {
   "cell_type": "code",
   "execution_count": 10,
   "metadata": {
    "pycharm": {
     "name": "#%%\n"
    }
   },
   "outputs": [
    {
     "data": {
      "text/plain": "     product_id                                    product_name  \\\n0          1001                   Telefon Siemens Gigaset DA310   \n1          1002                              Kyocera FS-1135MFP   \n2          1003                              Kyocera FS-3640MFP   \n3          1004                            Fallout 3 (Xbox 360)   \n4          1005  Szalone Króliki Na żywo i w kolorze (Xbox 360)   \n..          ...                                             ...   \n314        1315                                      Jabra Talk   \n315        1316                      Plantronics Voyager Legend   \n316        1317                           Plantronics Savi W740   \n317        1318                           Plantronics Savi W710   \n318        1319                                     HTC HS-S200   \n\n                                         category_path         price  \\\n0            Telefony i akcesoria;Telefony stacjonarne  5.897000e+01   \n1    Komputery;Drukarki i skanery;Biurowe urządzeni...  2.048500e+03   \n2    Komputery;Drukarki i skanery;Biurowe urządzeni...  7.639000e+09   \n3            Gry i konsole;Gry na konsole;Gry Xbox 360  4.999000e+01   \n4            Gry i konsole;Gry na konsole;Gry Xbox 360  4.999000e+01   \n..                                                 ...           ...   \n314  Telefony i akcesoria;Akcesoria telefoniczne;Ze...  5.499000e+01   \n315  Telefony i akcesoria;Akcesoria telefoniczne;Ze... -2.490000e+02   \n316  Telefony i akcesoria;Akcesoria telefoniczne;Ze...  1.303960e+03   \n317                         Sprzęt RTV;Audio;Słuchawki  5.530000e+02   \n318  Telefony i akcesoria;Akcesoria telefoniczne;Ze... -1.499000e+01   \n\n                 category             subcategory  \n0    Telefony i akcesoria    Telefony stacjonarne  \n1               Komputery      Drukarki i skanery  \n2               Komputery      Drukarki i skanery  \n3           Gry i konsole          Gry na konsole  \n4           Gry i konsole          Gry na konsole  \n..                    ...                     ...  \n314  Telefony i akcesoria  Akcesoria telefoniczne  \n315  Telefony i akcesoria  Akcesoria telefoniczne  \n316  Telefony i akcesoria  Akcesoria telefoniczne  \n317            Sprzęt RTV                   Audio  \n318  Telefony i akcesoria  Akcesoria telefoniczne  \n\n[319 rows x 6 columns]",
      "text/html": "<div>\n<style scoped>\n    .dataframe tbody tr th:only-of-type {\n        vertical-align: middle;\n    }\n\n    .dataframe tbody tr th {\n        vertical-align: top;\n    }\n\n    .dataframe thead th {\n        text-align: right;\n    }\n</style>\n<table border=\"1\" class=\"dataframe\">\n  <thead>\n    <tr style=\"text-align: right;\">\n      <th></th>\n      <th>product_id</th>\n      <th>product_name</th>\n      <th>category_path</th>\n      <th>price</th>\n      <th>category</th>\n      <th>subcategory</th>\n    </tr>\n  </thead>\n  <tbody>\n    <tr>\n      <th>0</th>\n      <td>1001</td>\n      <td>Telefon Siemens Gigaset DA310</td>\n      <td>Telefony i akcesoria;Telefony stacjonarne</td>\n      <td>5.897000e+01</td>\n      <td>Telefony i akcesoria</td>\n      <td>Telefony stacjonarne</td>\n    </tr>\n    <tr>\n      <th>1</th>\n      <td>1002</td>\n      <td>Kyocera FS-1135MFP</td>\n      <td>Komputery;Drukarki i skanery;Biurowe urządzeni...</td>\n      <td>2.048500e+03</td>\n      <td>Komputery</td>\n      <td>Drukarki i skanery</td>\n    </tr>\n    <tr>\n      <th>2</th>\n      <td>1003</td>\n      <td>Kyocera FS-3640MFP</td>\n      <td>Komputery;Drukarki i skanery;Biurowe urządzeni...</td>\n      <td>7.639000e+09</td>\n      <td>Komputery</td>\n      <td>Drukarki i skanery</td>\n    </tr>\n    <tr>\n      <th>3</th>\n      <td>1004</td>\n      <td>Fallout 3 (Xbox 360)</td>\n      <td>Gry i konsole;Gry na konsole;Gry Xbox 360</td>\n      <td>4.999000e+01</td>\n      <td>Gry i konsole</td>\n      <td>Gry na konsole</td>\n    </tr>\n    <tr>\n      <th>4</th>\n      <td>1005</td>\n      <td>Szalone Króliki Na żywo i w kolorze (Xbox 360)</td>\n      <td>Gry i konsole;Gry na konsole;Gry Xbox 360</td>\n      <td>4.999000e+01</td>\n      <td>Gry i konsole</td>\n      <td>Gry na konsole</td>\n    </tr>\n    <tr>\n      <th>...</th>\n      <td>...</td>\n      <td>...</td>\n      <td>...</td>\n      <td>...</td>\n      <td>...</td>\n      <td>...</td>\n    </tr>\n    <tr>\n      <th>314</th>\n      <td>1315</td>\n      <td>Jabra Talk</td>\n      <td>Telefony i akcesoria;Akcesoria telefoniczne;Ze...</td>\n      <td>5.499000e+01</td>\n      <td>Telefony i akcesoria</td>\n      <td>Akcesoria telefoniczne</td>\n    </tr>\n    <tr>\n      <th>315</th>\n      <td>1316</td>\n      <td>Plantronics Voyager Legend</td>\n      <td>Telefony i akcesoria;Akcesoria telefoniczne;Ze...</td>\n      <td>-2.490000e+02</td>\n      <td>Telefony i akcesoria</td>\n      <td>Akcesoria telefoniczne</td>\n    </tr>\n    <tr>\n      <th>316</th>\n      <td>1317</td>\n      <td>Plantronics Savi W740</td>\n      <td>Telefony i akcesoria;Akcesoria telefoniczne;Ze...</td>\n      <td>1.303960e+03</td>\n      <td>Telefony i akcesoria</td>\n      <td>Akcesoria telefoniczne</td>\n    </tr>\n    <tr>\n      <th>317</th>\n      <td>1318</td>\n      <td>Plantronics Savi W710</td>\n      <td>Sprzęt RTV;Audio;Słuchawki</td>\n      <td>5.530000e+02</td>\n      <td>Sprzęt RTV</td>\n      <td>Audio</td>\n    </tr>\n    <tr>\n      <th>318</th>\n      <td>1319</td>\n      <td>HTC HS-S200</td>\n      <td>Telefony i akcesoria;Akcesoria telefoniczne;Ze...</td>\n      <td>-1.499000e+01</td>\n      <td>Telefony i akcesoria</td>\n      <td>Akcesoria telefoniczne</td>\n    </tr>\n  </tbody>\n</table>\n<p>319 rows × 6 columns</p>\n</div>"
     },
     "execution_count": 10,
     "metadata": {},
     "output_type": "execute_result"
    }
   ],
   "source": [
    "category_path_arr = products['category_path'].str.split(';', 2)\n",
    "category_arr = []\n",
    "subcategory_arr = []\n",
    "for path in category_path_arr:\n",
    "    if type(path) == float:\n",
    "        category_arr.append(path)\n",
    "        subcategory_arr.append(path)\n",
    "    else:\n",
    "        category_arr.append(path[0])\n",
    "        subcategory_arr.append(path[1])\n",
    "\n",
    "products['category'] = category_arr\n",
    "products['subcategory'] = subcategory_arr\n",
    "\n",
    "products"
   ]
  },
  {
   "cell_type": "code",
   "execution_count": 11,
   "metadata": {
    "pycharm": {
     "name": "#%%\n"
    }
   },
   "outputs": [
    {
     "data": {
      "text/plain": "      session_id            timestamp  user_id  product_id   event_type  \\\n0         100001  2020-02-10T02:11:41    102.0      1078.0  BUY_PRODUCT   \n1         100002  2020-03-18T08:22:20    102.0      1318.0  BUY_PRODUCT   \n2         100003  2020-01-21T18:07:56    102.0      1046.0  BUY_PRODUCT   \n3         100005  2020-02-21T15:33:36    102.0      1001.0  BUY_PRODUCT   \n4         100006  2020-03-09T14:46:19    102.0      1201.0  BUY_PRODUCT   \n...          ...                  ...      ...         ...          ...   \n7263      110434  2020-02-28T13:13:00    301.0      1077.0  BUY_PRODUCT   \n7264      110436  2020-02-16T21:22:58    301.0      1037.0  BUY_PRODUCT   \n7265      110437  2020-02-24T11:35:37    301.0      1012.0  BUY_PRODUCT   \n7266      110439  2020-01-31T23:34:46    301.0      1007.0  BUY_PRODUCT   \n7267      110440  2020-02-14T09:16:05    301.0      1291.0  BUY_PRODUCT   \n\n      offered_discount  purchase_id   purchase_timestamp   delivery_timestamp  \\\n0                    0      20001.0  2020-02-10T02:11:41  2020-02-12T13:11:41   \n1                    0      20002.0  2020-03-18T08:22:20                 None   \n2                   10      20003.0  2020-01-21T18:07:56  2020-01-24T05:07:56   \n3                   15      20004.0  2020-02-21T15:33:36  2020-02-24T02:33:36   \n4                    0      20005.0  2020-03-09T14:46:19  2020-03-13T19:46:19   \n...                ...          ...                  ...                  ...   \n7263                 0      27264.0  2020-02-28T13:13:00  2020-03-04T15:13:00   \n7264                10      27265.0  2020-02-16T21:22:58  2020-02-20T10:22:58   \n7265                15      27266.0  2020-02-24T11:35:37  2020-02-29T13:35:37   \n7266                10      27267.0  2020-01-31T23:34:46  2020-02-04T12:34:46   \n7267                 0      27268.0  2020-02-14T09:16:05  2020-02-18T02:16:05   \n\n      delivery_company                   name      city           street  \\\n0                360.0  Oliwier Maślankiewicz     Konin  pl. Kwiatowa 03   \n1                360.0  Oliwier Maślankiewicz     Konin  pl. Kwiatowa 03   \n2                360.0  Oliwier Maślankiewicz     Konin  pl. Kwiatowa 03   \n3                  NaN  Oliwier Maślankiewicz     Konin  pl. Kwiatowa 03   \n4                620.0  Oliwier Maślankiewicz     Konin  pl. Kwiatowa 03   \n...                ...                    ...       ...              ...   \n7263             620.0        Ada Laszkiewicz  Szczecin  ul. Sportowa 70   \n7264             360.0        Ada Laszkiewicz  Szczecin  ul. Sportowa 70   \n7265             620.0        Ada Laszkiewicz  Szczecin  ul. Sportowa 70   \n7266             360.0        Ada Laszkiewicz  Szczecin  ul. Sportowa 70   \n7267             516.0        Ada Laszkiewicz  Szczecin  ul. Sportowa 70   \n\n                             product_name  \\\n0                      Kyocera FS-3540MFP   \n1                   Plantronics Savi W710   \n2     LEGO Batman 2 DC Super Heroes (PS3)   \n3           Telefon Siemens Gigaset DA310   \n4                         Jabra Speak 410   \n...                                   ...   \n7263                  Kyocera FS-C2026MFP   \n7264                      LCD Asus VK248H   \n7265         Fallout New Vegas (Xbox 360)   \n7266              Dead Space 3 (Xbox 360)   \n7267                      Philips SDV6224   \n\n                                          category_path         price  \\\n0     Komputery;Drukarki i skanery;Biurowe urządzeni...  5.126000e+03   \n1                            Sprzęt RTV;Audio;Słuchawki  5.530000e+02   \n2         Gry i konsole;Gry na konsole;Gry PlayStation3  6.118000e+01   \n3             Telefony i akcesoria;Telefony stacjonarne  5.897000e+01   \n4     Telefony i akcesoria;Akcesoria telefoniczne;Ze...  3.274700e+02   \n...                                                 ...           ...   \n7263  Komputery;Drukarki i skanery;Biurowe urządzeni...  3.777000e+03   \n7264                    Komputery;Monitory;Monitory LCD  7.990000e+08   \n7265          Gry i konsole;Gry na konsole;Gry Xbox 360  6.900000e+01   \n7266          Gry i konsole;Gry na konsole;Gry Xbox 360  8.999000e+01   \n7267  Sprzęt RTV;Video;Telewizory i akcesoria;Anteny... -1.687900e+02   \n\n                  category             subcategory  \n0                Komputery      Drukarki i skanery  \n1               Sprzęt RTV                   Audio  \n2            Gry i konsole          Gry na konsole  \n3     Telefony i akcesoria    Telefony stacjonarne  \n4     Telefony i akcesoria  Akcesoria telefoniczne  \n...                    ...                     ...  \n7263             Komputery      Drukarki i skanery  \n7264             Komputery                Monitory  \n7265         Gry i konsole          Gry na konsole  \n7266         Gry i konsole          Gry na konsole  \n7267            Sprzęt RTV                   Video  \n\n[7268 rows x 18 columns]",
      "text/html": "<div>\n<style scoped>\n    .dataframe tbody tr th:only-of-type {\n        vertical-align: middle;\n    }\n\n    .dataframe tbody tr th {\n        vertical-align: top;\n    }\n\n    .dataframe thead th {\n        text-align: right;\n    }\n</style>\n<table border=\"1\" class=\"dataframe\">\n  <thead>\n    <tr style=\"text-align: right;\">\n      <th></th>\n      <th>session_id</th>\n      <th>timestamp</th>\n      <th>user_id</th>\n      <th>product_id</th>\n      <th>event_type</th>\n      <th>offered_discount</th>\n      <th>purchase_id</th>\n      <th>purchase_timestamp</th>\n      <th>delivery_timestamp</th>\n      <th>delivery_company</th>\n      <th>name</th>\n      <th>city</th>\n      <th>street</th>\n      <th>product_name</th>\n      <th>category_path</th>\n      <th>price</th>\n      <th>category</th>\n      <th>subcategory</th>\n    </tr>\n  </thead>\n  <tbody>\n    <tr>\n      <th>0</th>\n      <td>100001</td>\n      <td>2020-02-10T02:11:41</td>\n      <td>102.0</td>\n      <td>1078.0</td>\n      <td>BUY_PRODUCT</td>\n      <td>0</td>\n      <td>20001.0</td>\n      <td>2020-02-10T02:11:41</td>\n      <td>2020-02-12T13:11:41</td>\n      <td>360.0</td>\n      <td>Oliwier Maślankiewicz</td>\n      <td>Konin</td>\n      <td>pl. Kwiatowa 03</td>\n      <td>Kyocera FS-3540MFP</td>\n      <td>Komputery;Drukarki i skanery;Biurowe urządzeni...</td>\n      <td>5.126000e+03</td>\n      <td>Komputery</td>\n      <td>Drukarki i skanery</td>\n    </tr>\n    <tr>\n      <th>1</th>\n      <td>100002</td>\n      <td>2020-03-18T08:22:20</td>\n      <td>102.0</td>\n      <td>1318.0</td>\n      <td>BUY_PRODUCT</td>\n      <td>0</td>\n      <td>20002.0</td>\n      <td>2020-03-18T08:22:20</td>\n      <td>None</td>\n      <td>360.0</td>\n      <td>Oliwier Maślankiewicz</td>\n      <td>Konin</td>\n      <td>pl. Kwiatowa 03</td>\n      <td>Plantronics Savi W710</td>\n      <td>Sprzęt RTV;Audio;Słuchawki</td>\n      <td>5.530000e+02</td>\n      <td>Sprzęt RTV</td>\n      <td>Audio</td>\n    </tr>\n    <tr>\n      <th>2</th>\n      <td>100003</td>\n      <td>2020-01-21T18:07:56</td>\n      <td>102.0</td>\n      <td>1046.0</td>\n      <td>BUY_PRODUCT</td>\n      <td>10</td>\n      <td>20003.0</td>\n      <td>2020-01-21T18:07:56</td>\n      <td>2020-01-24T05:07:56</td>\n      <td>360.0</td>\n      <td>Oliwier Maślankiewicz</td>\n      <td>Konin</td>\n      <td>pl. Kwiatowa 03</td>\n      <td>LEGO Batman 2 DC Super Heroes (PS3)</td>\n      <td>Gry i konsole;Gry na konsole;Gry PlayStation3</td>\n      <td>6.118000e+01</td>\n      <td>Gry i konsole</td>\n      <td>Gry na konsole</td>\n    </tr>\n    <tr>\n      <th>3</th>\n      <td>100005</td>\n      <td>2020-02-21T15:33:36</td>\n      <td>102.0</td>\n      <td>1001.0</td>\n      <td>BUY_PRODUCT</td>\n      <td>15</td>\n      <td>20004.0</td>\n      <td>2020-02-21T15:33:36</td>\n      <td>2020-02-24T02:33:36</td>\n      <td>NaN</td>\n      <td>Oliwier Maślankiewicz</td>\n      <td>Konin</td>\n      <td>pl. Kwiatowa 03</td>\n      <td>Telefon Siemens Gigaset DA310</td>\n      <td>Telefony i akcesoria;Telefony stacjonarne</td>\n      <td>5.897000e+01</td>\n      <td>Telefony i akcesoria</td>\n      <td>Telefony stacjonarne</td>\n    </tr>\n    <tr>\n      <th>4</th>\n      <td>100006</td>\n      <td>2020-03-09T14:46:19</td>\n      <td>102.0</td>\n      <td>1201.0</td>\n      <td>BUY_PRODUCT</td>\n      <td>0</td>\n      <td>20005.0</td>\n      <td>2020-03-09T14:46:19</td>\n      <td>2020-03-13T19:46:19</td>\n      <td>620.0</td>\n      <td>Oliwier Maślankiewicz</td>\n      <td>Konin</td>\n      <td>pl. Kwiatowa 03</td>\n      <td>Jabra Speak 410</td>\n      <td>Telefony i akcesoria;Akcesoria telefoniczne;Ze...</td>\n      <td>3.274700e+02</td>\n      <td>Telefony i akcesoria</td>\n      <td>Akcesoria telefoniczne</td>\n    </tr>\n    <tr>\n      <th>...</th>\n      <td>...</td>\n      <td>...</td>\n      <td>...</td>\n      <td>...</td>\n      <td>...</td>\n      <td>...</td>\n      <td>...</td>\n      <td>...</td>\n      <td>...</td>\n      <td>...</td>\n      <td>...</td>\n      <td>...</td>\n      <td>...</td>\n      <td>...</td>\n      <td>...</td>\n      <td>...</td>\n      <td>...</td>\n      <td>...</td>\n    </tr>\n    <tr>\n      <th>7263</th>\n      <td>110434</td>\n      <td>2020-02-28T13:13:00</td>\n      <td>301.0</td>\n      <td>1077.0</td>\n      <td>BUY_PRODUCT</td>\n      <td>0</td>\n      <td>27264.0</td>\n      <td>2020-02-28T13:13:00</td>\n      <td>2020-03-04T15:13:00</td>\n      <td>620.0</td>\n      <td>Ada Laszkiewicz</td>\n      <td>Szczecin</td>\n      <td>ul. Sportowa 70</td>\n      <td>Kyocera FS-C2026MFP</td>\n      <td>Komputery;Drukarki i skanery;Biurowe urządzeni...</td>\n      <td>3.777000e+03</td>\n      <td>Komputery</td>\n      <td>Drukarki i skanery</td>\n    </tr>\n    <tr>\n      <th>7264</th>\n      <td>110436</td>\n      <td>2020-02-16T21:22:58</td>\n      <td>301.0</td>\n      <td>1037.0</td>\n      <td>BUY_PRODUCT</td>\n      <td>10</td>\n      <td>27265.0</td>\n      <td>2020-02-16T21:22:58</td>\n      <td>2020-02-20T10:22:58</td>\n      <td>360.0</td>\n      <td>Ada Laszkiewicz</td>\n      <td>Szczecin</td>\n      <td>ul. Sportowa 70</td>\n      <td>LCD Asus VK248H</td>\n      <td>Komputery;Monitory;Monitory LCD</td>\n      <td>7.990000e+08</td>\n      <td>Komputery</td>\n      <td>Monitory</td>\n    </tr>\n    <tr>\n      <th>7265</th>\n      <td>110437</td>\n      <td>2020-02-24T11:35:37</td>\n      <td>301.0</td>\n      <td>1012.0</td>\n      <td>BUY_PRODUCT</td>\n      <td>15</td>\n      <td>27266.0</td>\n      <td>2020-02-24T11:35:37</td>\n      <td>2020-02-29T13:35:37</td>\n      <td>620.0</td>\n      <td>Ada Laszkiewicz</td>\n      <td>Szczecin</td>\n      <td>ul. Sportowa 70</td>\n      <td>Fallout New Vegas (Xbox 360)</td>\n      <td>Gry i konsole;Gry na konsole;Gry Xbox 360</td>\n      <td>6.900000e+01</td>\n      <td>Gry i konsole</td>\n      <td>Gry na konsole</td>\n    </tr>\n    <tr>\n      <th>7266</th>\n      <td>110439</td>\n      <td>2020-01-31T23:34:46</td>\n      <td>301.0</td>\n      <td>1007.0</td>\n      <td>BUY_PRODUCT</td>\n      <td>10</td>\n      <td>27267.0</td>\n      <td>2020-01-31T23:34:46</td>\n      <td>2020-02-04T12:34:46</td>\n      <td>360.0</td>\n      <td>Ada Laszkiewicz</td>\n      <td>Szczecin</td>\n      <td>ul. Sportowa 70</td>\n      <td>Dead Space 3 (Xbox 360)</td>\n      <td>Gry i konsole;Gry na konsole;Gry Xbox 360</td>\n      <td>8.999000e+01</td>\n      <td>Gry i konsole</td>\n      <td>Gry na konsole</td>\n    </tr>\n    <tr>\n      <th>7267</th>\n      <td>110440</td>\n      <td>2020-02-14T09:16:05</td>\n      <td>301.0</td>\n      <td>1291.0</td>\n      <td>BUY_PRODUCT</td>\n      <td>0</td>\n      <td>27268.0</td>\n      <td>2020-02-14T09:16:05</td>\n      <td>2020-02-18T02:16:05</td>\n      <td>516.0</td>\n      <td>Ada Laszkiewicz</td>\n      <td>Szczecin</td>\n      <td>ul. Sportowa 70</td>\n      <td>Philips SDV6224</td>\n      <td>Sprzęt RTV;Video;Telewizory i akcesoria;Anteny...</td>\n      <td>-1.687900e+02</td>\n      <td>Sprzęt RTV</td>\n      <td>Video</td>\n    </tr>\n  </tbody>\n</table>\n<p>7268 rows × 18 columns</p>\n</div>"
     },
     "execution_count": 11,
     "metadata": {},
     "output_type": "execute_result"
    }
   ],
   "source": [
    "# inner join sessins and deliveries\n",
    "merged_data = pd.merge(left=sessions, right=deliveries, left_on='purchase_id', right_on='purchase_id')\n",
    "\n",
    "# left join users\n",
    "merged_data = pd.merge(left=merged_data, right=users, how='left', left_on='user_id', right_on='user_id')\n",
    "\n",
    "# left join products\n",
    "merged_data = pd.merge(left=merged_data, right=products, how='left', left_on='product_id', right_on='product_id')\n",
    "\n",
    "merged_data"
   ]
  },
  {
   "cell_type": "markdown",
   "metadata": {
    "pycharm": {
     "name": "#%% md\n"
    }
   },
   "source": [
    "### Odrzućmy część kolumn która zdaje się być zbędne\n",
    "- id sesji - kolumna identyfikacyjna\n",
    "- id zakupu - kolumna identyfikacyjna\n",
    "- id użytkownika - kolumna identyfikacyjna\n",
    "- id produktu - kolumna identyfikacyjna, zbyt rozdrobniona\n",
    "- product name - nazwa produktu jest zbyt rozdrobniona *[zbyt wiele różnych wartości]*, kategoria do 2 poziomu wydaje się być dobrym zastępstwem\n",
    "- typ zdarzenia - rozpatrujemy wyłącznie zakup\n",
    "- oferowana obniżka - nie ma znaczenia na dostawę *(opcjonalnie jako wart binarna)*\n",
    "- imie i nazwisko użytkownika - konkretny użytkownik nie powinien być powiązany z dostawą\n",
    "- timestamp sesji - interesuje nas czas dostawy od czasu *zakupu* do *dostarczenia*\n",
    "- ulica - zbyt rozdrobniona kolumna *[zbyt wiele różnych wartości]*\n"
   ]
  },
  {
   "cell_type": "code",
   "execution_count": 12,
   "metadata": {
    "pycharm": {
     "name": "#%%\n"
    }
   },
   "outputs": [
    {
     "data": {
      "text/plain": "       purchase_timestamp   delivery_timestamp  delivery_company      city  \\\n0     2020-02-10T02:11:41  2020-02-12T13:11:41             360.0     Konin   \n1     2020-03-18T08:22:20                 None             360.0     Konin   \n2     2020-01-21T18:07:56  2020-01-24T05:07:56             360.0     Konin   \n3     2020-02-21T15:33:36  2020-02-24T02:33:36               NaN     Konin   \n4     2020-03-09T14:46:19  2020-03-13T19:46:19             620.0     Konin   \n...                   ...                  ...               ...       ...   \n7263  2020-02-28T13:13:00  2020-03-04T15:13:00             620.0  Szczecin   \n7264  2020-02-16T21:22:58  2020-02-20T10:22:58             360.0  Szczecin   \n7265  2020-02-24T11:35:37  2020-02-29T13:35:37             620.0  Szczecin   \n7266  2020-01-31T23:34:46  2020-02-04T12:34:46             360.0  Szczecin   \n7267  2020-02-14T09:16:05  2020-02-18T02:16:05             516.0  Szczecin   \n\n                                          category_path         price  \\\n0     Komputery;Drukarki i skanery;Biurowe urządzeni...  5.126000e+03   \n1                            Sprzęt RTV;Audio;Słuchawki  5.530000e+02   \n2         Gry i konsole;Gry na konsole;Gry PlayStation3  6.118000e+01   \n3             Telefony i akcesoria;Telefony stacjonarne  5.897000e+01   \n4     Telefony i akcesoria;Akcesoria telefoniczne;Ze...  3.274700e+02   \n...                                                 ...           ...   \n7263  Komputery;Drukarki i skanery;Biurowe urządzeni...  3.777000e+03   \n7264                    Komputery;Monitory;Monitory LCD  7.990000e+08   \n7265          Gry i konsole;Gry na konsole;Gry Xbox 360  6.900000e+01   \n7266          Gry i konsole;Gry na konsole;Gry Xbox 360  8.999000e+01   \n7267  Sprzęt RTV;Video;Telewizory i akcesoria;Anteny... -1.687900e+02   \n\n                  category             subcategory  \n0                Komputery      Drukarki i skanery  \n1               Sprzęt RTV                   Audio  \n2            Gry i konsole          Gry na konsole  \n3     Telefony i akcesoria    Telefony stacjonarne  \n4     Telefony i akcesoria  Akcesoria telefoniczne  \n...                    ...                     ...  \n7263             Komputery      Drukarki i skanery  \n7264             Komputery                Monitory  \n7265         Gry i konsole          Gry na konsole  \n7266         Gry i konsole          Gry na konsole  \n7267            Sprzęt RTV                   Video  \n\n[7268 rows x 8 columns]",
      "text/html": "<div>\n<style scoped>\n    .dataframe tbody tr th:only-of-type {\n        vertical-align: middle;\n    }\n\n    .dataframe tbody tr th {\n        vertical-align: top;\n    }\n\n    .dataframe thead th {\n        text-align: right;\n    }\n</style>\n<table border=\"1\" class=\"dataframe\">\n  <thead>\n    <tr style=\"text-align: right;\">\n      <th></th>\n      <th>purchase_timestamp</th>\n      <th>delivery_timestamp</th>\n      <th>delivery_company</th>\n      <th>city</th>\n      <th>category_path</th>\n      <th>price</th>\n      <th>category</th>\n      <th>subcategory</th>\n    </tr>\n  </thead>\n  <tbody>\n    <tr>\n      <th>0</th>\n      <td>2020-02-10T02:11:41</td>\n      <td>2020-02-12T13:11:41</td>\n      <td>360.0</td>\n      <td>Konin</td>\n      <td>Komputery;Drukarki i skanery;Biurowe urządzeni...</td>\n      <td>5.126000e+03</td>\n      <td>Komputery</td>\n      <td>Drukarki i skanery</td>\n    </tr>\n    <tr>\n      <th>1</th>\n      <td>2020-03-18T08:22:20</td>\n      <td>None</td>\n      <td>360.0</td>\n      <td>Konin</td>\n      <td>Sprzęt RTV;Audio;Słuchawki</td>\n      <td>5.530000e+02</td>\n      <td>Sprzęt RTV</td>\n      <td>Audio</td>\n    </tr>\n    <tr>\n      <th>2</th>\n      <td>2020-01-21T18:07:56</td>\n      <td>2020-01-24T05:07:56</td>\n      <td>360.0</td>\n      <td>Konin</td>\n      <td>Gry i konsole;Gry na konsole;Gry PlayStation3</td>\n      <td>6.118000e+01</td>\n      <td>Gry i konsole</td>\n      <td>Gry na konsole</td>\n    </tr>\n    <tr>\n      <th>3</th>\n      <td>2020-02-21T15:33:36</td>\n      <td>2020-02-24T02:33:36</td>\n      <td>NaN</td>\n      <td>Konin</td>\n      <td>Telefony i akcesoria;Telefony stacjonarne</td>\n      <td>5.897000e+01</td>\n      <td>Telefony i akcesoria</td>\n      <td>Telefony stacjonarne</td>\n    </tr>\n    <tr>\n      <th>4</th>\n      <td>2020-03-09T14:46:19</td>\n      <td>2020-03-13T19:46:19</td>\n      <td>620.0</td>\n      <td>Konin</td>\n      <td>Telefony i akcesoria;Akcesoria telefoniczne;Ze...</td>\n      <td>3.274700e+02</td>\n      <td>Telefony i akcesoria</td>\n      <td>Akcesoria telefoniczne</td>\n    </tr>\n    <tr>\n      <th>...</th>\n      <td>...</td>\n      <td>...</td>\n      <td>...</td>\n      <td>...</td>\n      <td>...</td>\n      <td>...</td>\n      <td>...</td>\n      <td>...</td>\n    </tr>\n    <tr>\n      <th>7263</th>\n      <td>2020-02-28T13:13:00</td>\n      <td>2020-03-04T15:13:00</td>\n      <td>620.0</td>\n      <td>Szczecin</td>\n      <td>Komputery;Drukarki i skanery;Biurowe urządzeni...</td>\n      <td>3.777000e+03</td>\n      <td>Komputery</td>\n      <td>Drukarki i skanery</td>\n    </tr>\n    <tr>\n      <th>7264</th>\n      <td>2020-02-16T21:22:58</td>\n      <td>2020-02-20T10:22:58</td>\n      <td>360.0</td>\n      <td>Szczecin</td>\n      <td>Komputery;Monitory;Monitory LCD</td>\n      <td>7.990000e+08</td>\n      <td>Komputery</td>\n      <td>Monitory</td>\n    </tr>\n    <tr>\n      <th>7265</th>\n      <td>2020-02-24T11:35:37</td>\n      <td>2020-02-29T13:35:37</td>\n      <td>620.0</td>\n      <td>Szczecin</td>\n      <td>Gry i konsole;Gry na konsole;Gry Xbox 360</td>\n      <td>6.900000e+01</td>\n      <td>Gry i konsole</td>\n      <td>Gry na konsole</td>\n    </tr>\n    <tr>\n      <th>7266</th>\n      <td>2020-01-31T23:34:46</td>\n      <td>2020-02-04T12:34:46</td>\n      <td>360.0</td>\n      <td>Szczecin</td>\n      <td>Gry i konsole;Gry na konsole;Gry Xbox 360</td>\n      <td>8.999000e+01</td>\n      <td>Gry i konsole</td>\n      <td>Gry na konsole</td>\n    </tr>\n    <tr>\n      <th>7267</th>\n      <td>2020-02-14T09:16:05</td>\n      <td>2020-02-18T02:16:05</td>\n      <td>516.0</td>\n      <td>Szczecin</td>\n      <td>Sprzęt RTV;Video;Telewizory i akcesoria;Anteny...</td>\n      <td>-1.687900e+02</td>\n      <td>Sprzęt RTV</td>\n      <td>Video</td>\n    </tr>\n  </tbody>\n</table>\n<p>7268 rows × 8 columns</p>\n</div>"
     },
     "execution_count": 12,
     "metadata": {},
     "output_type": "execute_result"
    }
   ],
   "source": [
    "columns = ['session_id', 'purchase_id','user_id', 'product_id', 'event_type',\n",
    "           'offered_discount', 'name', 'timestamp', 'product_name', 'street']\n",
    "for col in columns:\n",
    "    merged_data = merged_data.drop(col, axis=1)\n",
    "\n",
    "merged_data\n"
   ]
  },
  {
   "cell_type": "markdown",
   "metadata": {
    "pycharm": {
     "name": "#%% md\n"
    }
   },
   "source": [
    "### Kolumny wyliczane.\n",
    "Przydatny będzie właściwy czas dostawy, wyrażany np. w godzinach"
   ]
  },
  {
   "cell_type": "code",
   "execution_count": 13,
   "metadata": {
    "pycharm": {
     "name": "#%%\n"
    }
   },
   "outputs": [
    {
     "name": "stdout",
     "output_type": "stream",
     "text": [
      "     delivery_total_time  delivery_total_time_hours\n",
      "0        2 days 11:00:00                       59.0\n",
      "1                    NaT                        NaN\n",
      "2        2 days 11:00:00                       59.0\n",
      "3        2 days 11:00:00                       59.0\n",
      "4        4 days 05:00:00                      101.0\n",
      "...                  ...                        ...\n",
      "7263     5 days 02:00:00                      122.0\n",
      "7264     3 days 13:00:00                       85.0\n",
      "7265     5 days 02:00:00                      122.0\n",
      "7266     3 days 13:00:00                       85.0\n",
      "7267     3 days 17:00:00                       89.0\n",
      "\n",
      "[7268 rows x 2 columns]\n"
     ]
    }
   ],
   "source": [
    "merged_data['delivery_timestamp'] = \\\n",
    "    pd.to_datetime(merged_data.delivery_timestamp)\n",
    "merged_data['purchase_timestamp'] = \\\n",
    "    pd.to_datetime(merged_data.purchase_timestamp)\n",
    "merged_data['delivery_total_time'] = \\\n",
    "    merged_data['delivery_timestamp'] - merged_data['purchase_timestamp']\n",
    "\n",
    "merged_data['delivery_total_time_hours'] = \\\n",
    "    merged_data['delivery_total_time'].dt.total_seconds()/3600\n",
    "\n",
    "print(merged_data[['delivery_total_time','delivery_total_time_hours']])"
   ]
  },
  {
   "cell_type": "markdown",
   "metadata": {},
   "source": [
    "### simple base model experiment\n",
    "- no imputation, no parameter scaling"
   ]
  },
  {
   "cell_type": "code",
   "execution_count": 14,
   "metadata": {
    "pycharm": {
     "name": "#%%\n"
    }
   },
   "outputs": [],
   "source": [
    "from sklearn.tree import DecisionTreeRegressor\n",
    "from sklearn.neighbors import KNeighborsRegressor\n",
    "from sklearn.neighbors import RadiusNeighborsRegressor\n",
    "\n",
    "from sklearn.metrics import max_error, mean_absolute_error, mean_squared_error\n",
    "from sklearn.model_selection import KFold\n",
    "from sklearn.model_selection import train_test_split\n",
    "\n",
    "clean_data = merged_data\n",
    "\n",
    "# information form these columns has been transferred to delivery_total_time and category + subcategory\n",
    "columns = ['purchase_timestamp', 'delivery_timestamp', 'category_path']\n",
    "for col in columns:\n",
    "    clean_data = clean_data.drop(col, axis=1)\n",
    "\n",
    "clean_data =  clean_data.dropna(axis=0, how='any')\n",
    "\n",
    "target = clean_data['delivery_total_time_hours']\n",
    "data = clean_data.drop(['delivery_total_time','delivery_total_time_hours'], axis=1)\n",
    "\n",
    "# code labels\n",
    "le_cat = preprocessing.LabelEncoder()\n",
    "le_cat.fit(np.unique(np.array(data['category'])))\n",
    "data['category'] = le_cat.transform(data['category'])\n",
    "\n",
    "le_subcat = preprocessing.LabelEncoder()\n",
    "le_subcat.fit(np.unique(np.array(data['subcategory'])))\n",
    "data['subcategory'] = le_subcat.transform(data['subcategory'])\n",
    "\n",
    "le_city = preprocessing.LabelEncoder()\n",
    "le_city.fit(np.unique(np.array(data['city'])))\n",
    "data['city'] = le_city.transform(data['city'])"
   ]
  },
  {
   "cell_type": "code",
   "execution_count": 15,
   "metadata": {
    "pycharm": {
     "name": "#%%\n"
    }
   },
   "outputs": [],
   "source": [
    "def train_tree_reg(data, target, k_model, k_fold_ratio=5, rand=3228):\n",
    "    k_fold = KFold(n_splits=k_fold_ratio, random_state=rand, shuffle=True)\n",
    "    data_arr = np.array(data)\n",
    "    target_arr = np.array(target)\n",
    "\n",
    "    max_errors = []\n",
    "    mean_absolute_errors = []\n",
    "    mean_squared_errors = []\n",
    "\n",
    "    for train_index, test_index in k_fold.split(data_arr):\n",
    "        train_X, valid_X = data_arr[train_index], data_arr[test_index]\n",
    "        train_y, valid_y = target_arr[train_index], target_arr[test_index]\n",
    "\n",
    "        k_model = k_model.fit(train_X, train_y)\n",
    "\n",
    "        k_predict = k_model.predict(valid_X)\n",
    "\n",
    "        # code for calculating metrics\n",
    "        max_errors.append(max_error(valid_y, k_predict))\n",
    "        mean_absolute_errors.append(mean_absolute_error(valid_y, k_predict))\n",
    "        mean_squared_errors.append(mean_squared_error(valid_y, k_predict))\n",
    "\n",
    "    # train resulting model\n",
    "    k_model.fit(data, target)\n",
    "\n",
    "    return k_model, \\\n",
    "           np.max(max_errors), \\\n",
    "           np.average(mean_absolute_errors), \\\n",
    "           np.average(mean_squared_errors)\n",
    "\n",
    "# test data\n",
    "x_train, x_test, y_train, y_test = \\\n",
    "    train_test_split(data, target, test_size=0.2, random_state=0)"
   ]
  },
  {
   "cell_type": "code",
   "execution_count": 16,
   "metadata": {
    "pycharm": {
     "name": "#%%\n"
    }
   },
   "outputs": [
    {
     "name": "stdout",
     "output_type": "stream",
     "text": [
      "DecisionTreeRegressor\n",
      "> depth =  1  | k-fold\n",
      "\tmax error =  28.613802718717317 \n",
      "\tavg error =  12.188053895835923 \n",
      "\tavg square error =  237.9438937239716\n",
      "> depth =  1  | test model\n",
      "\tmax error =  28.46969696969696 \n",
      "\tavg error =  12.169989837065206 \n",
      "\tavg square error =  236.01198783941084\n",
      "> depth =  2  | k-fold\n",
      "\tmax error =  24.224768797748297 \n",
      "\tavg error =  9.738650063059783 \n",
      "\tavg square error =  152.86937907402015\n",
      "> depth =  2  | test model\n",
      "\tmax error =  24.057517291590827 \n",
      "\tavg error =  9.955123892434651 \n",
      "\tavg square error =  157.92576914712672\n",
      "> depth =  3  | k-fold\n",
      "\tmax error =  27.47232645403377 \n",
      "\tavg error =  6.520483160200506 \n",
      "\tavg square error =  95.60367287967567\n",
      "> depth =  3  | test model\n",
      "\tmax error =  27.34314550042052 \n",
      "\tavg error =  6.325022287304135 \n",
      "\tavg square error =  88.59199772020592\n",
      "> depth =  4  | k-fold\n",
      "\tmax error =  23.48465829846583 \n",
      "\tavg error =  5.792592600818785 \n",
      "\tavg square error =  71.53713524457373\n",
      "> depth =  4  | test model\n",
      "\tmax error =  23.363579080025204 \n",
      "\tavg error =  5.523643886144861 \n",
      "\tavg square error =  65.04429022404365\n",
      "> depth =  5  | k-fold\n",
      "\tmax error =  17.98982423681776 \n",
      "\tavg error =  3.5009486430280696 \n",
      "\tavg square error =  34.31573552448399\n",
      "> depth =  5  | test model\n",
      "\tmax error =  17.88374052232519 \n",
      "\tavg error =  3.2483627041685037 \n",
      "\tavg square error =  29.856795141619543\n",
      "> depth =  6  | k-fold\n",
      "\tmax error =  8.351039260969984 \n",
      "\tavg error =  1.3708525678909909 \n",
      "\tavg square error =  8.849950866658498\n",
      "> depth =  6  | test model\n",
      "\tmax error =  8.240343347639481 \n",
      "\tavg error =  1.3106745266928495 \n",
      "\tavg square error =  8.226096907706653\n"
     ]
    }
   ],
   "source": [
    "print('DecisionTreeRegressor')\n",
    "\n",
    "for i in range(1,7):\n",
    "    k_model = DecisionTreeRegressor(max_depth=i)\n",
    "\n",
    "    print('> depth = ', i, ' | k-fold')\n",
    "\n",
    "    model, err, avg, avg_sqr = train_tree_reg(x_train, y_train, k_model, 10)\n",
    "\n",
    "    print('\\tmax error = ', err,\n",
    "          '\\n\\tavg error = ', avg,\n",
    "          '\\n\\tavg square error = ', avg_sqr)\n",
    "    print('> depth = ', i, ' | test model')\n",
    "\n",
    "    test_predictions = model.predict(x_test)\n",
    "\n",
    "    print('\\tmax error = ', max_error(y_test, test_predictions),\n",
    "          '\\n\\tavg error = ', mean_absolute_error(y_test, test_predictions),\n",
    "          '\\n\\tavg square error = ', mean_squared_error(y_test, test_predictions))"
   ]
  },
  {
   "cell_type": "code",
   "execution_count": 17,
   "outputs": [
    {
     "name": "stdout",
     "output_type": "stream",
     "text": [
      "KNeighborsRegressor\n",
      "> n_neighbors =  2  | weight :  uniform  | k-fold\n",
      "\tmax error =  51.99999999999999 \n",
      "\tavg error =  3.4303006585339526 \n",
      "\tavg square error =  91.10609346324085\n",
      "> n_neighbors =  2  | weight :  uniform  | test model\n",
      "\tmax error =  51.99999999999999 \n",
      "\tavg error =  3.114406779661017 \n",
      "\tavg square error =  81.86652542372882\n",
      "> n_neighbors =  3  | weight :  uniform  | k-fold\n",
      "\tmax error =  51.99999999999999 \n",
      "\tavg error =  4.4804636426883535 \n",
      "\tavg square error =  107.21503007784854\n",
      "> n_neighbors =  3  | weight :  uniform  | test model\n",
      "\tmax error =  48.0 \n",
      "\tavg error =  4.266384180790961 \n",
      "\tavg square error =  94.87297551789077\n",
      "> n_neighbors =  4  | weight :  uniform  | k-fold\n",
      "\tmax error =  51.99999999999999 \n",
      "\tavg error =  5.310196480621829 \n",
      "\tavg square error =  116.24626049201122\n",
      "> n_neighbors =  4  | weight :  uniform  | test model\n",
      "\tmax error =  47.5 \n",
      "\tavg error =  5.063135593220339 \n",
      "\tavg square error =  107.33633474576271\n",
      "> n_neighbors =  6  | weight :  uniform  | k-fold\n",
      "\tmax error =  46.666666666666664 \n",
      "\tavg error =  6.529532893710941 \n",
      "\tavg square error =  131.0809507084138\n",
      "> n_neighbors =  6  | weight :  uniform  | test model\n",
      "\tmax error =  47.333333333333336 \n",
      "\tavg error =  6.47316384180791 \n",
      "\tavg square error =  130.77236346516005\n",
      "> n_neighbors =  8  | weight :  uniform  | k-fold\n",
      "\tmax error =  45.5 \n",
      "\tavg error =  7.489761405142323 \n",
      "\tavg square error =  146.0096832590571\n",
      "> n_neighbors =  8  | weight :  uniform  | test model\n",
      "\tmax error =  43.0 \n",
      "\tavg error =  7.466843220338983 \n",
      "\tavg square error =  145.74251853813558\n",
      "> n_neighbors =  12  | weight :  uniform  | k-fold\n",
      "\tmax error =  42.166666666666664 \n",
      "\tavg error =  9.16307078190411 \n",
      "\tavg square error =  176.44990799654437\n",
      "> n_neighbors =  12  | weight :  uniform  | test model\n",
      "\tmax error =  40.666666666666664 \n",
      "\tavg error =  8.803742937853107 \n",
      "\tavg square error =  167.2107756591337\n",
      "> n_neighbors =  2  | weight :  distance  | k-fold\n",
      "\tmax error =  51.99999999999999 \n",
      "\tavg error =  2.0654466981016886 \n",
      "\tavg square error =  68.91274121678313\n",
      "> n_neighbors =  2  | weight :  distance  | test model\n",
      "\tmax error =  51.99999999999999 \n",
      "\tavg error =  1.670553593241796 \n",
      "\tavg square error =  55.65703613698767\n",
      "> n_neighbors =  3  | weight :  distance  | k-fold\n",
      "\tmax error =  51.99999999999999 \n",
      "\tavg error =  1.9874726746847498 \n",
      "\tavg square error =  63.66014378347929\n",
      "> n_neighbors =  3  | weight :  distance  | test model\n",
      "\tmax error =  48.0 \n",
      "\tavg error =  1.5926523568778197 \n",
      "\tavg square error =  48.40253158522661\n",
      "> n_neighbors =  4  | weight :  distance  | k-fold\n",
      "\tmax error =  51.99999999999999 \n",
      "\tavg error =  1.9221572141556336 \n",
      "\tavg square error =  58.493429112692\n",
      "> n_neighbors =  4  | weight :  distance  | test model\n",
      "\tmax error =  47.5 \n",
      "\tavg error =  1.5481261216956177 \n",
      "\tavg square error =  44.77264709935529\n",
      "> n_neighbors =  6  | weight :  distance  | k-fold\n",
      "\tmax error =  48.10344827586207 \n",
      "\tavg error =  1.8103919923682912 \n",
      "\tavg square error =  51.19298847339152\n",
      "> n_neighbors =  6  | weight :  distance  | test model\n",
      "\tmax error =  47.333333333333336 \n",
      "\tavg error =  1.4538740015613876 \n",
      "\tavg square error =  39.13110834130191\n",
      "> n_neighbors =  8  | weight :  distance  | k-fold\n",
      "\tmax error =  46.96874999999999 \n",
      "\tavg error =  1.7528360063795714 \n",
      "\tavg square error =  47.91987598334059\n",
      "> n_neighbors =  8  | weight :  distance  | test model\n",
      "\tmax error =  45.57692307692307 \n",
      "\tavg error =  1.4114887555440518 \n",
      "\tavg square error =  36.55656584658148\n",
      "> n_neighbors =  12  | weight :  distance  | k-fold\n",
      "\tmax error =  44.86336810738157 \n",
      "\tavg error =  1.687218311035576 \n",
      "\tavg square error =  44.29657303464021\n",
      "> n_neighbors =  12  | weight :  distance  | test model\n",
      "\tmax error =  44.60285132382892 \n",
      "\tavg error =  1.342508302133622 \n",
      "\tavg square error =  33.16017693854619\n"
     ]
    }
   ],
   "source": [
    "print('KNeighborsRegressor')\n",
    "\n",
    "for weight in ['uniform', 'distance']:\n",
    "    for i in [2, 3, 4, 6, 8, 12]:\n",
    "        k_model = KNeighborsRegressor(n_neighbors=i, weights=weight)\n",
    "\n",
    "        print('> n_neighbors = ', i, ' | weight : ', weight, ' | k-fold')\n",
    "\n",
    "        model, err, avg, avg_sqr = train_tree_reg(x_train, y_train, k_model, 10)\n",
    "\n",
    "        print('\\tmax error = ', err,\n",
    "              '\\n\\tavg error = ', avg,\n",
    "              '\\n\\tavg square error = ', avg_sqr)\n",
    "        print('> n_neighbors = ', i, ' | weight : ', weight, ' | test model')\n",
    "\n",
    "        test_predictions = model.predict(x_test)\n",
    "\n",
    "        print('\\tmax error = ', max_error(y_test, test_predictions),\n",
    "              '\\n\\tavg error = ', mean_absolute_error(y_test, test_predictions),\n",
    "              '\\n\\tavg square error = ', mean_squared_error(y_test, test_predictions))\n"
   ],
   "metadata": {
    "collapsed": false,
    "pycharm": {
     "name": "#%%\n"
    }
   }
  }
 ],
 "metadata": {
  "kernelspec": {
   "display_name": "Python 3",
   "language": "python",
   "name": "python3"
  },
  "language_info": {
   "codemirror_mode": {
    "name": "ipython",
    "version": 3
   },
   "file_extension": ".py",
   "mimetype": "text/x-python",
   "name": "python",
   "nbconvert_exporter": "python",
   "pygments_lexer": "ipython3",
   "version": "3.6.9"
  }
 },
 "nbformat": 4,
 "nbformat_minor": 1
}