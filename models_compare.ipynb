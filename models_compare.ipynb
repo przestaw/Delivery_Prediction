{
 "cells": [
  {
   "cell_type": "markdown",
   "metadata": {
    "collapsed": true,
    "pycharm": {
     "name": "#%% md\n"
    }
   },
   "source": [
    "# Projekt z Inżynierii Uczenia Maszynowego\n",
    "Semestr letni 2020, WEiTI PW\n",
    "## Autorzy\n",
    "Przemysław Stawczyk\n",
    "\n",
    "Maciej Szulik\n"
   ]
  },
  {
   "cell_type": "markdown",
   "source": [
    "## Porównanie modeli regresorów:\n",
    "- Knn\n",
    "- tree regressor\n",
    "- xgboost regressor"
   ],
   "metadata": {
    "collapsed": false,
    "pycharm": {
     "name": "#%% md\n"
    }
   }
  },
  {
   "cell_type": "code",
   "execution_count": 1,
   "outputs": [],
   "source": [
    "from sklearn.model_selection import train_test_split\n",
    "import data_loader as data\n",
    "import models_training as models"
   ],
   "metadata": {
    "collapsed": false,
    "pycharm": {
     "name": "#%%\n"
    }
   }
  },
  {
   "cell_type": "code",
   "execution_count": 2,
   "outputs": [
    {
     "data": {
      "text/plain": "      delivery_company  city         price  category  subcategory  \\\n0                360.0     1  5.126000e+03         1            2   \n1                360.0     1  6.118000e+01         0            4   \n2                620.0     1  3.274700e+02         3            0   \n3                620.0     1  5.990000e+01         0            4   \n4                620.0     1  5.897000e+01         3            9   \n...                ...   ...           ...       ...          ...   \n6535             620.0     6  3.777000e+03         1            2   \n6536             360.0     6  7.990000e+08         1            5   \n6537             620.0     6  6.900000e+01         0            4   \n6538             360.0     6  8.999000e+01         0            4   \n6539             516.0     6 -1.687900e+02         2           10   \n\n     delivery_total_time  delivery_total_time_hours  \n0        2 days 11:00:00                       59.0  \n1        2 days 11:00:00                       59.0  \n2        4 days 05:00:00                      101.0  \n3        4 days 05:00:00                      101.0  \n4        4 days 05:00:00                      101.0  \n...                  ...                        ...  \n6535     5 days 02:00:00                      122.0  \n6536     3 days 13:00:00                       85.0  \n6537     5 days 02:00:00                      122.0  \n6538     3 days 13:00:00                       85.0  \n6539     3 days 17:00:00                       89.0  \n\n[6195 rows x 7 columns]",
      "text/html": "<div>\n<style scoped>\n    .dataframe tbody tr th:only-of-type {\n        vertical-align: middle;\n    }\n\n    .dataframe tbody tr th {\n        vertical-align: top;\n    }\n\n    .dataframe thead th {\n        text-align: right;\n    }\n</style>\n<table border=\"1\" class=\"dataframe\">\n  <thead>\n    <tr style=\"text-align: right;\">\n      <th></th>\n      <th>delivery_company</th>\n      <th>city</th>\n      <th>price</th>\n      <th>category</th>\n      <th>subcategory</th>\n      <th>delivery_total_time</th>\n      <th>delivery_total_time_hours</th>\n    </tr>\n  </thead>\n  <tbody>\n    <tr>\n      <th>0</th>\n      <td>360.0</td>\n      <td>1</td>\n      <td>5.126000e+03</td>\n      <td>1</td>\n      <td>2</td>\n      <td>2 days 11:00:00</td>\n      <td>59.0</td>\n    </tr>\n    <tr>\n      <th>1</th>\n      <td>360.0</td>\n      <td>1</td>\n      <td>6.118000e+01</td>\n      <td>0</td>\n      <td>4</td>\n      <td>2 days 11:00:00</td>\n      <td>59.0</td>\n    </tr>\n    <tr>\n      <th>2</th>\n      <td>620.0</td>\n      <td>1</td>\n      <td>3.274700e+02</td>\n      <td>3</td>\n      <td>0</td>\n      <td>4 days 05:00:00</td>\n      <td>101.0</td>\n    </tr>\n    <tr>\n      <th>3</th>\n      <td>620.0</td>\n      <td>1</td>\n      <td>5.990000e+01</td>\n      <td>0</td>\n      <td>4</td>\n      <td>4 days 05:00:00</td>\n      <td>101.0</td>\n    </tr>\n    <tr>\n      <th>4</th>\n      <td>620.0</td>\n      <td>1</td>\n      <td>5.897000e+01</td>\n      <td>3</td>\n      <td>9</td>\n      <td>4 days 05:00:00</td>\n      <td>101.0</td>\n    </tr>\n    <tr>\n      <th>...</th>\n      <td>...</td>\n      <td>...</td>\n      <td>...</td>\n      <td>...</td>\n      <td>...</td>\n      <td>...</td>\n      <td>...</td>\n    </tr>\n    <tr>\n      <th>6535</th>\n      <td>620.0</td>\n      <td>6</td>\n      <td>3.777000e+03</td>\n      <td>1</td>\n      <td>2</td>\n      <td>5 days 02:00:00</td>\n      <td>122.0</td>\n    </tr>\n    <tr>\n      <th>6536</th>\n      <td>360.0</td>\n      <td>6</td>\n      <td>7.990000e+08</td>\n      <td>1</td>\n      <td>5</td>\n      <td>3 days 13:00:00</td>\n      <td>85.0</td>\n    </tr>\n    <tr>\n      <th>6537</th>\n      <td>620.0</td>\n      <td>6</td>\n      <td>6.900000e+01</td>\n      <td>0</td>\n      <td>4</td>\n      <td>5 days 02:00:00</td>\n      <td>122.0</td>\n    </tr>\n    <tr>\n      <th>6538</th>\n      <td>360.0</td>\n      <td>6</td>\n      <td>8.999000e+01</td>\n      <td>0</td>\n      <td>4</td>\n      <td>3 days 13:00:00</td>\n      <td>85.0</td>\n    </tr>\n    <tr>\n      <th>6539</th>\n      <td>516.0</td>\n      <td>6</td>\n      <td>-1.687900e+02</td>\n      <td>2</td>\n      <td>10</td>\n      <td>3 days 17:00:00</td>\n      <td>89.0</td>\n    </tr>\n  </tbody>\n</table>\n<p>6195 rows × 7 columns</p>\n</div>"
     },
     "execution_count": 2,
     "metadata": {},
     "output_type": "execute_result"
    }
   ],
   "source": [
    "dataset = data.obtain_dataset_table()\n",
    "dataset, le_cat, le_subcat, le_city = data.code_labels(dataset)\n",
    "\n",
    "dataset"
   ],
   "metadata": {
    "collapsed": false,
    "pycharm": {
     "name": "#%%\n"
    }
   }
  },
  {
   "cell_type": "code",
   "execution_count": 3,
   "outputs": [
    {
     "data": {
      "text/plain": "      delivery_company  city         price  category  subcategory\n0                360.0     1  5.126000e+03         1            2\n1                360.0     1  6.118000e+01         0            4\n2                620.0     1  3.274700e+02         3            0\n3                620.0     1  5.990000e+01         0            4\n4                620.0     1  5.897000e+01         3            9\n...                ...   ...           ...       ...          ...\n6535             620.0     6  3.777000e+03         1            2\n6536             360.0     6  7.990000e+08         1            5\n6537             620.0     6  6.900000e+01         0            4\n6538             360.0     6  8.999000e+01         0            4\n6539             516.0     6 -1.687900e+02         2           10\n\n[6195 rows x 5 columns]",
      "text/html": "<div>\n<style scoped>\n    .dataframe tbody tr th:only-of-type {\n        vertical-align: middle;\n    }\n\n    .dataframe tbody tr th {\n        vertical-align: top;\n    }\n\n    .dataframe thead th {\n        text-align: right;\n    }\n</style>\n<table border=\"1\" class=\"dataframe\">\n  <thead>\n    <tr style=\"text-align: right;\">\n      <th></th>\n      <th>delivery_company</th>\n      <th>city</th>\n      <th>price</th>\n      <th>category</th>\n      <th>subcategory</th>\n    </tr>\n  </thead>\n  <tbody>\n    <tr>\n      <th>0</th>\n      <td>360.0</td>\n      <td>1</td>\n      <td>5.126000e+03</td>\n      <td>1</td>\n      <td>2</td>\n    </tr>\n    <tr>\n      <th>1</th>\n      <td>360.0</td>\n      <td>1</td>\n      <td>6.118000e+01</td>\n      <td>0</td>\n      <td>4</td>\n    </tr>\n    <tr>\n      <th>2</th>\n      <td>620.0</td>\n      <td>1</td>\n      <td>3.274700e+02</td>\n      <td>3</td>\n      <td>0</td>\n    </tr>\n    <tr>\n      <th>3</th>\n      <td>620.0</td>\n      <td>1</td>\n      <td>5.990000e+01</td>\n      <td>0</td>\n      <td>4</td>\n    </tr>\n    <tr>\n      <th>4</th>\n      <td>620.0</td>\n      <td>1</td>\n      <td>5.897000e+01</td>\n      <td>3</td>\n      <td>9</td>\n    </tr>\n    <tr>\n      <th>...</th>\n      <td>...</td>\n      <td>...</td>\n      <td>...</td>\n      <td>...</td>\n      <td>...</td>\n    </tr>\n    <tr>\n      <th>6535</th>\n      <td>620.0</td>\n      <td>6</td>\n      <td>3.777000e+03</td>\n      <td>1</td>\n      <td>2</td>\n    </tr>\n    <tr>\n      <th>6536</th>\n      <td>360.0</td>\n      <td>6</td>\n      <td>7.990000e+08</td>\n      <td>1</td>\n      <td>5</td>\n    </tr>\n    <tr>\n      <th>6537</th>\n      <td>620.0</td>\n      <td>6</td>\n      <td>6.900000e+01</td>\n      <td>0</td>\n      <td>4</td>\n    </tr>\n    <tr>\n      <th>6538</th>\n      <td>360.0</td>\n      <td>6</td>\n      <td>8.999000e+01</td>\n      <td>0</td>\n      <td>4</td>\n    </tr>\n    <tr>\n      <th>6539</th>\n      <td>516.0</td>\n      <td>6</td>\n      <td>-1.687900e+02</td>\n      <td>2</td>\n      <td>10</td>\n    </tr>\n  </tbody>\n</table>\n<p>6195 rows × 5 columns</p>\n</div>"
     },
     "execution_count": 3,
     "metadata": {},
     "output_type": "execute_result"
    }
   ],
   "source": [
    "target = dataset['delivery_total_time_hours']\n",
    "data = dataset.drop(['delivery_total_time', 'delivery_total_time_hours'], axis=1)\n",
    "\n",
    "data"
   ],
   "metadata": {
    "collapsed": false,
    "pycharm": {
     "name": "#%%\n"
    }
   }
  },
  {
   "cell_type": "markdown",
   "source": [
    "## Split dataset on training and testing set"
   ],
   "metadata": {
    "collapsed": false,
    "pycharm": {
     "name": "#%% md\n"
    }
   }
  },
  {
   "cell_type": "code",
   "execution_count": 4,
   "outputs": [],
   "source": [
    "x_train, x_test, y_train, y_test = train_test_split(data, target, test_size=0.2, random_state=0)"
   ],
   "metadata": {
    "collapsed": false,
    "pycharm": {
     "name": "#%%\n"
    }
   }
  },
  {
   "cell_type": "markdown",
   "source": [
    "## Train models"
   ],
   "metadata": {
    "collapsed": false
   }
  },
  {
   "cell_type": "code",
   "execution_count": 5,
   "outputs": [
    {
     "data": {
      "text/plain": "{'weights': 'distance', 'n_neighbors': 22, 'algorithm': 'kd_tree'}"
     },
     "execution_count": 5,
     "metadata": {},
     "output_type": "execute_result"
    }
   ],
   "source": [
    "model_knn, params_knn = models.train_model(y_train, x_train, model_type='knn')\n",
    "params_knn"
   ],
   "metadata": {
    "collapsed": false,
    "pycharm": {
     "name": "#%%\n"
    }
   }
  },
  {
   "cell_type": "code",
   "execution_count": 6,
   "outputs": [
    {
     "data": {
      "text/plain": "{'splitter': 'random', 'random_state': 42, 'max_depth': 8, 'criterion': 'mse'}"
     },
     "execution_count": 6,
     "metadata": {},
     "output_type": "execute_result"
    }
   ],
   "source": [
    "model_tree, params_tree = models.train_model(y_train, x_train, model_type='tree')\n",
    "params_tree"
   ],
   "metadata": {
    "collapsed": false,
    "pycharm": {
     "name": "#%%\n"
    }
   }
  },
  {
   "cell_type": "code",
   "execution_count": 7,
   "outputs": [
    {
     "data": {
      "text/plain": "{'silent': 1,\n 'seed': 42,\n 'objective': 'reg:squarederror',\n 'n_estimators': 600,\n 'min_child_weight': 4,\n 'max_depth': 7,\n 'learning_rate': 0.07,\n 'eval_metric': 'rmse'}"
     },
     "execution_count": 7,
     "metadata": {},
     "output_type": "execute_result"
    }
   ],
   "source": [
    "model_xgb, params_xgb = models.train_model(y_train, x_train, model_type='xgb')\n",
    "params_xgb\n"
   ],
   "metadata": {
    "collapsed": false,
    "pycharm": {
     "name": "#%%\n"
    }
   }
  },
  {
   "cell_type": "markdown",
   "source": [
    "## Compare models on test data"
   ],
   "metadata": {
    "collapsed": false
   }
  },
  {
   "cell_type": "code",
   "execution_count": 8,
   "outputs": [
    {
     "data": {
      "text/plain": "      max error  avg error  avg sqr error\nkNN   43.025596   1.205992   2.895634e+01\ntree   0.000000   0.000000   0.000000e+00\nxgb    0.000355   0.000092   1.814237e-08",
      "text/html": "<div>\n<style scoped>\n    .dataframe tbody tr th:only-of-type {\n        vertical-align: middle;\n    }\n\n    .dataframe tbody tr th {\n        vertical-align: top;\n    }\n\n    .dataframe thead th {\n        text-align: right;\n    }\n</style>\n<table border=\"1\" class=\"dataframe\">\n  <thead>\n    <tr style=\"text-align: right;\">\n      <th></th>\n      <th>max error</th>\n      <th>avg error</th>\n      <th>avg sqr error</th>\n    </tr>\n  </thead>\n  <tbody>\n    <tr>\n      <th>kNN</th>\n      <td>43.025596</td>\n      <td>1.205992</td>\n      <td>2.895634e+01</td>\n    </tr>\n    <tr>\n      <th>tree</th>\n      <td>0.000000</td>\n      <td>0.000000</td>\n      <td>0.000000e+00</td>\n    </tr>\n    <tr>\n      <th>xgb</th>\n      <td>0.000355</td>\n      <td>0.000092</td>\n      <td>1.814237e-08</td>\n    </tr>\n  </tbody>\n</table>\n</div>"
     },
     "execution_count": 8,
     "metadata": {},
     "output_type": "execute_result"
    }
   ],
   "source": [
    "predictions, error = models.compare_models([model_knn, model_tree, model_xgb], x_test, y_test)\n",
    "\n",
    "error = error.rename(index={'mdl-1': 'kNN', 'mdl-2': 'tree', 'mdl-3': 'xgb'})\n",
    "predictions = predictions.rename(columns={'mdl-1': 'kNN', 'mdl-2': 'tree', 'mdl-3': 'xgb'})\n",
    "\n",
    "error"
   ],
   "metadata": {
    "collapsed": false,
    "pycharm": {
     "name": "#%%\n"
    }
   }
  },
  {
   "cell_type": "code",
   "execution_count": 9,
   "outputs": [
    {
     "data": {
      "text/plain": "     delivery_company  city    price  category  subcategory  target    kNN  \\\n0               360.0     3  1816.97         1            7     NaN   69.0   \n1               516.0     3  2317.02         1            7    59.0   89.0   \n2               620.0     1    89.90         0            4     NaN  101.0   \n3               360.0     0    99.99         2           10     NaN   63.0   \n4               620.0     4    89.99         0            4   101.0   97.0   \n..                ...   ...      ...       ...          ...     ...    ...   \n195             620.0     2  4598.00         1            2     NaN  104.0   \n196             360.0     2  -249.00         3            0     NaN   58.0   \n197             360.0     3    29.99         0            3     NaN   69.0   \n198             620.0     4    54.99         3            0     NaN   97.0   \n199             516.0     0    99.99         2           10     NaN   79.0   \n\n      tree         xgb  \n0     69.0   68.999954  \n1     89.0   88.999878  \n2    101.0  101.000015  \n3     63.0   62.999989  \n4     97.0   96.999962  \n..     ...         ...  \n195  104.0  103.999908  \n196   58.0   58.000191  \n197   69.0   68.999954  \n198   97.0   96.999962  \n199   79.0   78.999939  \n\n[200 rows x 9 columns]",
      "text/html": "<div>\n<style scoped>\n    .dataframe tbody tr th:only-of-type {\n        vertical-align: middle;\n    }\n\n    .dataframe tbody tr th {\n        vertical-align: top;\n    }\n\n    .dataframe thead th {\n        text-align: right;\n    }\n</style>\n<table border=\"1\" class=\"dataframe\">\n  <thead>\n    <tr style=\"text-align: right;\">\n      <th></th>\n      <th>delivery_company</th>\n      <th>city</th>\n      <th>price</th>\n      <th>category</th>\n      <th>subcategory</th>\n      <th>target</th>\n      <th>kNN</th>\n      <th>tree</th>\n      <th>xgb</th>\n    </tr>\n  </thead>\n  <tbody>\n    <tr>\n      <th>0</th>\n      <td>360.0</td>\n      <td>3</td>\n      <td>1816.97</td>\n      <td>1</td>\n      <td>7</td>\n      <td>NaN</td>\n      <td>69.0</td>\n      <td>69.0</td>\n      <td>68.999954</td>\n    </tr>\n    <tr>\n      <th>1</th>\n      <td>516.0</td>\n      <td>3</td>\n      <td>2317.02</td>\n      <td>1</td>\n      <td>7</td>\n      <td>59.0</td>\n      <td>89.0</td>\n      <td>89.0</td>\n      <td>88.999878</td>\n    </tr>\n    <tr>\n      <th>2</th>\n      <td>620.0</td>\n      <td>1</td>\n      <td>89.90</td>\n      <td>0</td>\n      <td>4</td>\n      <td>NaN</td>\n      <td>101.0</td>\n      <td>101.0</td>\n      <td>101.000015</td>\n    </tr>\n    <tr>\n      <th>3</th>\n      <td>360.0</td>\n      <td>0</td>\n      <td>99.99</td>\n      <td>2</td>\n      <td>10</td>\n      <td>NaN</td>\n      <td>63.0</td>\n      <td>63.0</td>\n      <td>62.999989</td>\n    </tr>\n    <tr>\n      <th>4</th>\n      <td>620.0</td>\n      <td>4</td>\n      <td>89.99</td>\n      <td>0</td>\n      <td>4</td>\n      <td>101.0</td>\n      <td>97.0</td>\n      <td>97.0</td>\n      <td>96.999962</td>\n    </tr>\n    <tr>\n      <th>...</th>\n      <td>...</td>\n      <td>...</td>\n      <td>...</td>\n      <td>...</td>\n      <td>...</td>\n      <td>...</td>\n      <td>...</td>\n      <td>...</td>\n      <td>...</td>\n    </tr>\n    <tr>\n      <th>195</th>\n      <td>620.0</td>\n      <td>2</td>\n      <td>4598.00</td>\n      <td>1</td>\n      <td>2</td>\n      <td>NaN</td>\n      <td>104.0</td>\n      <td>104.0</td>\n      <td>103.999908</td>\n    </tr>\n    <tr>\n      <th>196</th>\n      <td>360.0</td>\n      <td>2</td>\n      <td>-249.00</td>\n      <td>3</td>\n      <td>0</td>\n      <td>NaN</td>\n      <td>58.0</td>\n      <td>58.0</td>\n      <td>58.000191</td>\n    </tr>\n    <tr>\n      <th>197</th>\n      <td>360.0</td>\n      <td>3</td>\n      <td>29.99</td>\n      <td>0</td>\n      <td>3</td>\n      <td>NaN</td>\n      <td>69.0</td>\n      <td>69.0</td>\n      <td>68.999954</td>\n    </tr>\n    <tr>\n      <th>198</th>\n      <td>620.0</td>\n      <td>4</td>\n      <td>54.99</td>\n      <td>3</td>\n      <td>0</td>\n      <td>NaN</td>\n      <td>97.0</td>\n      <td>97.0</td>\n      <td>96.999962</td>\n    </tr>\n    <tr>\n      <th>199</th>\n      <td>516.0</td>\n      <td>0</td>\n      <td>99.99</td>\n      <td>2</td>\n      <td>10</td>\n      <td>NaN</td>\n      <td>79.0</td>\n      <td>79.0</td>\n      <td>78.999939</td>\n    </tr>\n  </tbody>\n</table>\n<p>200 rows × 9 columns</p>\n</div>"
     },
     "execution_count": 9,
     "metadata": {},
     "output_type": "execute_result"
    }
   ],
   "source": [
    "predictions.head\n"
   ],
   "metadata": {
    "collapsed": false,
    "pycharm": {
     "name": "#%%\n"
    }
   }
  }
 ],
 "metadata": {
  "kernelspec": {
   "display_name": "Python 3",
   "language": "python",
   "name": "python3"
  },
  "language_info": {
   "codemirror_mode": {
    "name": "ipython",
    "version": 2
   },
   "file_extension": ".py",
   "mimetype": "text/x-python",
   "name": "python",
   "nbconvert_exporter": "python",
   "pygments_lexer": "ipython2",
   "version": "2.7.6"
  }
 },
 "nbformat": 4,
 "nbformat_minor": 0
}