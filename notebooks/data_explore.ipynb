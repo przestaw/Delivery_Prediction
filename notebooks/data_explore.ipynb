{
 "cells": [
  {
   "cell_type": "markdown",
   "metadata": {},
   "source": [
    "# Projekt z Inżynierii Uczenia Maszynowego\n",
    "Semestr letni 2020, WEiTI PW\n",
    "## Autorzy\n",
    "Przemysław Stawczyk\n",
    "\n",
    "Maciej Szulik"
   ]
  },
  {
   "cell_type": "markdown",
   "metadata": {},
   "source": [
    "## Zadanie\n",
    "\n",
    "### Treść\n",
    "*3. Wygląda na to, że nasze firmy kurierskie czasami nie radzą sobie z dostawami. Lepiej by było, gdybyśmy wiedzieli, ile taka dostawa dla danego zamówienia może potrwać.*\n",
    "\n",
    "### Zestaw danych\n",
    "\n",
    "\n",
    "### Definicja zadania biznesowego\n",
    "Oszacowanie czasu dostawy na podstawie informacji o zamówieniu.\n",
    "\n",
    "Należy upewnić się, co takie przybliżenie da klientowi. Mówi on, że firmy nie radzą sobie z obciążeniem - może więc predykcja czasu dostawy dla każdej z firm pozwalałaby wybrać tę najmniej obciążoną? Trzeba go o to dopytać. Oprocz tego takie przewidywanie może być wykorzystane jako informacja dla klienta, kiedy prawdopodbnie nastąpi doręczenie. \n",
    "\n",
    "#### Biznesowe kryterium sukcesu\n",
    "Dobre przybliżenie prognozowanego czasu dostawy, pozwalające określić dzień dostarczenia przesyłki.\n",
    "\n",
    "### Definicja zadania modelowania\n",
    "Przewidzenie czasu dostawy w godzinach. Jest to zadanie regresji.\n",
    "\n",
    "#### Analityczne kryterium sukcesu\n",
    "Dokładność przewidywanego czasu na poziomie +/- 8 godzin.\n",
    "\n",
    "### Podsumowanie\n",
    "W danych znaleziono braki. Co było szczególnie istotne, w danych `deliveries` brakowało niektórych wartości dotyczących czasu dostarczenia `delivery_timestamp` (uniemożliwia to określenie czasu dostawy) i firmy kurierskiej `delivery_company` (analiza wykazała silną korelację z czasem trwania dostawy). Oprócz tego ważnym brakiem było pole `user_id` w danych `sessions` dla akcji kupienia produktu `BUY_PRODUCT`, które uniemożliwało powiązanie danej dostawy z użytkownikiem, a co za tym idzie z adresem (a analiza wykazała silną korelację miasta  z czasem trwania dostawy). Te dane udało się jednak uzupełnić poprzez inne akcje wykonane przez użytkownika w obrębie danej sesji. \n",
    "Najbardziej relewantnymi atrybutami okazały się być miasto i firma kurierska. Do analizy wykorzystano pakiet sklearn feature selection i preprocessing (zostało zastosowane enkodowanie wartości). Po obróbce i odrzuceniach pozostało 6195 próbek, co jest dla nas akceptowalne."
   ]
  },
  {
   "cell_type": "markdown",
   "metadata": {},
   "source": [
    "## Analiza danych"
   ]
  },
  {
   "cell_type": "code",
   "execution_count": 141,
   "metadata": {
    "pycharm": {
     "name": "#%%\n"
    }
   },
   "outputs": [],
   "source": [
    "import datetime\n",
    "import json # as pandas struggled with json\n",
    "import numpy as np\n",
    "import pandas as pd\n",
    "import matplotlib.pyplot as plt\n",
    "import seaborn as sn\n",
    "import missingno as msno\n",
    "from sklearn import preprocessing\n",
    "%matplotlib inline"
   ]
  },
  {
   "cell_type": "markdown",
   "metadata": {},
   "source": [
    "### Load files:"
   ]
  },
  {
   "cell_type": "code",
   "execution_count": 142,
   "metadata": {
    "pycharm": {
     "name": "#%%\n"
    }
   },
   "outputs": [
    {
     "data": {
      "text/plain": "    user_id               name      city  \\\n0       102      Aurelia Malon    Police   \n1       103      Mateusz Kobel    Police   \n2       104     Radosław Ratka    Mielec   \n3       105   Anastazja Oszust  Szczecin   \n4       106       Sylwia Nurek  Szczecin   \n5       107  Aleksander Mendak    Police   \n6       108      Ewa Szołtysik  Szczecin   \n7       109    Gustaw Janoszek  Warszawa   \n8       110          Ada Wojsa    Police   \n9       111       Ernest Witoń     Radom   \n10      112      Lidia Makurat    Police   \n11      113     Lidia Prystupa     Kutno   \n12      114  Oliwier Machowiak  Warszawa   \n13      115      Nicole Guziak    Police   \n14      116      Antoni Naglik    Mielec   \n15      117    Szymon Danieluk  Szczecin   \n16      118        Rafał Mazek    Mielec   \n17      119  Krzysztof Kurpisz    Mielec   \n18      120       Olaf Szymula  Warszawa   \n19      121         Alan Gołoś    Gdynia   \n20      122         Ewa Deluga  Szczecin   \n21      123    Kajetan Prygiel  Szczecin   \n22      124   Marcel Brzeźniak     Kutno   \n23      125       Borys Doroba  Warszawa   \n24      126   Bruno Żółkiewicz     Kutno   \n25      127  Emil Pawełkiewicz     Konin   \n26      128   Anna Maria Żugaj    Police   \n27      129       Kaja Małocha    Gdynia   \n28      130    Maciej Fronczek     Konin   \n29      131     Cezary Armatys  Szczecin   \n\n                                   street  \n0                 pl. Brzoskwiniowa 11/53  \n1                       al. Wrocławska 10  \n2                          pl. Nowa 89/04  \n3                    ul. Częstochowska 80  \n4                         al. Wiosenna 72  \n5   ulica Powstańców Wielkopolskich 70/64  \n6                        plac Srebrna 965  \n7                         plac Morska 278  \n8                 aleja Jana Pawła II 764  \n9                           ul. Sarnia 25  \n10                       ulica Matejki 81  \n11                     aleja Urocza 63/16  \n12                     plac Wiatraczna 62  \n13                   ulica Lotnicza 75/22  \n14                      pl. Chopina 01/23  \n15                       pl. Łanowa 48/46  \n16                   pl. Wyszyńskiego 948  \n17                  al. Mickiewicza 73/72  \n18                       plac Browarna 72  \n19                      aleja Rejtana 707  \n20                        ul. Górna 95/54  \n21               ul. Kochanowskiego 41/89  \n22                        ulica Mokra 134  \n23                          ul. Witosa 58  \n24                        pl. Rzeczna 935  \n25                    ul. Baczynskiego 72  \n26                      pl. Kossaka 86/52  \n27                   al. Piastowska 60/99  \n28                       plac Kossaka 700  \n29                  ul. Chełmońskiego 059  ",
      "text/html": "<div>\n<style scoped>\n    .dataframe tbody tr th:only-of-type {\n        vertical-align: middle;\n    }\n\n    .dataframe tbody tr th {\n        vertical-align: top;\n    }\n\n    .dataframe thead th {\n        text-align: right;\n    }\n</style>\n<table border=\"1\" class=\"dataframe\">\n  <thead>\n    <tr style=\"text-align: right;\">\n      <th></th>\n      <th>user_id</th>\n      <th>name</th>\n      <th>city</th>\n      <th>street</th>\n    </tr>\n  </thead>\n  <tbody>\n    <tr>\n      <th>0</th>\n      <td>102</td>\n      <td>Aurelia Malon</td>\n      <td>Police</td>\n      <td>pl. Brzoskwiniowa 11/53</td>\n    </tr>\n    <tr>\n      <th>1</th>\n      <td>103</td>\n      <td>Mateusz Kobel</td>\n      <td>Police</td>\n      <td>al. Wrocławska 10</td>\n    </tr>\n    <tr>\n      <th>2</th>\n      <td>104</td>\n      <td>Radosław Ratka</td>\n      <td>Mielec</td>\n      <td>pl. Nowa 89/04</td>\n    </tr>\n    <tr>\n      <th>3</th>\n      <td>105</td>\n      <td>Anastazja Oszust</td>\n      <td>Szczecin</td>\n      <td>ul. Częstochowska 80</td>\n    </tr>\n    <tr>\n      <th>4</th>\n      <td>106</td>\n      <td>Sylwia Nurek</td>\n      <td>Szczecin</td>\n      <td>al. Wiosenna 72</td>\n    </tr>\n    <tr>\n      <th>5</th>\n      <td>107</td>\n      <td>Aleksander Mendak</td>\n      <td>Police</td>\n      <td>ulica Powstańców Wielkopolskich 70/64</td>\n    </tr>\n    <tr>\n      <th>6</th>\n      <td>108</td>\n      <td>Ewa Szołtysik</td>\n      <td>Szczecin</td>\n      <td>plac Srebrna 965</td>\n    </tr>\n    <tr>\n      <th>7</th>\n      <td>109</td>\n      <td>Gustaw Janoszek</td>\n      <td>Warszawa</td>\n      <td>plac Morska 278</td>\n    </tr>\n    <tr>\n      <th>8</th>\n      <td>110</td>\n      <td>Ada Wojsa</td>\n      <td>Police</td>\n      <td>aleja Jana Pawła II 764</td>\n    </tr>\n    <tr>\n      <th>9</th>\n      <td>111</td>\n      <td>Ernest Witoń</td>\n      <td>Radom</td>\n      <td>ul. Sarnia 25</td>\n    </tr>\n    <tr>\n      <th>10</th>\n      <td>112</td>\n      <td>Lidia Makurat</td>\n      <td>Police</td>\n      <td>ulica Matejki 81</td>\n    </tr>\n    <tr>\n      <th>11</th>\n      <td>113</td>\n      <td>Lidia Prystupa</td>\n      <td>Kutno</td>\n      <td>aleja Urocza 63/16</td>\n    </tr>\n    <tr>\n      <th>12</th>\n      <td>114</td>\n      <td>Oliwier Machowiak</td>\n      <td>Warszawa</td>\n      <td>plac Wiatraczna 62</td>\n    </tr>\n    <tr>\n      <th>13</th>\n      <td>115</td>\n      <td>Nicole Guziak</td>\n      <td>Police</td>\n      <td>ulica Lotnicza 75/22</td>\n    </tr>\n    <tr>\n      <th>14</th>\n      <td>116</td>\n      <td>Antoni Naglik</td>\n      <td>Mielec</td>\n      <td>pl. Chopina 01/23</td>\n    </tr>\n    <tr>\n      <th>15</th>\n      <td>117</td>\n      <td>Szymon Danieluk</td>\n      <td>Szczecin</td>\n      <td>pl. Łanowa 48/46</td>\n    </tr>\n    <tr>\n      <th>16</th>\n      <td>118</td>\n      <td>Rafał Mazek</td>\n      <td>Mielec</td>\n      <td>pl. Wyszyńskiego 948</td>\n    </tr>\n    <tr>\n      <th>17</th>\n      <td>119</td>\n      <td>Krzysztof Kurpisz</td>\n      <td>Mielec</td>\n      <td>al. Mickiewicza 73/72</td>\n    </tr>\n    <tr>\n      <th>18</th>\n      <td>120</td>\n      <td>Olaf Szymula</td>\n      <td>Warszawa</td>\n      <td>plac Browarna 72</td>\n    </tr>\n    <tr>\n      <th>19</th>\n      <td>121</td>\n      <td>Alan Gołoś</td>\n      <td>Gdynia</td>\n      <td>aleja Rejtana 707</td>\n    </tr>\n    <tr>\n      <th>20</th>\n      <td>122</td>\n      <td>Ewa Deluga</td>\n      <td>Szczecin</td>\n      <td>ul. Górna 95/54</td>\n    </tr>\n    <tr>\n      <th>21</th>\n      <td>123</td>\n      <td>Kajetan Prygiel</td>\n      <td>Szczecin</td>\n      <td>ul. Kochanowskiego 41/89</td>\n    </tr>\n    <tr>\n      <th>22</th>\n      <td>124</td>\n      <td>Marcel Brzeźniak</td>\n      <td>Kutno</td>\n      <td>ulica Mokra 134</td>\n    </tr>\n    <tr>\n      <th>23</th>\n      <td>125</td>\n      <td>Borys Doroba</td>\n      <td>Warszawa</td>\n      <td>ul. Witosa 58</td>\n    </tr>\n    <tr>\n      <th>24</th>\n      <td>126</td>\n      <td>Bruno Żółkiewicz</td>\n      <td>Kutno</td>\n      <td>pl. Rzeczna 935</td>\n    </tr>\n    <tr>\n      <th>25</th>\n      <td>127</td>\n      <td>Emil Pawełkiewicz</td>\n      <td>Konin</td>\n      <td>ul. Baczynskiego 72</td>\n    </tr>\n    <tr>\n      <th>26</th>\n      <td>128</td>\n      <td>Anna Maria Żugaj</td>\n      <td>Police</td>\n      <td>pl. Kossaka 86/52</td>\n    </tr>\n    <tr>\n      <th>27</th>\n      <td>129</td>\n      <td>Kaja Małocha</td>\n      <td>Gdynia</td>\n      <td>al. Piastowska 60/99</td>\n    </tr>\n    <tr>\n      <th>28</th>\n      <td>130</td>\n      <td>Maciej Fronczek</td>\n      <td>Konin</td>\n      <td>plac Kossaka 700</td>\n    </tr>\n    <tr>\n      <th>29</th>\n      <td>131</td>\n      <td>Cezary Armatys</td>\n      <td>Szczecin</td>\n      <td>ul. Chełmońskiego 059</td>\n    </tr>\n  </tbody>\n</table>\n</div>"
     },
     "execution_count": 142,
     "metadata": {},
     "output_type": "execute_result"
    }
   ],
   "source": [
    "def load_file(filename):\n",
    "    with open(filename, encoding=\"utf8\") as f:\n",
    "        data = f.readlines()\n",
    "        data = [json.loads(line) for line in data] #convert string to dict format\n",
    "        df = pd.json_normalize(data)\n",
    "    return df\n",
    "\n",
    "users = load_file(r'../data/users.jsonl')# pd.read_json(r\"data/users.jsonl\", typ='series', lines=True, dtype='dict')\n",
    "users.head(30)"
   ]
  },
  {
   "cell_type": "code",
   "execution_count": 143,
   "metadata": {
    "pycharm": {
     "name": "#%%\n"
    }
   },
   "outputs": [
    {
     "data": {
      "text/plain": "    purchase_id   purchase_timestamp   delivery_timestamp  delivery_company\n0         20001  2020-04-13T14:36:52  2020-04-18T04:36:52             360.0\n1         20002  2020-04-29T22:04:40  2020-05-04T12:04:40             360.0\n2         20003  2020-05-16T10:42:48  2020-05-20T06:42:48             620.0\n3         20004  2020-03-22T23:30:24  2020-03-25T16:30:24             516.0\n4         20005  2020-02-19T18:26:41  2020-02-24T08:26:41               NaN\n5         20006  2020-02-14T04:39:56  2020-02-18T18:39:56             360.0\n6         20007  2020-04-02T07:06:16  2020-04-05T00:06:16             516.0\n7         20008  2020-01-16T02:23:21  2020-01-19T22:23:21             620.0\n8         20009  2020-03-21T12:13:21  2020-03-25T08:13:21             620.0\n9         20010  2020-03-04T05:21:40  2020-03-08T19:21:40               NaN\n10        20011  2020-05-10T00:25:25  2020-05-12T17:25:25             516.0\n11        20012  2020-01-16T08:20:35  2020-01-20T22:20:35             360.0\n12        20013  2020-02-17T16:27:22  2020-02-20T09:27:22             516.0\n13        20014  2020-05-09T14:39:50  2020-05-14T04:39:50             360.0\n14        20015  2020-03-06T12:01:05  2020-03-10T08:01:05             620.0\n15        20016  2020-04-12T03:48:52  2020-04-15T23:48:52             620.0\n16        20017  2020-04-01T11:02:46  2020-04-04T04:02:46             516.0\n17        20018  2020-02-07T16:08:31  2020-02-11T12:08:31             620.0\n18        20019  2020-04-22T23:47:27  2020-04-26T19:47:27             620.0\n19        20020  2020-05-14T18:25:20  2020-05-18T14:25:20             620.0\n20        20021  2020-05-11T14:03:44  2020-05-16T04:03:44               NaN\n21        20022  2020-04-07T18:54:18  2020-04-12T08:54:18             360.0\n22        20023  2020-04-24T04:20:14  2020-04-26T21:20:14             516.0\n23        20024  2020-02-18T07:52:17  2020-02-21T00:52:17             516.0\n24        20025  2020-01-30T07:20:38  2020-02-03T03:20:38               NaN\n25        20026  2020-01-13T16:38:23  2020-01-17T12:38:23             620.0\n26        20027  2020-03-31T15:52:47  2020-04-04T11:52:47             620.0\n27        20028  2020-01-08T18:55:59  2020-01-13T08:55:59             360.0\n28        20029  2020-01-03T00:04:24  2020-01-06T20:04:24             620.0\n29        20030  2020-03-28T15:23:04  2020-04-02T05:23:04             360.0",
      "text/html": "<div>\n<style scoped>\n    .dataframe tbody tr th:only-of-type {\n        vertical-align: middle;\n    }\n\n    .dataframe tbody tr th {\n        vertical-align: top;\n    }\n\n    .dataframe thead th {\n        text-align: right;\n    }\n</style>\n<table border=\"1\" class=\"dataframe\">\n  <thead>\n    <tr style=\"text-align: right;\">\n      <th></th>\n      <th>purchase_id</th>\n      <th>purchase_timestamp</th>\n      <th>delivery_timestamp</th>\n      <th>delivery_company</th>\n    </tr>\n  </thead>\n  <tbody>\n    <tr>\n      <th>0</th>\n      <td>20001</td>\n      <td>2020-04-13T14:36:52</td>\n      <td>2020-04-18T04:36:52</td>\n      <td>360.0</td>\n    </tr>\n    <tr>\n      <th>1</th>\n      <td>20002</td>\n      <td>2020-04-29T22:04:40</td>\n      <td>2020-05-04T12:04:40</td>\n      <td>360.0</td>\n    </tr>\n    <tr>\n      <th>2</th>\n      <td>20003</td>\n      <td>2020-05-16T10:42:48</td>\n      <td>2020-05-20T06:42:48</td>\n      <td>620.0</td>\n    </tr>\n    <tr>\n      <th>3</th>\n      <td>20004</td>\n      <td>2020-03-22T23:30:24</td>\n      <td>2020-03-25T16:30:24</td>\n      <td>516.0</td>\n    </tr>\n    <tr>\n      <th>4</th>\n      <td>20005</td>\n      <td>2020-02-19T18:26:41</td>\n      <td>2020-02-24T08:26:41</td>\n      <td>NaN</td>\n    </tr>\n    <tr>\n      <th>5</th>\n      <td>20006</td>\n      <td>2020-02-14T04:39:56</td>\n      <td>2020-02-18T18:39:56</td>\n      <td>360.0</td>\n    </tr>\n    <tr>\n      <th>6</th>\n      <td>20007</td>\n      <td>2020-04-02T07:06:16</td>\n      <td>2020-04-05T00:06:16</td>\n      <td>516.0</td>\n    </tr>\n    <tr>\n      <th>7</th>\n      <td>20008</td>\n      <td>2020-01-16T02:23:21</td>\n      <td>2020-01-19T22:23:21</td>\n      <td>620.0</td>\n    </tr>\n    <tr>\n      <th>8</th>\n      <td>20009</td>\n      <td>2020-03-21T12:13:21</td>\n      <td>2020-03-25T08:13:21</td>\n      <td>620.0</td>\n    </tr>\n    <tr>\n      <th>9</th>\n      <td>20010</td>\n      <td>2020-03-04T05:21:40</td>\n      <td>2020-03-08T19:21:40</td>\n      <td>NaN</td>\n    </tr>\n    <tr>\n      <th>10</th>\n      <td>20011</td>\n      <td>2020-05-10T00:25:25</td>\n      <td>2020-05-12T17:25:25</td>\n      <td>516.0</td>\n    </tr>\n    <tr>\n      <th>11</th>\n      <td>20012</td>\n      <td>2020-01-16T08:20:35</td>\n      <td>2020-01-20T22:20:35</td>\n      <td>360.0</td>\n    </tr>\n    <tr>\n      <th>12</th>\n      <td>20013</td>\n      <td>2020-02-17T16:27:22</td>\n      <td>2020-02-20T09:27:22</td>\n      <td>516.0</td>\n    </tr>\n    <tr>\n      <th>13</th>\n      <td>20014</td>\n      <td>2020-05-09T14:39:50</td>\n      <td>2020-05-14T04:39:50</td>\n      <td>360.0</td>\n    </tr>\n    <tr>\n      <th>14</th>\n      <td>20015</td>\n      <td>2020-03-06T12:01:05</td>\n      <td>2020-03-10T08:01:05</td>\n      <td>620.0</td>\n    </tr>\n    <tr>\n      <th>15</th>\n      <td>20016</td>\n      <td>2020-04-12T03:48:52</td>\n      <td>2020-04-15T23:48:52</td>\n      <td>620.0</td>\n    </tr>\n    <tr>\n      <th>16</th>\n      <td>20017</td>\n      <td>2020-04-01T11:02:46</td>\n      <td>2020-04-04T04:02:46</td>\n      <td>516.0</td>\n    </tr>\n    <tr>\n      <th>17</th>\n      <td>20018</td>\n      <td>2020-02-07T16:08:31</td>\n      <td>2020-02-11T12:08:31</td>\n      <td>620.0</td>\n    </tr>\n    <tr>\n      <th>18</th>\n      <td>20019</td>\n      <td>2020-04-22T23:47:27</td>\n      <td>2020-04-26T19:47:27</td>\n      <td>620.0</td>\n    </tr>\n    <tr>\n      <th>19</th>\n      <td>20020</td>\n      <td>2020-05-14T18:25:20</td>\n      <td>2020-05-18T14:25:20</td>\n      <td>620.0</td>\n    </tr>\n    <tr>\n      <th>20</th>\n      <td>20021</td>\n      <td>2020-05-11T14:03:44</td>\n      <td>2020-05-16T04:03:44</td>\n      <td>NaN</td>\n    </tr>\n    <tr>\n      <th>21</th>\n      <td>20022</td>\n      <td>2020-04-07T18:54:18</td>\n      <td>2020-04-12T08:54:18</td>\n      <td>360.0</td>\n    </tr>\n    <tr>\n      <th>22</th>\n      <td>20023</td>\n      <td>2020-04-24T04:20:14</td>\n      <td>2020-04-26T21:20:14</td>\n      <td>516.0</td>\n    </tr>\n    <tr>\n      <th>23</th>\n      <td>20024</td>\n      <td>2020-02-18T07:52:17</td>\n      <td>2020-02-21T00:52:17</td>\n      <td>516.0</td>\n    </tr>\n    <tr>\n      <th>24</th>\n      <td>20025</td>\n      <td>2020-01-30T07:20:38</td>\n      <td>2020-02-03T03:20:38</td>\n      <td>NaN</td>\n    </tr>\n    <tr>\n      <th>25</th>\n      <td>20026</td>\n      <td>2020-01-13T16:38:23</td>\n      <td>2020-01-17T12:38:23</td>\n      <td>620.0</td>\n    </tr>\n    <tr>\n      <th>26</th>\n      <td>20027</td>\n      <td>2020-03-31T15:52:47</td>\n      <td>2020-04-04T11:52:47</td>\n      <td>620.0</td>\n    </tr>\n    <tr>\n      <th>27</th>\n      <td>20028</td>\n      <td>2020-01-08T18:55:59</td>\n      <td>2020-01-13T08:55:59</td>\n      <td>360.0</td>\n    </tr>\n    <tr>\n      <th>28</th>\n      <td>20029</td>\n      <td>2020-01-03T00:04:24</td>\n      <td>2020-01-06T20:04:24</td>\n      <td>620.0</td>\n    </tr>\n    <tr>\n      <th>29</th>\n      <td>20030</td>\n      <td>2020-03-28T15:23:04</td>\n      <td>2020-04-02T05:23:04</td>\n      <td>360.0</td>\n    </tr>\n  </tbody>\n</table>\n</div>"
     },
     "execution_count": 143,
     "metadata": {},
     "output_type": "execute_result"
    }
   ],
   "source": [
    "deliveries = load_file(\"../data/deliveries.jsonl\")\n",
    "deliveries.head(30)"
   ]
  },
  {
   "cell_type": "code",
   "execution_count": 144,
   "metadata": {
    "pycharm": {
     "name": "#%%\n"
    }
   },
   "outputs": [
    {
     "data": {
      "text/plain": "    session_id            timestamp  user_id  product_id    event_type  \\\n0       100001  2020-04-13T14:24:55    102.0      1044.0  VIEW_PRODUCT   \n1       100001  2020-04-13T14:28:34    102.0      1046.0  VIEW_PRODUCT   \n2       100001  2020-04-13T14:33:28    102.0      1043.0  VIEW_PRODUCT   \n3       100001  2020-04-13T14:36:52      NaN      1043.0   BUY_PRODUCT   \n4       100002  2020-04-29T21:48:19    102.0      1055.0  VIEW_PRODUCT   \n5       100002  2020-04-29T21:49:55    102.0      1048.0  VIEW_PRODUCT   \n6       100002  2020-04-29T21:51:53    102.0      1053.0  VIEW_PRODUCT   \n7       100002  2020-04-29T21:52:28    102.0         NaN  VIEW_PRODUCT   \n8       100002  2020-04-29T21:55:54    102.0      1056.0  VIEW_PRODUCT   \n9       100002  2020-04-29T22:00:48    102.0      1054.0  VIEW_PRODUCT   \n10      100002  2020-04-29T22:04:40    102.0      1054.0   BUY_PRODUCT   \n11      100003  2020-05-16T10:41:26    102.0      1001.0  VIEW_PRODUCT   \n12      100003  2020-05-16T10:42:48    102.0      1001.0   BUY_PRODUCT   \n13      100004  2020-03-22T23:23:29    102.0      1011.0  VIEW_PRODUCT   \n14      100004  2020-03-22T23:28:29    102.0      1009.0  VIEW_PRODUCT   \n15      100004  2020-03-22T23:30:24    102.0      1009.0   BUY_PRODUCT   \n16      100005  2020-02-19T18:24:48    102.0      1318.0  VIEW_PRODUCT   \n17      100005  2020-02-19T18:26:41    102.0      1318.0   BUY_PRODUCT   \n18      100006  2020-02-14T04:22:43    102.0      1013.0  VIEW_PRODUCT   \n19      100006  2020-02-14T04:25:34    102.0      1010.0  VIEW_PRODUCT   \n20      100006  2020-02-14T04:29:32    102.0      1009.0  VIEW_PRODUCT   \n21      100006  2020-02-14T04:29:51    102.0      1005.0  VIEW_PRODUCT   \n22      100006  2020-02-14T04:34:43    102.0      1006.0  VIEW_PRODUCT   \n23      100006  2020-02-14T04:37:50    102.0      1008.0  VIEW_PRODUCT   \n24      100006  2020-02-14T04:39:56    102.0      1008.0   BUY_PRODUCT   \n25      100007  2020-04-02T07:01:05    102.0      1234.0  VIEW_PRODUCT   \n26      100007  2020-04-02T07:02:40    102.0      1233.0  VIEW_PRODUCT   \n27      100007  2020-04-02T07:06:16    102.0      1233.0   BUY_PRODUCT   \n28      100008  2020-01-16T02:18:29    102.0      1001.0  VIEW_PRODUCT   \n29      100008  2020-01-16T02:23:21    102.0      1001.0   BUY_PRODUCT   \n\n    offered_discount  purchase_id  \n0                 20          NaN  \n1                 20          NaN  \n2                 20          NaN  \n3                 20      20001.0  \n4                  0          NaN  \n5                  0          NaN  \n6                  0          NaN  \n7                  0          NaN  \n8                  0          NaN  \n9                  0          NaN  \n10                 0      20002.0  \n11                 0          NaN  \n12                 0      20003.0  \n13                15          NaN  \n14                15          NaN  \n15                15      20004.0  \n16                20          NaN  \n17                20      20005.0  \n18                 0          NaN  \n19                 0          NaN  \n20                 0          NaN  \n21                 0          NaN  \n22                 0          NaN  \n23                 0          NaN  \n24                 0      20006.0  \n25                 0          NaN  \n26                 0          NaN  \n27                 0      20007.0  \n28                15          NaN  \n29                15      20008.0  ",
      "text/html": "<div>\n<style scoped>\n    .dataframe tbody tr th:only-of-type {\n        vertical-align: middle;\n    }\n\n    .dataframe tbody tr th {\n        vertical-align: top;\n    }\n\n    .dataframe thead th {\n        text-align: right;\n    }\n</style>\n<table border=\"1\" class=\"dataframe\">\n  <thead>\n    <tr style=\"text-align: right;\">\n      <th></th>\n      <th>session_id</th>\n      <th>timestamp</th>\n      <th>user_id</th>\n      <th>product_id</th>\n      <th>event_type</th>\n      <th>offered_discount</th>\n      <th>purchase_id</th>\n    </tr>\n  </thead>\n  <tbody>\n    <tr>\n      <th>0</th>\n      <td>100001</td>\n      <td>2020-04-13T14:24:55</td>\n      <td>102.0</td>\n      <td>1044.0</td>\n      <td>VIEW_PRODUCT</td>\n      <td>20</td>\n      <td>NaN</td>\n    </tr>\n    <tr>\n      <th>1</th>\n      <td>100001</td>\n      <td>2020-04-13T14:28:34</td>\n      <td>102.0</td>\n      <td>1046.0</td>\n      <td>VIEW_PRODUCT</td>\n      <td>20</td>\n      <td>NaN</td>\n    </tr>\n    <tr>\n      <th>2</th>\n      <td>100001</td>\n      <td>2020-04-13T14:33:28</td>\n      <td>102.0</td>\n      <td>1043.0</td>\n      <td>VIEW_PRODUCT</td>\n      <td>20</td>\n      <td>NaN</td>\n    </tr>\n    <tr>\n      <th>3</th>\n      <td>100001</td>\n      <td>2020-04-13T14:36:52</td>\n      <td>NaN</td>\n      <td>1043.0</td>\n      <td>BUY_PRODUCT</td>\n      <td>20</td>\n      <td>20001.0</td>\n    </tr>\n    <tr>\n      <th>4</th>\n      <td>100002</td>\n      <td>2020-04-29T21:48:19</td>\n      <td>102.0</td>\n      <td>1055.0</td>\n      <td>VIEW_PRODUCT</td>\n      <td>0</td>\n      <td>NaN</td>\n    </tr>\n    <tr>\n      <th>5</th>\n      <td>100002</td>\n      <td>2020-04-29T21:49:55</td>\n      <td>102.0</td>\n      <td>1048.0</td>\n      <td>VIEW_PRODUCT</td>\n      <td>0</td>\n      <td>NaN</td>\n    </tr>\n    <tr>\n      <th>6</th>\n      <td>100002</td>\n      <td>2020-04-29T21:51:53</td>\n      <td>102.0</td>\n      <td>1053.0</td>\n      <td>VIEW_PRODUCT</td>\n      <td>0</td>\n      <td>NaN</td>\n    </tr>\n    <tr>\n      <th>7</th>\n      <td>100002</td>\n      <td>2020-04-29T21:52:28</td>\n      <td>102.0</td>\n      <td>NaN</td>\n      <td>VIEW_PRODUCT</td>\n      <td>0</td>\n      <td>NaN</td>\n    </tr>\n    <tr>\n      <th>8</th>\n      <td>100002</td>\n      <td>2020-04-29T21:55:54</td>\n      <td>102.0</td>\n      <td>1056.0</td>\n      <td>VIEW_PRODUCT</td>\n      <td>0</td>\n      <td>NaN</td>\n    </tr>\n    <tr>\n      <th>9</th>\n      <td>100002</td>\n      <td>2020-04-29T22:00:48</td>\n      <td>102.0</td>\n      <td>1054.0</td>\n      <td>VIEW_PRODUCT</td>\n      <td>0</td>\n      <td>NaN</td>\n    </tr>\n    <tr>\n      <th>10</th>\n      <td>100002</td>\n      <td>2020-04-29T22:04:40</td>\n      <td>102.0</td>\n      <td>1054.0</td>\n      <td>BUY_PRODUCT</td>\n      <td>0</td>\n      <td>20002.0</td>\n    </tr>\n    <tr>\n      <th>11</th>\n      <td>100003</td>\n      <td>2020-05-16T10:41:26</td>\n      <td>102.0</td>\n      <td>1001.0</td>\n      <td>VIEW_PRODUCT</td>\n      <td>0</td>\n      <td>NaN</td>\n    </tr>\n    <tr>\n      <th>12</th>\n      <td>100003</td>\n      <td>2020-05-16T10:42:48</td>\n      <td>102.0</td>\n      <td>1001.0</td>\n      <td>BUY_PRODUCT</td>\n      <td>0</td>\n      <td>20003.0</td>\n    </tr>\n    <tr>\n      <th>13</th>\n      <td>100004</td>\n      <td>2020-03-22T23:23:29</td>\n      <td>102.0</td>\n      <td>1011.0</td>\n      <td>VIEW_PRODUCT</td>\n      <td>15</td>\n      <td>NaN</td>\n    </tr>\n    <tr>\n      <th>14</th>\n      <td>100004</td>\n      <td>2020-03-22T23:28:29</td>\n      <td>102.0</td>\n      <td>1009.0</td>\n      <td>VIEW_PRODUCT</td>\n      <td>15</td>\n      <td>NaN</td>\n    </tr>\n    <tr>\n      <th>15</th>\n      <td>100004</td>\n      <td>2020-03-22T23:30:24</td>\n      <td>102.0</td>\n      <td>1009.0</td>\n      <td>BUY_PRODUCT</td>\n      <td>15</td>\n      <td>20004.0</td>\n    </tr>\n    <tr>\n      <th>16</th>\n      <td>100005</td>\n      <td>2020-02-19T18:24:48</td>\n      <td>102.0</td>\n      <td>1318.0</td>\n      <td>VIEW_PRODUCT</td>\n      <td>20</td>\n      <td>NaN</td>\n    </tr>\n    <tr>\n      <th>17</th>\n      <td>100005</td>\n      <td>2020-02-19T18:26:41</td>\n      <td>102.0</td>\n      <td>1318.0</td>\n      <td>BUY_PRODUCT</td>\n      <td>20</td>\n      <td>20005.0</td>\n    </tr>\n    <tr>\n      <th>18</th>\n      <td>100006</td>\n      <td>2020-02-14T04:22:43</td>\n      <td>102.0</td>\n      <td>1013.0</td>\n      <td>VIEW_PRODUCT</td>\n      <td>0</td>\n      <td>NaN</td>\n    </tr>\n    <tr>\n      <th>19</th>\n      <td>100006</td>\n      <td>2020-02-14T04:25:34</td>\n      <td>102.0</td>\n      <td>1010.0</td>\n      <td>VIEW_PRODUCT</td>\n      <td>0</td>\n      <td>NaN</td>\n    </tr>\n    <tr>\n      <th>20</th>\n      <td>100006</td>\n      <td>2020-02-14T04:29:32</td>\n      <td>102.0</td>\n      <td>1009.0</td>\n      <td>VIEW_PRODUCT</td>\n      <td>0</td>\n      <td>NaN</td>\n    </tr>\n    <tr>\n      <th>21</th>\n      <td>100006</td>\n      <td>2020-02-14T04:29:51</td>\n      <td>102.0</td>\n      <td>1005.0</td>\n      <td>VIEW_PRODUCT</td>\n      <td>0</td>\n      <td>NaN</td>\n    </tr>\n    <tr>\n      <th>22</th>\n      <td>100006</td>\n      <td>2020-02-14T04:34:43</td>\n      <td>102.0</td>\n      <td>1006.0</td>\n      <td>VIEW_PRODUCT</td>\n      <td>0</td>\n      <td>NaN</td>\n    </tr>\n    <tr>\n      <th>23</th>\n      <td>100006</td>\n      <td>2020-02-14T04:37:50</td>\n      <td>102.0</td>\n      <td>1008.0</td>\n      <td>VIEW_PRODUCT</td>\n      <td>0</td>\n      <td>NaN</td>\n    </tr>\n    <tr>\n      <th>24</th>\n      <td>100006</td>\n      <td>2020-02-14T04:39:56</td>\n      <td>102.0</td>\n      <td>1008.0</td>\n      <td>BUY_PRODUCT</td>\n      <td>0</td>\n      <td>20006.0</td>\n    </tr>\n    <tr>\n      <th>25</th>\n      <td>100007</td>\n      <td>2020-04-02T07:01:05</td>\n      <td>102.0</td>\n      <td>1234.0</td>\n      <td>VIEW_PRODUCT</td>\n      <td>0</td>\n      <td>NaN</td>\n    </tr>\n    <tr>\n      <th>26</th>\n      <td>100007</td>\n      <td>2020-04-02T07:02:40</td>\n      <td>102.0</td>\n      <td>1233.0</td>\n      <td>VIEW_PRODUCT</td>\n      <td>0</td>\n      <td>NaN</td>\n    </tr>\n    <tr>\n      <th>27</th>\n      <td>100007</td>\n      <td>2020-04-02T07:06:16</td>\n      <td>102.0</td>\n      <td>1233.0</td>\n      <td>BUY_PRODUCT</td>\n      <td>0</td>\n      <td>20007.0</td>\n    </tr>\n    <tr>\n      <th>28</th>\n      <td>100008</td>\n      <td>2020-01-16T02:18:29</td>\n      <td>102.0</td>\n      <td>1001.0</td>\n      <td>VIEW_PRODUCT</td>\n      <td>15</td>\n      <td>NaN</td>\n    </tr>\n    <tr>\n      <th>29</th>\n      <td>100008</td>\n      <td>2020-01-16T02:23:21</td>\n      <td>102.0</td>\n      <td>1001.0</td>\n      <td>BUY_PRODUCT</td>\n      <td>15</td>\n      <td>20008.0</td>\n    </tr>\n  </tbody>\n</table>\n</div>"
     },
     "execution_count": 144,
     "metadata": {},
     "output_type": "execute_result"
    }
   ],
   "source": [
    "sessions = load_file(\"../data/sessions.jsonl\")\n",
    "sessions.head(30)"
   ]
  },
  {
   "cell_type": "code",
   "execution_count": 145,
   "metadata": {
    "pycharm": {
     "name": "#%%\n"
    }
   },
   "outputs": [
    {
     "data": {
      "text/plain": "   product_id                                    product_name  \\\n0        1001                   Telefon Siemens Gigaset DA310   \n1        1002                              Kyocera FS-1135MFP   \n2        1003                              Kyocera FS-3640MFP   \n3        1004                            Fallout 3 (Xbox 360)   \n4        1005  Szalone Króliki Na żywo i w kolorze (Xbox 360)   \n\n                                       category_path        price  \n0          Telefony i akcesoria;Telefony stacjonarne        58.97  \n1  Komputery;Drukarki i skanery;Biurowe urządzeni...      2048.50  \n2  Komputery;Drukarki i skanery;Biurowe urządzeni...      7639.00  \n3          Gry i konsole;Gry na konsole;Gry Xbox 360  49990000.00  \n4          Gry i konsole;Gry na konsole;Gry Xbox 360        49.99  ",
      "text/html": "<div>\n<style scoped>\n    .dataframe tbody tr th:only-of-type {\n        vertical-align: middle;\n    }\n\n    .dataframe tbody tr th {\n        vertical-align: top;\n    }\n\n    .dataframe thead th {\n        text-align: right;\n    }\n</style>\n<table border=\"1\" class=\"dataframe\">\n  <thead>\n    <tr style=\"text-align: right;\">\n      <th></th>\n      <th>product_id</th>\n      <th>product_name</th>\n      <th>category_path</th>\n      <th>price</th>\n    </tr>\n  </thead>\n  <tbody>\n    <tr>\n      <th>0</th>\n      <td>1001</td>\n      <td>Telefon Siemens Gigaset DA310</td>\n      <td>Telefony i akcesoria;Telefony stacjonarne</td>\n      <td>58.97</td>\n    </tr>\n    <tr>\n      <th>1</th>\n      <td>1002</td>\n      <td>Kyocera FS-1135MFP</td>\n      <td>Komputery;Drukarki i skanery;Biurowe urządzeni...</td>\n      <td>2048.50</td>\n    </tr>\n    <tr>\n      <th>2</th>\n      <td>1003</td>\n      <td>Kyocera FS-3640MFP</td>\n      <td>Komputery;Drukarki i skanery;Biurowe urządzeni...</td>\n      <td>7639.00</td>\n    </tr>\n    <tr>\n      <th>3</th>\n      <td>1004</td>\n      <td>Fallout 3 (Xbox 360)</td>\n      <td>Gry i konsole;Gry na konsole;Gry Xbox 360</td>\n      <td>49990000.00</td>\n    </tr>\n    <tr>\n      <th>4</th>\n      <td>1005</td>\n      <td>Szalone Króliki Na żywo i w kolorze (Xbox 360)</td>\n      <td>Gry i konsole;Gry na konsole;Gry Xbox 360</td>\n      <td>49.99</td>\n    </tr>\n  </tbody>\n</table>\n</div>"
     },
     "execution_count": 145,
     "metadata": {},
     "output_type": "execute_result"
    }
   ],
   "source": [
    "products = load_file(\"../data/products.jsonl\")\n",
    "products.head()"
   ]
  },
  {
   "cell_type": "markdown",
   "metadata": {},
   "source": [
    "### Analiza dostarczonych plików"
   ]
  },
  {
   "cell_type": "code",
   "execution_count": 146,
   "metadata": {
    "pycharm": {
     "name": "#%%\n"
    }
   },
   "outputs": [],
   "source": [
    "# helper functions\n",
    "\n",
    "def generate_sparsity_matrix(dataframe):\n",
    "    missing_df = dataframe.columns[dataframe.isnull().any()].tolist()\n",
    "    msno.matrix(dataframe[missing_df], figsize=(20, 5))\n",
    "\n",
    "def clean_nan_rows(dataframe, print_stats = False):\n",
    "    clean_df = dataframe.dropna(axis=0, how='any')\n",
    "    if print_stats:\n",
    "        print('Original Length=', len(dataframe), '\\tCleaned Length=', len(clean_df), '\\tMissing Data=', len(dataframe) - len(clean_df))\n",
    "    return clean_df\n",
    "\n",
    "def print_null_stats(dataframe):\n",
    "    total_rows = dataframe.shape[0]\n",
    "    null_values = dataframe.isnull().sum(axis = 0)\n",
    "\n",
    "    print(\"Total rows: \", total_rows)\n",
    "    print(\"\\nNull values per culumn:\")\n",
    "    print(null_values)"
   ]
  },
  {
   "cell_type": "markdown",
   "metadata": {},
   "source": [
    "#### Users"
   ]
  },
  {
   "cell_type": "code",
   "execution_count": 147,
   "metadata": {
    "pycharm": {
     "name": "#%%\n"
    }
   },
   "outputs": [
    {
     "name": "stdout",
     "output_type": "stream",
     "text": [
      "Total rows:  200\n",
      "\n",
      "Null values per culumn:\n",
      "user_id    0\n",
      "name       0\n",
      "city       0\n",
      "street     0\n",
      "dtype: int64\n"
     ]
    }
   ],
   "source": [
    "print_null_stats(users)"
   ]
  },
  {
   "cell_type": "markdown",
   "metadata": {},
   "source": [
    "Dane `users` przechowują informacje o id użytkownika, imieniu i nazwisku i adresie. Nie posiadają żadnych brakujących wartości."
   ]
  },
  {
   "cell_type": "code",
   "execution_count": 148,
   "metadata": {
    "pycharm": {
     "name": "#%%\n"
    }
   },
   "outputs": [
    {
     "data": {
      "text/plain": "<matplotlib.axes._subplots.AxesSubplot at 0x7f5d76fed470>"
     },
     "execution_count": 148,
     "metadata": {},
     "output_type": "execute_result"
    },
    {
     "data": {
      "text/plain": "<Figure size 432x288 with 1 Axes>",
      "image/png": "[encoded data removed]"
     },
     "metadata": {
      "needs_background": "light"
     },
     "output_type": "display_data"
    }
   ],
   "source": [
    "sn.countplot(x=\"city\", data=users)"
   ]
  },
  {
   "cell_type": "markdown",
   "metadata": {},
   "source": [
    "#### Products"
   ]
  },
  {
   "cell_type": "code",
   "execution_count": 149,
   "metadata": {
    "pycharm": {
     "name": "#%%\n"
    }
   },
   "outputs": [
    {
     "name": "stdout",
     "output_type": "stream",
     "text": [
      "Total rows:  319\n",
      "\n",
      "Null values per culumn:\n",
      "product_id       0\n",
      "product_name     0\n",
      "category_path    0\n",
      "price            0\n",
      "dtype: int64\n",
      "\n",
      "Negative prices count:  22\n"
     ]
    }
   ],
   "source": [
    "print_null_stats(products)\n",
    "\n",
    "negative_prices_count = products[products[\"price\"] < 0].shape[0]\n",
    "\n",
    "print(\"\\nNegative prices count: \", negative_prices_count)"
   ]
  },
  {
   "cell_type": "markdown",
   "metadata": {},
   "source": [
    "Dane `products` przechowują informacje o id produktu, jego nazwie, kategorii i cenie. Nie posiadają żadnych brakujących wartości. Występuje 15 przypadków, kiedy cena jest ujemna, co może budzić wątwpliwości, ale dalsza analiza tych danych w naszym przypadku nie jest konieczna, gdyż nie niosą one potrzebnych nam informacji."
   ]
  },
  {
   "cell_type": "markdown",
   "metadata": {},
   "source": [
    "#### Deliveries"
   ]
  },
  {
   "cell_type": "code",
   "execution_count": 150,
   "metadata": {
    "pycharm": {
     "name": "#%%\n"
    }
   },
   "outputs": [
    {
     "name": "stdout",
     "output_type": "stream",
     "text": [
      "Total rows:  7272\n",
      "\n",
      "Null values per culumn:\n",
      "purchase_id             0\n",
      "purchase_timestamp      0\n",
      "delivery_timestamp    348\n",
      "delivery_company      366\n",
      "dtype: int64\n",
      "\n",
      "Brakujące czasy dostawy w deliveries:\n",
      "\n",
      "Original Length= 7272 \tCleaned Length= 6924 \tMissing Data= 348\n",
      "\n",
      "Brakujące firmy kurierskie w deliveries:\n",
      "\n",
      "Original Length= 7272 \tCleaned Length= 6906 \tMissing Data= 366\n",
      "\n",
      "Brakujące dane w deliveries:\n"
     ]
    },
    {
     "data": {
      "text/plain": "<Figure size 1440x360 with 2 Axes>",
      "image/png": "[encoded data removed]"
     },
     "metadata": {
      "needs_background": "light"
     },
     "output_type": "display_data"
    }
   ],
   "source": [
    "print_null_stats(deliveries)\n",
    "\n",
    "print(\"\\nBrakujące czasy dostawy w deliveries:\\n\")\n",
    "clean_nan_rows(dataframe=deliveries['delivery_timestamp'], print_stats=True)\n",
    "\n",
    "print(\"\\nBrakujące firmy kurierskie w deliveries:\\n\")\n",
    "clean_nan_rows(dataframe=deliveries['delivery_company'], print_stats=True)\n",
    "\n",
    "print(\"\\nBrakujące dane w deliveries:\")\n",
    "generate_sparsity_matrix(deliveries)"
   ]
  },
  {
   "cell_type": "markdown",
   "metadata": {},
   "source": [
    "Dane `deliveries` przechowują informacje o id zakupu (powiązane z `purchase_id` w `sessions`), czasie złożenia zamowienia, czasie dostawy i firmie kurierskiej, która realizowała przesyłkę. Są to dla nas dane szczególnie istotne. Uwagę zwracają brakujące czasy dostawy (`delivery_timestamp`) dla 382 rekordów i brak identyfikatora firmy kurierskiej (`delivery_company`) dla 362, co może być dla nas problemem."
   ]
  },
  {
   "cell_type": "markdown",
   "metadata": {},
   "source": [
    "##### Analiza firm kurierskich"
   ]
  },
  {
   "cell_type": "code",
   "execution_count": 151,
   "metadata": {
    "pycharm": {
     "name": "#%%\n"
    }
   },
   "outputs": [
    {
     "data": {
      "text/plain": "<matplotlib.axes._subplots.AxesSubplot at 0x7f5d672b88d0>"
     },
     "execution_count": 151,
     "metadata": {},
     "output_type": "execute_result"
    },
    {
     "data": {
      "text/plain": "<Figure size 432x288 with 1 Axes>",
      "image/png": "[encoded data removed]"
     },
     "metadata": {
      "needs_background": "light"
     },
     "output_type": "display_data"
    }
   ],
   "source": [
    "deliveries[\"delivery_company\"].value_counts()\n",
    "sn.countplot(x=\"delivery_company\", data=deliveries)"
   ]
  },
  {
   "cell_type": "markdown",
   "metadata": {},
   "source": [
    "Przesyłki obsługują 3 firmy kurierskie, realizując zbliżoną liczbę zamówień."
   ]
  },
  {
   "cell_type": "code",
   "execution_count": 152,
   "metadata": {
    "pycharm": {
     "name": "#%%\n"
    }
   },
   "outputs": [
    {
     "data": {
      "text/plain": "<matplotlib.axes._subplots.AxesSubplot at 0x7f5d75f07630>"
     },
     "execution_count": 152,
     "metadata": {},
     "output_type": "execute_result"
    },
    {
     "data": {
      "text/plain": "<Figure size 432x288 with 1 Axes>",
      "image/png": "[encoded data removed]"
     },
     "metadata": {
      "needs_background": "light"
     },
     "output_type": "display_data"
    }
   ],
   "source": [
    "a = deliveries[deliveries[\"delivery_timestamp\"].isnull()] \n",
    "sn.countplot(x=\"delivery_company\", data=a)"
   ]
  },
  {
   "cell_type": "markdown",
   "metadata": {},
   "source": [
    "Rozkład braków w `delivery_timestamp` jest zbliżony dla każdej z firm."
   ]
  },
  {
   "cell_type": "markdown",
   "metadata": {},
   "source": [
    "#### Dodatkowe analizy"
   ]
  },
  {
   "cell_type": "code",
   "execution_count": 153,
   "metadata": {
    "pycharm": {
     "name": "#%%\n"
    }
   },
   "outputs": [
    {
     "data": {
      "text/plain": "0"
     },
     "execution_count": 153,
     "metadata": {},
     "output_type": "execute_result"
    }
   ],
   "source": [
    "deliveries[deliveries[\"purchase_timestamp\"] > deliveries[\"delivery_timestamp\"]].shape[0]"
   ]
  },
  {
   "cell_type": "markdown",
   "metadata": {},
   "source": [
    "Nie występują anomalie, kiedy zamówienie wystąpiło później niż czas dostawy."
   ]
  },
  {
   "cell_type": "markdown",
   "metadata": {},
   "source": [
    "### Sessions"
   ]
  },
  {
   "cell_type": "code",
   "execution_count": 154,
   "metadata": {
    "pycharm": {
     "name": "#%%\n"
    }
   },
   "outputs": [
    {
     "name": "stdout",
     "output_type": "stream",
     "text": [
      "Total rows:  39509\n",
      "\n",
      "Null values per culumn:\n",
      "session_id              0\n",
      "timestamp               0\n",
      "user_id              2011\n",
      "product_id           1909\n",
      "event_type              0\n",
      "offered_discount        0\n",
      "purchase_id         32237\n",
      "dtype: int64\n"
     ]
    }
   ],
   "source": [
    "print_null_stats(sessions)"
   ]
  },
  {
   "cell_type": "markdown",
   "metadata": {},
   "source": [
    "Dane `sessions` przechowują informacje o zarejestrowanych zdarzeniach związanych z produktami, a dokładniej są to: id sesji, czas jej utworzenia, id użytkownika powiązane z sesją, id produktu, proponowana promocja na produkt, typ zdarzenia (produkt kupiony, produkt zobaczony) i powiązane id zakupu.\n",
    "\n",
    "Interesują nas zdarzenia dotyczące kupionych produktów, bo tylko takie są dostarczane.\n",
    "\n",
    "Te dane są dla nas kluczowe, ponieważ pozwalają powiązać dostawę (poprzez wartość `purchase_id`) z użytkownikiem (poprzez wartość `user_id`), a co za tym idzie z adresem.\n",
    "\n",
    "Należy zatem sprawdzić, czy takie złączenie jest zawsze możliwe."
   ]
  },
  {
   "cell_type": "markdown",
   "metadata": {},
   "source": [
    "##### Analiza kupionych produktów"
   ]
  },
  {
   "cell_type": "markdown",
   "metadata": {},
   "source": [
    "Upewnijmy się, że zdarzeniu `BUY_PRODUCT` zawsze odpowiada jakieś `purchase_id`."
   ]
  },
  {
   "cell_type": "code",
   "execution_count": 155,
   "metadata": {
    "pycharm": {
     "name": "#%%\n"
    }
   },
   "outputs": [
    {
     "data": {
      "text/plain": "0"
     },
     "execution_count": 155,
     "metadata": {},
     "output_type": "execute_result"
    }
   ],
   "source": [
    "sessions[(sessions[\"event_type\"] == \"BUY_PRODUCT\") & (sessions[\"purchase_id\"].isnull())].shape[0]"
   ]
  },
  {
   "cell_type": "markdown",
   "metadata": {},
   "source": [
    "Wyselekcjonujmy z `sessions` tylko interesujące nas zdarzenia (dotyczące zdarzenia `BUY_PRODUCT`) i sprawdźmy braki danych."
   ]
  },
  {
   "cell_type": "code",
   "execution_count": 156,
   "metadata": {
    "pycharm": {
     "name": "#%%\n"
    }
   },
   "outputs": [
    {
     "name": "stdout",
     "output_type": "stream",
     "text": [
      "Brakujące user_id w sessions dla zdarzenia BUY_PRODUCT\n",
      "\n",
      "Original Length= 7272 \tCleaned Length= 6904 \tMissing Data= 368\n",
      "\n",
      "Brakujące dane w sessions dla operacji BUY_PRODUCT:\n"
     ]
    },
    {
     "data": {
      "text/plain": "<Figure size 1440x360 with 2 Axes>",
      "image/png": "[encoded data removed]"
     },
     "metadata": {
      "needs_background": "light"
     },
     "output_type": "display_data"
    }
   ],
   "source": [
    "buy_sessions = sessions[sessions.event_type == 'BUY_PRODUCT']\n",
    "\n",
    "print(\"Brakujące user_id w sessions dla zdarzenia BUY_PRODUCT\\n\")\n",
    "clean_nan_rows(dataframe=buy_sessions['user_id'], print_stats=True)\n",
    "\n",
    "print(\"\\nBrakujące dane w sessions dla operacji BUY_PRODUCT:\")\n",
    "generate_sparsity_matrix(buy_sessions)"
   ]
  },
  {
   "cell_type": "markdown",
   "metadata": {},
   "source": [
    "Jak widać nie wszystkie sesje zakończone zakupem posiadają id użytkownika, co mogłoby być przydatne do ustalenia adresu dostawy.\n",
    "\n",
    "Taki brak da się jednak uzupełnić, jeśli dla danej sesji istnieje inna akcja, w której id użytkownika jest znane.\n",
    "\n",
    "**Przykład:**\n",
    "\n",
    "```json\n",
    "{\"session_id\": 100007, \"timestamp\": \"2020-02-02T02:03:15\", \"user_id\": 102, \"product_id\": 1045, \"event_type\": \"VIEW_PRODUCT\", \"offered_discount\": 20, \"purchase_id\": null}\n",
    "\n",
    "\n",
    "{\"session_id\": 100007, \"timestamp\": \"2020-02-02T02:07:04\", \"user_id\": null, \"product_id\": 1045, \"event_type\": \"BUY_PRODUCT\", \"offered_discount\": 20, \"purchase_id\": 20006}\n",
    "```\n",
    "\n",
    "Chociaż dla zakupu o id `20006` nie jest zdefiniowane `user_id`, to z całej sesji o id `100007` możemy to wywnioskować i uzupełnić brak ustawiając `user_id` na `102`.\n",
    "\n",
    "\n",
    "Jeśli to możliwe, należy takie dane uzupełnić."
   ]
  },
  {
   "cell_type": "markdown",
   "metadata": {
    "pycharm": {
     "name": "#%% md\n"
    }
   },
   "source": [
    "### Transformacje\n",
    "\n",
    "Dokonajmy potrzebnych tranformacji na danych."
   ]
  },
  {
   "cell_type": "markdown",
   "metadata": {},
   "source": [
    "#### Podział na kategorię główną i podkategorię"
   ]
  },
  {
   "cell_type": "code",
   "execution_count": 157,
   "metadata": {
    "pycharm": {
     "name": "#%%\n"
    }
   },
   "outputs": [
    {
     "data": {
      "text/plain": "     product_id                                    product_name  \\\n0          1001                   Telefon Siemens Gigaset DA310   \n1          1002                              Kyocera FS-1135MFP   \n2          1003                              Kyocera FS-3640MFP   \n3          1004                            Fallout 3 (Xbox 360)   \n4          1005  Szalone Króliki Na żywo i w kolorze (Xbox 360)   \n..          ...                                             ...   \n314        1315                                      Jabra Talk   \n315        1316                      Plantronics Voyager Legend   \n316        1317                           Plantronics Savi W740   \n317        1318                           Plantronics Savi W710   \n318        1319                                     HTC HS-S200   \n\n                                         category_path        price  \\\n0            Telefony i akcesoria;Telefony stacjonarne        58.97   \n1    Komputery;Drukarki i skanery;Biurowe urządzeni...      2048.50   \n2    Komputery;Drukarki i skanery;Biurowe urządzeni...      7639.00   \n3            Gry i konsole;Gry na konsole;Gry Xbox 360  49990000.00   \n4            Gry i konsole;Gry na konsole;Gry Xbox 360        49.99   \n..                                                 ...          ...   \n314  Telefony i akcesoria;Akcesoria telefoniczne;Ze...        54.99   \n315  Telefony i akcesoria;Akcesoria telefoniczne;Ze...       249.00   \n316  Telefony i akcesoria;Akcesoria telefoniczne;Ze...      1303.96   \n317                         Sprzęt RTV;Audio;Słuchawki       553.00   \n318  Telefony i akcesoria;Akcesoria telefoniczne;Ze...        14.99   \n\n                 category             subcategory  \n0    Telefony i akcesoria    Telefony stacjonarne  \n1               Komputery      Drukarki i skanery  \n2               Komputery      Drukarki i skanery  \n3           Gry i konsole          Gry na konsole  \n4           Gry i konsole          Gry na konsole  \n..                    ...                     ...  \n314  Telefony i akcesoria  Akcesoria telefoniczne  \n315  Telefony i akcesoria  Akcesoria telefoniczne  \n316  Telefony i akcesoria  Akcesoria telefoniczne  \n317            Sprzęt RTV                   Audio  \n318  Telefony i akcesoria  Akcesoria telefoniczne  \n\n[319 rows x 6 columns]",
      "text/html": "<div>\n<style scoped>\n    .dataframe tbody tr th:only-of-type {\n        vertical-align: middle;\n    }\n\n    .dataframe tbody tr th {\n        vertical-align: top;\n    }\n\n    .dataframe thead th {\n        text-align: right;\n    }\n</style>\n<table border=\"1\" class=\"dataframe\">\n  <thead>\n    <tr style=\"text-align: right;\">\n      <th></th>\n      <th>product_id</th>\n      <th>product_name</th>\n      <th>category_path</th>\n      <th>price</th>\n      <th>category</th>\n      <th>subcategory</th>\n    </tr>\n  </thead>\n  <tbody>\n    <tr>\n      <th>0</th>\n      <td>1001</td>\n      <td>Telefon Siemens Gigaset DA310</td>\n      <td>Telefony i akcesoria;Telefony stacjonarne</td>\n      <td>58.97</td>\n      <td>Telefony i akcesoria</td>\n      <td>Telefony stacjonarne</td>\n    </tr>\n    <tr>\n      <th>1</th>\n      <td>1002</td>\n      <td>Kyocera FS-1135MFP</td>\n      <td>Komputery;Drukarki i skanery;Biurowe urządzeni...</td>\n      <td>2048.50</td>\n      <td>Komputery</td>\n      <td>Drukarki i skanery</td>\n    </tr>\n    <tr>\n      <th>2</th>\n      <td>1003</td>\n      <td>Kyocera FS-3640MFP</td>\n      <td>Komputery;Drukarki i skanery;Biurowe urządzeni...</td>\n      <td>7639.00</td>\n      <td>Komputery</td>\n      <td>Drukarki i skanery</td>\n    </tr>\n    <tr>\n      <th>3</th>\n      <td>1004</td>\n      <td>Fallout 3 (Xbox 360)</td>\n      <td>Gry i konsole;Gry na konsole;Gry Xbox 360</td>\n      <td>49990000.00</td>\n      <td>Gry i konsole</td>\n      <td>Gry na konsole</td>\n    </tr>\n    <tr>\n      <th>4</th>\n      <td>1005</td>\n      <td>Szalone Króliki Na żywo i w kolorze (Xbox 360)</td>\n      <td>Gry i konsole;Gry na konsole;Gry Xbox 360</td>\n      <td>49.99</td>\n      <td>Gry i konsole</td>\n      <td>Gry na konsole</td>\n    </tr>\n    <tr>\n      <th>...</th>\n      <td>...</td>\n      <td>...</td>\n      <td>...</td>\n      <td>...</td>\n      <td>...</td>\n      <td>...</td>\n    </tr>\n    <tr>\n      <th>314</th>\n      <td>1315</td>\n      <td>Jabra Talk</td>\n      <td>Telefony i akcesoria;Akcesoria telefoniczne;Ze...</td>\n      <td>54.99</td>\n      <td>Telefony i akcesoria</td>\n      <td>Akcesoria telefoniczne</td>\n    </tr>\n    <tr>\n      <th>315</th>\n      <td>1316</td>\n      <td>Plantronics Voyager Legend</td>\n      <td>Telefony i akcesoria;Akcesoria telefoniczne;Ze...</td>\n      <td>249.00</td>\n      <td>Telefony i akcesoria</td>\n      <td>Akcesoria telefoniczne</td>\n    </tr>\n    <tr>\n      <th>316</th>\n      <td>1317</td>\n      <td>Plantronics Savi W740</td>\n      <td>Telefony i akcesoria;Akcesoria telefoniczne;Ze...</td>\n      <td>1303.96</td>\n      <td>Telefony i akcesoria</td>\n      <td>Akcesoria telefoniczne</td>\n    </tr>\n    <tr>\n      <th>317</th>\n      <td>1318</td>\n      <td>Plantronics Savi W710</td>\n      <td>Sprzęt RTV;Audio;Słuchawki</td>\n      <td>553.00</td>\n      <td>Sprzęt RTV</td>\n      <td>Audio</td>\n    </tr>\n    <tr>\n      <th>318</th>\n      <td>1319</td>\n      <td>HTC HS-S200</td>\n      <td>Telefony i akcesoria;Akcesoria telefoniczne;Ze...</td>\n      <td>14.99</td>\n      <td>Telefony i akcesoria</td>\n      <td>Akcesoria telefoniczne</td>\n    </tr>\n  </tbody>\n</table>\n<p>319 rows × 6 columns</p>\n</div>"
     },
     "execution_count": 157,
     "metadata": {},
     "output_type": "execute_result"
    }
   ],
   "source": [
    "category_path_arr = products['category_path'].str.split(';', 2)\n",
    "category_arr = []\n",
    "subcategory_arr = []\n",
    "for path in category_path_arr:\n",
    "    if type(path) == float:\n",
    "        category_arr.append(path)\n",
    "        subcategory_arr.append(path)\n",
    "    else:\n",
    "        category_arr.append(path[0])\n",
    "        subcategory_arr.append(path[1])\n",
    "\n",
    "products['category'] = category_arr\n",
    "products['subcategory'] = subcategory_arr\n",
    "\n",
    "products"
   ]
  },
  {
   "cell_type": "markdown",
   "metadata": {},
   "source": [
    "#### Wypelnienie braków `user_id` w `sessions`"
   ]
  },
  {
   "cell_type": "code",
   "execution_count": 158,
   "metadata": {
    "pycharm": {
     "name": "#%%\n"
    }
   },
   "outputs": [
    {
     "name": "stdout",
     "output_type": "stream",
     "text": [
      "Original Length= 7272 \tCleaned Length= 7264 \tMissing Data= 8\n"
     ]
    },
    {
     "data": {
      "text/plain": "       session_id            timestamp  user_id  product_id   event_type  \\\n3          100001  2020-04-13T14:36:52    102.0      1043.0  BUY_PRODUCT   \n10         100002  2020-04-29T22:04:40    102.0      1054.0  BUY_PRODUCT   \n12         100003  2020-05-16T10:42:48    102.0      1001.0  BUY_PRODUCT   \n15         100004  2020-03-22T23:30:24    102.0      1009.0  BUY_PRODUCT   \n17         100005  2020-02-19T18:26:41    102.0      1318.0  BUY_PRODUCT   \n...           ...                  ...      ...         ...          ...   \n39491      110330  2020-01-16T22:20:59    301.0      1073.0  BUY_PRODUCT   \n39493      110331  2020-04-04T20:11:17    301.0      1072.0  BUY_PRODUCT   \n39499      110334  2020-04-30T08:46:56    301.0      1001.0  BUY_PRODUCT   \n39502      110335  2020-03-20T04:54:15    301.0      1278.0  BUY_PRODUCT   \n39505      110336  2020-05-01T01:10:44    301.0      1281.0  BUY_PRODUCT   \n\n       offered_discount  purchase_id  \n3                    20      20001.0  \n10                    0      20002.0  \n12                    0      20003.0  \n15                   15      20004.0  \n17                   20      20005.0  \n...                 ...          ...  \n39491                 0      27268.0  \n39493                 0      27269.0  \n39499                 0      27270.0  \n39502                20      27271.0  \n39505                 0      27272.0  \n\n[7272 rows x 7 columns]",
      "text/html": "<div>\n<style scoped>\n    .dataframe tbody tr th:only-of-type {\n        vertical-align: middle;\n    }\n\n    .dataframe tbody tr th {\n        vertical-align: top;\n    }\n\n    .dataframe thead th {\n        text-align: right;\n    }\n</style>\n<table border=\"1\" class=\"dataframe\">\n  <thead>\n    <tr style=\"text-align: right;\">\n      <th></th>\n      <th>session_id</th>\n      <th>timestamp</th>\n      <th>user_id</th>\n      <th>product_id</th>\n      <th>event_type</th>\n      <th>offered_discount</th>\n      <th>purchase_id</th>\n    </tr>\n  </thead>\n  <tbody>\n    <tr>\n      <th>3</th>\n      <td>100001</td>\n      <td>2020-04-13T14:36:52</td>\n      <td>102.0</td>\n      <td>1043.0</td>\n      <td>BUY_PRODUCT</td>\n      <td>20</td>\n      <td>20001.0</td>\n    </tr>\n    <tr>\n      <th>10</th>\n      <td>100002</td>\n      <td>2020-04-29T22:04:40</td>\n      <td>102.0</td>\n      <td>1054.0</td>\n      <td>BUY_PRODUCT</td>\n      <td>0</td>\n      <td>20002.0</td>\n    </tr>\n    <tr>\n      <th>12</th>\n      <td>100003</td>\n      <td>2020-05-16T10:42:48</td>\n      <td>102.0</td>\n      <td>1001.0</td>\n      <td>BUY_PRODUCT</td>\n      <td>0</td>\n      <td>20003.0</td>\n    </tr>\n    <tr>\n      <th>15</th>\n      <td>100004</td>\n      <td>2020-03-22T23:30:24</td>\n      <td>102.0</td>\n      <td>1009.0</td>\n      <td>BUY_PRODUCT</td>\n      <td>15</td>\n      <td>20004.0</td>\n    </tr>\n    <tr>\n      <th>17</th>\n      <td>100005</td>\n      <td>2020-02-19T18:26:41</td>\n      <td>102.0</td>\n      <td>1318.0</td>\n      <td>BUY_PRODUCT</td>\n      <td>20</td>\n      <td>20005.0</td>\n    </tr>\n    <tr>\n      <th>...</th>\n      <td>...</td>\n      <td>...</td>\n      <td>...</td>\n      <td>...</td>\n      <td>...</td>\n      <td>...</td>\n      <td>...</td>\n    </tr>\n    <tr>\n      <th>39491</th>\n      <td>110330</td>\n      <td>2020-01-16T22:20:59</td>\n      <td>301.0</td>\n      <td>1073.0</td>\n      <td>BUY_PRODUCT</td>\n      <td>0</td>\n      <td>27268.0</td>\n    </tr>\n    <tr>\n      <th>39493</th>\n      <td>110331</td>\n      <td>2020-04-04T20:11:17</td>\n      <td>301.0</td>\n      <td>1072.0</td>\n      <td>BUY_PRODUCT</td>\n      <td>0</td>\n      <td>27269.0</td>\n    </tr>\n    <tr>\n      <th>39499</th>\n      <td>110334</td>\n      <td>2020-04-30T08:46:56</td>\n      <td>301.0</td>\n      <td>1001.0</td>\n      <td>BUY_PRODUCT</td>\n      <td>0</td>\n      <td>27270.0</td>\n    </tr>\n    <tr>\n      <th>39502</th>\n      <td>110335</td>\n      <td>2020-03-20T04:54:15</td>\n      <td>301.0</td>\n      <td>1278.0</td>\n      <td>BUY_PRODUCT</td>\n      <td>20</td>\n      <td>27271.0</td>\n    </tr>\n    <tr>\n      <th>39505</th>\n      <td>110336</td>\n      <td>2020-05-01T01:10:44</td>\n      <td>301.0</td>\n      <td>1281.0</td>\n      <td>BUY_PRODUCT</td>\n      <td>0</td>\n      <td>27272.0</td>\n    </tr>\n  </tbody>\n</table>\n<p>7272 rows × 7 columns</p>\n</div>"
     },
     "execution_count": 158,
     "metadata": {},
     "output_type": "execute_result"
    }
   ],
   "source": [
    "session_user_map=sessions[sessions[\"user_id\"].notna()].set_index('session_id')['user_id'].to_dict()\n",
    "\n",
    "for i, row in sessions.iterrows():\n",
    "    if np.isnan(row[\"user_id\"]) and row[\"session_id\"] in session_user_map:\n",
    "            sessions.at[i,'user_id'] = session_user_map[row[\"session_id\"]]\n",
    "            \n",
    "buy_sessions = sessions[sessions.event_type == 'BUY_PRODUCT']\n",
    "\n",
    "clean_nan_rows(dataframe=buy_sessions['user_id'], print_stats=True)\n",
    "\n",
    "buy_sessions"
   ]
  },
  {
   "cell_type": "markdown",
   "metadata": {},
   "source": [
    "Dzięki takiej operacji, liczba wierszy z brakiem `user_id` zmniejszyła się z 368 do 8. Z pozostałymi nie da się nic już zrobić, więc je usuniemy."
   ]
  },
  {
   "cell_type": "code",
   "execution_count": 159,
   "metadata": {
    "pycharm": {
     "name": "#%%\n"
    }
   },
   "outputs": [
    {
     "data": {
      "text/plain": "       session_id            timestamp  user_id  product_id   event_type  \\\n3          100001  2020-04-13T14:36:52    102.0      1043.0  BUY_PRODUCT   \n10         100002  2020-04-29T22:04:40    102.0      1054.0  BUY_PRODUCT   \n12         100003  2020-05-16T10:42:48    102.0      1001.0  BUY_PRODUCT   \n15         100004  2020-03-22T23:30:24    102.0      1009.0  BUY_PRODUCT   \n17         100005  2020-02-19T18:26:41    102.0      1318.0  BUY_PRODUCT   \n...           ...                  ...      ...         ...          ...   \n39491      110330  2020-01-16T22:20:59    301.0      1073.0  BUY_PRODUCT   \n39493      110331  2020-04-04T20:11:17    301.0      1072.0  BUY_PRODUCT   \n39499      110334  2020-04-30T08:46:56    301.0      1001.0  BUY_PRODUCT   \n39502      110335  2020-03-20T04:54:15    301.0      1278.0  BUY_PRODUCT   \n39505      110336  2020-05-01T01:10:44    301.0      1281.0  BUY_PRODUCT   \n\n       offered_discount  purchase_id  \n3                    20      20001.0  \n10                    0      20002.0  \n12                    0      20003.0  \n15                   15      20004.0  \n17                   20      20005.0  \n...                 ...          ...  \n39491                 0      27268.0  \n39493                 0      27269.0  \n39499                 0      27270.0  \n39502                20      27271.0  \n39505                 0      27272.0  \n\n[7264 rows x 7 columns]",
      "text/html": "<div>\n<style scoped>\n    .dataframe tbody tr th:only-of-type {\n        vertical-align: middle;\n    }\n\n    .dataframe tbody tr th {\n        vertical-align: top;\n    }\n\n    .dataframe thead th {\n        text-align: right;\n    }\n</style>\n<table border=\"1\" class=\"dataframe\">\n  <thead>\n    <tr style=\"text-align: right;\">\n      <th></th>\n      <th>session_id</th>\n      <th>timestamp</th>\n      <th>user_id</th>\n      <th>product_id</th>\n      <th>event_type</th>\n      <th>offered_discount</th>\n      <th>purchase_id</th>\n    </tr>\n  </thead>\n  <tbody>\n    <tr>\n      <th>3</th>\n      <td>100001</td>\n      <td>2020-04-13T14:36:52</td>\n      <td>102.0</td>\n      <td>1043.0</td>\n      <td>BUY_PRODUCT</td>\n      <td>20</td>\n      <td>20001.0</td>\n    </tr>\n    <tr>\n      <th>10</th>\n      <td>100002</td>\n      <td>2020-04-29T22:04:40</td>\n      <td>102.0</td>\n      <td>1054.0</td>\n      <td>BUY_PRODUCT</td>\n      <td>0</td>\n      <td>20002.0</td>\n    </tr>\n    <tr>\n      <th>12</th>\n      <td>100003</td>\n      <td>2020-05-16T10:42:48</td>\n      <td>102.0</td>\n      <td>1001.0</td>\n      <td>BUY_PRODUCT</td>\n      <td>0</td>\n      <td>20003.0</td>\n    </tr>\n    <tr>\n      <th>15</th>\n      <td>100004</td>\n      <td>2020-03-22T23:30:24</td>\n      <td>102.0</td>\n      <td>1009.0</td>\n      <td>BUY_PRODUCT</td>\n      <td>15</td>\n      <td>20004.0</td>\n    </tr>\n    <tr>\n      <th>17</th>\n      <td>100005</td>\n      <td>2020-02-19T18:26:41</td>\n      <td>102.0</td>\n      <td>1318.0</td>\n      <td>BUY_PRODUCT</td>\n      <td>20</td>\n      <td>20005.0</td>\n    </tr>\n    <tr>\n      <th>...</th>\n      <td>...</td>\n      <td>...</td>\n      <td>...</td>\n      <td>...</td>\n      <td>...</td>\n      <td>...</td>\n      <td>...</td>\n    </tr>\n    <tr>\n      <th>39491</th>\n      <td>110330</td>\n      <td>2020-01-16T22:20:59</td>\n      <td>301.0</td>\n      <td>1073.0</td>\n      <td>BUY_PRODUCT</td>\n      <td>0</td>\n      <td>27268.0</td>\n    </tr>\n    <tr>\n      <th>39493</th>\n      <td>110331</td>\n      <td>2020-04-04T20:11:17</td>\n      <td>301.0</td>\n      <td>1072.0</td>\n      <td>BUY_PRODUCT</td>\n      <td>0</td>\n      <td>27269.0</td>\n    </tr>\n    <tr>\n      <th>39499</th>\n      <td>110334</td>\n      <td>2020-04-30T08:46:56</td>\n      <td>301.0</td>\n      <td>1001.0</td>\n      <td>BUY_PRODUCT</td>\n      <td>0</td>\n      <td>27270.0</td>\n    </tr>\n    <tr>\n      <th>39502</th>\n      <td>110335</td>\n      <td>2020-03-20T04:54:15</td>\n      <td>301.0</td>\n      <td>1278.0</td>\n      <td>BUY_PRODUCT</td>\n      <td>20</td>\n      <td>27271.0</td>\n    </tr>\n    <tr>\n      <th>39505</th>\n      <td>110336</td>\n      <td>2020-05-01T01:10:44</td>\n      <td>301.0</td>\n      <td>1281.0</td>\n      <td>BUY_PRODUCT</td>\n      <td>0</td>\n      <td>27272.0</td>\n    </tr>\n  </tbody>\n</table>\n<p>7264 rows × 7 columns</p>\n</div>"
     },
     "execution_count": 159,
     "metadata": {},
     "output_type": "execute_result"
    }
   ],
   "source": [
    "buy_sessions = buy_sessions[buy_sessions[\"user_id\"].notna()]\n",
    "buy_sessions"
   ]
  },
  {
   "cell_type": "markdown",
   "metadata": {},
   "source": [
    "Pozbądźmy się pozostałych pustych `user_id`, ponieważ nie da się z nimi już nic zrobić. Do dalszej obróbki potrzebe będą wyłącznie `buy_sessions`, więc nadpiszmy dataframe."
   ]
  },
  {
   "cell_type": "code",
   "execution_count": 160,
   "metadata": {},
   "outputs": [],
   "source": [
    "buy_sessions = buy_sessions[buy_sessions[\"user_id\"].notnull()]\n",
    "sessions_with_nulls = sessions\n",
    "sessions = buy_sessions"
   ]
  },
  {
   "cell_type": "markdown",
   "metadata": {},
   "source": [
    "#### Usunięcie braków w `deliveries`\n",
    "W przeciwieństwie do problemu z `user_id` braki w tych danych trudno uzupełnić, więc uszkodzone dane zostaną usunięte."
   ]
  },
  {
   "cell_type": "code",
   "execution_count": 161,
   "metadata": {
    "pycharm": {
     "name": "#%%\n"
    }
   },
   "outputs": [],
   "source": [
    "deliveries_with_nulls = deliveries\n",
    "deliveries = deliveries.dropna()"
   ]
  },
  {
   "cell_type": "markdown",
   "metadata": {},
   "source": [
    "#### Złączenie tabel"
   ]
  },
  {
   "cell_type": "code",
   "execution_count": 162,
   "metadata": {
    "pycharm": {
     "name": "#%%\n"
    }
   },
   "outputs": [
    {
     "data": {
      "text/plain": "      session_id            timestamp  user_id  product_id   event_type  \\\n0         100001  2020-04-13T14:36:52    102.0      1043.0  BUY_PRODUCT   \n1         100002  2020-04-29T22:04:40    102.0      1054.0  BUY_PRODUCT   \n2         100003  2020-05-16T10:42:48    102.0      1001.0  BUY_PRODUCT   \n3         100004  2020-03-22T23:30:24    102.0      1009.0  BUY_PRODUCT   \n4         100006  2020-02-14T04:39:56    102.0      1008.0  BUY_PRODUCT   \n...          ...                  ...      ...         ...          ...   \n6566      110330  2020-01-16T22:20:59    301.0      1073.0  BUY_PRODUCT   \n6567      110331  2020-04-04T20:11:17    301.0      1072.0  BUY_PRODUCT   \n6568      110334  2020-04-30T08:46:56    301.0      1001.0  BUY_PRODUCT   \n6569      110335  2020-03-20T04:54:15    301.0      1278.0  BUY_PRODUCT   \n6570      110336  2020-05-01T01:10:44    301.0      1281.0  BUY_PRODUCT   \n\n      offered_discount  purchase_id   purchase_timestamp   delivery_timestamp  \\\n0                   20      20001.0  2020-04-13T14:36:52  2020-04-18T04:36:52   \n1                    0      20002.0  2020-04-29T22:04:40  2020-05-04T12:04:40   \n2                    0      20003.0  2020-05-16T10:42:48  2020-05-20T06:42:48   \n3                   15      20004.0  2020-03-22T23:30:24  2020-03-25T16:30:24   \n4                    0      20006.0  2020-02-14T04:39:56  2020-02-18T18:39:56   \n...                ...          ...                  ...                  ...   \n6566                 0      27268.0  2020-01-16T22:20:59  2020-01-21T08:20:59   \n6567                 0      27269.0  2020-04-04T20:11:17  2020-04-09T15:11:17   \n6568                 0      27270.0  2020-04-30T08:46:56  2020-05-04T18:46:56   \n6569                20      27271.0  2020-03-20T04:54:15  2020-03-24T14:54:15   \n6570                 0      27272.0  2020-05-01T01:10:44  2020-05-05T20:10:44   \n\n      delivery_company           name      city                   street  \\\n0                360.0  Aurelia Malon    Police  pl. Brzoskwiniowa 11/53   \n1                360.0  Aurelia Malon    Police  pl. Brzoskwiniowa 11/53   \n2                620.0  Aurelia Malon    Police  pl. Brzoskwiniowa 11/53   \n3                516.0  Aurelia Malon    Police  pl. Brzoskwiniowa 11/53   \n4                360.0  Aurelia Malon    Police  pl. Brzoskwiniowa 11/53   \n...                ...            ...       ...                      ...   \n6566             620.0     Sara Nóżka  Warszawa    aleja Słoneczna 78/05   \n6567             360.0     Sara Nóżka  Warszawa    aleja Słoneczna 78/05   \n6568             620.0     Sara Nóżka  Warszawa    aleja Słoneczna 78/05   \n6569             620.0     Sara Nóżka  Warszawa    aleja Słoneczna 78/05   \n6570             360.0     Sara Nóżka  Warszawa    aleja Słoneczna 78/05   \n\n                                       product_name  \\\n0                        Fight Night Champion (PS3)   \n1                               Call of Duty 2 (PC)   \n2                     Telefon Siemens Gigaset DA310   \n3                        Kinect Joy Ride (Xbox 360)   \n4     Tom Clancy&#39;s Rainbow Six Vegas (Xbox 360)   \n...                                             ...   \n6566                                    Jabra Drive   \n6567                                  Jabra Freeway   \n6568                  Telefon Siemens Gigaset DA310   \n6569                       Intenso Music Walker 8GB   \n6570                                    Manta MM266   \n\n                                          category_path   price  \\\n0         Gry i konsole;Gry na konsole;Gry PlayStation3  109.00   \n1                         Gry i konsole;Gry komputerowe   32.99   \n2             Telefony i akcesoria;Telefony stacjonarne   58.97   \n3             Gry i konsole;Gry na konsole;Gry Xbox 360   69.00   \n4             Gry i konsole;Gry na konsole;Gry Xbox 360  -49.99   \n...                                                 ...     ...   \n6566  Telefony i akcesoria;Akcesoria telefoniczne;Ze...  129.00   \n6567  Telefony i akcesoria;Akcesoria telefoniczne;Ze...  299.00   \n6568          Telefony i akcesoria;Telefony stacjonarne   58.97   \n6569  Sprzęt RTV;Przenośne audio i video;Odtwarzacze...   78.90   \n6570  Sprzęt RTV;Przenośne audio i video;Odtwarzacze...   64.80   \n\n                  category              subcategory  \n0            Gry i konsole           Gry na konsole  \n1            Gry i konsole          Gry komputerowe  \n2     Telefony i akcesoria     Telefony stacjonarne  \n3            Gry i konsole           Gry na konsole  \n4            Gry i konsole           Gry na konsole  \n...                    ...                      ...  \n6566  Telefony i akcesoria   Akcesoria telefoniczne  \n6567  Telefony i akcesoria   Akcesoria telefoniczne  \n6568  Telefony i akcesoria     Telefony stacjonarne  \n6569            Sprzęt RTV  Przenośne audio i video  \n6570            Sprzęt RTV  Przenośne audio i video  \n\n[6571 rows x 18 columns]",
      "text/html": "<div>\n<style scoped>\n    .dataframe tbody tr th:only-of-type {\n        vertical-align: middle;\n    }\n\n    .dataframe tbody tr th {\n        vertical-align: top;\n    }\n\n    .dataframe thead th {\n        text-align: right;\n    }\n</style>\n<table border=\"1\" class=\"dataframe\">\n  <thead>\n    <tr style=\"text-align: right;\">\n      <th></th>\n      <th>session_id</th>\n      <th>timestamp</th>\n      <th>user_id</th>\n      <th>product_id</th>\n      <th>event_type</th>\n      <th>offered_discount</th>\n      <th>purchase_id</th>\n      <th>purchase_timestamp</th>\n      <th>delivery_timestamp</th>\n      <th>delivery_company</th>\n      <th>name</th>\n      <th>city</th>\n      <th>street</th>\n      <th>product_name</th>\n      <th>category_path</th>\n      <th>price</th>\n      <th>category</th>\n      <th>subcategory</th>\n    </tr>\n  </thead>\n  <tbody>\n    <tr>\n      <th>0</th>\n      <td>100001</td>\n      <td>2020-04-13T14:36:52</td>\n      <td>102.0</td>\n      <td>1043.0</td>\n      <td>BUY_PRODUCT</td>\n      <td>20</td>\n      <td>20001.0</td>\n      <td>2020-04-13T14:36:52</td>\n      <td>2020-04-18T04:36:52</td>\n      <td>360.0</td>\n      <td>Aurelia Malon</td>\n      <td>Police</td>\n      <td>pl. Brzoskwiniowa 11/53</td>\n      <td>Fight Night Champion (PS3)</td>\n      <td>Gry i konsole;Gry na konsole;Gry PlayStation3</td>\n      <td>109.00</td>\n      <td>Gry i konsole</td>\n      <td>Gry na konsole</td>\n    </tr>\n    <tr>\n      <th>1</th>\n      <td>100002</td>\n      <td>2020-04-29T22:04:40</td>\n      <td>102.0</td>\n      <td>1054.0</td>\n      <td>BUY_PRODUCT</td>\n      <td>0</td>\n      <td>20002.0</td>\n      <td>2020-04-29T22:04:40</td>\n      <td>2020-05-04T12:04:40</td>\n      <td>360.0</td>\n      <td>Aurelia Malon</td>\n      <td>Police</td>\n      <td>pl. Brzoskwiniowa 11/53</td>\n      <td>Call of Duty 2 (PC)</td>\n      <td>Gry i konsole;Gry komputerowe</td>\n      <td>32.99</td>\n      <td>Gry i konsole</td>\n      <td>Gry komputerowe</td>\n    </tr>\n    <tr>\n      <th>2</th>\n      <td>100003</td>\n      <td>2020-05-16T10:42:48</td>\n      <td>102.0</td>\n      <td>1001.0</td>\n      <td>BUY_PRODUCT</td>\n      <td>0</td>\n      <td>20003.0</td>\n      <td>2020-05-16T10:42:48</td>\n      <td>2020-05-20T06:42:48</td>\n      <td>620.0</td>\n      <td>Aurelia Malon</td>\n      <td>Police</td>\n      <td>pl. Brzoskwiniowa 11/53</td>\n      <td>Telefon Siemens Gigaset DA310</td>\n      <td>Telefony i akcesoria;Telefony stacjonarne</td>\n      <td>58.97</td>\n      <td>Telefony i akcesoria</td>\n      <td>Telefony stacjonarne</td>\n    </tr>\n    <tr>\n      <th>3</th>\n      <td>100004</td>\n      <td>2020-03-22T23:30:24</td>\n      <td>102.0</td>\n      <td>1009.0</td>\n      <td>BUY_PRODUCT</td>\n      <td>15</td>\n      <td>20004.0</td>\n      <td>2020-03-22T23:30:24</td>\n      <td>2020-03-25T16:30:24</td>\n      <td>516.0</td>\n      <td>Aurelia Malon</td>\n      <td>Police</td>\n      <td>pl. Brzoskwiniowa 11/53</td>\n      <td>Kinect Joy Ride (Xbox 360)</td>\n      <td>Gry i konsole;Gry na konsole;Gry Xbox 360</td>\n      <td>69.00</td>\n      <td>Gry i konsole</td>\n      <td>Gry na konsole</td>\n    </tr>\n    <tr>\n      <th>4</th>\n      <td>100006</td>\n      <td>2020-02-14T04:39:56</td>\n      <td>102.0</td>\n      <td>1008.0</td>\n      <td>BUY_PRODUCT</td>\n      <td>0</td>\n      <td>20006.0</td>\n      <td>2020-02-14T04:39:56</td>\n      <td>2020-02-18T18:39:56</td>\n      <td>360.0</td>\n      <td>Aurelia Malon</td>\n      <td>Police</td>\n      <td>pl. Brzoskwiniowa 11/53</td>\n      <td>Tom Clancy&amp;#39;s Rainbow Six Vegas (Xbox 360)</td>\n      <td>Gry i konsole;Gry na konsole;Gry Xbox 360</td>\n      <td>-49.99</td>\n      <td>Gry i konsole</td>\n      <td>Gry na konsole</td>\n    </tr>\n    <tr>\n      <th>...</th>\n      <td>...</td>\n      <td>...</td>\n      <td>...</td>\n      <td>...</td>\n      <td>...</td>\n      <td>...</td>\n      <td>...</td>\n      <td>...</td>\n      <td>...</td>\n      <td>...</td>\n      <td>...</td>\n      <td>...</td>\n      <td>...</td>\n      <td>...</td>\n      <td>...</td>\n      <td>...</td>\n      <td>...</td>\n      <td>...</td>\n    </tr>\n    <tr>\n      <th>6566</th>\n      <td>110330</td>\n      <td>2020-01-16T22:20:59</td>\n      <td>301.0</td>\n      <td>1073.0</td>\n      <td>BUY_PRODUCT</td>\n      <td>0</td>\n      <td>27268.0</td>\n      <td>2020-01-16T22:20:59</td>\n      <td>2020-01-21T08:20:59</td>\n      <td>620.0</td>\n      <td>Sara Nóżka</td>\n      <td>Warszawa</td>\n      <td>aleja Słoneczna 78/05</td>\n      <td>Jabra Drive</td>\n      <td>Telefony i akcesoria;Akcesoria telefoniczne;Ze...</td>\n      <td>129.00</td>\n      <td>Telefony i akcesoria</td>\n      <td>Akcesoria telefoniczne</td>\n    </tr>\n    <tr>\n      <th>6567</th>\n      <td>110331</td>\n      <td>2020-04-04T20:11:17</td>\n      <td>301.0</td>\n      <td>1072.0</td>\n      <td>BUY_PRODUCT</td>\n      <td>0</td>\n      <td>27269.0</td>\n      <td>2020-04-04T20:11:17</td>\n      <td>2020-04-09T15:11:17</td>\n      <td>360.0</td>\n      <td>Sara Nóżka</td>\n      <td>Warszawa</td>\n      <td>aleja Słoneczna 78/05</td>\n      <td>Jabra Freeway</td>\n      <td>Telefony i akcesoria;Akcesoria telefoniczne;Ze...</td>\n      <td>299.00</td>\n      <td>Telefony i akcesoria</td>\n      <td>Akcesoria telefoniczne</td>\n    </tr>\n    <tr>\n      <th>6568</th>\n      <td>110334</td>\n      <td>2020-04-30T08:46:56</td>\n      <td>301.0</td>\n      <td>1001.0</td>\n      <td>BUY_PRODUCT</td>\n      <td>0</td>\n      <td>27270.0</td>\n      <td>2020-04-30T08:46:56</td>\n      <td>2020-05-04T18:46:56</td>\n      <td>620.0</td>\n      <td>Sara Nóżka</td>\n      <td>Warszawa</td>\n      <td>aleja Słoneczna 78/05</td>\n      <td>Telefon Siemens Gigaset DA310</td>\n      <td>Telefony i akcesoria;Telefony stacjonarne</td>\n      <td>58.97</td>\n      <td>Telefony i akcesoria</td>\n      <td>Telefony stacjonarne</td>\n    </tr>\n    <tr>\n      <th>6569</th>\n      <td>110335</td>\n      <td>2020-03-20T04:54:15</td>\n      <td>301.0</td>\n      <td>1278.0</td>\n      <td>BUY_PRODUCT</td>\n      <td>20</td>\n      <td>27271.0</td>\n      <td>2020-03-20T04:54:15</td>\n      <td>2020-03-24T14:54:15</td>\n      <td>620.0</td>\n      <td>Sara Nóżka</td>\n      <td>Warszawa</td>\n      <td>aleja Słoneczna 78/05</td>\n      <td>Intenso Music Walker 8GB</td>\n      <td>Sprzęt RTV;Przenośne audio i video;Odtwarzacze...</td>\n      <td>78.90</td>\n      <td>Sprzęt RTV</td>\n      <td>Przenośne audio i video</td>\n    </tr>\n    <tr>\n      <th>6570</th>\n      <td>110336</td>\n      <td>2020-05-01T01:10:44</td>\n      <td>301.0</td>\n      <td>1281.0</td>\n      <td>BUY_PRODUCT</td>\n      <td>0</td>\n      <td>27272.0</td>\n      <td>2020-05-01T01:10:44</td>\n      <td>2020-05-05T20:10:44</td>\n      <td>360.0</td>\n      <td>Sara Nóżka</td>\n      <td>Warszawa</td>\n      <td>aleja Słoneczna 78/05</td>\n      <td>Manta MM266</td>\n      <td>Sprzęt RTV;Przenośne audio i video;Odtwarzacze...</td>\n      <td>64.80</td>\n      <td>Sprzęt RTV</td>\n      <td>Przenośne audio i video</td>\n    </tr>\n  </tbody>\n</table>\n<p>6571 rows × 18 columns</p>\n</div>"
     },
     "execution_count": 162,
     "metadata": {},
     "output_type": "execute_result"
    }
   ],
   "source": [
    "# inner join sessions and deliveries\n",
    "merged_data = pd.merge(left=sessions, right=deliveries, left_on='purchase_id', right_on='purchase_id')\n",
    "\n",
    "# left join users\n",
    "merged_data = pd.merge(left=merged_data, right=users, how='left', left_on='user_id', right_on='user_id')\n",
    "\n",
    "# left join products\n",
    "merged_data = pd.merge(left=merged_data, right=products, how='left', left_on='product_id', right_on='product_id')\n",
    "\n",
    "merged_data"
   ]
  },
  {
   "cell_type": "markdown",
   "metadata": {
    "pycharm": {
     "name": "#%% md\n"
    }
   },
   "source": [
    "#### Odrzucenie niepotrzebnych kolumn\n",
    "\n",
    "Odrzućmy część kolumn, które zdają się być zbędne:\n",
    "- id sesji - kolumna identyfikacyjna\n",
    "- id zakupu - kolumna identyfikacyjna\n",
    "- id użytkownika - kolumna identyfikacyjna\n",
    "- id produktu - kolumna identyfikacyjna, zbyt rozdrobniona\n",
    "- product name - nazwa produktu jest zbyt rozdrobniona *[zbyt wiele różnych wartości]*, kategoria do 2 poziomu wydaje się być dobrym zastępstwem\n",
    "- typ zdarzenia - rozpatrujemy wyłącznie zakup\n",
    "- oferowana obniżka - nie ma znaczenia na dostawę *(opcjonalnie jako wart binarna)*\n",
    "- imie i nazwisko użytkownika - konkretny użytkownik nie powinien być powiązany z dostawą\n",
    "- timestamp sesji - interesuje nas czas dostawy od czasu *zakupu* do *dostarczenia*\n",
    "- ulica - zbyt rozdrobniona kolumna *[zbyt wiele różnych wartości]*\n"
   ]
  },
  {
   "cell_type": "code",
   "execution_count": 163,
   "metadata": {
    "pycharm": {
     "name": "#%%\n"
    }
   },
   "outputs": [
    {
     "data": {
      "text/plain": "       purchase_timestamp   delivery_timestamp  delivery_company      city  \\\n0     2020-04-13T14:36:52  2020-04-18T04:36:52             360.0    Police   \n1     2020-04-29T22:04:40  2020-05-04T12:04:40             360.0    Police   \n2     2020-05-16T10:42:48  2020-05-20T06:42:48             620.0    Police   \n3     2020-03-22T23:30:24  2020-03-25T16:30:24             516.0    Police   \n4     2020-02-14T04:39:56  2020-02-18T18:39:56             360.0    Police   \n...                   ...                  ...               ...       ...   \n6566  2020-01-16T22:20:59  2020-01-21T08:20:59             620.0  Warszawa   \n6567  2020-04-04T20:11:17  2020-04-09T15:11:17             360.0  Warszawa   \n6568  2020-04-30T08:46:56  2020-05-04T18:46:56             620.0  Warszawa   \n6569  2020-03-20T04:54:15  2020-03-24T14:54:15             620.0  Warszawa   \n6570  2020-05-01T01:10:44  2020-05-05T20:10:44             360.0  Warszawa   \n\n                                          category_path   price  \\\n0         Gry i konsole;Gry na konsole;Gry PlayStation3  109.00   \n1                         Gry i konsole;Gry komputerowe   32.99   \n2             Telefony i akcesoria;Telefony stacjonarne   58.97   \n3             Gry i konsole;Gry na konsole;Gry Xbox 360   69.00   \n4             Gry i konsole;Gry na konsole;Gry Xbox 360  -49.99   \n...                                                 ...     ...   \n6566  Telefony i akcesoria;Akcesoria telefoniczne;Ze...  129.00   \n6567  Telefony i akcesoria;Akcesoria telefoniczne;Ze...  299.00   \n6568          Telefony i akcesoria;Telefony stacjonarne   58.97   \n6569  Sprzęt RTV;Przenośne audio i video;Odtwarzacze...   78.90   \n6570  Sprzęt RTV;Przenośne audio i video;Odtwarzacze...   64.80   \n\n                  category              subcategory  \n0            Gry i konsole           Gry na konsole  \n1            Gry i konsole          Gry komputerowe  \n2     Telefony i akcesoria     Telefony stacjonarne  \n3            Gry i konsole           Gry na konsole  \n4            Gry i konsole           Gry na konsole  \n...                    ...                      ...  \n6566  Telefony i akcesoria   Akcesoria telefoniczne  \n6567  Telefony i akcesoria   Akcesoria telefoniczne  \n6568  Telefony i akcesoria     Telefony stacjonarne  \n6569            Sprzęt RTV  Przenośne audio i video  \n6570            Sprzęt RTV  Przenośne audio i video  \n\n[6571 rows x 8 columns]",
      "text/html": "<div>\n<style scoped>\n    .dataframe tbody tr th:only-of-type {\n        vertical-align: middle;\n    }\n\n    .dataframe tbody tr th {\n        vertical-align: top;\n    }\n\n    .dataframe thead th {\n        text-align: right;\n    }\n</style>\n<table border=\"1\" class=\"dataframe\">\n  <thead>\n    <tr style=\"text-align: right;\">\n      <th></th>\n      <th>purchase_timestamp</th>\n      <th>delivery_timestamp</th>\n      <th>delivery_company</th>\n      <th>city</th>\n      <th>category_path</th>\n      <th>price</th>\n      <th>category</th>\n      <th>subcategory</th>\n    </tr>\n  </thead>\n  <tbody>\n    <tr>\n      <th>0</th>\n      <td>2020-04-13T14:36:52</td>\n      <td>2020-04-18T04:36:52</td>\n      <td>360.0</td>\n      <td>Police</td>\n      <td>Gry i konsole;Gry na konsole;Gry PlayStation3</td>\n      <td>109.00</td>\n      <td>Gry i konsole</td>\n      <td>Gry na konsole</td>\n    </tr>\n    <tr>\n      <th>1</th>\n      <td>2020-04-29T22:04:40</td>\n      <td>2020-05-04T12:04:40</td>\n      <td>360.0</td>\n      <td>Police</td>\n      <td>Gry i konsole;Gry komputerowe</td>\n      <td>32.99</td>\n      <td>Gry i konsole</td>\n      <td>Gry komputerowe</td>\n    </tr>\n    <tr>\n      <th>2</th>\n      <td>2020-05-16T10:42:48</td>\n      <td>2020-05-20T06:42:48</td>\n      <td>620.0</td>\n      <td>Police</td>\n      <td>Telefony i akcesoria;Telefony stacjonarne</td>\n      <td>58.97</td>\n      <td>Telefony i akcesoria</td>\n      <td>Telefony stacjonarne</td>\n    </tr>\n    <tr>\n      <th>3</th>\n      <td>2020-03-22T23:30:24</td>\n      <td>2020-03-25T16:30:24</td>\n      <td>516.0</td>\n      <td>Police</td>\n      <td>Gry i konsole;Gry na konsole;Gry Xbox 360</td>\n      <td>69.00</td>\n      <td>Gry i konsole</td>\n      <td>Gry na konsole</td>\n    </tr>\n    <tr>\n      <th>4</th>\n      <td>2020-02-14T04:39:56</td>\n      <td>2020-02-18T18:39:56</td>\n      <td>360.0</td>\n      <td>Police</td>\n      <td>Gry i konsole;Gry na konsole;Gry Xbox 360</td>\n      <td>-49.99</td>\n      <td>Gry i konsole</td>\n      <td>Gry na konsole</td>\n    </tr>\n    <tr>\n      <th>...</th>\n      <td>...</td>\n      <td>...</td>\n      <td>...</td>\n      <td>...</td>\n      <td>...</td>\n      <td>...</td>\n      <td>...</td>\n      <td>...</td>\n    </tr>\n    <tr>\n      <th>6566</th>\n      <td>2020-01-16T22:20:59</td>\n      <td>2020-01-21T08:20:59</td>\n      <td>620.0</td>\n      <td>Warszawa</td>\n      <td>Telefony i akcesoria;Akcesoria telefoniczne;Ze...</td>\n      <td>129.00</td>\n      <td>Telefony i akcesoria</td>\n      <td>Akcesoria telefoniczne</td>\n    </tr>\n    <tr>\n      <th>6567</th>\n      <td>2020-04-04T20:11:17</td>\n      <td>2020-04-09T15:11:17</td>\n      <td>360.0</td>\n      <td>Warszawa</td>\n      <td>Telefony i akcesoria;Akcesoria telefoniczne;Ze...</td>\n      <td>299.00</td>\n      <td>Telefony i akcesoria</td>\n      <td>Akcesoria telefoniczne</td>\n    </tr>\n    <tr>\n      <th>6568</th>\n      <td>2020-04-30T08:46:56</td>\n      <td>2020-05-04T18:46:56</td>\n      <td>620.0</td>\n      <td>Warszawa</td>\n      <td>Telefony i akcesoria;Telefony stacjonarne</td>\n      <td>58.97</td>\n      <td>Telefony i akcesoria</td>\n      <td>Telefony stacjonarne</td>\n    </tr>\n    <tr>\n      <th>6569</th>\n      <td>2020-03-20T04:54:15</td>\n      <td>2020-03-24T14:54:15</td>\n      <td>620.0</td>\n      <td>Warszawa</td>\n      <td>Sprzęt RTV;Przenośne audio i video;Odtwarzacze...</td>\n      <td>78.90</td>\n      <td>Sprzęt RTV</td>\n      <td>Przenośne audio i video</td>\n    </tr>\n    <tr>\n      <th>6570</th>\n      <td>2020-05-01T01:10:44</td>\n      <td>2020-05-05T20:10:44</td>\n      <td>360.0</td>\n      <td>Warszawa</td>\n      <td>Sprzęt RTV;Przenośne audio i video;Odtwarzacze...</td>\n      <td>64.80</td>\n      <td>Sprzęt RTV</td>\n      <td>Przenośne audio i video</td>\n    </tr>\n  </tbody>\n</table>\n<p>6571 rows × 8 columns</p>\n</div>"
     },
     "execution_count": 163,
     "metadata": {},
     "output_type": "execute_result"
    }
   ],
   "source": [
    "columns = ['session_id', 'purchase_id','user_id', 'product_id', 'event_type',\n",
    "           'offered_discount', 'name', 'timestamp', 'product_name', 'street']\n",
    "for col in columns:\n",
    "    merged_data = merged_data.drop(col, axis=1)\n",
    "\n",
    "merged_data\n"
   ]
  },
  {
   "cell_type": "markdown",
   "metadata": {},
   "source": [
    "#### Kolumny wyliczane.\n",
    "Przydatny będzie właściwy czas dostawy, wyrażany np. w godzinach."
   ]
  },
  {
   "cell_type": "code",
   "execution_count": 164,
   "metadata": {
    "pycharm": {
     "name": "#%%\n"
    }
   },
   "outputs": [
    {
     "name": "stdout",
     "output_type": "stream",
     "text": [
      "     delivery_total_time  delivery_total_time_hours\n",
      "0        4 days 14:00:00                      110.0\n",
      "1        4 days 14:00:00                      110.0\n",
      "2        3 days 20:00:00                       92.0\n",
      "3        2 days 17:00:00                       65.0\n",
      "4        4 days 14:00:00                      110.0\n",
      "...                  ...                        ...\n",
      "6566     4 days 10:00:00                      106.0\n",
      "6567     4 days 19:00:00                      115.0\n",
      "6568     4 days 10:00:00                      106.0\n",
      "6569     4 days 10:00:00                      106.0\n",
      "6570     4 days 19:00:00                      115.0\n",
      "\n",
      "[6571 rows x 2 columns]\n"
     ]
    }
   ],
   "source": [
    "merged_data['delivery_timestamp'] = \\\n",
    "    pd.to_datetime(merged_data.delivery_timestamp)\n",
    "merged_data['purchase_timestamp'] = \\\n",
    "    pd.to_datetime(merged_data.purchase_timestamp)\n",
    "merged_data['delivery_total_time'] = \\\n",
    "    merged_data['delivery_timestamp'] - merged_data['purchase_timestamp']\n",
    "\n",
    "merged_data['delivery_total_time_hours'] = \\\n",
    "    merged_data['delivery_total_time'].dt.total_seconds()/3600\n",
    "\n",
    "print(merged_data[['delivery_total_time','delivery_total_time_hours']])"
   ]
  },
  {
   "cell_type": "markdown",
   "metadata": {
    "pycharm": {
     "name": "#%% md\n"
    }
   },
   "source": [
    "### Dalsza analiza"
   ]
  },
  {
   "cell_type": "markdown",
   "metadata": {},
   "source": [
    "##### Rozkład czasu dostawy w godzinach w zależności od firmy kurierskiej"
   ]
  },
  {
   "cell_type": "code",
   "execution_count": 165,
   "metadata": {
    "pycharm": {
     "name": "#%%\n"
    }
   },
   "outputs": [
    {
     "data": {
      "text/plain": "<Figure size 432x288 with 1 Axes>",
      "image/png": "[encoded data removed]"
     },
     "metadata": {
      "needs_background": "light"
     },
     "output_type": "display_data"
    }
   ],
   "source": [
    "max_h = merged_data[\"delivery_total_time_hours\"].max()\n",
    "min_h = merged_data[\"delivery_total_time_hours\"].min()\n",
    "\n",
    "plt.title(\"Rozkład czasu dostawy [h]\")\n",
    "\n",
    "sn.distplot(merged_data[\"delivery_total_time_hours\"], hist=False, label=\"All\").set(xlim=(min_h, max_h))\n",
    "\n",
    "for company in [x for x in merged_data[\"delivery_company\"].unique() if ~np.isnan(x)]:\n",
    "    sn.distplot(merged_data[merged_data[\"delivery_company\"] == company][\"delivery_total_time_hours\"],hist=False, label=str(company)).set(xlim=(min_h, max_h))"
   ]
  },
  {
   "cell_type": "markdown",
   "metadata": {
    "pycharm": {
     "name": "#%% md\n"
    }
   },
   "source": [
    "##### Miasto a firma kurierska"
   ]
  },
  {
   "cell_type": "markdown",
   "metadata": {},
   "source": [
    "sn.countplot(y=\"delivery_company\", hue=\"city\", data=merged_data)"
   ]
  },
  {
   "cell_type": "code",
   "execution_count": 166,
   "metadata": {
    "pycharm": {
     "name": "#%%\n"
    }
   },
   "outputs": [
    {
     "data": {
      "text/plain": "<matplotlib.axes._subplots.AxesSubplot at 0x7f5d66ec3be0>"
     },
     "execution_count": 166,
     "metadata": {},
     "output_type": "execute_result"
    },
    {
     "data": {
      "text/plain": "<Figure size 432x288 with 1 Axes>",
      "image/png": "[encoded data removed]"
     },
     "metadata": {
      "needs_background": "light"
     },
     "output_type": "display_data"
    }
   ],
   "source": [
    "sn.countplot(y=\"city\", hue=\"delivery_company\", data=merged_data)"
   ]
  },
  {
   "cell_type": "markdown",
   "metadata": {
    "pycharm": {
     "name": "#%% md\n"
    }
   },
   "source": [
    "##### Miasto a firma kurierska dla brakujących czasów dostawy"
   ]
  },
  {
   "cell_type": "code",
   "execution_count": 167,
   "metadata": {
    "pycharm": {
     "name": "#%%\n"
    }
   },
   "outputs": [
    {
     "data": {
      "text/plain": "<matplotlib.axes._subplots.AxesSubplot at 0x7f5d66eec6a0>"
     },
     "execution_count": 167,
     "metadata": {},
     "output_type": "execute_result"
    },
    {
     "data": {
      "text/plain": "<Figure size 432x288 with 1 Axes>",
      "image/png": "[encoded data removed]"
     },
     "metadata": {
      "needs_background": "light"
     },
     "output_type": "display_data"
    }
   ],
   "source": [
    "# inner join sessions and deliveries\n",
    "merge_data_nulls = pd.merge(left=sessions_with_nulls, right=deliveries_with_nulls, left_on='purchase_id', right_on='purchase_id')\n",
    "# left join users\n",
    "merge_data_nulls = pd.merge(left=merge_data_nulls, right=users, how='left', left_on='user_id', right_on='user_id')\n",
    "# left join products\n",
    "merge_data_nulls = pd.merge(left=merge_data_nulls, right=products, how='left', left_on='product_id', right_on='product_id')\n",
    "\n",
    "merge_data_nulls = merge_data_nulls[merge_data_nulls[\"delivery_timestamp\"].isnull()]\n",
    "\n",
    "sn.countplot(y=\"delivery_company\", hue=\"city\", data=merge_data_nulls)"
   ]
  },
  {
   "cell_type": "code",
   "execution_count": 168,
   "metadata": {
    "pycharm": {
     "name": "#%%\n"
    }
   },
   "outputs": [
    {
     "data": {
      "text/plain": "<matplotlib.axes._subplots.AxesSubplot at 0x7f5d76f9a390>"
     },
     "execution_count": 168,
     "metadata": {},
     "output_type": "execute_result"
    },
    {
     "data": {
      "text/plain": "<Figure size 432x288 with 1 Axes>",
      "image/png": "[encoded data removed]"
     },
     "metadata": {
      "needs_background": "light"
     },
     "output_type": "display_data"
    }
   ],
   "source": [
    "sn.countplot(y=\"city\", hue=\"delivery_company\", data=merge_data_nulls)"
   ]
  },
  {
   "cell_type": "markdown",
   "metadata": {},
   "source": [
    "### Analiza związku z celem\n",
    "- ciąg dalszy na końcu"
   ]
  },
  {
   "cell_type": "code",
   "execution_count": 169,
   "metadata": {},
   "outputs": [
    {
     "data": {
      "text/plain": "             delivery_company         city     price  category  subcategory\nMutual info      1.112845e+00     1.953733  0.008837  0.014113     0.006495\nF test           1.094279e+03  3416.481052  0.000049  0.943653     1.488850\nF p-val         4.283424e-222     0.000000  0.994396  0.331376     0.222439",
      "text/html": "<div>\n<style scoped>\n    .dataframe tbody tr th:only-of-type {\n        vertical-align: middle;\n    }\n\n    .dataframe tbody tr th {\n        vertical-align: top;\n    }\n\n    .dataframe thead th {\n        text-align: right;\n    }\n</style>\n<table border=\"1\" class=\"dataframe\">\n  <thead>\n    <tr style=\"text-align: right;\">\n      <th></th>\n      <th>delivery_company</th>\n      <th>city</th>\n      <th>price</th>\n      <th>category</th>\n      <th>subcategory</th>\n    </tr>\n  </thead>\n  <tbody>\n    <tr>\n      <th>Mutual info</th>\n      <td>1.112845e+00</td>\n      <td>1.953733</td>\n      <td>0.008837</td>\n      <td>0.014113</td>\n      <td>0.006495</td>\n    </tr>\n    <tr>\n      <th>F test</th>\n      <td>1.094279e+03</td>\n      <td>3416.481052</td>\n      <td>0.000049</td>\n      <td>0.943653</td>\n      <td>1.488850</td>\n    </tr>\n    <tr>\n      <th>F p-val</th>\n      <td>4.283424e-222</td>\n      <td>0.000000</td>\n      <td>0.994396</td>\n      <td>0.331376</td>\n      <td>0.222439</td>\n    </tr>\n  </tbody>\n</table>\n</div>"
     },
     "execution_count": 169,
     "metadata": {},
     "output_type": "execute_result"
    }
   ],
   "source": [
    "from sklearn.feature_selection import mutual_info_regression, f_regression\n",
    "\n",
    "test_data = merged_data\n",
    "columns = ['purchase_timestamp', 'delivery_timestamp', 'category_path']\n",
    "for col in columns:\n",
    "    test_data = test_data.drop(col, axis=1)\n",
    "\n",
    "target = test_data['delivery_total_time_hours']\n",
    "data = test_data.drop(['delivery_total_time','delivery_total_time_hours'], axis=1)\n",
    "\n",
    "\n",
    "# fill missing and code labels\n",
    "data['category'] = data['category'].fillna('missing') \n",
    "data['subcategory'] = data['subcategory'].fillna('missing') \n",
    "data['city'] = data['city'].fillna('missing') \n",
    "data = data.fillna(0)\n",
    "target = target.fillna(0)\n",
    "\n",
    "le_cat = preprocessing.LabelEncoder()\n",
    "le_cat.fit(np.unique(np.array(data['category'])))\n",
    "data['category'] = le_cat.transform(data['category'])\n",
    "\n",
    "le_subcat = preprocessing.LabelEncoder()\n",
    "le_subcat.fit(np.unique(np.array(data['subcategory'])))\n",
    "data['subcategory'] = le_subcat.transform(data['subcategory'])\n",
    "\n",
    "le_city = preprocessing.LabelEncoder()\n",
    "le_city.fit(np.unique(np.array(data['city'])))\n",
    "data['city'] = le_city.transform(data['city'])\n",
    "\n",
    "mi = mutual_info_regression(data, target)\n",
    "\n",
    "ft = f_regression(data, target)\n",
    "\n",
    "feature_selection = pd.DataFrame.from_records([mi, ft[0], ft[1]], columns=data.columns.to_numpy(), index=['Mutual info','F test','F p-val'])\n",
    "feature_selection"
   ]
  },
  {
   "cell_type": "markdown",
   "metadata": {
    "pycharm": {
     "name": "#%% md\n"
    }
   },
   "source": [
    "### Eksperymenty z modelami (dalszy etap)\n",
    "- no imputation, no parameter scaling"
   ]
  },
  {
   "cell_type": "code",
   "execution_count": 170,
   "metadata": {
    "pycharm": {
     "name": "#%%\n"
    }
   },
   "outputs": [],
   "source": [
    "clean_data = merged_data\n",
    "\n",
    "# information form these columns has been transferred to delivery_total_time and category + subcategory\n",
    "columns = ['purchase_timestamp', 'delivery_timestamp', 'category_path']\n",
    "for col in columns:\n",
    "    clean_data = clean_data.drop(col, axis=1)\n",
    "\n",
    "clean_data = clean_data.dropna(axis=0, how='any')\n",
    "\n",
    "target = clean_data['delivery_total_time_hours']\n",
    "data = clean_data.drop(['delivery_total_time','delivery_total_time_hours'], axis=1)\n",
    "\n",
    "# code labels\n",
    "le_cat = preprocessing.LabelEncoder()\n",
    "le_cat.fit(np.unique(np.array(data['category'])))\n",
    "data['category'] = le_cat.transform(data['category'])\n",
    "\n",
    "le_subcat = preprocessing.LabelEncoder()\n",
    "le_subcat.fit(np.unique(np.array(data['subcategory'])))\n",
    "data['subcategory'] = le_subcat.transform(data['subcategory'])\n",
    "\n",
    "le_city = preprocessing.LabelEncoder()\n",
    "le_city.fit(np.unique(np.array(data['city'])))\n",
    "data['city'] = le_city.transform(data['city'])"
   ]
  },
  {
   "cell_type": "code",
   "execution_count": 171,
   "metadata": {
    "pycharm": {
     "name": "#%%\n"
    }
   },
   "outputs": [],
   "source": [
    "from sklearn.tree import DecisionTreeRegressor\n",
    "from sklearn.neighbors import KNeighborsRegressor\n",
    "from sklearn.neighbors import RadiusNeighborsRegressor\n",
    "\n",
    "from sklearn.metrics import max_error, mean_absolute_error, mean_squared_error\n",
    "from sklearn.model_selection import KFold\n",
    "from sklearn.model_selection import train_test_split\n",
    "\n",
    "def train_tree_reg(data, target, k_model, k_fold_ratio=5, rand=3228):\n",
    "    k_fold = KFold(n_splits=k_fold_ratio, random_state=rand, shuffle=True)\n",
    "    data_arr = np.array(data)\n",
    "    target_arr = np.array(target)\n",
    "\n",
    "    max_errors = []\n",
    "    mean_absolute_errors = []\n",
    "    mean_squared_errors = []\n",
    "\n",
    "    for train_index, test_index in k_fold.split(data_arr):\n",
    "        train_X, valid_X = data_arr[train_index], data_arr[test_index]\n",
    "        train_y, valid_y = target_arr[train_index], target_arr[test_index]\n",
    "\n",
    "        k_model = k_model.fit(train_X, train_y)\n",
    "\n",
    "        k_predict = k_model.predict(valid_X)\n",
    "\n",
    "        # code for calculating metrics\n",
    "        max_errors.append(max_error(valid_y, k_predict))\n",
    "        mean_absolute_errors.append(mean_absolute_error(valid_y, k_predict))\n",
    "        mean_squared_errors.append(mean_squared_error(valid_y, k_predict))\n",
    "\n",
    "    # train resulting model\n",
    "    k_model.fit(data, target)\n",
    "\n",
    "    return k_model, \\\n",
    "           np.max(max_errors), \\\n",
    "           np.average(mean_absolute_errors), \\\n",
    "           np.average(mean_squared_errors)\n",
    "\n",
    "# test data\n",
    "x_train, x_test, y_train, y_test = \\\n",
    "    train_test_split(data, target, test_size=0.2, random_state=0)"
   ]
  },
  {
   "cell_type": "markdown",
   "metadata": {
    "pycharm": {
     "name": "#%% md\n"
    }
   },
   "source": [
    "#### KNeighborsRegressor"
   ]
  },
  {
   "cell_type": "code",
   "execution_count": 172,
   "metadata": {
    "pycharm": {
     "name": "#%%\n"
    }
   },
   "outputs": [
    {
     "data": {
      "text/plain": "     k   weights  learn max error  learn avg error  learn avg sqr error  \\\n0    2   uniform        57.000000         2.599400            44.632500   \n1    3   uniform        53.666667         3.487600            55.006889   \n2    4   uniform        49.000000         4.327350            66.489638   \n3    6   uniform        46.833333         5.785900            90.123872   \n4    8   uniform        50.875000         7.074025           113.792984   \n5   12   uniform        53.583333         8.839500           147.356714   \n6    2  distance        57.000000         1.460611            31.040874   \n7    3  distance        54.692308         1.407270            28.686204   \n8    4  distance        51.516129         1.376212            27.675458   \n9    6  distance        47.487805         1.345333            26.849735   \n10   8  distance        47.506505         1.335266            26.556976   \n11  12  distance        47.960511         1.347225            26.365884   \n\n    test max error  test avg error  test avg sqr error  \n0        45.500000        2.742400           51.898800  \n1        46.333333        3.592267           61.596178  \n2        50.500000        4.389000           73.952350  \n3        49.333333        5.846800           95.914333  \n4        45.125000        6.901500          113.234513  \n5        52.000000        8.704267          151.789889  \n6        44.250000        1.514158           35.466805  \n7        45.000000        1.440904           33.505977  \n8        46.928571        1.395259           32.962557  \n9        48.402902        1.310062           30.364029  \n10       48.243194        1.238662           28.828380  \n11       48.207267        1.226715           27.057006  ",
      "text/html": "<div>\n<style scoped>\n    .dataframe tbody tr th:only-of-type {\n        vertical-align: middle;\n    }\n\n    .dataframe tbody tr th {\n        vertical-align: top;\n    }\n\n    .dataframe thead th {\n        text-align: right;\n    }\n</style>\n<table border=\"1\" class=\"dataframe\">\n  <thead>\n    <tr style=\"text-align: right;\">\n      <th></th>\n      <th>k</th>\n      <th>weights</th>\n      <th>learn max error</th>\n      <th>learn avg error</th>\n      <th>learn avg sqr error</th>\n      <th>test max error</th>\n      <th>test avg error</th>\n      <th>test avg sqr error</th>\n    </tr>\n  </thead>\n  <tbody>\n    <tr>\n      <th>0</th>\n      <td>2</td>\n      <td>uniform</td>\n      <td>57.000000</td>\n      <td>2.599400</td>\n      <td>44.632500</td>\n      <td>45.500000</td>\n      <td>2.742400</td>\n      <td>51.898800</td>\n    </tr>\n    <tr>\n      <th>1</th>\n      <td>3</td>\n      <td>uniform</td>\n      <td>53.666667</td>\n      <td>3.487600</td>\n      <td>55.006889</td>\n      <td>46.333333</td>\n      <td>3.592267</td>\n      <td>61.596178</td>\n    </tr>\n    <tr>\n      <th>2</th>\n      <td>4</td>\n      <td>uniform</td>\n      <td>49.000000</td>\n      <td>4.327350</td>\n      <td>66.489638</td>\n      <td>50.500000</td>\n      <td>4.389000</td>\n      <td>73.952350</td>\n    </tr>\n    <tr>\n      <th>3</th>\n      <td>6</td>\n      <td>uniform</td>\n      <td>46.833333</td>\n      <td>5.785900</td>\n      <td>90.123872</td>\n      <td>49.333333</td>\n      <td>5.846800</td>\n      <td>95.914333</td>\n    </tr>\n    <tr>\n      <th>4</th>\n      <td>8</td>\n      <td>uniform</td>\n      <td>50.875000</td>\n      <td>7.074025</td>\n      <td>113.792984</td>\n      <td>45.125000</td>\n      <td>6.901500</td>\n      <td>113.234513</td>\n    </tr>\n    <tr>\n      <th>5</th>\n      <td>12</td>\n      <td>uniform</td>\n      <td>53.583333</td>\n      <td>8.839500</td>\n      <td>147.356714</td>\n      <td>52.000000</td>\n      <td>8.704267</td>\n      <td>151.789889</td>\n    </tr>\n    <tr>\n      <th>6</th>\n      <td>2</td>\n      <td>distance</td>\n      <td>57.000000</td>\n      <td>1.460611</td>\n      <td>31.040874</td>\n      <td>44.250000</td>\n      <td>1.514158</td>\n      <td>35.466805</td>\n    </tr>\n    <tr>\n      <th>7</th>\n      <td>3</td>\n      <td>distance</td>\n      <td>54.692308</td>\n      <td>1.407270</td>\n      <td>28.686204</td>\n      <td>45.000000</td>\n      <td>1.440904</td>\n      <td>33.505977</td>\n    </tr>\n    <tr>\n      <th>8</th>\n      <td>4</td>\n      <td>distance</td>\n      <td>51.516129</td>\n      <td>1.376212</td>\n      <td>27.675458</td>\n      <td>46.928571</td>\n      <td>1.395259</td>\n      <td>32.962557</td>\n    </tr>\n    <tr>\n      <th>9</th>\n      <td>6</td>\n      <td>distance</td>\n      <td>47.487805</td>\n      <td>1.345333</td>\n      <td>26.849735</td>\n      <td>48.402902</td>\n      <td>1.310062</td>\n      <td>30.364029</td>\n    </tr>\n    <tr>\n      <th>10</th>\n      <td>8</td>\n      <td>distance</td>\n      <td>47.506505</td>\n      <td>1.335266</td>\n      <td>26.556976</td>\n      <td>48.243194</td>\n      <td>1.238662</td>\n      <td>28.828380</td>\n    </tr>\n    <tr>\n      <th>11</th>\n      <td>12</td>\n      <td>distance</td>\n      <td>47.960511</td>\n      <td>1.347225</td>\n      <td>26.365884</td>\n      <td>48.207267</td>\n      <td>1.226715</td>\n      <td>27.057006</td>\n    </tr>\n  </tbody>\n</table>\n</div>"
     },
     "execution_count": 172,
     "metadata": {},
     "output_type": "execute_result"
    }
   ],
   "source": [
    "data_knn_reg = []\n",
    "\n",
    "for weight in ['uniform', 'distance']:\n",
    "    for i in [2, 3, 4, 6, 8, 12]:\n",
    "        line = []\n",
    "\n",
    "        k_model = KNeighborsRegressor(n_neighbors=i, weights=weight)\n",
    "\n",
    "        line.append(i), line.append(weight)\n",
    "\n",
    "        model, err, avg, avg_sqr = train_tree_reg(x_train, y_train, k_model, 10)\n",
    "\n",
    "        line.append(err),line.append(avg),line.append(avg_sqr)\n",
    "\n",
    "        test_predictions = model.predict(x_test)\n",
    "\n",
    "        err = max_error(y_test, test_predictions)\n",
    "        avg = mean_absolute_error(y_test, test_predictions)\n",
    "        avg_sqr = mean_squared_error(y_test, test_predictions)\n",
    "\n",
    "        line.append(err),line.append(avg),line.append(avg_sqr)\n",
    "        \n",
    "        data_knn_reg.append(line)\n",
    "\n",
    "knn_reg = pd.DataFrame.from_records(data_knn_reg, columns=['k', 'weights', 'learn max error', 'learn avg error', 'learn avg sqr error', 'test max error', 'test avg error', 'test avg sqr error'])\n",
    "\n",
    "knn_reg"
   ]
  },
  {
   "cell_type": "code",
   "execution_count": 173,
   "metadata": {
    "pycharm": {
     "name": "#%%\n"
    },
    "scrolled": true
   },
   "outputs": [
    {
     "data": {
      "text/plain": "   depth  learn max error  learn avg error  learn avg sqr error  \\\n0      1        38.121803        17.229238           424.130323   \n1      2        31.720250        12.281389           191.521670   \n2      3        20.047438         5.698386            67.848430   \n3      4        13.584219         3.480070            27.780699   \n4      5        12.280702         1.324701             9.596025   \n5      6         2.359281         0.147968             0.296887   \n6      7         0.000000         0.000000             0.000000   \n7      8         0.000000         0.000000             0.000000   \n\n   test max error  test avg error  test avg sqr error  \n0       38.017852       17.081018          416.854100  \n1       31.584124       12.460809          198.321615  \n2       19.805983        5.752929           70.182869  \n3       13.341463        3.557123           28.870930  \n4       11.935657        1.307009            9.709974  \n5        2.291777        0.145766            0.291796  \n6        0.000000        0.000000            0.000000  \n7        0.000000        0.000000            0.000000  ",
      "text/html": "<div>\n<style scoped>\n    .dataframe tbody tr th:only-of-type {\n        vertical-align: middle;\n    }\n\n    .dataframe tbody tr th {\n        vertical-align: top;\n    }\n\n    .dataframe thead th {\n        text-align: right;\n    }\n</style>\n<table border=\"1\" class=\"dataframe\">\n  <thead>\n    <tr style=\"text-align: right;\">\n      <th></th>\n      <th>depth</th>\n      <th>learn max error</th>\n      <th>learn avg error</th>\n      <th>learn avg sqr error</th>\n      <th>test max error</th>\n      <th>test avg error</th>\n      <th>test avg sqr error</th>\n    </tr>\n  </thead>\n  <tbody>\n    <tr>\n      <th>0</th>\n      <td>1</td>\n      <td>38.121803</td>\n      <td>17.229238</td>\n      <td>424.130323</td>\n      <td>38.017852</td>\n      <td>17.081018</td>\n      <td>416.854100</td>\n    </tr>\n    <tr>\n      <th>1</th>\n      <td>2</td>\n      <td>31.720250</td>\n      <td>12.281389</td>\n      <td>191.521670</td>\n      <td>31.584124</td>\n      <td>12.460809</td>\n      <td>198.321615</td>\n    </tr>\n    <tr>\n      <th>2</th>\n      <td>3</td>\n      <td>20.047438</td>\n      <td>5.698386</td>\n      <td>67.848430</td>\n      <td>19.805983</td>\n      <td>5.752929</td>\n      <td>70.182869</td>\n    </tr>\n    <tr>\n      <th>3</th>\n      <td>4</td>\n      <td>13.584219</td>\n      <td>3.480070</td>\n      <td>27.780699</td>\n      <td>13.341463</td>\n      <td>3.557123</td>\n      <td>28.870930</td>\n    </tr>\n    <tr>\n      <th>4</th>\n      <td>5</td>\n      <td>12.280702</td>\n      <td>1.324701</td>\n      <td>9.596025</td>\n      <td>11.935657</td>\n      <td>1.307009</td>\n      <td>9.709974</td>\n    </tr>\n    <tr>\n      <th>5</th>\n      <td>6</td>\n      <td>2.359281</td>\n      <td>0.147968</td>\n      <td>0.296887</td>\n      <td>2.291777</td>\n      <td>0.145766</td>\n      <td>0.291796</td>\n    </tr>\n    <tr>\n      <th>6</th>\n      <td>7</td>\n      <td>0.000000</td>\n      <td>0.000000</td>\n      <td>0.000000</td>\n      <td>0.000000</td>\n      <td>0.000000</td>\n      <td>0.000000</td>\n    </tr>\n    <tr>\n      <th>7</th>\n      <td>8</td>\n      <td>0.000000</td>\n      <td>0.000000</td>\n      <td>0.000000</td>\n      <td>0.000000</td>\n      <td>0.000000</td>\n      <td>0.000000</td>\n    </tr>\n  </tbody>\n</table>\n</div>"
     },
     "execution_count": 173,
     "metadata": {},
     "output_type": "execute_result"
    }
   ],
   "source": [
    "data_tree_reg = []\n",
    "\n",
    "tree_features_importances = []\n",
    "index_features_importances = []\n",
    "\n",
    "for i in range(1,9):\n",
    "    line = []\n",
    "    k_model = DecisionTreeRegressor(max_depth=i)\n",
    "\n",
    "    model, err, avg, avg_sqr = train_tree_reg(x_train, y_train, k_model, 10)\n",
    "\n",
    "    line.append(i),line.append(err),line.append(avg),line.append(avg_sqr)\n",
    "\n",
    "    test_predictions = model.predict(x_test)\n",
    "\n",
    "    err = max_error(y_test, test_predictions)\n",
    "    avg = mean_absolute_error(y_test, test_predictions)\n",
    "    avg_sqr = mean_squared_error(y_test, test_predictions)\n",
    "\n",
    "    line.append(err),line.append(avg),line.append(avg_sqr)\n",
    "\n",
    "    data_tree_reg.append(line)\n",
    "    \n",
    "    tree_features_importances.append(model.feature_importances_)\n",
    "    index_features_importances.append(\"tree max_depth = \" + str(i))\n",
    "\n",
    "tree_reg = pd.DataFrame.from_records(data_tree_reg, columns=['depth', 'learn max error', 'learn avg error', 'learn avg sqr error', 'test max error', 'test avg error', 'test avg sqr error'])\n",
    "\n",
    "tree_reg"
   ]
  },
  {
   "cell_type": "markdown",
   "metadata": {
    "pycharm": {
     "name": "#%% md\n"
    }
   },
   "source": [
    "### Analiza związku z celem c.d."
   ]
  },
  {
   "cell_type": "code",
   "execution_count": 174,
   "metadata": {
    "pycharm": {
     "name": "#%%\n"
    }
   },
   "outputs": [
    {
     "data": {
      "text/plain": "                    delivery_company         city     price  category  \\\nMutual info             1.112845e+00     1.953733  0.008837  0.014113   \nF test                  1.094279e+03  3416.481052  0.000049  0.943653   \nF p-val                4.283424e-222     0.000000  0.994396  0.331376   \ntree max_depth = 1      0.000000e+00     1.000000  0.000000  0.000000   \ntree max_depth = 2      4.699451e-01     0.530055  0.000000  0.000000   \ntree max_depth = 3      5.362413e-01     0.463759  0.000000  0.000000   \ntree max_depth = 4      5.036527e-01     0.496347  0.000000  0.000000   \ntree max_depth = 5      4.901510e-01     0.509849  0.000000  0.000000   \ntree max_depth = 6      4.835572e-01     0.516443  0.000000  0.000000   \ntree max_depth = 7      4.833493e-01     0.516651  0.000000  0.000000   \ntree max_depth = 8      4.833493e-01     0.516651  0.000000  0.000000   \n\n                    subcategory  \nMutual info            0.006495  \nF test                 1.488850  \nF p-val                0.222439  \ntree max_depth = 1     0.000000  \ntree max_depth = 2     0.000000  \ntree max_depth = 3     0.000000  \ntree max_depth = 4     0.000000  \ntree max_depth = 5     0.000000  \ntree max_depth = 6     0.000000  \ntree max_depth = 7     0.000000  \ntree max_depth = 8     0.000000  ",
      "text/html": "<div>\n<style scoped>\n    .dataframe tbody tr th:only-of-type {\n        vertical-align: middle;\n    }\n\n    .dataframe tbody tr th {\n        vertical-align: top;\n    }\n\n    .dataframe thead th {\n        text-align: right;\n    }\n</style>\n<table border=\"1\" class=\"dataframe\">\n  <thead>\n    <tr style=\"text-align: right;\">\n      <th></th>\n      <th>delivery_company</th>\n      <th>city</th>\n      <th>price</th>\n      <th>category</th>\n      <th>subcategory</th>\n    </tr>\n  </thead>\n  <tbody>\n    <tr>\n      <th>Mutual info</th>\n      <td>1.112845e+00</td>\n      <td>1.953733</td>\n      <td>0.008837</td>\n      <td>0.014113</td>\n      <td>0.006495</td>\n    </tr>\n    <tr>\n      <th>F test</th>\n      <td>1.094279e+03</td>\n      <td>3416.481052</td>\n      <td>0.000049</td>\n      <td>0.943653</td>\n      <td>1.488850</td>\n    </tr>\n    <tr>\n      <th>F p-val</th>\n      <td>4.283424e-222</td>\n      <td>0.000000</td>\n      <td>0.994396</td>\n      <td>0.331376</td>\n      <td>0.222439</td>\n    </tr>\n    <tr>\n      <th>tree max_depth = 1</th>\n      <td>0.000000e+00</td>\n      <td>1.000000</td>\n      <td>0.000000</td>\n      <td>0.000000</td>\n      <td>0.000000</td>\n    </tr>\n    <tr>\n      <th>tree max_depth = 2</th>\n      <td>4.699451e-01</td>\n      <td>0.530055</td>\n      <td>0.000000</td>\n      <td>0.000000</td>\n      <td>0.000000</td>\n    </tr>\n    <tr>\n      <th>tree max_depth = 3</th>\n      <td>5.362413e-01</td>\n      <td>0.463759</td>\n      <td>0.000000</td>\n      <td>0.000000</td>\n      <td>0.000000</td>\n    </tr>\n    <tr>\n      <th>tree max_depth = 4</th>\n      <td>5.036527e-01</td>\n      <td>0.496347</td>\n      <td>0.000000</td>\n      <td>0.000000</td>\n      <td>0.000000</td>\n    </tr>\n    <tr>\n      <th>tree max_depth = 5</th>\n      <td>4.901510e-01</td>\n      <td>0.509849</td>\n      <td>0.000000</td>\n      <td>0.000000</td>\n      <td>0.000000</td>\n    </tr>\n    <tr>\n      <th>tree max_depth = 6</th>\n      <td>4.835572e-01</td>\n      <td>0.516443</td>\n      <td>0.000000</td>\n      <td>0.000000</td>\n      <td>0.000000</td>\n    </tr>\n    <tr>\n      <th>tree max_depth = 7</th>\n      <td>4.833493e-01</td>\n      <td>0.516651</td>\n      <td>0.000000</td>\n      <td>0.000000</td>\n      <td>0.000000</td>\n    </tr>\n    <tr>\n      <th>tree max_depth = 8</th>\n      <td>4.833493e-01</td>\n      <td>0.516651</td>\n      <td>0.000000</td>\n      <td>0.000000</td>\n      <td>0.000000</td>\n    </tr>\n  </tbody>\n</table>\n</div>"
     },
     "execution_count": 174,
     "metadata": {},
     "output_type": "execute_result"
    }
   ],
   "source": [
    "feature_selection = pd.concat([feature_selection, pd.DataFrame.from_records(tree_features_importances, index=index_features_importances, columns=data.columns.to_numpy())])\n",
    "feature_selection\n"
   ]
  },
  {
   "cell_type": "markdown",
   "metadata": {
    "pycharm": {
     "name": "#%% md\n"
    }
   },
   "source": [
    "Jak widać modele drzewiaste polegają w zupełności na kolumnach miasta i firmy kurierskiej do oceny czasu dostawy. "
   ]
  },
  {
   "cell_type": "code",
   "execution_count": 175,
   "metadata": {
    "pycharm": {
     "name": "#%%\n"
    }
   },
   "outputs": [
    {
     "data": {
      "text/plain": "      delivery_company  city   price  category  subcategory\n0                360.0     4  109.00         0            4\n1                360.0     4   32.99         0            3\n2                620.0     4   58.97         3            9\n3                516.0     4   69.00         0            4\n4                360.0     4  -49.99         0            4\n...                ...   ...     ...       ...          ...\n6566             620.0     7  129.00         3            0\n6567             360.0     7  299.00         3            0\n6568             620.0     7   58.97         3            9\n6569             620.0     7   78.90         2            6\n6570             360.0     7   64.80         2            6\n\n[6250 rows x 5 columns]",
      "text/html": "<div>\n<style scoped>\n    .dataframe tbody tr th:only-of-type {\n        vertical-align: middle;\n    }\n\n    .dataframe tbody tr th {\n        vertical-align: top;\n    }\n\n    .dataframe thead th {\n        text-align: right;\n    }\n</style>\n<table border=\"1\" class=\"dataframe\">\n  <thead>\n    <tr style=\"text-align: right;\">\n      <th></th>\n      <th>delivery_company</th>\n      <th>city</th>\n      <th>price</th>\n      <th>category</th>\n      <th>subcategory</th>\n    </tr>\n  </thead>\n  <tbody>\n    <tr>\n      <th>0</th>\n      <td>360.0</td>\n      <td>4</td>\n      <td>109.00</td>\n      <td>0</td>\n      <td>4</td>\n    </tr>\n    <tr>\n      <th>1</th>\n      <td>360.0</td>\n      <td>4</td>\n      <td>32.99</td>\n      <td>0</td>\n      <td>3</td>\n    </tr>\n    <tr>\n      <th>2</th>\n      <td>620.0</td>\n      <td>4</td>\n      <td>58.97</td>\n      <td>3</td>\n      <td>9</td>\n    </tr>\n    <tr>\n      <th>3</th>\n      <td>516.0</td>\n      <td>4</td>\n      <td>69.00</td>\n      <td>0</td>\n      <td>4</td>\n    </tr>\n    <tr>\n      <th>4</th>\n      <td>360.0</td>\n      <td>4</td>\n      <td>-49.99</td>\n      <td>0</td>\n      <td>4</td>\n    </tr>\n    <tr>\n      <th>...</th>\n      <td>...</td>\n      <td>...</td>\n      <td>...</td>\n      <td>...</td>\n      <td>...</td>\n    </tr>\n    <tr>\n      <th>6566</th>\n      <td>620.0</td>\n      <td>7</td>\n      <td>129.00</td>\n      <td>3</td>\n      <td>0</td>\n    </tr>\n    <tr>\n      <th>6567</th>\n      <td>360.0</td>\n      <td>7</td>\n      <td>299.00</td>\n      <td>3</td>\n      <td>0</td>\n    </tr>\n    <tr>\n      <th>6568</th>\n      <td>620.0</td>\n      <td>7</td>\n      <td>58.97</td>\n      <td>3</td>\n      <td>9</td>\n    </tr>\n    <tr>\n      <th>6569</th>\n      <td>620.0</td>\n      <td>7</td>\n      <td>78.90</td>\n      <td>2</td>\n      <td>6</td>\n    </tr>\n    <tr>\n      <th>6570</th>\n      <td>360.0</td>\n      <td>7</td>\n      <td>64.80</td>\n      <td>2</td>\n      <td>6</td>\n    </tr>\n  </tbody>\n</table>\n<p>6250 rows × 5 columns</p>\n</div>"
     },
     "execution_count": 175,
     "metadata": {},
     "output_type": "execute_result"
    }
   ],
   "source": [
    "data"
   ]
  }
 ],
 "metadata": {
  "kernelspec": {
   "display_name": "Python 3",
   "language": "python",
   "name": "python3"
  },
  "language_info": {
   "codemirror_mode": {
    "name": "ipython",
    "version": 3
   },
   "file_extension": ".py",
   "mimetype": "text/x-python",
   "name": "python",
   "nbconvert_exporter": "python",
   "pygments_lexer": "ipython3",
   "version": "3.7.7"
  }
 },
 "nbformat": 4,
 "nbformat_minor": 4
}