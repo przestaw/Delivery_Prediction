{
 "cells": [
  {
   "cell_type": "markdown",
   "metadata": {},
   "source": [
    "# Projekt z Inżynierii Uczenia Maszynowego\n",
    "Semestr letni 2020, WEiTI PW\n",
    "## Autorzy\n",
    "Przemysław Stawczyk\n",
    "\n",
    "Maciej Szulik"
   ]
  },
  {
   "cell_type": "markdown",
   "metadata": {},
   "source": [
    "## Zadanie\n",
    "\n",
    "### Treść\n",
    "*3. Wygląda na to, że nasze firmy kurierskie czasami nie radzą sobie z dostawami. Lepiej by było, gdybyśmy wiedzieli, ile taka dostawa dla danego zamówienia może potrwać.*\n",
    "\n",
    "### Zestaw danych\n",
    "\n",
    "\n",
    "### Definicja zadania biznesowego\n",
    "Oszacowanie czasu dostawy na podstawie informacji o zamówieniu.\n",
    "\n",
    "Należy upewnić się, co takie przybliżenie da klientowi. Mówi on, że firmy nie radzą sobie z obciążeniem - może więc predykcja czasu dostawy dla każdej z firm pozwalałaby wybrać tę najmniej obciążoną? Trzeba go o to dopytać. Oprocz tego takie przewidywanie może być wykorzystane jako informacja dla klienta, kiedy prawdopodbnie nastąpi doręczenie. \n",
    "\n",
    "#### Biznesowe kryterium sukcesu\n",
    "Dobre przybliżenie prognozowanego czasu dostawy, pozwalające określić dzień dostarczenia przesyłki.\n",
    "\n",
    "### Definicja zadania modelowania\n",
    "Przewidzenie czasu dostawy w godzinach. Jest to zadanie regresji.\n",
    "\n",
    "#### Analityczne kryterium sukcesu\n",
    "Dokładność przewidywanego czasu na poziomie +/- 8 godzin.\n",
    "\n",
    "### Podsumowanie\n",
    "W danych znaleziono braki. Co było szczególnie istotne, w danych `deliveries` brakowało niektórych wartości dotyczących czasu dostarczenia `delivery_timestamp` (uniemożliwia to określenie czasu dostawy) i firmy kurierskiej `delivery_company` (analiza wykazała silną korelację z czasem trwania dostawy). Oprócz tego ważnym brakiem było pole `user_id` w danych `sessions` dla akcji kupienia produktu `BUY_PRODUCT`, które uniemożliwało powiązanie danej dostawy z użytkownikiem, a co za tym idzie z adresem (a analiza wykazała silną korelację miasta  z czasem trwania dostawy). Te dane udało się jednak uzupełnić poprzez inne akcje wykonane przez użytkownika w obrębie danej sesji. \n",
    "Najbardziej relewantnymi atrybutami okazały się być miasto i firma kurierska. Do analizy wykorzystano pakiet sklearn feature selection i preprocessing (zostało zastosowane enkodowanie wartości). Po obróbce i odrzuceniach pozostało 6195 próbek, co jest dla nas akceptowalne."
   ]
  },
  {
   "cell_type": "markdown",
   "metadata": {},
   "source": [
    "## Analiza danych"
   ]
  },
  {
   "cell_type": "code",
   "execution_count": 40,
   "metadata": {
    "pycharm": {
     "name": "#%%\n"
    }
   },
   "outputs": [],
   "source": [
    "import datetime\n",
    "import json # as pandas struggled with json\n",
    "import numpy as np\n",
    "import pandas as pd\n",
    "import matplotlib.pyplot as plt\n",
    "import seaborn as sn\n",
    "import missingno as msno\n",
    "from sklearn import preprocessing\n",
    "%matplotlib inline"
   ]
  },
  {
   "cell_type": "markdown",
   "metadata": {},
   "source": [
    "### Load files:"
   ]
  },
  {
   "cell_type": "code",
   "execution_count": 41,
   "metadata": {
    "pycharm": {
     "name": "#%%\n"
    }
   },
   "outputs": [
    {
     "data": {
      "text/plain": "    user_id               name      city  \\\n0       102      Aurelia Malon    Police   \n1       103      Mateusz Kobel    Police   \n2       104     Radosław Ratka    Mielec   \n3       105   Anastazja Oszust  Szczecin   \n4       106       Sylwia Nurek  Szczecin   \n5       107  Aleksander Mendak    Police   \n6       108      Ewa Szołtysik  Szczecin   \n7       109    Gustaw Janoszek  Warszawa   \n8       110          Ada Wojsa    Police   \n9       111       Ernest Witoń     Radom   \n10      112      Lidia Makurat    Police   \n11      113     Lidia Prystupa     Kutno   \n12      114  Oliwier Machowiak  Warszawa   \n13      115      Nicole Guziak    Police   \n14      116      Antoni Naglik    Mielec   \n15      117    Szymon Danieluk  Szczecin   \n16      118        Rafał Mazek    Mielec   \n17      119  Krzysztof Kurpisz    Mielec   \n18      120       Olaf Szymula  Warszawa   \n19      121         Alan Gołoś    Gdynia   \n20      122         Ewa Deluga  Szczecin   \n21      123    Kajetan Prygiel  Szczecin   \n22      124   Marcel Brzeźniak     Kutno   \n23      125       Borys Doroba  Warszawa   \n24      126   Bruno Żółkiewicz     Kutno   \n25      127  Emil Pawełkiewicz     Konin   \n26      128   Anna Maria Żugaj    Police   \n27      129       Kaja Małocha    Gdynia   \n28      130    Maciej Fronczek     Konin   \n29      131     Cezary Armatys  Szczecin   \n\n                                   street  \n0                 pl. Brzoskwiniowa 11/53  \n1                       al. Wrocławska 10  \n2                          pl. Nowa 89/04  \n3                    ul. Częstochowska 80  \n4                         al. Wiosenna 72  \n5   ulica Powstańców Wielkopolskich 70/64  \n6                        plac Srebrna 965  \n7                         plac Morska 278  \n8                 aleja Jana Pawła II 764  \n9                           ul. Sarnia 25  \n10                       ulica Matejki 81  \n11                     aleja Urocza 63/16  \n12                     plac Wiatraczna 62  \n13                   ulica Lotnicza 75/22  \n14                      pl. Chopina 01/23  \n15                       pl. Łanowa 48/46  \n16                   pl. Wyszyńskiego 948  \n17                  al. Mickiewicza 73/72  \n18                       plac Browarna 72  \n19                      aleja Rejtana 707  \n20                        ul. Górna 95/54  \n21               ul. Kochanowskiego 41/89  \n22                        ulica Mokra 134  \n23                          ul. Witosa 58  \n24                        pl. Rzeczna 935  \n25                    ul. Baczynskiego 72  \n26                      pl. Kossaka 86/52  \n27                   al. Piastowska 60/99  \n28                       plac Kossaka 700  \n29                  ul. Chełmońskiego 059  ",
      "text/html": "<div>\n<style scoped>\n    .dataframe tbody tr th:only-of-type {\n        vertical-align: middle;\n    }\n\n    .dataframe tbody tr th {\n        vertical-align: top;\n    }\n\n    .dataframe thead th {\n        text-align: right;\n    }\n</style>\n<table border=\"1\" class=\"dataframe\">\n  <thead>\n    <tr style=\"text-align: right;\">\n      <th></th>\n      <th>user_id</th>\n      <th>name</th>\n      <th>city</th>\n      <th>street</th>\n    </tr>\n  </thead>\n  <tbody>\n    <tr>\n      <th>0</th>\n      <td>102</td>\n      <td>Aurelia Malon</td>\n      <td>Police</td>\n      <td>pl. Brzoskwiniowa 11/53</td>\n    </tr>\n    <tr>\n      <th>1</th>\n      <td>103</td>\n      <td>Mateusz Kobel</td>\n      <td>Police</td>\n      <td>al. Wrocławska 10</td>\n    </tr>\n    <tr>\n      <th>2</th>\n      <td>104</td>\n      <td>Radosław Ratka</td>\n      <td>Mielec</td>\n      <td>pl. Nowa 89/04</td>\n    </tr>\n    <tr>\n      <th>3</th>\n      <td>105</td>\n      <td>Anastazja Oszust</td>\n      <td>Szczecin</td>\n      <td>ul. Częstochowska 80</td>\n    </tr>\n    <tr>\n      <th>4</th>\n      <td>106</td>\n      <td>Sylwia Nurek</td>\n      <td>Szczecin</td>\n      <td>al. Wiosenna 72</td>\n    </tr>\n    <tr>\n      <th>5</th>\n      <td>107</td>\n      <td>Aleksander Mendak</td>\n      <td>Police</td>\n      <td>ulica Powstańców Wielkopolskich 70/64</td>\n    </tr>\n    <tr>\n      <th>6</th>\n      <td>108</td>\n      <td>Ewa Szołtysik</td>\n      <td>Szczecin</td>\n      <td>plac Srebrna 965</td>\n    </tr>\n    <tr>\n      <th>7</th>\n      <td>109</td>\n      <td>Gustaw Janoszek</td>\n      <td>Warszawa</td>\n      <td>plac Morska 278</td>\n    </tr>\n    <tr>\n      <th>8</th>\n      <td>110</td>\n      <td>Ada Wojsa</td>\n      <td>Police</td>\n      <td>aleja Jana Pawła II 764</td>\n    </tr>\n    <tr>\n      <th>9</th>\n      <td>111</td>\n      <td>Ernest Witoń</td>\n      <td>Radom</td>\n      <td>ul. Sarnia 25</td>\n    </tr>\n    <tr>\n      <th>10</th>\n      <td>112</td>\n      <td>Lidia Makurat</td>\n      <td>Police</td>\n      <td>ulica Matejki 81</td>\n    </tr>\n    <tr>\n      <th>11</th>\n      <td>113</td>\n      <td>Lidia Prystupa</td>\n      <td>Kutno</td>\n      <td>aleja Urocza 63/16</td>\n    </tr>\n    <tr>\n      <th>12</th>\n      <td>114</td>\n      <td>Oliwier Machowiak</td>\n      <td>Warszawa</td>\n      <td>plac Wiatraczna 62</td>\n    </tr>\n    <tr>\n      <th>13</th>\n      <td>115</td>\n      <td>Nicole Guziak</td>\n      <td>Police</td>\n      <td>ulica Lotnicza 75/22</td>\n    </tr>\n    <tr>\n      <th>14</th>\n      <td>116</td>\n      <td>Antoni Naglik</td>\n      <td>Mielec</td>\n      <td>pl. Chopina 01/23</td>\n    </tr>\n    <tr>\n      <th>15</th>\n      <td>117</td>\n      <td>Szymon Danieluk</td>\n      <td>Szczecin</td>\n      <td>pl. Łanowa 48/46</td>\n    </tr>\n    <tr>\n      <th>16</th>\n      <td>118</td>\n      <td>Rafał Mazek</td>\n      <td>Mielec</td>\n      <td>pl. Wyszyńskiego 948</td>\n    </tr>\n    <tr>\n      <th>17</th>\n      <td>119</td>\n      <td>Krzysztof Kurpisz</td>\n      <td>Mielec</td>\n      <td>al. Mickiewicza 73/72</td>\n    </tr>\n    <tr>\n      <th>18</th>\n      <td>120</td>\n      <td>Olaf Szymula</td>\n      <td>Warszawa</td>\n      <td>plac Browarna 72</td>\n    </tr>\n    <tr>\n      <th>19</th>\n      <td>121</td>\n      <td>Alan Gołoś</td>\n      <td>Gdynia</td>\n      <td>aleja Rejtana 707</td>\n    </tr>\n    <tr>\n      <th>20</th>\n      <td>122</td>\n      <td>Ewa Deluga</td>\n      <td>Szczecin</td>\n      <td>ul. Górna 95/54</td>\n    </tr>\n    <tr>\n      <th>21</th>\n      <td>123</td>\n      <td>Kajetan Prygiel</td>\n      <td>Szczecin</td>\n      <td>ul. Kochanowskiego 41/89</td>\n    </tr>\n    <tr>\n      <th>22</th>\n      <td>124</td>\n      <td>Marcel Brzeźniak</td>\n      <td>Kutno</td>\n      <td>ulica Mokra 134</td>\n    </tr>\n    <tr>\n      <th>23</th>\n      <td>125</td>\n      <td>Borys Doroba</td>\n      <td>Warszawa</td>\n      <td>ul. Witosa 58</td>\n    </tr>\n    <tr>\n      <th>24</th>\n      <td>126</td>\n      <td>Bruno Żółkiewicz</td>\n      <td>Kutno</td>\n      <td>pl. Rzeczna 935</td>\n    </tr>\n    <tr>\n      <th>25</th>\n      <td>127</td>\n      <td>Emil Pawełkiewicz</td>\n      <td>Konin</td>\n      <td>ul. Baczynskiego 72</td>\n    </tr>\n    <tr>\n      <th>26</th>\n      <td>128</td>\n      <td>Anna Maria Żugaj</td>\n      <td>Police</td>\n      <td>pl. Kossaka 86/52</td>\n    </tr>\n    <tr>\n      <th>27</th>\n      <td>129</td>\n      <td>Kaja Małocha</td>\n      <td>Gdynia</td>\n      <td>al. Piastowska 60/99</td>\n    </tr>\n    <tr>\n      <th>28</th>\n      <td>130</td>\n      <td>Maciej Fronczek</td>\n      <td>Konin</td>\n      <td>plac Kossaka 700</td>\n    </tr>\n    <tr>\n      <th>29</th>\n      <td>131</td>\n      <td>Cezary Armatys</td>\n      <td>Szczecin</td>\n      <td>ul. Chełmońskiego 059</td>\n    </tr>\n  </tbody>\n</table>\n</div>"
     },
     "execution_count": 41,
     "metadata": {},
     "output_type": "execute_result"
    }
   ],
   "source": [
    "def load_file(filename):\n",
    "    with open(filename, encoding=\"utf8\") as f:\n",
    "        data = f.readlines()\n",
    "        data = [json.loads(line) for line in data] #convert string to dict format\n",
    "        df = pd.json_normalize(data)\n",
    "    return df\n",
    "\n",
    "users = load_file(r'../data/users.jsonl')# pd.read_json(r\"data/users.jsonl\", typ='series', lines=True, dtype='dict')\n",
    "users.head(30)"
   ]
  },
  {
   "cell_type": "code",
   "execution_count": 42,
   "metadata": {
    "pycharm": {
     "name": "#%%\n"
    }
   },
   "outputs": [
    {
     "data": {
      "text/plain": "    purchase_id   purchase_timestamp          delivery_timestamp  \\\n0         20001  2020-04-13T14:36:52  2020-04-16T14:10:43.034629   \n1         20002  2020-04-19T16:41:11                        None   \n2         20003  2020-03-22T23:31:21  2020-03-25T21:55:26.574877   \n3         20004  2020-05-06T07:08:11  2020-05-09T12:02:11.187799   \n4         20005  2020-03-21T12:13:21  2020-03-23T22:32:36.697450   \n5         20006  2020-04-19T00:51:28  2020-04-21T20:57:04.327567   \n6         20007  2020-02-01T07:59:24  2020-02-04T13:56:30.483167   \n7         20008  2020-04-14T11:19:13  2020-04-16T14:04:43.323323   \n8         20009  2020-05-12T02:51:26  2020-05-14T05:50:40.361184   \n9         20010  2020-03-11T09:09:53                        None   \n10        20011  2020-04-01T10:54:00  2020-04-04T05:23:24.012302   \n11        20012  2020-03-13T02:33:42                        None   \n12        20013  2020-05-21T07:11:43  2020-05-24T11:41:42.620405   \n13        20014  2020-01-26T15:18:40  2020-01-28T22:07:35.454880   \n14        20015  2020-02-19T02:37:29  2020-02-21T15:05:39.511936   \n15        20016  2020-03-10T10:02:36  2020-03-12T17:38:43.526086   \n16        20017  2020-01-31T14:18:52  2020-02-03T20:10:42.546691   \n17        20018  2020-03-25T19:19:50  2020-03-28T11:58:35.969380   \n18        20019  2020-04-30T04:56:57  2020-05-02T19:12:52.189506   \n19        20020  2020-03-12T14:50:27  2020-03-15T06:20:15.675556   \n20        20021  2020-05-19T10:07:02  2020-05-22T21:21:51.972539   \n21        20022  2020-02-11T05:36:06  2020-02-14T17:19:25.346458   \n22        20023  2020-01-22T17:58:54  2020-01-25T13:56:39.743533   \n23        20024  2020-01-02T11:46:41  2020-01-05T20:47:00.609117   \n24        20025  2020-05-12T11:13:41  2020-05-15T17:53:52.676295   \n25        20026  2020-01-18T00:53:47  2020-01-21T04:41:03.696400   \n26        20027  2020-05-20T02:37:45  2020-05-20T23:05:29.829888   \n27        20028  2020-03-24T01:38:50  2020-03-25T01:58:56.997742   \n28        20029  2020-04-22T16:57:32  2020-04-22T23:34:14.919037   \n29        20030  2020-02-02T23:15:31  2020-02-03T13:56:26.133110   \n\n    delivery_company  \n0              360.0  \n1              620.0  \n2              516.0  \n3              516.0  \n4              620.0  \n5              360.0  \n6              516.0  \n7              620.0  \n8              620.0  \n9              360.0  \n10             360.0  \n11             620.0  \n12             360.0  \n13             620.0  \n14             516.0  \n15             620.0  \n16             620.0  \n17             516.0  \n18             516.0  \n19             620.0  \n20             360.0  \n21             360.0  \n22             620.0  \n23             360.0  \n24             620.0  \n25             360.0  \n26             360.0  \n27             360.0  \n28             620.0  \n29             620.0  ",
      "text/html": "<div>\n<style scoped>\n    .dataframe tbody tr th:only-of-type {\n        vertical-align: middle;\n    }\n\n    .dataframe tbody tr th {\n        vertical-align: top;\n    }\n\n    .dataframe thead th {\n        text-align: right;\n    }\n</style>\n<table border=\"1\" class=\"dataframe\">\n  <thead>\n    <tr style=\"text-align: right;\">\n      <th></th>\n      <th>purchase_id</th>\n      <th>purchase_timestamp</th>\n      <th>delivery_timestamp</th>\n      <th>delivery_company</th>\n    </tr>\n  </thead>\n  <tbody>\n    <tr>\n      <th>0</th>\n      <td>20001</td>\n      <td>2020-04-13T14:36:52</td>\n      <td>2020-04-16T14:10:43.034629</td>\n      <td>360.0</td>\n    </tr>\n    <tr>\n      <th>1</th>\n      <td>20002</td>\n      <td>2020-04-19T16:41:11</td>\n      <td>None</td>\n      <td>620.0</td>\n    </tr>\n    <tr>\n      <th>2</th>\n      <td>20003</td>\n      <td>2020-03-22T23:31:21</td>\n      <td>2020-03-25T21:55:26.574877</td>\n      <td>516.0</td>\n    </tr>\n    <tr>\n      <th>3</th>\n      <td>20004</td>\n      <td>2020-05-06T07:08:11</td>\n      <td>2020-05-09T12:02:11.187799</td>\n      <td>516.0</td>\n    </tr>\n    <tr>\n      <th>4</th>\n      <td>20005</td>\n      <td>2020-03-21T12:13:21</td>\n      <td>2020-03-23T22:32:36.697450</td>\n      <td>620.0</td>\n    </tr>\n    <tr>\n      <th>5</th>\n      <td>20006</td>\n      <td>2020-04-19T00:51:28</td>\n      <td>2020-04-21T20:57:04.327567</td>\n      <td>360.0</td>\n    </tr>\n    <tr>\n      <th>6</th>\n      <td>20007</td>\n      <td>2020-02-01T07:59:24</td>\n      <td>2020-02-04T13:56:30.483167</td>\n      <td>516.0</td>\n    </tr>\n    <tr>\n      <th>7</th>\n      <td>20008</td>\n      <td>2020-04-14T11:19:13</td>\n      <td>2020-04-16T14:04:43.323323</td>\n      <td>620.0</td>\n    </tr>\n    <tr>\n      <th>8</th>\n      <td>20009</td>\n      <td>2020-05-12T02:51:26</td>\n      <td>2020-05-14T05:50:40.361184</td>\n      <td>620.0</td>\n    </tr>\n    <tr>\n      <th>9</th>\n      <td>20010</td>\n      <td>2020-03-11T09:09:53</td>\n      <td>None</td>\n      <td>360.0</td>\n    </tr>\n    <tr>\n      <th>10</th>\n      <td>20011</td>\n      <td>2020-04-01T10:54:00</td>\n      <td>2020-04-04T05:23:24.012302</td>\n      <td>360.0</td>\n    </tr>\n    <tr>\n      <th>11</th>\n      <td>20012</td>\n      <td>2020-03-13T02:33:42</td>\n      <td>None</td>\n      <td>620.0</td>\n    </tr>\n    <tr>\n      <th>12</th>\n      <td>20013</td>\n      <td>2020-05-21T07:11:43</td>\n      <td>2020-05-24T11:41:42.620405</td>\n      <td>360.0</td>\n    </tr>\n    <tr>\n      <th>13</th>\n      <td>20014</td>\n      <td>2020-01-26T15:18:40</td>\n      <td>2020-01-28T22:07:35.454880</td>\n      <td>620.0</td>\n    </tr>\n    <tr>\n      <th>14</th>\n      <td>20015</td>\n      <td>2020-02-19T02:37:29</td>\n      <td>2020-02-21T15:05:39.511936</td>\n      <td>516.0</td>\n    </tr>\n    <tr>\n      <th>15</th>\n      <td>20016</td>\n      <td>2020-03-10T10:02:36</td>\n      <td>2020-03-12T17:38:43.526086</td>\n      <td>620.0</td>\n    </tr>\n    <tr>\n      <th>16</th>\n      <td>20017</td>\n      <td>2020-01-31T14:18:52</td>\n      <td>2020-02-03T20:10:42.546691</td>\n      <td>620.0</td>\n    </tr>\n    <tr>\n      <th>17</th>\n      <td>20018</td>\n      <td>2020-03-25T19:19:50</td>\n      <td>2020-03-28T11:58:35.969380</td>\n      <td>516.0</td>\n    </tr>\n    <tr>\n      <th>18</th>\n      <td>20019</td>\n      <td>2020-04-30T04:56:57</td>\n      <td>2020-05-02T19:12:52.189506</td>\n      <td>516.0</td>\n    </tr>\n    <tr>\n      <th>19</th>\n      <td>20020</td>\n      <td>2020-03-12T14:50:27</td>\n      <td>2020-03-15T06:20:15.675556</td>\n      <td>620.0</td>\n    </tr>\n    <tr>\n      <th>20</th>\n      <td>20021</td>\n      <td>2020-05-19T10:07:02</td>\n      <td>2020-05-22T21:21:51.972539</td>\n      <td>360.0</td>\n    </tr>\n    <tr>\n      <th>21</th>\n      <td>20022</td>\n      <td>2020-02-11T05:36:06</td>\n      <td>2020-02-14T17:19:25.346458</td>\n      <td>360.0</td>\n    </tr>\n    <tr>\n      <th>22</th>\n      <td>20023</td>\n      <td>2020-01-22T17:58:54</td>\n      <td>2020-01-25T13:56:39.743533</td>\n      <td>620.0</td>\n    </tr>\n    <tr>\n      <th>23</th>\n      <td>20024</td>\n      <td>2020-01-02T11:46:41</td>\n      <td>2020-01-05T20:47:00.609117</td>\n      <td>360.0</td>\n    </tr>\n    <tr>\n      <th>24</th>\n      <td>20025</td>\n      <td>2020-05-12T11:13:41</td>\n      <td>2020-05-15T17:53:52.676295</td>\n      <td>620.0</td>\n    </tr>\n    <tr>\n      <th>25</th>\n      <td>20026</td>\n      <td>2020-01-18T00:53:47</td>\n      <td>2020-01-21T04:41:03.696400</td>\n      <td>360.0</td>\n    </tr>\n    <tr>\n      <th>26</th>\n      <td>20027</td>\n      <td>2020-05-20T02:37:45</td>\n      <td>2020-05-20T23:05:29.829888</td>\n      <td>360.0</td>\n    </tr>\n    <tr>\n      <th>27</th>\n      <td>20028</td>\n      <td>2020-03-24T01:38:50</td>\n      <td>2020-03-25T01:58:56.997742</td>\n      <td>360.0</td>\n    </tr>\n    <tr>\n      <th>28</th>\n      <td>20029</td>\n      <td>2020-04-22T16:57:32</td>\n      <td>2020-04-22T23:34:14.919037</td>\n      <td>620.0</td>\n    </tr>\n    <tr>\n      <th>29</th>\n      <td>20030</td>\n      <td>2020-02-02T23:15:31</td>\n      <td>2020-02-03T13:56:26.133110</td>\n      <td>620.0</td>\n    </tr>\n  </tbody>\n</table>\n</div>"
     },
     "execution_count": 42,
     "metadata": {},
     "output_type": "execute_result"
    }
   ],
   "source": [
    "deliveries = load_file(\"../data/deliveries.jsonl\")\n",
    "deliveries.head(30)"
   ]
  },
  {
   "cell_type": "code",
   "execution_count": 43,
   "metadata": {
    "pycharm": {
     "name": "#%%\n"
    }
   },
   "outputs": [
    {
     "data": {
      "text/plain": "    session_id            timestamp  user_id  product_id    event_type  \\\n0       100001  2020-04-13T14:24:55    102.0         NaN  VIEW_PRODUCT   \n1       100001  2020-04-13T14:28:34    102.0      1046.0  VIEW_PRODUCT   \n2       100001  2020-04-13T14:33:28    102.0      1043.0  VIEW_PRODUCT   \n3       100001  2020-04-13T14:36:52      NaN      1043.0   BUY_PRODUCT   \n4       100002  2020-04-19T16:28:16    102.0      1292.0  VIEW_PRODUCT   \n5       100002  2020-04-19T16:32:08    102.0      1286.0  VIEW_PRODUCT   \n6       100002  2020-04-19T16:36:14    102.0      1287.0  VIEW_PRODUCT   \n7       100002  2020-04-19T16:41:11    102.0      1287.0   BUY_PRODUCT   \n8       100003  2020-03-22T23:23:29    102.0      1005.0  VIEW_PRODUCT   \n9       100003  2020-03-22T23:28:29    102.0      1011.0  VIEW_PRODUCT   \n10      100003  2020-03-22T23:30:24    102.0      1009.0  VIEW_PRODUCT   \n11      100003  2020-03-22T23:31:21    102.0      1009.0   BUY_PRODUCT   \n12      100004  2020-05-06T06:56:31    102.0      1076.0  VIEW_PRODUCT   \n13      100004  2020-05-06T07:01:15      NaN      1078.0  VIEW_PRODUCT   \n14      100004  2020-05-06T07:06:04    102.0      1077.0  VIEW_PRODUCT   \n15      100004  2020-05-06T07:06:41      NaN      1081.0  VIEW_PRODUCT   \n16      100004  2020-05-06T07:08:11    102.0      1081.0   BUY_PRODUCT   \n17      100005  2020-02-04T11:59:58    102.0      1053.0  VIEW_PRODUCT   \n18      100005  2020-02-04T12:03:34    102.0      1051.0  VIEW_PRODUCT   \n19      100005  2020-02-04T12:05:15    102.0      1055.0  VIEW_PRODUCT   \n20      100005  2020-02-04T12:06:28    102.0      1052.0  VIEW_PRODUCT   \n21      100005  2020-02-04T12:10:28    102.0         NaN  VIEW_PRODUCT   \n22      100005  2020-02-04T12:11:35    102.0         NaN  VIEW_PRODUCT   \n23      100005  2020-02-04T12:14:21    102.0      1049.0  VIEW_PRODUCT   \n24      100005  2020-02-04T12:15:58    102.0      1057.0  VIEW_PRODUCT   \n25      100005  2020-02-04T12:19:06    102.0      1056.0  VIEW_PRODUCT   \n26      100005  2020-02-04T12:19:50    102.0      1048.0  VIEW_PRODUCT   \n27      100006  2020-03-21T12:11:31    102.0      1318.0  VIEW_PRODUCT   \n28      100006  2020-03-21T12:13:21    102.0      1318.0   BUY_PRODUCT   \n29      100007  2020-04-20T17:21:18    102.0      1001.0  VIEW_PRODUCT   \n\n    offered_discount  purchase_id  \n0                 20          NaN  \n1                 20          NaN  \n2                 20          NaN  \n3                 20      20001.0  \n4                  5          NaN  \n5                  5          NaN  \n6                  5          NaN  \n7                  5      20002.0  \n8                 15          NaN  \n9                 15          NaN  \n10                15          NaN  \n11                15      20003.0  \n12                 0          NaN  \n13                 0          NaN  \n14                 0          NaN  \n15                 0          NaN  \n16                 0      20004.0  \n17                 0          NaN  \n18                 0          NaN  \n19                 0          NaN  \n20                 0          NaN  \n21                 0          NaN  \n22                 0          NaN  \n23                 0          NaN  \n24                 0          NaN  \n25                 0          NaN  \n26                 0          NaN  \n27                 0          NaN  \n28                 0      20005.0  \n29                 0          NaN  ",
      "text/html": "<div>\n<style scoped>\n    .dataframe tbody tr th:only-of-type {\n        vertical-align: middle;\n    }\n\n    .dataframe tbody tr th {\n        vertical-align: top;\n    }\n\n    .dataframe thead th {\n        text-align: right;\n    }\n</style>\n<table border=\"1\" class=\"dataframe\">\n  <thead>\n    <tr style=\"text-align: right;\">\n      <th></th>\n      <th>session_id</th>\n      <th>timestamp</th>\n      <th>user_id</th>\n      <th>product_id</th>\n      <th>event_type</th>\n      <th>offered_discount</th>\n      <th>purchase_id</th>\n    </tr>\n  </thead>\n  <tbody>\n    <tr>\n      <th>0</th>\n      <td>100001</td>\n      <td>2020-04-13T14:24:55</td>\n      <td>102.0</td>\n      <td>NaN</td>\n      <td>VIEW_PRODUCT</td>\n      <td>20</td>\n      <td>NaN</td>\n    </tr>\n    <tr>\n      <th>1</th>\n      <td>100001</td>\n      <td>2020-04-13T14:28:34</td>\n      <td>102.0</td>\n      <td>1046.0</td>\n      <td>VIEW_PRODUCT</td>\n      <td>20</td>\n      <td>NaN</td>\n    </tr>\n    <tr>\n      <th>2</th>\n      <td>100001</td>\n      <td>2020-04-13T14:33:28</td>\n      <td>102.0</td>\n      <td>1043.0</td>\n      <td>VIEW_PRODUCT</td>\n      <td>20</td>\n      <td>NaN</td>\n    </tr>\n    <tr>\n      <th>3</th>\n      <td>100001</td>\n      <td>2020-04-13T14:36:52</td>\n      <td>NaN</td>\n      <td>1043.0</td>\n      <td>BUY_PRODUCT</td>\n      <td>20</td>\n      <td>20001.0</td>\n    </tr>\n    <tr>\n      <th>4</th>\n      <td>100002</td>\n      <td>2020-04-19T16:28:16</td>\n      <td>102.0</td>\n      <td>1292.0</td>\n      <td>VIEW_PRODUCT</td>\n      <td>5</td>\n      <td>NaN</td>\n    </tr>\n    <tr>\n      <th>5</th>\n      <td>100002</td>\n      <td>2020-04-19T16:32:08</td>\n      <td>102.0</td>\n      <td>1286.0</td>\n      <td>VIEW_PRODUCT</td>\n      <td>5</td>\n      <td>NaN</td>\n    </tr>\n    <tr>\n      <th>6</th>\n      <td>100002</td>\n      <td>2020-04-19T16:36:14</td>\n      <td>102.0</td>\n      <td>1287.0</td>\n      <td>VIEW_PRODUCT</td>\n      <td>5</td>\n      <td>NaN</td>\n    </tr>\n    <tr>\n      <th>7</th>\n      <td>100002</td>\n      <td>2020-04-19T16:41:11</td>\n      <td>102.0</td>\n      <td>1287.0</td>\n      <td>BUY_PRODUCT</td>\n      <td>5</td>\n      <td>20002.0</td>\n    </tr>\n    <tr>\n      <th>8</th>\n      <td>100003</td>\n      <td>2020-03-22T23:23:29</td>\n      <td>102.0</td>\n      <td>1005.0</td>\n      <td>VIEW_PRODUCT</td>\n      <td>15</td>\n      <td>NaN</td>\n    </tr>\n    <tr>\n      <th>9</th>\n      <td>100003</td>\n      <td>2020-03-22T23:28:29</td>\n      <td>102.0</td>\n      <td>1011.0</td>\n      <td>VIEW_PRODUCT</td>\n      <td>15</td>\n      <td>NaN</td>\n    </tr>\n    <tr>\n      <th>10</th>\n      <td>100003</td>\n      <td>2020-03-22T23:30:24</td>\n      <td>102.0</td>\n      <td>1009.0</td>\n      <td>VIEW_PRODUCT</td>\n      <td>15</td>\n      <td>NaN</td>\n    </tr>\n    <tr>\n      <th>11</th>\n      <td>100003</td>\n      <td>2020-03-22T23:31:21</td>\n      <td>102.0</td>\n      <td>1009.0</td>\n      <td>BUY_PRODUCT</td>\n      <td>15</td>\n      <td>20003.0</td>\n    </tr>\n    <tr>\n      <th>12</th>\n      <td>100004</td>\n      <td>2020-05-06T06:56:31</td>\n      <td>102.0</td>\n      <td>1076.0</td>\n      <td>VIEW_PRODUCT</td>\n      <td>0</td>\n      <td>NaN</td>\n    </tr>\n    <tr>\n      <th>13</th>\n      <td>100004</td>\n      <td>2020-05-06T07:01:15</td>\n      <td>NaN</td>\n      <td>1078.0</td>\n      <td>VIEW_PRODUCT</td>\n      <td>0</td>\n      <td>NaN</td>\n    </tr>\n    <tr>\n      <th>14</th>\n      <td>100004</td>\n      <td>2020-05-06T07:06:04</td>\n      <td>102.0</td>\n      <td>1077.0</td>\n      <td>VIEW_PRODUCT</td>\n      <td>0</td>\n      <td>NaN</td>\n    </tr>\n    <tr>\n      <th>15</th>\n      <td>100004</td>\n      <td>2020-05-06T07:06:41</td>\n      <td>NaN</td>\n      <td>1081.0</td>\n      <td>VIEW_PRODUCT</td>\n      <td>0</td>\n      <td>NaN</td>\n    </tr>\n    <tr>\n      <th>16</th>\n      <td>100004</td>\n      <td>2020-05-06T07:08:11</td>\n      <td>102.0</td>\n      <td>1081.0</td>\n      <td>BUY_PRODUCT</td>\n      <td>0</td>\n      <td>20004.0</td>\n    </tr>\n    <tr>\n      <th>17</th>\n      <td>100005</td>\n      <td>2020-02-04T11:59:58</td>\n      <td>102.0</td>\n      <td>1053.0</td>\n      <td>VIEW_PRODUCT</td>\n      <td>0</td>\n      <td>NaN</td>\n    </tr>\n    <tr>\n      <th>18</th>\n      <td>100005</td>\n      <td>2020-02-04T12:03:34</td>\n      <td>102.0</td>\n      <td>1051.0</td>\n      <td>VIEW_PRODUCT</td>\n      <td>0</td>\n      <td>NaN</td>\n    </tr>\n    <tr>\n      <th>19</th>\n      <td>100005</td>\n      <td>2020-02-04T12:05:15</td>\n      <td>102.0</td>\n      <td>1055.0</td>\n      <td>VIEW_PRODUCT</td>\n      <td>0</td>\n      <td>NaN</td>\n    </tr>\n    <tr>\n      <th>20</th>\n      <td>100005</td>\n      <td>2020-02-04T12:06:28</td>\n      <td>102.0</td>\n      <td>1052.0</td>\n      <td>VIEW_PRODUCT</td>\n      <td>0</td>\n      <td>NaN</td>\n    </tr>\n    <tr>\n      <th>21</th>\n      <td>100005</td>\n      <td>2020-02-04T12:10:28</td>\n      <td>102.0</td>\n      <td>NaN</td>\n      <td>VIEW_PRODUCT</td>\n      <td>0</td>\n      <td>NaN</td>\n    </tr>\n    <tr>\n      <th>22</th>\n      <td>100005</td>\n      <td>2020-02-04T12:11:35</td>\n      <td>102.0</td>\n      <td>NaN</td>\n      <td>VIEW_PRODUCT</td>\n      <td>0</td>\n      <td>NaN</td>\n    </tr>\n    <tr>\n      <th>23</th>\n      <td>100005</td>\n      <td>2020-02-04T12:14:21</td>\n      <td>102.0</td>\n      <td>1049.0</td>\n      <td>VIEW_PRODUCT</td>\n      <td>0</td>\n      <td>NaN</td>\n    </tr>\n    <tr>\n      <th>24</th>\n      <td>100005</td>\n      <td>2020-02-04T12:15:58</td>\n      <td>102.0</td>\n      <td>1057.0</td>\n      <td>VIEW_PRODUCT</td>\n      <td>0</td>\n      <td>NaN</td>\n    </tr>\n    <tr>\n      <th>25</th>\n      <td>100005</td>\n      <td>2020-02-04T12:19:06</td>\n      <td>102.0</td>\n      <td>1056.0</td>\n      <td>VIEW_PRODUCT</td>\n      <td>0</td>\n      <td>NaN</td>\n    </tr>\n    <tr>\n      <th>26</th>\n      <td>100005</td>\n      <td>2020-02-04T12:19:50</td>\n      <td>102.0</td>\n      <td>1048.0</td>\n      <td>VIEW_PRODUCT</td>\n      <td>0</td>\n      <td>NaN</td>\n    </tr>\n    <tr>\n      <th>27</th>\n      <td>100006</td>\n      <td>2020-03-21T12:11:31</td>\n      <td>102.0</td>\n      <td>1318.0</td>\n      <td>VIEW_PRODUCT</td>\n      <td>0</td>\n      <td>NaN</td>\n    </tr>\n    <tr>\n      <th>28</th>\n      <td>100006</td>\n      <td>2020-03-21T12:13:21</td>\n      <td>102.0</td>\n      <td>1318.0</td>\n      <td>BUY_PRODUCT</td>\n      <td>0</td>\n      <td>20005.0</td>\n    </tr>\n    <tr>\n      <th>29</th>\n      <td>100007</td>\n      <td>2020-04-20T17:21:18</td>\n      <td>102.0</td>\n      <td>1001.0</td>\n      <td>VIEW_PRODUCT</td>\n      <td>0</td>\n      <td>NaN</td>\n    </tr>\n  </tbody>\n</table>\n</div>"
     },
     "execution_count": 43,
     "metadata": {},
     "output_type": "execute_result"
    }
   ],
   "source": [
    "sessions = load_file(\"../data/sessions.jsonl\")\n",
    "sessions.head(30)"
   ]
  },
  {
   "cell_type": "code",
   "execution_count": 44,
   "metadata": {
    "pycharm": {
     "name": "#%%\n"
    }
   },
   "outputs": [
    {
     "data": {
      "text/plain": "   product_id                                    product_name  \\\n0        1001                   Telefon Siemens Gigaset DA310   \n1        1002                              Kyocera FS-1135MFP   \n2        1003                              Kyocera FS-3640MFP   \n3        1004                            Fallout 3 (Xbox 360)   \n4        1005  Szalone Króliki Na żywo i w kolorze (Xbox 360)   \n\n                                       category_path    price  \n0          Telefony i akcesoria;Telefony stacjonarne    58.97  \n1  Komputery;Drukarki i skanery;Biurowe urządzeni...  2048.50  \n2  Komputery;Drukarki i skanery;Biurowe urządzeni...  7639.00  \n3          Gry i konsole;Gry na konsole;Gry Xbox 360    49.99  \n4          Gry i konsole;Gry na konsole;Gry Xbox 360    49.99  ",
      "text/html": "<div>\n<style scoped>\n    .dataframe tbody tr th:only-of-type {\n        vertical-align: middle;\n    }\n\n    .dataframe tbody tr th {\n        vertical-align: top;\n    }\n\n    .dataframe thead th {\n        text-align: right;\n    }\n</style>\n<table border=\"1\" class=\"dataframe\">\n  <thead>\n    <tr style=\"text-align: right;\">\n      <th></th>\n      <th>product_id</th>\n      <th>product_name</th>\n      <th>category_path</th>\n      <th>price</th>\n    </tr>\n  </thead>\n  <tbody>\n    <tr>\n      <th>0</th>\n      <td>1001</td>\n      <td>Telefon Siemens Gigaset DA310</td>\n      <td>Telefony i akcesoria;Telefony stacjonarne</td>\n      <td>58.97</td>\n    </tr>\n    <tr>\n      <th>1</th>\n      <td>1002</td>\n      <td>Kyocera FS-1135MFP</td>\n      <td>Komputery;Drukarki i skanery;Biurowe urządzeni...</td>\n      <td>2048.50</td>\n    </tr>\n    <tr>\n      <th>2</th>\n      <td>1003</td>\n      <td>Kyocera FS-3640MFP</td>\n      <td>Komputery;Drukarki i skanery;Biurowe urządzeni...</td>\n      <td>7639.00</td>\n    </tr>\n    <tr>\n      <th>3</th>\n      <td>1004</td>\n      <td>Fallout 3 (Xbox 360)</td>\n      <td>Gry i konsole;Gry na konsole;Gry Xbox 360</td>\n      <td>49.99</td>\n    </tr>\n    <tr>\n      <th>4</th>\n      <td>1005</td>\n      <td>Szalone Króliki Na żywo i w kolorze (Xbox 360)</td>\n      <td>Gry i konsole;Gry na konsole;Gry Xbox 360</td>\n      <td>49.99</td>\n    </tr>\n  </tbody>\n</table>\n</div>"
     },
     "execution_count": 44,
     "metadata": {},
     "output_type": "execute_result"
    }
   ],
   "source": [
    "products = load_file(\"../data/products.jsonl\")\n",
    "products.head()"
   ]
  },
  {
   "cell_type": "markdown",
   "metadata": {},
   "source": [
    "### Analiza dostarczonych plików"
   ]
  },
  {
   "cell_type": "code",
   "execution_count": 45,
   "metadata": {
    "pycharm": {
     "name": "#%%\n"
    }
   },
   "outputs": [],
   "source": [
    "# helper functions\n",
    "\n",
    "def generate_sparsity_matrix(dataframe):\n",
    "    missing_df = dataframe.columns[dataframe.isnull().any()].tolist()\n",
    "    msno.matrix(dataframe[missing_df], figsize=(20, 5))\n",
    "\n",
    "def clean_nan_rows(dataframe, print_stats = False):\n",
    "    clean_df = dataframe.dropna(axis=0, how='any')\n",
    "    if print_stats:\n",
    "        print('Original Length=', len(dataframe), '\\tCleaned Length=', len(clean_df), '\\tMissing Data=', len(dataframe) - len(clean_df))\n",
    "    return clean_df\n",
    "\n",
    "def print_null_stats(dataframe):\n",
    "    total_rows = dataframe.shape[0]\n",
    "    null_values = dataframe.isnull().sum(axis = 0)\n",
    "\n",
    "    print(\"Total rows: \", total_rows)\n",
    "    print(\"\\nNull values per culumn:\")\n",
    "    print(null_values)"
   ]
  },
  {
   "cell_type": "markdown",
   "metadata": {},
   "source": [
    "#### Users"
   ]
  },
  {
   "cell_type": "code",
   "execution_count": 46,
   "metadata": {
    "pycharm": {
     "name": "#%%\n"
    }
   },
   "outputs": [
    {
     "name": "stdout",
     "output_type": "stream",
     "text": [
      "Total rows:  200\n",
      "\n",
      "Null values per culumn:\n",
      "user_id    0\n",
      "name       0\n",
      "city       0\n",
      "street     0\n",
      "dtype: int64\n"
     ]
    }
   ],
   "source": [
    "print_null_stats(users)"
   ]
  },
  {
   "cell_type": "markdown",
   "metadata": {},
   "source": [
    "Dane `users` przechowują informacje o id użytkownika, imieniu i nazwisku i adresie. Nie posiadają żadnych brakujących wartości."
   ]
  },
  {
   "cell_type": "code",
   "execution_count": 47,
   "metadata": {
    "pycharm": {
     "name": "#%%\n"
    }
   },
   "outputs": [
    {
     "data": {
      "text/plain": "<matplotlib.axes._subplots.AxesSubplot at 0x7f1d3ae54a58>"
     },
     "execution_count": 47,
     "metadata": {},
     "output_type": "execute_result"
    },
    {
     "data": {
      "text/plain": "<Figure size 432x288 with 1 Axes>",
      "image/png": "[encoded data removed]"
     },
     "metadata": {
      "needs_background": "light"
     },
     "output_type": "display_data"
    }
   ],
   "source": [
    "sn.countplot(x=\"city\", data=users)"
   ]
  },
  {
   "cell_type": "markdown",
   "metadata": {},
   "source": [
    "#### Products"
   ]
  },
  {
   "cell_type": "code",
   "execution_count": 48,
   "metadata": {
    "pycharm": {
     "name": "#%%\n"
    }
   },
   "outputs": [
    {
     "name": "stdout",
     "output_type": "stream",
     "text": [
      "Total rows:  319\n",
      "\n",
      "Null values per culumn:\n",
      "product_id       0\n",
      "product_name     0\n",
      "category_path    0\n",
      "price            0\n",
      "dtype: int64\n",
      "\n",
      "Negative prices count:  13\n"
     ]
    }
   ],
   "source": [
    "print_null_stats(products)\n",
    "\n",
    "negative_prices_count = products[products[\"price\"] < 0].shape[0]\n",
    "\n",
    "print(\"\\nNegative prices count: \", negative_prices_count)"
   ]
  },
  {
   "cell_type": "markdown",
   "metadata": {},
   "source": [
    "Dane `products` przechowują informacje o id produktu, jego nazwie, kategorii i cenie. Nie posiadają żadnych brakujących wartości. Występuje 15 przypadków, kiedy cena jest ujemna, co może budzić wątwpliwości, ale dalsza analiza tych danych w naszym przypadku nie jest konieczna, gdyż nie niosą one potrzebnych nam informacji."
   ]
  },
  {
   "cell_type": "markdown",
   "metadata": {},
   "source": [
    "#### Deliveries"
   ]
  },
  {
   "cell_type": "code",
   "execution_count": 49,
   "metadata": {
    "pycharm": {
     "name": "#%%\n"
    }
   },
   "outputs": [
    {
     "name": "stdout",
     "output_type": "stream",
     "text": [
      "Total rows:  7215\n",
      "\n",
      "Null values per culumn:\n",
      "purchase_id             0\n",
      "purchase_timestamp      0\n",
      "delivery_timestamp    366\n",
      "delivery_company      375\n",
      "dtype: int64\n",
      "\n",
      "Brakujące czasy dostawy w deliveries:\n",
      "\n",
      "Original Length= 7215 \tCleaned Length= 6849 \tMissing Data= 366\n",
      "\n",
      "Brakujące firmy kurierskie w deliveries:\n",
      "\n",
      "Original Length= 7215 \tCleaned Length= 6840 \tMissing Data= 375\n",
      "\n",
      "Brakujące dane w deliveries:\n"
     ]
    },
    {
     "data": {
      "text/plain": "<Figure size 1440x360 with 2 Axes>",
      "image/png": "[encoded data removed]"
     },
     "metadata": {
      "needs_background": "light"
     },
     "output_type": "display_data"
    }
   ],
   "source": [
    "print_null_stats(deliveries)\n",
    "\n",
    "print(\"\\nBrakujące czasy dostawy w deliveries:\\n\")\n",
    "clean_nan_rows(dataframe=deliveries['delivery_timestamp'], print_stats=True)\n",
    "\n",
    "print(\"\\nBrakujące firmy kurierskie w deliveries:\\n\")\n",
    "clean_nan_rows(dataframe=deliveries['delivery_company'], print_stats=True)\n",
    "\n",
    "print(\"\\nBrakujące dane w deliveries:\")\n",
    "generate_sparsity_matrix(deliveries)"
   ]
  },
  {
   "cell_type": "markdown",
   "metadata": {},
   "source": [
    "Dane `deliveries` przechowują informacje o id zakupu (powiązane z `purchase_id` w `sessions`), czasie złożenia zamowienia, czasie dostawy i firmie kurierskiej, która realizowała przesyłkę. Są to dla nas dane szczególnie istotne. Uwagę zwracają brakujące czasy dostawy (`delivery_timestamp`) dla 382 rekordów i brak identyfikatora firmy kurierskiej (`delivery_company`) dla 362, co może być dla nas problemem."
   ]
  },
  {
   "cell_type": "markdown",
   "metadata": {},
   "source": [
    "##### Analiza firm kurierskich"
   ]
  },
  {
   "cell_type": "code",
   "execution_count": 50,
   "metadata": {
    "pycharm": {
     "name": "#%%\n"
    }
   },
   "outputs": [
    {
     "data": {
      "text/plain": "<matplotlib.axes._subplots.AxesSubplot at 0x7f1d2bd32d30>"
     },
     "execution_count": 50,
     "metadata": {},
     "output_type": "execute_result"
    },
    {
     "data": {
      "text/plain": "<Figure size 432x288 with 1 Axes>",
      "image/png": "[encoded data removed]"
     },
     "metadata": {
      "needs_background": "light"
     },
     "output_type": "display_data"
    }
   ],
   "source": [
    "deliveries[\"delivery_company\"].value_counts()\n",
    "sn.countplot(x=\"delivery_company\", data=deliveries)"
   ]
  },
  {
   "cell_type": "markdown",
   "metadata": {},
   "source": [
    "Przesyłki obsługują 3 firmy kurierskie, realizując zbliżoną liczbę zamówień."
   ]
  },
  {
   "cell_type": "code",
   "execution_count": 51,
   "metadata": {
    "pycharm": {
     "name": "#%%\n"
    }
   },
   "outputs": [
    {
     "data": {
      "text/plain": "<matplotlib.axes._subplots.AxesSubplot at 0x7f1d2bea2cc0>"
     },
     "execution_count": 51,
     "metadata": {},
     "output_type": "execute_result"
    },
    {
     "data": {
      "text/plain": "<Figure size 432x288 with 1 Axes>",
      "image/png": "[encoded data removed]"
     },
     "metadata": {
      "needs_background": "light"
     },
     "output_type": "display_data"
    }
   ],
   "source": [
    "a = deliveries[deliveries[\"delivery_timestamp\"].isnull()] \n",
    "sn.countplot(x=\"delivery_company\", data=a)"
   ]
  },
  {
   "cell_type": "markdown",
   "metadata": {},
   "source": [
    "Rozkład braków w `delivery_timestamp` jest zbliżony dla każdej z firm."
   ]
  },
  {
   "cell_type": "markdown",
   "metadata": {},
   "source": [
    "#### Dodatkowe analizy"
   ]
  },
  {
   "cell_type": "code",
   "execution_count": 52,
   "metadata": {
    "pycharm": {
     "name": "#%%\n"
    }
   },
   "outputs": [
    {
     "data": {
      "text/plain": "36"
     },
     "execution_count": 52,
     "metadata": {},
     "output_type": "execute_result"
    }
   ],
   "source": [
    "deliveries[deliveries[\"purchase_timestamp\"] > deliveries[\"delivery_timestamp\"]].shape[0]"
   ]
  },
  {
   "cell_type": "markdown",
   "metadata": {},
   "source": [
    "Nie występują anomalie, kiedy zamówienie wystąpiło później niż czas dostawy."
   ]
  },
  {
   "cell_type": "markdown",
   "metadata": {},
   "source": [
    "### Sessions"
   ]
  },
  {
   "cell_type": "code",
   "execution_count": 53,
   "metadata": {
    "pycharm": {
     "name": "#%%\n"
    }
   },
   "outputs": [
    {
     "name": "stdout",
     "output_type": "stream",
     "text": [
      "Total rows:  39374\n",
      "\n",
      "Null values per culumn:\n",
      "session_id              0\n",
      "timestamp               0\n",
      "user_id              2019\n",
      "product_id           1933\n",
      "event_type              0\n",
      "offered_discount        0\n",
      "purchase_id         32159\n",
      "dtype: int64\n"
     ]
    }
   ],
   "source": [
    "print_null_stats(sessions)"
   ]
  },
  {
   "cell_type": "markdown",
   "metadata": {},
   "source": [
    "Dane `sessions` przechowują informacje o zarejestrowanych zdarzeniach związanych z produktami, a dokładniej są to: id sesji, czas jej utworzenia, id użytkownika powiązane z sesją, id produktu, proponowana promocja na produkt, typ zdarzenia (produkt kupiony, produkt zobaczony) i powiązane id zakupu.\n",
    "\n",
    "Interesują nas zdarzenia dotyczące kupionych produktów, bo tylko takie są dostarczane.\n",
    "\n",
    "Te dane są dla nas kluczowe, ponieważ pozwalają powiązać dostawę (poprzez wartość `purchase_id`) z użytkownikiem (poprzez wartość `user_id`), a co za tym idzie z adresem.\n",
    "\n",
    "Należy zatem sprawdzić, czy takie złączenie jest zawsze możliwe."
   ]
  },
  {
   "cell_type": "markdown",
   "metadata": {},
   "source": [
    "##### Analiza kupionych produktów"
   ]
  },
  {
   "cell_type": "markdown",
   "metadata": {},
   "source": [
    "Upewnijmy się, że zdarzeniu `BUY_PRODUCT` zawsze odpowiada jakieś `purchase_id`."
   ]
  },
  {
   "cell_type": "code",
   "execution_count": 54,
   "metadata": {
    "pycharm": {
     "name": "#%%\n"
    }
   },
   "outputs": [
    {
     "data": {
      "text/plain": "0"
     },
     "execution_count": 54,
     "metadata": {},
     "output_type": "execute_result"
    }
   ],
   "source": [
    "sessions[(sessions[\"event_type\"] == \"BUY_PRODUCT\") & (sessions[\"purchase_id\"].isnull())].shape[0]"
   ]
  },
  {
   "cell_type": "markdown",
   "metadata": {},
   "source": [
    "Wyselekcjonujmy z `sessions` tylko interesujące nas zdarzenia (dotyczące zdarzenia `BUY_PRODUCT`) i sprawdźmy braki danych."
   ]
  },
  {
   "cell_type": "code",
   "execution_count": 55,
   "metadata": {
    "pycharm": {
     "name": "#%%\n"
    }
   },
   "outputs": [
    {
     "name": "stdout",
     "output_type": "stream",
     "text": [
      "Brakujące user_id w sessions dla zdarzenia BUY_PRODUCT\n",
      "\n",
      "Original Length= 7215 \tCleaned Length= 6848 \tMissing Data= 367\n",
      "\n",
      "Brakujące dane w sessions dla operacji BUY_PRODUCT:\n"
     ]
    },
    {
     "data": {
      "text/plain": "<Figure size 1440x360 with 2 Axes>",
      "image/png": "[encoded data removed]"
     },
     "metadata": {
      "needs_background": "light"
     },
     "output_type": "display_data"
    }
   ],
   "source": [
    "buy_sessions = sessions[sessions.event_type == 'BUY_PRODUCT']\n",
    "\n",
    "print(\"Brakujące user_id w sessions dla zdarzenia BUY_PRODUCT\\n\")\n",
    "clean_nan_rows(dataframe=buy_sessions['user_id'], print_stats=True)\n",
    "\n",
    "print(\"\\nBrakujące dane w sessions dla operacji BUY_PRODUCT:\")\n",
    "generate_sparsity_matrix(buy_sessions)"
   ]
  },
  {
   "cell_type": "markdown",
   "metadata": {},
   "source": [
    "Jak widać nie wszystkie sesje zakończone zakupem posiadają id użytkownika, co mogłoby być przydatne do ustalenia adresu dostawy.\n",
    "\n",
    "Taki brak da się jednak uzupełnić, jeśli dla danej sesji istnieje inna akcja, w której id użytkownika jest znane.\n",
    "\n",
    "**Przykład:**\n",
    "\n",
    "```json\n",
    "{\"session_id\": 100007, \"timestamp\": \"2020-02-02T02:03:15\", \"user_id\": 102, \"product_id\": 1045, \"event_type\": \"VIEW_PRODUCT\", \"offered_discount\": 20, \"purchase_id\": null}\n",
    "\n",
    "\n",
    "{\"session_id\": 100007, \"timestamp\": \"2020-02-02T02:07:04\", \"user_id\": null, \"product_id\": 1045, \"event_type\": \"BUY_PRODUCT\", \"offered_discount\": 20, \"purchase_id\": 20006}\n",
    "```\n",
    "\n",
    "Chociaż dla zakupu o id `20006` nie jest zdefiniowane `user_id`, to z całej sesji o id `100007` możemy to wywnioskować i uzupełnić brak ustawiając `user_id` na `102`.\n",
    "\n",
    "\n",
    "Jeśli to możliwe, należy takie dane uzupełnić."
   ]
  },
  {
   "cell_type": "markdown",
   "metadata": {
    "pycharm": {
     "name": "#%% md\n"
    }
   },
   "source": [
    "### Transformacje\n",
    "\n",
    "Dokonajmy potrzebnych tranformacji na danych."
   ]
  },
  {
   "cell_type": "markdown",
   "metadata": {},
   "source": [
    "#### Podział na kategorię główną i podkategorię"
   ]
  },
  {
   "cell_type": "code",
   "execution_count": 56,
   "metadata": {
    "pycharm": {
     "name": "#%%\n"
    }
   },
   "outputs": [
    {
     "data": {
      "text/plain": "     product_id                                    product_name  \\\n0          1001                   Telefon Siemens Gigaset DA310   \n1          1002                              Kyocera FS-1135MFP   \n2          1003                              Kyocera FS-3640MFP   \n3          1004                            Fallout 3 (Xbox 360)   \n4          1005  Szalone Króliki Na żywo i w kolorze (Xbox 360)   \n..          ...                                             ...   \n314        1315                                      Jabra Talk   \n315        1316                      Plantronics Voyager Legend   \n316        1317                           Plantronics Savi W740   \n317        1318                           Plantronics Savi W710   \n318        1319                                     HTC HS-S200   \n\n                                         category_path    price  \\\n0            Telefony i akcesoria;Telefony stacjonarne    58.97   \n1    Komputery;Drukarki i skanery;Biurowe urządzeni...  2048.50   \n2    Komputery;Drukarki i skanery;Biurowe urządzeni...  7639.00   \n3            Gry i konsole;Gry na konsole;Gry Xbox 360    49.99   \n4            Gry i konsole;Gry na konsole;Gry Xbox 360    49.99   \n..                                                 ...      ...   \n314  Telefony i akcesoria;Akcesoria telefoniczne;Ze...    54.99   \n315  Telefony i akcesoria;Akcesoria telefoniczne;Ze...   249.00   \n316  Telefony i akcesoria;Akcesoria telefoniczne;Ze...  1303.96   \n317                         Sprzęt RTV;Audio;Słuchawki   553.00   \n318  Telefony i akcesoria;Akcesoria telefoniczne;Ze...    14.99   \n\n                 category             subcategory  \n0    Telefony i akcesoria    Telefony stacjonarne  \n1               Komputery      Drukarki i skanery  \n2               Komputery      Drukarki i skanery  \n3           Gry i konsole          Gry na konsole  \n4           Gry i konsole          Gry na konsole  \n..                    ...                     ...  \n314  Telefony i akcesoria  Akcesoria telefoniczne  \n315  Telefony i akcesoria  Akcesoria telefoniczne  \n316  Telefony i akcesoria  Akcesoria telefoniczne  \n317            Sprzęt RTV                   Audio  \n318  Telefony i akcesoria  Akcesoria telefoniczne  \n\n[319 rows x 6 columns]",
      "text/html": "<div>\n<style scoped>\n    .dataframe tbody tr th:only-of-type {\n        vertical-align: middle;\n    }\n\n    .dataframe tbody tr th {\n        vertical-align: top;\n    }\n\n    .dataframe thead th {\n        text-align: right;\n    }\n</style>\n<table border=\"1\" class=\"dataframe\">\n  <thead>\n    <tr style=\"text-align: right;\">\n      <th></th>\n      <th>product_id</th>\n      <th>product_name</th>\n      <th>category_path</th>\n      <th>price</th>\n      <th>category</th>\n      <th>subcategory</th>\n    </tr>\n  </thead>\n  <tbody>\n    <tr>\n      <th>0</th>\n      <td>1001</td>\n      <td>Telefon Siemens Gigaset DA310</td>\n      <td>Telefony i akcesoria;Telefony stacjonarne</td>\n      <td>58.97</td>\n      <td>Telefony i akcesoria</td>\n      <td>Telefony stacjonarne</td>\n    </tr>\n    <tr>\n      <th>1</th>\n      <td>1002</td>\n      <td>Kyocera FS-1135MFP</td>\n      <td>Komputery;Drukarki i skanery;Biurowe urządzeni...</td>\n      <td>2048.50</td>\n      <td>Komputery</td>\n      <td>Drukarki i skanery</td>\n    </tr>\n    <tr>\n      <th>2</th>\n      <td>1003</td>\n      <td>Kyocera FS-3640MFP</td>\n      <td>Komputery;Drukarki i skanery;Biurowe urządzeni...</td>\n      <td>7639.00</td>\n      <td>Komputery</td>\n      <td>Drukarki i skanery</td>\n    </tr>\n    <tr>\n      <th>3</th>\n      <td>1004</td>\n      <td>Fallout 3 (Xbox 360)</td>\n      <td>Gry i konsole;Gry na konsole;Gry Xbox 360</td>\n      <td>49.99</td>\n      <td>Gry i konsole</td>\n      <td>Gry na konsole</td>\n    </tr>\n    <tr>\n      <th>4</th>\n      <td>1005</td>\n      <td>Szalone Króliki Na żywo i w kolorze (Xbox 360)</td>\n      <td>Gry i konsole;Gry na konsole;Gry Xbox 360</td>\n      <td>49.99</td>\n      <td>Gry i konsole</td>\n      <td>Gry na konsole</td>\n    </tr>\n    <tr>\n      <th>...</th>\n      <td>...</td>\n      <td>...</td>\n      <td>...</td>\n      <td>...</td>\n      <td>...</td>\n      <td>...</td>\n    </tr>\n    <tr>\n      <th>314</th>\n      <td>1315</td>\n      <td>Jabra Talk</td>\n      <td>Telefony i akcesoria;Akcesoria telefoniczne;Ze...</td>\n      <td>54.99</td>\n      <td>Telefony i akcesoria</td>\n      <td>Akcesoria telefoniczne</td>\n    </tr>\n    <tr>\n      <th>315</th>\n      <td>1316</td>\n      <td>Plantronics Voyager Legend</td>\n      <td>Telefony i akcesoria;Akcesoria telefoniczne;Ze...</td>\n      <td>249.00</td>\n      <td>Telefony i akcesoria</td>\n      <td>Akcesoria telefoniczne</td>\n    </tr>\n    <tr>\n      <th>316</th>\n      <td>1317</td>\n      <td>Plantronics Savi W740</td>\n      <td>Telefony i akcesoria;Akcesoria telefoniczne;Ze...</td>\n      <td>1303.96</td>\n      <td>Telefony i akcesoria</td>\n      <td>Akcesoria telefoniczne</td>\n    </tr>\n    <tr>\n      <th>317</th>\n      <td>1318</td>\n      <td>Plantronics Savi W710</td>\n      <td>Sprzęt RTV;Audio;Słuchawki</td>\n      <td>553.00</td>\n      <td>Sprzęt RTV</td>\n      <td>Audio</td>\n    </tr>\n    <tr>\n      <th>318</th>\n      <td>1319</td>\n      <td>HTC HS-S200</td>\n      <td>Telefony i akcesoria;Akcesoria telefoniczne;Ze...</td>\n      <td>14.99</td>\n      <td>Telefony i akcesoria</td>\n      <td>Akcesoria telefoniczne</td>\n    </tr>\n  </tbody>\n</table>\n<p>319 rows × 6 columns</p>\n</div>"
     },
     "execution_count": 56,
     "metadata": {},
     "output_type": "execute_result"
    }
   ],
   "source": [
    "category_path_arr = products['category_path'].str.split(';', 2)\n",
    "category_arr = []\n",
    "subcategory_arr = []\n",
    "for path in category_path_arr:\n",
    "    if type(path) == float:\n",
    "        category_arr.append(path)\n",
    "        subcategory_arr.append(path)\n",
    "    else:\n",
    "        category_arr.append(path[0])\n",
    "        subcategory_arr.append(path[1])\n",
    "\n",
    "products['category'] = category_arr\n",
    "products['subcategory'] = subcategory_arr\n",
    "\n",
    "products"
   ]
  },
  {
   "cell_type": "markdown",
   "metadata": {},
   "source": [
    "#### Wypelnienie braków `user_id` w `sessions`"
   ]
  },
  {
   "cell_type": "code",
   "execution_count": 57,
   "metadata": {
    "pycharm": {
     "name": "#%%\n"
    }
   },
   "outputs": [
    {
     "name": "stdout",
     "output_type": "stream",
     "text": [
      "Original Length= 7215 \tCleaned Length= 7205 \tMissing Data= 10\n"
     ]
    },
    {
     "data": {
      "text/plain": "       session_id            timestamp  user_id  product_id   event_type  \\\n3          100001  2020-04-13T14:36:52    102.0      1043.0  BUY_PRODUCT   \n7          100002  2020-04-19T16:41:11    102.0      1287.0  BUY_PRODUCT   \n11         100003  2020-03-22T23:31:21    102.0      1009.0  BUY_PRODUCT   \n16         100004  2020-05-06T07:08:11    102.0      1081.0  BUY_PRODUCT   \n28         100006  2020-03-21T12:13:21    102.0      1318.0  BUY_PRODUCT   \n...           ...                  ...      ...         ...          ...   \n39352      110355  2020-05-12T21:36:39    301.0      1276.0  BUY_PRODUCT   \n39363      110356  2020-03-04T18:16:46    301.0      1006.0  BUY_PRODUCT   \n39365      110357  2020-01-16T05:18:31    301.0      1017.0  BUY_PRODUCT   \n39367      110358  2020-05-09T12:32:59    301.0         NaN  BUY_PRODUCT   \n39373      110360  2020-02-01T05:41:30    301.0      1038.0  BUY_PRODUCT   \n\n       offered_discount  purchase_id  \n3                    20      20001.0  \n7                     5      20002.0  \n11                   15      20003.0  \n16                    0      20004.0  \n28                    0      20005.0  \n...                 ...          ...  \n39352                 0      27211.0  \n39363                 0      27212.0  \n39365                 0      27213.0  \n39367                 0      27214.0  \n39373                 0      27215.0  \n\n[7215 rows x 7 columns]",
      "text/html": "<div>\n<style scoped>\n    .dataframe tbody tr th:only-of-type {\n        vertical-align: middle;\n    }\n\n    .dataframe tbody tr th {\n        vertical-align: top;\n    }\n\n    .dataframe thead th {\n        text-align: right;\n    }\n</style>\n<table border=\"1\" class=\"dataframe\">\n  <thead>\n    <tr style=\"text-align: right;\">\n      <th></th>\n      <th>session_id</th>\n      <th>timestamp</th>\n      <th>user_id</th>\n      <th>product_id</th>\n      <th>event_type</th>\n      <th>offered_discount</th>\n      <th>purchase_id</th>\n    </tr>\n  </thead>\n  <tbody>\n    <tr>\n      <th>3</th>\n      <td>100001</td>\n      <td>2020-04-13T14:36:52</td>\n      <td>102.0</td>\n      <td>1043.0</td>\n      <td>BUY_PRODUCT</td>\n      <td>20</td>\n      <td>20001.0</td>\n    </tr>\n    <tr>\n      <th>7</th>\n      <td>100002</td>\n      <td>2020-04-19T16:41:11</td>\n      <td>102.0</td>\n      <td>1287.0</td>\n      <td>BUY_PRODUCT</td>\n      <td>5</td>\n      <td>20002.0</td>\n    </tr>\n    <tr>\n      <th>11</th>\n      <td>100003</td>\n      <td>2020-03-22T23:31:21</td>\n      <td>102.0</td>\n      <td>1009.0</td>\n      <td>BUY_PRODUCT</td>\n      <td>15</td>\n      <td>20003.0</td>\n    </tr>\n    <tr>\n      <th>16</th>\n      <td>100004</td>\n      <td>2020-05-06T07:08:11</td>\n      <td>102.0</td>\n      <td>1081.0</td>\n      <td>BUY_PRODUCT</td>\n      <td>0</td>\n      <td>20004.0</td>\n    </tr>\n    <tr>\n      <th>28</th>\n      <td>100006</td>\n      <td>2020-03-21T12:13:21</td>\n      <td>102.0</td>\n      <td>1318.0</td>\n      <td>BUY_PRODUCT</td>\n      <td>0</td>\n      <td>20005.0</td>\n    </tr>\n    <tr>\n      <th>...</th>\n      <td>...</td>\n      <td>...</td>\n      <td>...</td>\n      <td>...</td>\n      <td>...</td>\n      <td>...</td>\n      <td>...</td>\n    </tr>\n    <tr>\n      <th>39352</th>\n      <td>110355</td>\n      <td>2020-05-12T21:36:39</td>\n      <td>301.0</td>\n      <td>1276.0</td>\n      <td>BUY_PRODUCT</td>\n      <td>0</td>\n      <td>27211.0</td>\n    </tr>\n    <tr>\n      <th>39363</th>\n      <td>110356</td>\n      <td>2020-03-04T18:16:46</td>\n      <td>301.0</td>\n      <td>1006.0</td>\n      <td>BUY_PRODUCT</td>\n      <td>0</td>\n      <td>27212.0</td>\n    </tr>\n    <tr>\n      <th>39365</th>\n      <td>110357</td>\n      <td>2020-01-16T05:18:31</td>\n      <td>301.0</td>\n      <td>1017.0</td>\n      <td>BUY_PRODUCT</td>\n      <td>0</td>\n      <td>27213.0</td>\n    </tr>\n    <tr>\n      <th>39367</th>\n      <td>110358</td>\n      <td>2020-05-09T12:32:59</td>\n      <td>301.0</td>\n      <td>NaN</td>\n      <td>BUY_PRODUCT</td>\n      <td>0</td>\n      <td>27214.0</td>\n    </tr>\n    <tr>\n      <th>39373</th>\n      <td>110360</td>\n      <td>2020-02-01T05:41:30</td>\n      <td>301.0</td>\n      <td>1038.0</td>\n      <td>BUY_PRODUCT</td>\n      <td>0</td>\n      <td>27215.0</td>\n    </tr>\n  </tbody>\n</table>\n<p>7215 rows × 7 columns</p>\n</div>"
     },
     "execution_count": 57,
     "metadata": {},
     "output_type": "execute_result"
    }
   ],
   "source": [
    "session_user_map=sessions[sessions[\"user_id\"].notna()].set_index('session_id')['user_id'].to_dict()\n",
    "\n",
    "for i, row in sessions.iterrows():\n",
    "    if np.isnan(row[\"user_id\"]) and row[\"session_id\"] in session_user_map:\n",
    "            sessions.at[i,'user_id'] = session_user_map[row[\"session_id\"]]\n",
    "            \n",
    "buy_sessions = sessions[sessions.event_type == 'BUY_PRODUCT']\n",
    "\n",
    "clean_nan_rows(dataframe=buy_sessions['user_id'], print_stats=True)\n",
    "\n",
    "buy_sessions"
   ]
  },
  {
   "cell_type": "markdown",
   "metadata": {},
   "source": [
    "Dzięki takiej operacji, liczba wierszy z brakiem `user_id` zmniejszyła się z 368 do 8. Z pozostałymi nie da się nic już zrobić, więc je usuniemy."
   ]
  },
  {
   "cell_type": "code",
   "execution_count": 58,
   "metadata": {
    "pycharm": {
     "name": "#%%\n"
    }
   },
   "outputs": [
    {
     "data": {
      "text/plain": "       session_id            timestamp  user_id  product_id   event_type  \\\n3          100001  2020-04-13T14:36:52    102.0      1043.0  BUY_PRODUCT   \n7          100002  2020-04-19T16:41:11    102.0      1287.0  BUY_PRODUCT   \n11         100003  2020-03-22T23:31:21    102.0      1009.0  BUY_PRODUCT   \n16         100004  2020-05-06T07:08:11    102.0      1081.0  BUY_PRODUCT   \n28         100006  2020-03-21T12:13:21    102.0      1318.0  BUY_PRODUCT   \n...           ...                  ...      ...         ...          ...   \n39352      110355  2020-05-12T21:36:39    301.0      1276.0  BUY_PRODUCT   \n39363      110356  2020-03-04T18:16:46    301.0      1006.0  BUY_PRODUCT   \n39365      110357  2020-01-16T05:18:31    301.0      1017.0  BUY_PRODUCT   \n39367      110358  2020-05-09T12:32:59    301.0         NaN  BUY_PRODUCT   \n39373      110360  2020-02-01T05:41:30    301.0      1038.0  BUY_PRODUCT   \n\n       offered_discount  purchase_id  \n3                    20      20001.0  \n7                     5      20002.0  \n11                   15      20003.0  \n16                    0      20004.0  \n28                    0      20005.0  \n...                 ...          ...  \n39352                 0      27211.0  \n39363                 0      27212.0  \n39365                 0      27213.0  \n39367                 0      27214.0  \n39373                 0      27215.0  \n\n[7205 rows x 7 columns]",
      "text/html": "<div>\n<style scoped>\n    .dataframe tbody tr th:only-of-type {\n        vertical-align: middle;\n    }\n\n    .dataframe tbody tr th {\n        vertical-align: top;\n    }\n\n    .dataframe thead th {\n        text-align: right;\n    }\n</style>\n<table border=\"1\" class=\"dataframe\">\n  <thead>\n    <tr style=\"text-align: right;\">\n      <th></th>\n      <th>session_id</th>\n      <th>timestamp</th>\n      <th>user_id</th>\n      <th>product_id</th>\n      <th>event_type</th>\n      <th>offered_discount</th>\n      <th>purchase_id</th>\n    </tr>\n  </thead>\n  <tbody>\n    <tr>\n      <th>3</th>\n      <td>100001</td>\n      <td>2020-04-13T14:36:52</td>\n      <td>102.0</td>\n      <td>1043.0</td>\n      <td>BUY_PRODUCT</td>\n      <td>20</td>\n      <td>20001.0</td>\n    </tr>\n    <tr>\n      <th>7</th>\n      <td>100002</td>\n      <td>2020-04-19T16:41:11</td>\n      <td>102.0</td>\n      <td>1287.0</td>\n      <td>BUY_PRODUCT</td>\n      <td>5</td>\n      <td>20002.0</td>\n    </tr>\n    <tr>\n      <th>11</th>\n      <td>100003</td>\n      <td>2020-03-22T23:31:21</td>\n      <td>102.0</td>\n      <td>1009.0</td>\n      <td>BUY_PRODUCT</td>\n      <td>15</td>\n      <td>20003.0</td>\n    </tr>\n    <tr>\n      <th>16</th>\n      <td>100004</td>\n      <td>2020-05-06T07:08:11</td>\n      <td>102.0</td>\n      <td>1081.0</td>\n      <td>BUY_PRODUCT</td>\n      <td>0</td>\n      <td>20004.0</td>\n    </tr>\n    <tr>\n      <th>28</th>\n      <td>100006</td>\n      <td>2020-03-21T12:13:21</td>\n      <td>102.0</td>\n      <td>1318.0</td>\n      <td>BUY_PRODUCT</td>\n      <td>0</td>\n      <td>20005.0</td>\n    </tr>\n    <tr>\n      <th>...</th>\n      <td>...</td>\n      <td>...</td>\n      <td>...</td>\n      <td>...</td>\n      <td>...</td>\n      <td>...</td>\n      <td>...</td>\n    </tr>\n    <tr>\n      <th>39352</th>\n      <td>110355</td>\n      <td>2020-05-12T21:36:39</td>\n      <td>301.0</td>\n      <td>1276.0</td>\n      <td>BUY_PRODUCT</td>\n      <td>0</td>\n      <td>27211.0</td>\n    </tr>\n    <tr>\n      <th>39363</th>\n      <td>110356</td>\n      <td>2020-03-04T18:16:46</td>\n      <td>301.0</td>\n      <td>1006.0</td>\n      <td>BUY_PRODUCT</td>\n      <td>0</td>\n      <td>27212.0</td>\n    </tr>\n    <tr>\n      <th>39365</th>\n      <td>110357</td>\n      <td>2020-01-16T05:18:31</td>\n      <td>301.0</td>\n      <td>1017.0</td>\n      <td>BUY_PRODUCT</td>\n      <td>0</td>\n      <td>27213.0</td>\n    </tr>\n    <tr>\n      <th>39367</th>\n      <td>110358</td>\n      <td>2020-05-09T12:32:59</td>\n      <td>301.0</td>\n      <td>NaN</td>\n      <td>BUY_PRODUCT</td>\n      <td>0</td>\n      <td>27214.0</td>\n    </tr>\n    <tr>\n      <th>39373</th>\n      <td>110360</td>\n      <td>2020-02-01T05:41:30</td>\n      <td>301.0</td>\n      <td>1038.0</td>\n      <td>BUY_PRODUCT</td>\n      <td>0</td>\n      <td>27215.0</td>\n    </tr>\n  </tbody>\n</table>\n<p>7205 rows × 7 columns</p>\n</div>"
     },
     "execution_count": 58,
     "metadata": {},
     "output_type": "execute_result"
    }
   ],
   "source": [
    "buy_sessions = buy_sessions[buy_sessions[\"user_id\"].notna()]\n",
    "buy_sessions"
   ]
  },
  {
   "cell_type": "markdown",
   "metadata": {},
   "source": [
    "Pozbądźmy się pozostałych pustych `user_id`, ponieważ nie da się z nimi już nic zrobić. Do dalszej obróbki potrzebe będą wyłącznie `buy_sessions`, więc nadpiszmy dataframe."
   ]
  },
  {
   "cell_type": "code",
   "execution_count": 59,
   "metadata": {},
   "outputs": [],
   "source": [
    "buy_sessions = buy_sessions[buy_sessions[\"user_id\"].notnull()]\n",
    "sessions_with_nulls = sessions\n",
    "sessions = buy_sessions"
   ]
  },
  {
   "cell_type": "markdown",
   "metadata": {},
   "source": [
    "#### Usunięcie braków w `deliveries`\n",
    "W przeciwieństwie do problemu z `user_id` braki w tych danych trudno uzupełnić, więc uszkodzone dane zostaną usunięte."
   ]
  },
  {
   "cell_type": "code",
   "execution_count": 60,
   "metadata": {
    "pycharm": {
     "name": "#%%\n"
    }
   },
   "outputs": [],
   "source": [
    "deliveries_with_nulls = deliveries\n",
    "deliveries = deliveries.dropna()"
   ]
  },
  {
   "cell_type": "markdown",
   "metadata": {},
   "source": [
    "#### Złączenie tabel"
   ]
  },
  {
   "cell_type": "code",
   "execution_count": 61,
   "metadata": {
    "pycharm": {
     "name": "#%%\n"
    }
   },
   "outputs": [
    {
     "data": {
      "text/plain": "      session_id            timestamp  user_id  product_id   event_type  \\\n0         100001  2020-04-13T14:36:52    102.0      1043.0  BUY_PRODUCT   \n1         100003  2020-03-22T23:31:21    102.0      1009.0  BUY_PRODUCT   \n2         100004  2020-05-06T07:08:11    102.0      1081.0  BUY_PRODUCT   \n3         100006  2020-03-21T12:13:21    102.0      1318.0  BUY_PRODUCT   \n4         100009  2020-04-19T00:51:28    102.0      1318.0  BUY_PRODUCT   \n...          ...                  ...      ...         ...          ...   \n6479      110355  2020-05-12T21:36:39    301.0      1276.0  BUY_PRODUCT   \n6480      110356  2020-03-04T18:16:46    301.0      1006.0  BUY_PRODUCT   \n6481      110357  2020-01-16T05:18:31    301.0      1017.0  BUY_PRODUCT   \n6482      110358  2020-05-09T12:32:59    301.0         NaN  BUY_PRODUCT   \n6483      110360  2020-02-01T05:41:30    301.0      1038.0  BUY_PRODUCT   \n\n      offered_discount  purchase_id   purchase_timestamp  \\\n0                   20      20001.0  2020-04-13T14:36:52   \n1                   15      20003.0  2020-03-22T23:31:21   \n2                    0      20004.0  2020-05-06T07:08:11   \n3                    0      20005.0  2020-03-21T12:13:21   \n4                    0      20006.0  2020-04-19T00:51:28   \n...                ...          ...                  ...   \n6479                 0      27211.0  2020-05-12T21:36:39   \n6480                 0      27212.0  2020-03-04T18:16:46   \n6481                 0      27213.0  2020-01-16T05:18:31   \n6482                 0      27214.0  2020-05-09T12:32:59   \n6483                 0      27215.0  2020-02-01T05:41:30   \n\n              delivery_timestamp  delivery_company           name      city  \\\n0     2020-04-16T14:10:43.034629             360.0  Aurelia Malon    Police   \n1     2020-03-25T21:55:26.574877             516.0  Aurelia Malon    Police   \n2     2020-05-09T12:02:11.187799             516.0  Aurelia Malon    Police   \n3     2020-03-23T22:32:36.697450             620.0  Aurelia Malon    Police   \n4     2020-04-21T20:57:04.327567             360.0  Aurelia Malon    Police   \n...                          ...               ...            ...       ...   \n6479  2020-05-14T19:35:29.399789             516.0     Sara Nóżka  Warszawa   \n6480  2020-03-06T16:05:57.868149             516.0     Sara Nóżka  Warszawa   \n6481  2020-01-18T12:12:34.191550             516.0     Sara Nóżka  Warszawa   \n6482  2020-05-11T05:38:07.845365             360.0     Sara Nóżka  Warszawa   \n6483  2020-02-02T22:08:07.799077             516.0     Sara Nóżka  Warszawa   \n\n                       street                              product_name  \\\n0     pl. Brzoskwiniowa 11/53                Fight Night Champion (PS3)   \n1     pl. Brzoskwiniowa 11/53                Kinect Joy Ride (Xbox 360)   \n2     pl. Brzoskwiniowa 11/53                                OKI B840dn   \n3     pl. Brzoskwiniowa 11/53                     Plantronics Savi W710   \n4     pl. Brzoskwiniowa 11/53                     Plantronics Savi W710   \n...                       ...                                       ...   \n6479    aleja Słoneczna 78/05                      Apple iPad mini 64GB   \n6480    aleja Słoneczna 78/05  Call of Duty 4 Modern Warfare (Xbox 360)   \n6481    aleja Słoneczna 78/05                           LCD Dell U2412M   \n6482    aleja Słoneczna 78/05                                       NaN   \n6483    aleja Słoneczna 78/05                           LCD Asus VK278Q   \n\n                                          category_path    price  \\\n0         Gry i konsole;Gry na konsole;Gry PlayStation3   109.00   \n1             Gry i konsole;Gry na konsole;Gry Xbox 360    69.00   \n2     Komputery;Drukarki i skanery;Biurowe urządzeni...  5259.00   \n3                            Sprzęt RTV;Audio;Słuchawki   553.00   \n4                            Sprzęt RTV;Audio;Słuchawki   553.00   \n...                                                 ...      ...   \n6479              Komputery;Tablety i akcesoria;Tablety  1816.97   \n6480          Gry i konsole;Gry na konsole;Gry Xbox 360    59.90   \n6481                    Komputery;Monitory;Monitory LCD   399.00   \n6482                                                NaN      NaN   \n6483                    Komputery;Monitory;Monitory LCD  1117.01   \n\n           category          subcategory  \n0     Gry i konsole       Gry na konsole  \n1     Gry i konsole       Gry na konsole  \n2         Komputery   Drukarki i skanery  \n3        Sprzęt RTV                Audio  \n4        Sprzęt RTV                Audio  \n...             ...                  ...  \n6479      Komputery  Tablety i akcesoria  \n6480  Gry i konsole       Gry na konsole  \n6481      Komputery             Monitory  \n6482            NaN                  NaN  \n6483      Komputery             Monitory  \n\n[6484 rows x 18 columns]",
      "text/html": "<div>\n<style scoped>\n    .dataframe tbody tr th:only-of-type {\n        vertical-align: middle;\n    }\n\n    .dataframe tbody tr th {\n        vertical-align: top;\n    }\n\n    .dataframe thead th {\n        text-align: right;\n    }\n</style>\n<table border=\"1\" class=\"dataframe\">\n  <thead>\n    <tr style=\"text-align: right;\">\n      <th></th>\n      <th>session_id</th>\n      <th>timestamp</th>\n      <th>user_id</th>\n      <th>product_id</th>\n      <th>event_type</th>\n      <th>offered_discount</th>\n      <th>purchase_id</th>\n      <th>purchase_timestamp</th>\n      <th>delivery_timestamp</th>\n      <th>delivery_company</th>\n      <th>name</th>\n      <th>city</th>\n      <th>street</th>\n      <th>product_name</th>\n      <th>category_path</th>\n      <th>price</th>\n      <th>category</th>\n      <th>subcategory</th>\n    </tr>\n  </thead>\n  <tbody>\n    <tr>\n      <th>0</th>\n      <td>100001</td>\n      <td>2020-04-13T14:36:52</td>\n      <td>102.0</td>\n      <td>1043.0</td>\n      <td>BUY_PRODUCT</td>\n      <td>20</td>\n      <td>20001.0</td>\n      <td>2020-04-13T14:36:52</td>\n      <td>2020-04-16T14:10:43.034629</td>\n      <td>360.0</td>\n      <td>Aurelia Malon</td>\n      <td>Police</td>\n      <td>pl. Brzoskwiniowa 11/53</td>\n      <td>Fight Night Champion (PS3)</td>\n      <td>Gry i konsole;Gry na konsole;Gry PlayStation3</td>\n      <td>109.00</td>\n      <td>Gry i konsole</td>\n      <td>Gry na konsole</td>\n    </tr>\n    <tr>\n      <th>1</th>\n      <td>100003</td>\n      <td>2020-03-22T23:31:21</td>\n      <td>102.0</td>\n      <td>1009.0</td>\n      <td>BUY_PRODUCT</td>\n      <td>15</td>\n      <td>20003.0</td>\n      <td>2020-03-22T23:31:21</td>\n      <td>2020-03-25T21:55:26.574877</td>\n      <td>516.0</td>\n      <td>Aurelia Malon</td>\n      <td>Police</td>\n      <td>pl. Brzoskwiniowa 11/53</td>\n      <td>Kinect Joy Ride (Xbox 360)</td>\n      <td>Gry i konsole;Gry na konsole;Gry Xbox 360</td>\n      <td>69.00</td>\n      <td>Gry i konsole</td>\n      <td>Gry na konsole</td>\n    </tr>\n    <tr>\n      <th>2</th>\n      <td>100004</td>\n      <td>2020-05-06T07:08:11</td>\n      <td>102.0</td>\n      <td>1081.0</td>\n      <td>BUY_PRODUCT</td>\n      <td>0</td>\n      <td>20004.0</td>\n      <td>2020-05-06T07:08:11</td>\n      <td>2020-05-09T12:02:11.187799</td>\n      <td>516.0</td>\n      <td>Aurelia Malon</td>\n      <td>Police</td>\n      <td>pl. Brzoskwiniowa 11/53</td>\n      <td>OKI B840dn</td>\n      <td>Komputery;Drukarki i skanery;Biurowe urządzeni...</td>\n      <td>5259.00</td>\n      <td>Komputery</td>\n      <td>Drukarki i skanery</td>\n    </tr>\n    <tr>\n      <th>3</th>\n      <td>100006</td>\n      <td>2020-03-21T12:13:21</td>\n      <td>102.0</td>\n      <td>1318.0</td>\n      <td>BUY_PRODUCT</td>\n      <td>0</td>\n      <td>20005.0</td>\n      <td>2020-03-21T12:13:21</td>\n      <td>2020-03-23T22:32:36.697450</td>\n      <td>620.0</td>\n      <td>Aurelia Malon</td>\n      <td>Police</td>\n      <td>pl. Brzoskwiniowa 11/53</td>\n      <td>Plantronics Savi W710</td>\n      <td>Sprzęt RTV;Audio;Słuchawki</td>\n      <td>553.00</td>\n      <td>Sprzęt RTV</td>\n      <td>Audio</td>\n    </tr>\n    <tr>\n      <th>4</th>\n      <td>100009</td>\n      <td>2020-04-19T00:51:28</td>\n      <td>102.0</td>\n      <td>1318.0</td>\n      <td>BUY_PRODUCT</td>\n      <td>0</td>\n      <td>20006.0</td>\n      <td>2020-04-19T00:51:28</td>\n      <td>2020-04-21T20:57:04.327567</td>\n      <td>360.0</td>\n      <td>Aurelia Malon</td>\n      <td>Police</td>\n      <td>pl. Brzoskwiniowa 11/53</td>\n      <td>Plantronics Savi W710</td>\n      <td>Sprzęt RTV;Audio;Słuchawki</td>\n      <td>553.00</td>\n      <td>Sprzęt RTV</td>\n      <td>Audio</td>\n    </tr>\n    <tr>\n      <th>...</th>\n      <td>...</td>\n      <td>...</td>\n      <td>...</td>\n      <td>...</td>\n      <td>...</td>\n      <td>...</td>\n      <td>...</td>\n      <td>...</td>\n      <td>...</td>\n      <td>...</td>\n      <td>...</td>\n      <td>...</td>\n      <td>...</td>\n      <td>...</td>\n      <td>...</td>\n      <td>...</td>\n      <td>...</td>\n      <td>...</td>\n    </tr>\n    <tr>\n      <th>6479</th>\n      <td>110355</td>\n      <td>2020-05-12T21:36:39</td>\n      <td>301.0</td>\n      <td>1276.0</td>\n      <td>BUY_PRODUCT</td>\n      <td>0</td>\n      <td>27211.0</td>\n      <td>2020-05-12T21:36:39</td>\n      <td>2020-05-14T19:35:29.399789</td>\n      <td>516.0</td>\n      <td>Sara Nóżka</td>\n      <td>Warszawa</td>\n      <td>aleja Słoneczna 78/05</td>\n      <td>Apple iPad mini 64GB</td>\n      <td>Komputery;Tablety i akcesoria;Tablety</td>\n      <td>1816.97</td>\n      <td>Komputery</td>\n      <td>Tablety i akcesoria</td>\n    </tr>\n    <tr>\n      <th>6480</th>\n      <td>110356</td>\n      <td>2020-03-04T18:16:46</td>\n      <td>301.0</td>\n      <td>1006.0</td>\n      <td>BUY_PRODUCT</td>\n      <td>0</td>\n      <td>27212.0</td>\n      <td>2020-03-04T18:16:46</td>\n      <td>2020-03-06T16:05:57.868149</td>\n      <td>516.0</td>\n      <td>Sara Nóżka</td>\n      <td>Warszawa</td>\n      <td>aleja Słoneczna 78/05</td>\n      <td>Call of Duty 4 Modern Warfare (Xbox 360)</td>\n      <td>Gry i konsole;Gry na konsole;Gry Xbox 360</td>\n      <td>59.90</td>\n      <td>Gry i konsole</td>\n      <td>Gry na konsole</td>\n    </tr>\n    <tr>\n      <th>6481</th>\n      <td>110357</td>\n      <td>2020-01-16T05:18:31</td>\n      <td>301.0</td>\n      <td>1017.0</td>\n      <td>BUY_PRODUCT</td>\n      <td>0</td>\n      <td>27213.0</td>\n      <td>2020-01-16T05:18:31</td>\n      <td>2020-01-18T12:12:34.191550</td>\n      <td>516.0</td>\n      <td>Sara Nóżka</td>\n      <td>Warszawa</td>\n      <td>aleja Słoneczna 78/05</td>\n      <td>LCD Dell U2412M</td>\n      <td>Komputery;Monitory;Monitory LCD</td>\n      <td>399.00</td>\n      <td>Komputery</td>\n      <td>Monitory</td>\n    </tr>\n    <tr>\n      <th>6482</th>\n      <td>110358</td>\n      <td>2020-05-09T12:32:59</td>\n      <td>301.0</td>\n      <td>NaN</td>\n      <td>BUY_PRODUCT</td>\n      <td>0</td>\n      <td>27214.0</td>\n      <td>2020-05-09T12:32:59</td>\n      <td>2020-05-11T05:38:07.845365</td>\n      <td>360.0</td>\n      <td>Sara Nóżka</td>\n      <td>Warszawa</td>\n      <td>aleja Słoneczna 78/05</td>\n      <td>NaN</td>\n      <td>NaN</td>\n      <td>NaN</td>\n      <td>NaN</td>\n      <td>NaN</td>\n    </tr>\n    <tr>\n      <th>6483</th>\n      <td>110360</td>\n      <td>2020-02-01T05:41:30</td>\n      <td>301.0</td>\n      <td>1038.0</td>\n      <td>BUY_PRODUCT</td>\n      <td>0</td>\n      <td>27215.0</td>\n      <td>2020-02-01T05:41:30</td>\n      <td>2020-02-02T22:08:07.799077</td>\n      <td>516.0</td>\n      <td>Sara Nóżka</td>\n      <td>Warszawa</td>\n      <td>aleja Słoneczna 78/05</td>\n      <td>LCD Asus VK278Q</td>\n      <td>Komputery;Monitory;Monitory LCD</td>\n      <td>1117.01</td>\n      <td>Komputery</td>\n      <td>Monitory</td>\n    </tr>\n  </tbody>\n</table>\n<p>6484 rows × 18 columns</p>\n</div>"
     },
     "execution_count": 61,
     "metadata": {},
     "output_type": "execute_result"
    }
   ],
   "source": [
    "# inner join sessions and deliveries\n",
    "merged_data = pd.merge(left=sessions, right=deliveries, left_on='purchase_id', right_on='purchase_id')\n",
    "\n",
    "# left join users\n",
    "merged_data = pd.merge(left=merged_data, right=users, how='left', left_on='user_id', right_on='user_id')\n",
    "\n",
    "# left join products\n",
    "merged_data = pd.merge(left=merged_data, right=products, how='left', left_on='product_id', right_on='product_id')\n",
    "\n",
    "merged_data"
   ]
  },
  {
   "cell_type": "markdown",
   "metadata": {
    "pycharm": {
     "name": "#%% md\n"
    }
   },
   "source": [
    "#### Odrzucenie niepotrzebnych kolumn\n",
    "\n",
    "Odrzućmy część kolumn, które zdają się być zbędne:\n",
    "- id sesji - kolumna identyfikacyjna\n",
    "- id zakupu - kolumna identyfikacyjna\n",
    "- id użytkownika - kolumna identyfikacyjna\n",
    "- id produktu - kolumna identyfikacyjna, zbyt rozdrobniona\n",
    "- product name - nazwa produktu jest zbyt rozdrobniona *[zbyt wiele różnych wartości]*, kategoria do 2 poziomu wydaje się być dobrym zastępstwem\n",
    "- typ zdarzenia - rozpatrujemy wyłącznie zakup\n",
    "- oferowana obniżka - nie ma znaczenia na dostawę *(opcjonalnie jako wart binarna)*\n",
    "- imie i nazwisko użytkownika - konkretny użytkownik nie powinien być powiązany z dostawą\n",
    "- timestamp sesji - interesuje nas czas dostawy od czasu *zakupu* do *dostarczenia*\n",
    "- ulica - zbyt rozdrobniona kolumna *[zbyt wiele różnych wartości]*\n"
   ]
  },
  {
   "cell_type": "code",
   "execution_count": 62,
   "metadata": {
    "pycharm": {
     "name": "#%%\n"
    }
   },
   "outputs": [
    {
     "data": {
      "text/plain": "       purchase_timestamp          delivery_timestamp  delivery_company  \\\n0     2020-04-13T14:36:52  2020-04-16T14:10:43.034629             360.0   \n1     2020-03-22T23:31:21  2020-03-25T21:55:26.574877             516.0   \n2     2020-05-06T07:08:11  2020-05-09T12:02:11.187799             516.0   \n3     2020-03-21T12:13:21  2020-03-23T22:32:36.697450             620.0   \n4     2020-04-19T00:51:28  2020-04-21T20:57:04.327567             360.0   \n...                   ...                         ...               ...   \n6479  2020-05-12T21:36:39  2020-05-14T19:35:29.399789             516.0   \n6480  2020-03-04T18:16:46  2020-03-06T16:05:57.868149             516.0   \n6481  2020-01-16T05:18:31  2020-01-18T12:12:34.191550             516.0   \n6482  2020-05-09T12:32:59  2020-05-11T05:38:07.845365             360.0   \n6483  2020-02-01T05:41:30  2020-02-02T22:08:07.799077             516.0   \n\n          city                                      category_path    price  \\\n0       Police      Gry i konsole;Gry na konsole;Gry PlayStation3   109.00   \n1       Police          Gry i konsole;Gry na konsole;Gry Xbox 360    69.00   \n2       Police  Komputery;Drukarki i skanery;Biurowe urządzeni...  5259.00   \n3       Police                         Sprzęt RTV;Audio;Słuchawki   553.00   \n4       Police                         Sprzęt RTV;Audio;Słuchawki   553.00   \n...        ...                                                ...      ...   \n6479  Warszawa              Komputery;Tablety i akcesoria;Tablety  1816.97   \n6480  Warszawa          Gry i konsole;Gry na konsole;Gry Xbox 360    59.90   \n6481  Warszawa                    Komputery;Monitory;Monitory LCD   399.00   \n6482  Warszawa                                                NaN      NaN   \n6483  Warszawa                    Komputery;Monitory;Monitory LCD  1117.01   \n\n           category          subcategory  \n0     Gry i konsole       Gry na konsole  \n1     Gry i konsole       Gry na konsole  \n2         Komputery   Drukarki i skanery  \n3        Sprzęt RTV                Audio  \n4        Sprzęt RTV                Audio  \n...             ...                  ...  \n6479      Komputery  Tablety i akcesoria  \n6480  Gry i konsole       Gry na konsole  \n6481      Komputery             Monitory  \n6482            NaN                  NaN  \n6483      Komputery             Monitory  \n\n[6484 rows x 8 columns]",
      "text/html": "<div>\n<style scoped>\n    .dataframe tbody tr th:only-of-type {\n        vertical-align: middle;\n    }\n\n    .dataframe tbody tr th {\n        vertical-align: top;\n    }\n\n    .dataframe thead th {\n        text-align: right;\n    }\n</style>\n<table border=\"1\" class=\"dataframe\">\n  <thead>\n    <tr style=\"text-align: right;\">\n      <th></th>\n      <th>purchase_timestamp</th>\n      <th>delivery_timestamp</th>\n      <th>delivery_company</th>\n      <th>city</th>\n      <th>category_path</th>\n      <th>price</th>\n      <th>category</th>\n      <th>subcategory</th>\n    </tr>\n  </thead>\n  <tbody>\n    <tr>\n      <th>0</th>\n      <td>2020-04-13T14:36:52</td>\n      <td>2020-04-16T14:10:43.034629</td>\n      <td>360.0</td>\n      <td>Police</td>\n      <td>Gry i konsole;Gry na konsole;Gry PlayStation3</td>\n      <td>109.00</td>\n      <td>Gry i konsole</td>\n      <td>Gry na konsole</td>\n    </tr>\n    <tr>\n      <th>1</th>\n      <td>2020-03-22T23:31:21</td>\n      <td>2020-03-25T21:55:26.574877</td>\n      <td>516.0</td>\n      <td>Police</td>\n      <td>Gry i konsole;Gry na konsole;Gry Xbox 360</td>\n      <td>69.00</td>\n      <td>Gry i konsole</td>\n      <td>Gry na konsole</td>\n    </tr>\n    <tr>\n      <th>2</th>\n      <td>2020-05-06T07:08:11</td>\n      <td>2020-05-09T12:02:11.187799</td>\n      <td>516.0</td>\n      <td>Police</td>\n      <td>Komputery;Drukarki i skanery;Biurowe urządzeni...</td>\n      <td>5259.00</td>\n      <td>Komputery</td>\n      <td>Drukarki i skanery</td>\n    </tr>\n    <tr>\n      <th>3</th>\n      <td>2020-03-21T12:13:21</td>\n      <td>2020-03-23T22:32:36.697450</td>\n      <td>620.0</td>\n      <td>Police</td>\n      <td>Sprzęt RTV;Audio;Słuchawki</td>\n      <td>553.00</td>\n      <td>Sprzęt RTV</td>\n      <td>Audio</td>\n    </tr>\n    <tr>\n      <th>4</th>\n      <td>2020-04-19T00:51:28</td>\n      <td>2020-04-21T20:57:04.327567</td>\n      <td>360.0</td>\n      <td>Police</td>\n      <td>Sprzęt RTV;Audio;Słuchawki</td>\n      <td>553.00</td>\n      <td>Sprzęt RTV</td>\n      <td>Audio</td>\n    </tr>\n    <tr>\n      <th>...</th>\n      <td>...</td>\n      <td>...</td>\n      <td>...</td>\n      <td>...</td>\n      <td>...</td>\n      <td>...</td>\n      <td>...</td>\n      <td>...</td>\n    </tr>\n    <tr>\n      <th>6479</th>\n      <td>2020-05-12T21:36:39</td>\n      <td>2020-05-14T19:35:29.399789</td>\n      <td>516.0</td>\n      <td>Warszawa</td>\n      <td>Komputery;Tablety i akcesoria;Tablety</td>\n      <td>1816.97</td>\n      <td>Komputery</td>\n      <td>Tablety i akcesoria</td>\n    </tr>\n    <tr>\n      <th>6480</th>\n      <td>2020-03-04T18:16:46</td>\n      <td>2020-03-06T16:05:57.868149</td>\n      <td>516.0</td>\n      <td>Warszawa</td>\n      <td>Gry i konsole;Gry na konsole;Gry Xbox 360</td>\n      <td>59.90</td>\n      <td>Gry i konsole</td>\n      <td>Gry na konsole</td>\n    </tr>\n    <tr>\n      <th>6481</th>\n      <td>2020-01-16T05:18:31</td>\n      <td>2020-01-18T12:12:34.191550</td>\n      <td>516.0</td>\n      <td>Warszawa</td>\n      <td>Komputery;Monitory;Monitory LCD</td>\n      <td>399.00</td>\n      <td>Komputery</td>\n      <td>Monitory</td>\n    </tr>\n    <tr>\n      <th>6482</th>\n      <td>2020-05-09T12:32:59</td>\n      <td>2020-05-11T05:38:07.845365</td>\n      <td>360.0</td>\n      <td>Warszawa</td>\n      <td>NaN</td>\n      <td>NaN</td>\n      <td>NaN</td>\n      <td>NaN</td>\n    </tr>\n    <tr>\n      <th>6483</th>\n      <td>2020-02-01T05:41:30</td>\n      <td>2020-02-02T22:08:07.799077</td>\n      <td>516.0</td>\n      <td>Warszawa</td>\n      <td>Komputery;Monitory;Monitory LCD</td>\n      <td>1117.01</td>\n      <td>Komputery</td>\n      <td>Monitory</td>\n    </tr>\n  </tbody>\n</table>\n<p>6484 rows × 8 columns</p>\n</div>"
     },
     "execution_count": 62,
     "metadata": {},
     "output_type": "execute_result"
    }
   ],
   "source": [
    "columns = ['session_id', 'purchase_id','user_id', 'product_id', 'event_type',\n",
    "           'offered_discount', 'name', 'timestamp', 'product_name', 'street']\n",
    "for col in columns:\n",
    "    merged_data = merged_data.drop(col, axis=1)\n",
    "\n",
    "merged_data\n"
   ]
  },
  {
   "cell_type": "markdown",
   "metadata": {},
   "source": [
    "#### Kolumny wyliczane.\n",
    "Przydatny będzie właściwy czas dostawy, wyrażany np. w godzinach."
   ]
  },
  {
   "cell_type": "code",
   "execution_count": 63,
   "metadata": {
    "pycharm": {
     "name": "#%%\n"
    }
   },
   "outputs": [
    {
     "data": {
      "text/plain": "        delivery_total_time  delivery_total_time_hours\n0    2 days 23:33:51.034629                  71.564176\n1    2 days 22:24:05.574877                  70.401549\n2    3 days 04:54:00.187799                  76.900052\n3    2 days 10:19:15.697450                  58.321027\n4    2 days 20:05:36.327567                  68.093424\n...                     ...                        ...\n6479 1 days 21:58:50.399789                  45.980667\n6480 1 days 21:49:11.868149                  45.819963\n6481 2 days 06:54:03.191550                  54.900887\n6482 1 days 17:05:08.845365                  41.085790\n6483 1 days 16:26:37.799077                  40.443833\n\n[6484 rows x 2 columns]",
      "text/html": "<div>\n<style scoped>\n    .dataframe tbody tr th:only-of-type {\n        vertical-align: middle;\n    }\n\n    .dataframe tbody tr th {\n        vertical-align: top;\n    }\n\n    .dataframe thead th {\n        text-align: right;\n    }\n</style>\n<table border=\"1\" class=\"dataframe\">\n  <thead>\n    <tr style=\"text-align: right;\">\n      <th></th>\n      <th>delivery_total_time</th>\n      <th>delivery_total_time_hours</th>\n    </tr>\n  </thead>\n  <tbody>\n    <tr>\n      <th>0</th>\n      <td>2 days 23:33:51.034629</td>\n      <td>71.564176</td>\n    </tr>\n    <tr>\n      <th>1</th>\n      <td>2 days 22:24:05.574877</td>\n      <td>70.401549</td>\n    </tr>\n    <tr>\n      <th>2</th>\n      <td>3 days 04:54:00.187799</td>\n      <td>76.900052</td>\n    </tr>\n    <tr>\n      <th>3</th>\n      <td>2 days 10:19:15.697450</td>\n      <td>58.321027</td>\n    </tr>\n    <tr>\n      <th>4</th>\n      <td>2 days 20:05:36.327567</td>\n      <td>68.093424</td>\n    </tr>\n    <tr>\n      <th>...</th>\n      <td>...</td>\n      <td>...</td>\n    </tr>\n    <tr>\n      <th>6479</th>\n      <td>1 days 21:58:50.399789</td>\n      <td>45.980667</td>\n    </tr>\n    <tr>\n      <th>6480</th>\n      <td>1 days 21:49:11.868149</td>\n      <td>45.819963</td>\n    </tr>\n    <tr>\n      <th>6481</th>\n      <td>2 days 06:54:03.191550</td>\n      <td>54.900887</td>\n    </tr>\n    <tr>\n      <th>6482</th>\n      <td>1 days 17:05:08.845365</td>\n      <td>41.085790</td>\n    </tr>\n    <tr>\n      <th>6483</th>\n      <td>1 days 16:26:37.799077</td>\n      <td>40.443833</td>\n    </tr>\n  </tbody>\n</table>\n<p>6484 rows × 2 columns</p>\n</div>"
     },
     "execution_count": 63,
     "metadata": {},
     "output_type": "execute_result"
    }
   ],
   "source": [
    "merged_data['delivery_timestamp'] = \\\n",
    "    pd.to_datetime(merged_data.delivery_timestamp)\n",
    "merged_data['purchase_timestamp'] = \\\n",
    "    pd.to_datetime(merged_data.purchase_timestamp)\n",
    "merged_data['delivery_total_time'] = \\\n",
    "    merged_data['delivery_timestamp'] - merged_data['purchase_timestamp']\n",
    "\n",
    "merged_data['delivery_total_time_hours'] = \\\n",
    "    merged_data['delivery_total_time'].dt.total_seconds()/3600\n",
    "\n",
    "merged_data['purchase_hour'] = \\\n",
    "    merged_data['purchase_timestamp'].dt.hour + merged_data['purchase_timestamp'].dt.minute / 60\n",
    "\n",
    "merged_data[['delivery_total_time','delivery_total_time_hours']]"
   ]
  },
  {
   "cell_type": "markdown",
   "metadata": {
    "pycharm": {
     "name": "#%% md\n"
    }
   },
   "source": [
    "### Dalsza analiza"
   ]
  },
  {
   "cell_type": "markdown",
   "metadata": {},
   "source": [
    "##### Rozkład czasu dostawy w godzinach w zależności od firmy kurierskiej"
   ]
  },
  {
   "cell_type": "code",
   "execution_count": 64,
   "metadata": {
    "pycharm": {
     "name": "#%%\n"
    }
   },
   "outputs": [
    {
     "data": {
      "text/plain": "<Figure size 432x288 with 1 Axes>",
      "image/png": "[encoded data removed]"
     },
     "metadata": {
      "needs_background": "light"
     },
     "output_type": "display_data"
    }
   ],
   "source": [
    "max_h = merged_data[\"delivery_total_time_hours\"].max()\n",
    "min_h = merged_data[\"delivery_total_time_hours\"].min()\n",
    "\n",
    "plt.title(\"Rozkład czasu dostawy [h]\")\n",
    "\n",
    "sn.distplot(merged_data[\"delivery_total_time_hours\"], hist=False, label=\"All\").set(xlim=(min_h, max_h))\n",
    "\n",
    "for company in [x for x in merged_data[\"delivery_company\"].unique() if ~np.isnan(x)]:\n",
    "    sn.distplot(merged_data[merged_data[\"delivery_company\"] == company][\"delivery_total_time_hours\"],hist=False, label=str(company)).set(xlim=(min_h, max_h))"
   ]
  },
  {
   "cell_type": "markdown",
   "metadata": {
    "pycharm": {
     "name": "#%% md\n"
    }
   },
   "source": [
    "##### Miasto a firma kurierska"
   ]
  },
  {
   "cell_type": "code",
   "execution_count": 65,
   "metadata": {
    "pycharm": {
     "name": "#%%\n"
    }
   },
   "outputs": [
    {
     "data": {
      "text/plain": "<matplotlib.axes._subplots.AxesSubplot at 0x7f1d3b971550>"
     },
     "execution_count": 65,
     "metadata": {},
     "output_type": "execute_result"
    },
    {
     "data": {
      "text/plain": "<Figure size 432x288 with 1 Axes>",
      "image/png": "[encoded data removed]"
     },
     "metadata": {
      "needs_background": "light"
     },
     "output_type": "display_data"
    }
   ],
   "source": [
    "sn.countplot(y=\"city\", hue=\"delivery_company\", data=merged_data)"
   ]
  },
  {
   "cell_type": "markdown",
   "metadata": {
    "pycharm": {
     "name": "#%% md\n"
    }
   },
   "source": [
    "##### Miasto a firma kurierska dla brakujących czasów dostawy"
   ]
  },
  {
   "cell_type": "code",
   "execution_count": 66,
   "metadata": {
    "pycharm": {
     "name": "#%%\n"
    }
   },
   "outputs": [
    {
     "data": {
      "text/plain": "<matplotlib.axes._subplots.AxesSubplot at 0x7f1d3bade898>"
     },
     "execution_count": 66,
     "metadata": {},
     "output_type": "execute_result"
    },
    {
     "data": {
      "text/plain": "<Figure size 432x288 with 1 Axes>",
      "image/png": "[encoded data removed]"
     },
     "metadata": {
      "needs_background": "light"
     },
     "output_type": "display_data"
    }
   ],
   "source": [
    "# inner join sessions and deliveries\n",
    "merge_data_nulls = pd.merge(left=sessions_with_nulls, right=deliveries_with_nulls, left_on='purchase_id', right_on='purchase_id')\n",
    "# left join users\n",
    "merge_data_nulls = pd.merge(left=merge_data_nulls, right=users, how='left', left_on='user_id', right_on='user_id')\n",
    "# left join products\n",
    "merge_data_nulls = pd.merge(left=merge_data_nulls, right=products, how='left', left_on='product_id', right_on='product_id')\n",
    "\n",
    "merge_data_nulls = merge_data_nulls[merge_data_nulls[\"delivery_timestamp\"].isnull()]\n",
    "\n",
    "sn.countplot(y=\"delivery_company\", hue=\"city\", data=merge_data_nulls)"
   ]
  },
  {
   "cell_type": "code",
   "execution_count": 67,
   "metadata": {
    "pycharm": {
     "name": "#%%\n"
    }
   },
   "outputs": [
    {
     "data": {
      "text/plain": "<matplotlib.axes._subplots.AxesSubplot at 0x7f1d3b9cb860>"
     },
     "execution_count": 67,
     "metadata": {},
     "output_type": "execute_result"
    },
    {
     "data": {
      "text/plain": "<Figure size 432x288 with 1 Axes>",
      "image/png": "[encoded data removed]"
     },
     "metadata": {
      "needs_background": "light"
     },
     "output_type": "display_data"
    }
   ],
   "source": [
    "sn.countplot(y=\"city\", hue=\"delivery_company\", data=merge_data_nulls)"
   ]
  },
  {
   "cell_type": "markdown",
   "metadata": {},
   "source": [
    "### Czas w Mieście"
   ]
  },
  {
   "cell_type": "code",
   "execution_count": 68,
   "metadata": {
    "pycharm": {
     "name": "#%%\n"
    }
   },
   "outputs": [
    {
     "data": {
      "text/plain": "<matplotlib.axes._subplots.AxesSubplot at 0x7f1d3bbc8ba8>"
     },
     "execution_count": 68,
     "metadata": {},
     "output_type": "execute_result"
    },
    {
     "data": {
      "text/plain": "<Figure size 432x288 with 1 Axes>",
      "image/png": "[encoded data removed]"
     },
     "metadata": {
      "needs_background": "light"
     },
     "output_type": "display_data"
    }
   ],
   "source": [
    "sn.boxplot(x=merged_data['city'], y=merged_data['delivery_total_time_hours'])"
   ]
  },
  {
   "cell_type": "markdown",
   "metadata": {},
   "source": [
    "### Czas Dostawy Firmy Kurierskiej"
   ]
  },
  {
   "cell_type": "code",
   "execution_count": 69,
   "metadata": {
    "pycharm": {
     "name": "#%%\n"
    }
   },
   "outputs": [
    {
     "data": {
      "text/plain": "<matplotlib.axes._subplots.AxesSubplot at 0x7f1d3aaf8588>"
     },
     "execution_count": 69,
     "metadata": {},
     "output_type": "execute_result"
    },
    {
     "data": {
      "text/plain": "<Figure size 432x288 with 1 Axes>",
      "image/png": "[encoded data removed]"
     },
     "metadata": {
      "needs_background": "light"
     },
     "output_type": "display_data"
    }
   ],
   "source": [
    "sn.boxplot(x=merged_data['delivery_company'], y=merged_data['delivery_total_time_hours'])"
   ]
  },
  {
   "cell_type": "markdown",
   "metadata": {
    "pycharm": {
     "name": "#%% md\n"
    }
   },
   "source": [
    "### Firma Kurierska w Mieście"
   ]
  },
  {
   "cell_type": "code",
   "execution_count": 70,
   "metadata": {
    "pycharm": {
     "name": "#%%\n"
    }
   },
   "outputs": [
    {
     "data": {
      "text/plain": "      purchase_timestamp         delivery_timestamp  delivery_company  \\\n0    2020-04-13 14:36:52 2020-04-16 14:10:43.034629             360.0   \n1    2020-03-22 23:31:21 2020-03-25 21:55:26.574877             516.0   \n2    2020-05-06 07:08:11 2020-05-09 12:02:11.187799             516.0   \n3    2020-03-21 12:13:21 2020-03-23 22:32:36.697450             620.0   \n4    2020-04-19 00:51:28 2020-04-21 20:57:04.327567             360.0   \n...                  ...                        ...               ...   \n6479 2020-05-12 21:36:39 2020-05-14 19:35:29.399789             516.0   \n6480 2020-03-04 18:16:46 2020-03-06 16:05:57.868149             516.0   \n6481 2020-01-16 05:18:31 2020-01-18 12:12:34.191550             516.0   \n6482 2020-05-09 12:32:59 2020-05-11 05:38:07.845365             360.0   \n6483 2020-02-01 05:41:30 2020-02-02 22:08:07.799077             516.0   \n\n          city                                      category_path    price  \\\n0       Police      Gry i konsole;Gry na konsole;Gry PlayStation3   109.00   \n1       Police          Gry i konsole;Gry na konsole;Gry Xbox 360    69.00   \n2       Police  Komputery;Drukarki i skanery;Biurowe urządzeni...  5259.00   \n3       Police                         Sprzęt RTV;Audio;Słuchawki   553.00   \n4       Police                         Sprzęt RTV;Audio;Słuchawki   553.00   \n...        ...                                                ...      ...   \n6479  Warszawa              Komputery;Tablety i akcesoria;Tablety  1816.97   \n6480  Warszawa          Gry i konsole;Gry na konsole;Gry Xbox 360    59.90   \n6481  Warszawa                    Komputery;Monitory;Monitory LCD   399.00   \n6482  Warszawa                                                NaN      NaN   \n6483  Warszawa                    Komputery;Monitory;Monitory LCD  1117.01   \n\n           category          subcategory    delivery_total_time  \\\n0     Gry i konsole       Gry na konsole 2 days 23:33:51.034629   \n1     Gry i konsole       Gry na konsole 2 days 22:24:05.574877   \n2         Komputery   Drukarki i skanery 3 days 04:54:00.187799   \n3        Sprzęt RTV                Audio 2 days 10:19:15.697450   \n4        Sprzęt RTV                Audio 2 days 20:05:36.327567   \n...             ...                  ...                    ...   \n6479      Komputery  Tablety i akcesoria 1 days 21:58:50.399789   \n6480  Gry i konsole       Gry na konsole 1 days 21:49:11.868149   \n6481      Komputery             Monitory 2 days 06:54:03.191550   \n6482            NaN                  NaN 1 days 17:05:08.845365   \n6483      Komputery             Monitory 1 days 16:26:37.799077   \n\n      delivery_total_time_hours  purchase_hour    city-company  \n0                     71.564176      14.600000    Police-360.0  \n1                     70.401549      23.516667    Police-516.0  \n2                     76.900052       7.133333    Police-516.0  \n3                     58.321027      12.216667    Police-620.0  \n4                     68.093424       0.850000    Police-360.0  \n...                         ...            ...             ...  \n6479                  45.980667      21.600000  Warszawa-516.0  \n6480                  45.819963      18.266667  Warszawa-516.0  \n6481                  54.900887       5.300000  Warszawa-516.0  \n6482                  41.085790      12.533333  Warszawa-360.0  \n6483                  40.443833       5.683333  Warszawa-516.0  \n\n[6484 rows x 12 columns]",
      "text/html": "<div>\n<style scoped>\n    .dataframe tbody tr th:only-of-type {\n        vertical-align: middle;\n    }\n\n    .dataframe tbody tr th {\n        vertical-align: top;\n    }\n\n    .dataframe thead th {\n        text-align: right;\n    }\n</style>\n<table border=\"1\" class=\"dataframe\">\n  <thead>\n    <tr style=\"text-align: right;\">\n      <th></th>\n      <th>purchase_timestamp</th>\n      <th>delivery_timestamp</th>\n      <th>delivery_company</th>\n      <th>city</th>\n      <th>category_path</th>\n      <th>price</th>\n      <th>category</th>\n      <th>subcategory</th>\n      <th>delivery_total_time</th>\n      <th>delivery_total_time_hours</th>\n      <th>purchase_hour</th>\n      <th>city-company</th>\n    </tr>\n  </thead>\n  <tbody>\n    <tr>\n      <th>0</th>\n      <td>2020-04-13 14:36:52</td>\n      <td>2020-04-16 14:10:43.034629</td>\n      <td>360.0</td>\n      <td>Police</td>\n      <td>Gry i konsole;Gry na konsole;Gry PlayStation3</td>\n      <td>109.00</td>\n      <td>Gry i konsole</td>\n      <td>Gry na konsole</td>\n      <td>2 days 23:33:51.034629</td>\n      <td>71.564176</td>\n      <td>14.600000</td>\n      <td>Police-360.0</td>\n    </tr>\n    <tr>\n      <th>1</th>\n      <td>2020-03-22 23:31:21</td>\n      <td>2020-03-25 21:55:26.574877</td>\n      <td>516.0</td>\n      <td>Police</td>\n      <td>Gry i konsole;Gry na konsole;Gry Xbox 360</td>\n      <td>69.00</td>\n      <td>Gry i konsole</td>\n      <td>Gry na konsole</td>\n      <td>2 days 22:24:05.574877</td>\n      <td>70.401549</td>\n      <td>23.516667</td>\n      <td>Police-516.0</td>\n    </tr>\n    <tr>\n      <th>2</th>\n      <td>2020-05-06 07:08:11</td>\n      <td>2020-05-09 12:02:11.187799</td>\n      <td>516.0</td>\n      <td>Police</td>\n      <td>Komputery;Drukarki i skanery;Biurowe urządzeni...</td>\n      <td>5259.00</td>\n      <td>Komputery</td>\n      <td>Drukarki i skanery</td>\n      <td>3 days 04:54:00.187799</td>\n      <td>76.900052</td>\n      <td>7.133333</td>\n      <td>Police-516.0</td>\n    </tr>\n    <tr>\n      <th>3</th>\n      <td>2020-03-21 12:13:21</td>\n      <td>2020-03-23 22:32:36.697450</td>\n      <td>620.0</td>\n      <td>Police</td>\n      <td>Sprzęt RTV;Audio;Słuchawki</td>\n      <td>553.00</td>\n      <td>Sprzęt RTV</td>\n      <td>Audio</td>\n      <td>2 days 10:19:15.697450</td>\n      <td>58.321027</td>\n      <td>12.216667</td>\n      <td>Police-620.0</td>\n    </tr>\n    <tr>\n      <th>4</th>\n      <td>2020-04-19 00:51:28</td>\n      <td>2020-04-21 20:57:04.327567</td>\n      <td>360.0</td>\n      <td>Police</td>\n      <td>Sprzęt RTV;Audio;Słuchawki</td>\n      <td>553.00</td>\n      <td>Sprzęt RTV</td>\n      <td>Audio</td>\n      <td>2 days 20:05:36.327567</td>\n      <td>68.093424</td>\n      <td>0.850000</td>\n      <td>Police-360.0</td>\n    </tr>\n    <tr>\n      <th>...</th>\n      <td>...</td>\n      <td>...</td>\n      <td>...</td>\n      <td>...</td>\n      <td>...</td>\n      <td>...</td>\n      <td>...</td>\n      <td>...</td>\n      <td>...</td>\n      <td>...</td>\n      <td>...</td>\n      <td>...</td>\n    </tr>\n    <tr>\n      <th>6479</th>\n      <td>2020-05-12 21:36:39</td>\n      <td>2020-05-14 19:35:29.399789</td>\n      <td>516.0</td>\n      <td>Warszawa</td>\n      <td>Komputery;Tablety i akcesoria;Tablety</td>\n      <td>1816.97</td>\n      <td>Komputery</td>\n      <td>Tablety i akcesoria</td>\n      <td>1 days 21:58:50.399789</td>\n      <td>45.980667</td>\n      <td>21.600000</td>\n      <td>Warszawa-516.0</td>\n    </tr>\n    <tr>\n      <th>6480</th>\n      <td>2020-03-04 18:16:46</td>\n      <td>2020-03-06 16:05:57.868149</td>\n      <td>516.0</td>\n      <td>Warszawa</td>\n      <td>Gry i konsole;Gry na konsole;Gry Xbox 360</td>\n      <td>59.90</td>\n      <td>Gry i konsole</td>\n      <td>Gry na konsole</td>\n      <td>1 days 21:49:11.868149</td>\n      <td>45.819963</td>\n      <td>18.266667</td>\n      <td>Warszawa-516.0</td>\n    </tr>\n    <tr>\n      <th>6481</th>\n      <td>2020-01-16 05:18:31</td>\n      <td>2020-01-18 12:12:34.191550</td>\n      <td>516.0</td>\n      <td>Warszawa</td>\n      <td>Komputery;Monitory;Monitory LCD</td>\n      <td>399.00</td>\n      <td>Komputery</td>\n      <td>Monitory</td>\n      <td>2 days 06:54:03.191550</td>\n      <td>54.900887</td>\n      <td>5.300000</td>\n      <td>Warszawa-516.0</td>\n    </tr>\n    <tr>\n      <th>6482</th>\n      <td>2020-05-09 12:32:59</td>\n      <td>2020-05-11 05:38:07.845365</td>\n      <td>360.0</td>\n      <td>Warszawa</td>\n      <td>NaN</td>\n      <td>NaN</td>\n      <td>NaN</td>\n      <td>NaN</td>\n      <td>1 days 17:05:08.845365</td>\n      <td>41.085790</td>\n      <td>12.533333</td>\n      <td>Warszawa-360.0</td>\n    </tr>\n    <tr>\n      <th>6483</th>\n      <td>2020-02-01 05:41:30</td>\n      <td>2020-02-02 22:08:07.799077</td>\n      <td>516.0</td>\n      <td>Warszawa</td>\n      <td>Komputery;Monitory;Monitory LCD</td>\n      <td>1117.01</td>\n      <td>Komputery</td>\n      <td>Monitory</td>\n      <td>1 days 16:26:37.799077</td>\n      <td>40.443833</td>\n      <td>5.683333</td>\n      <td>Warszawa-516.0</td>\n    </tr>\n  </tbody>\n</table>\n<p>6484 rows × 12 columns</p>\n</div>"
     },
     "execution_count": 70,
     "metadata": {},
     "output_type": "execute_result"
    }
   ],
   "source": [
    "company_in_city = pd.DataFrame(merged_data)\n",
    "company_in_city['city-company'] = company_in_city['city']+'-'+company_in_city['delivery_company'].astype(str)\n",
    "\n",
    "company_in_city"
   ]
  },
  {
   "cell_type": "code",
   "execution_count": 71,
   "metadata": {
    "pycharm": {
     "name": "#%%\n"
    }
   },
   "outputs": [
    {
     "data": {
      "text/plain": "<matplotlib.axes._subplots.AxesSubplot at 0x7f1d3a4562b0>"
     },
     "execution_count": 71,
     "metadata": {},
     "output_type": "execute_result"
    },
    {
     "data": {
      "text/plain": "<Figure size 432x288 with 1 Axes>",
      "image/png": "[encoded data removed]"
     },
     "metadata": {
      "needs_background": "light"
     },
     "output_type": "display_data"
    }
   ],
   "source": [
    "sn.boxplot(x=company_in_city['city-company'], y=company_in_city['delivery_total_time_hours'])"
   ]
  },
  {
   "cell_type": "markdown",
   "metadata": {},
   "source": [
    "### Analiza związku z celem\n",
    "- ciąg dalszy na końcu"
   ]
  },
  {
   "cell_type": "code",
   "execution_count": 72,
   "metadata": {},
   "outputs": [
    {
     "data": {
      "text/plain": "             delivery_company           city     price  category  subcategory  \\\nMutual info      9.248312e-02   6.169044e-01  0.000000  0.000000     0.009856   \nF test           6.813548e+02   5.583503e+02  1.244774  0.072265     0.687343   \nF p-val         6.649761e-143  1.744085e-118  0.264594  0.788075     0.407100   \n\n             purchase_hour  \nMutual info       0.000000  \nF test            3.612697  \nF p-val           0.057384  ",
      "text/html": "<div>\n<style scoped>\n    .dataframe tbody tr th:only-of-type {\n        vertical-align: middle;\n    }\n\n    .dataframe tbody tr th {\n        vertical-align: top;\n    }\n\n    .dataframe thead th {\n        text-align: right;\n    }\n</style>\n<table border=\"1\" class=\"dataframe\">\n  <thead>\n    <tr style=\"text-align: right;\">\n      <th></th>\n      <th>delivery_company</th>\n      <th>city</th>\n      <th>price</th>\n      <th>category</th>\n      <th>subcategory</th>\n      <th>purchase_hour</th>\n    </tr>\n  </thead>\n  <tbody>\n    <tr>\n      <th>Mutual info</th>\n      <td>9.248312e-02</td>\n      <td>6.169044e-01</td>\n      <td>0.000000</td>\n      <td>0.000000</td>\n      <td>0.009856</td>\n      <td>0.000000</td>\n    </tr>\n    <tr>\n      <th>F test</th>\n      <td>6.813548e+02</td>\n      <td>5.583503e+02</td>\n      <td>1.244774</td>\n      <td>0.072265</td>\n      <td>0.687343</td>\n      <td>3.612697</td>\n    </tr>\n    <tr>\n      <th>F p-val</th>\n      <td>6.649761e-143</td>\n      <td>1.744085e-118</td>\n      <td>0.264594</td>\n      <td>0.788075</td>\n      <td>0.407100</td>\n      <td>0.057384</td>\n    </tr>\n  </tbody>\n</table>\n</div>"
     },
     "execution_count": 72,
     "metadata": {},
     "output_type": "execute_result"
    }
   ],
   "source": [
    "from sklearn.feature_selection import mutual_info_regression, f_regression\n",
    "\n",
    "test_data = merged_data\n",
    "columns = ['purchase_timestamp', 'delivery_timestamp', 'category_path', 'city-company']\n",
    "for col in columns:\n",
    "    test_data = test_data.drop(col, axis=1)\n",
    "\n",
    "target = test_data['delivery_total_time_hours']\n",
    "data = test_data.drop(['delivery_total_time','delivery_total_time_hours'], axis=1)\n",
    "\n",
    "\n",
    "# fill missing and code labels\n",
    "data['category'] = data['category'].fillna('missing') \n",
    "data['subcategory'] = data['subcategory'].fillna('missing') \n",
    "data['city'] = data['city'].fillna('missing') \n",
    "data = data.fillna(0)\n",
    "target = target.fillna(0)\n",
    "\n",
    "le_cat = preprocessing.LabelEncoder()\n",
    "le_cat.fit(np.unique(np.array(data['category'])))\n",
    "data['category'] = le_cat.transform(data['category'])\n",
    "\n",
    "le_subcat = preprocessing.LabelEncoder()\n",
    "le_subcat.fit(np.unique(np.array(data['subcategory'])))\n",
    "data['subcategory'] = le_subcat.transform(data['subcategory'])\n",
    "\n",
    "le_city = preprocessing.LabelEncoder()\n",
    "le_city.fit(np.unique(np.array(data['city'])))\n",
    "data['city'] = le_city.transform(data['city'])\n",
    "\n",
    "mi = mutual_info_regression(data, target)\n",
    "\n",
    "ft = f_regression(data, target)\n",
    "\n",
    "feature_selection = pd.DataFrame.from_records([mi, ft[0], ft[1]], columns=data.columns.to_numpy(), index=['Mutual info','F test','F p-val'])\n",
    "feature_selection"
   ]
  },
  {
   "cell_type": "markdown",
   "metadata": {
    "pycharm": {
     "name": "#%% md\n"
    }
   },
   "source": [
    "### Eksperymenty z modelami (dalszy etap)\n",
    "- no imputation, no parameter scaling"
   ]
  },
  {
   "cell_type": "code",
   "execution_count": 73,
   "metadata": {
    "pycharm": {
     "name": "#%%\n"
    }
   },
   "outputs": [],
   "source": [
    "clean_data = merged_data\n",
    "\n",
    "# information form these columns has been transferred to delivery_total_time and category + subcategory\n",
    "columns = ['purchase_timestamp', 'delivery_timestamp', 'category_path', 'city-company']\n",
    "for col in columns:\n",
    "    clean_data = clean_data.drop(col, axis=1)\n",
    "\n",
    "clean_data = clean_data.dropna(axis=0, how='any')\n",
    "\n",
    "target = clean_data['delivery_total_time_hours']\n",
    "data = clean_data.drop(['delivery_total_time','delivery_total_time_hours'], axis=1)\n",
    "\n",
    "# code labels\n",
    "le_cat = preprocessing.LabelEncoder()\n",
    "le_cat.fit(np.unique(np.array(data['category'])))\n",
    "data['category'] = le_cat.transform(data['category'])\n",
    "\n",
    "le_subcat = preprocessing.LabelEncoder()\n",
    "le_subcat.fit(np.unique(np.array(data['subcategory'])))\n",
    "data['subcategory'] = le_subcat.transform(data['subcategory'])\n",
    "\n",
    "le_city = preprocessing.LabelEncoder()\n",
    "le_city.fit(np.unique(np.array(data['city'])))\n",
    "data['city'] = le_city.transform(data['city'])"
   ]
  },
  {
   "cell_type": "code",
   "execution_count": 74,
   "metadata": {
    "pycharm": {
     "name": "#%%\n"
    }
   },
   "outputs": [],
   "source": [
    "from sklearn.tree import DecisionTreeRegressor\n",
    "from sklearn.neighbors import KNeighborsRegressor\n",
    "from sklearn.neighbors import RadiusNeighborsRegressor\n",
    "\n",
    "from sklearn.metrics import max_error, mean_absolute_error, mean_squared_error\n",
    "from sklearn.model_selection import KFold\n",
    "from sklearn.model_selection import train_test_split\n",
    "\n",
    "def train_tree_reg(data, target, k_model, k_fold_ratio=5, rand=3228):\n",
    "    k_fold = KFold(n_splits=k_fold_ratio, random_state=rand, shuffle=True)\n",
    "    data_arr = np.array(data)\n",
    "    target_arr = np.array(target)\n",
    "\n",
    "    max_errors = []\n",
    "    mean_absolute_errors = []\n",
    "    mean_squared_errors = []\n",
    "\n",
    "    for train_index, test_index in k_fold.split(data_arr):\n",
    "        train_X, valid_X = data_arr[train_index], data_arr[test_index]\n",
    "        train_y, valid_y = target_arr[train_index], target_arr[test_index]\n",
    "\n",
    "        k_model = k_model.fit(train_X, train_y)\n",
    "\n",
    "        k_predict = k_model.predict(valid_X)\n",
    "\n",
    "        # code for calculating metrics\n",
    "        max_errors.append(max_error(valid_y, k_predict))\n",
    "        mean_absolute_errors.append(mean_absolute_error(valid_y, k_predict))\n",
    "        mean_squared_errors.append(mean_squared_error(valid_y, k_predict))\n",
    "\n",
    "    # train resulting model\n",
    "    k_model.fit(data, target)\n",
    "\n",
    "    return k_model, \\\n",
    "           np.max(max_errors), \\\n",
    "           np.average(mean_absolute_errors), \\\n",
    "           np.average(mean_squared_errors)\n",
    "\n",
    "# test data\n",
    "x_train, x_test, y_train, y_test = \\\n",
    "    train_test_split(data, target, test_size=0.2, random_state=0)"
   ]
  },
  {
   "cell_type": "markdown",
   "metadata": {
    "pycharm": {
     "name": "#%% md\n"
    }
   },
   "source": [
    "#### KNeighborsRegressor"
   ]
  },
  {
   "cell_type": "code",
   "execution_count": 75,
   "metadata": {
    "pycharm": {
     "name": "#%%\n"
    }
   },
   "outputs": [
    {
     "data": {
      "text/plain": "     k   weights  learn max error  learn avg error  learn avg sqr error  \\\n0    2   uniform        89.377805        18.329316           544.262983   \n1    3   uniform        83.160835        18.028630           510.857341   \n2    4   uniform        77.934837        18.078256           501.048879   \n3    6   uniform        81.274344        18.094406           488.494523   \n4    8   uniform        73.749402        18.187644           484.856713   \n5   12   uniform        66.211378        18.348543           485.680540   \n6    2  distance        89.072355        17.783653           528.244336   \n7    3  distance        84.961981        17.258784           486.567350   \n8    4  distance        79.226998        17.063330           467.458246   \n9    6  distance        81.910305        16.879194           446.390495   \n10   8  distance        77.249014        16.849799           438.112417   \n11  12  distance        70.458696        16.884871           432.334187   \n\n    test max error  test avg error  test avg sqr error  \n0        74.866440       18.142611          537.677560  \n1        65.061868       17.896562          507.162595  \n2        66.210620       17.919766          494.459079  \n3        60.582422       18.034397          489.933559  \n4        61.750407       18.231814          489.640638  \n5        59.680669       18.581579          494.372708  \n6        78.812729       17.235619          505.829442  \n7        70.622404       16.772979          468.585801  \n8        65.992534       16.610575          449.425761  \n9        58.205813       16.462363          433.287782  \n10       60.058783       16.427240          426.393452  \n11       58.773640       16.619039          424.812688  ",
      "text/html": "<div>\n<style scoped>\n    .dataframe tbody tr th:only-of-type {\n        vertical-align: middle;\n    }\n\n    .dataframe tbody tr th {\n        vertical-align: top;\n    }\n\n    .dataframe thead th {\n        text-align: right;\n    }\n</style>\n<table border=\"1\" class=\"dataframe\">\n  <thead>\n    <tr style=\"text-align: right;\">\n      <th></th>\n      <th>k</th>\n      <th>weights</th>\n      <th>learn max error</th>\n      <th>learn avg error</th>\n      <th>learn avg sqr error</th>\n      <th>test max error</th>\n      <th>test avg error</th>\n      <th>test avg sqr error</th>\n    </tr>\n  </thead>\n  <tbody>\n    <tr>\n      <th>0</th>\n      <td>2</td>\n      <td>uniform</td>\n      <td>89.377805</td>\n      <td>18.329316</td>\n      <td>544.262983</td>\n      <td>74.866440</td>\n      <td>18.142611</td>\n      <td>537.677560</td>\n    </tr>\n    <tr>\n      <th>1</th>\n      <td>3</td>\n      <td>uniform</td>\n      <td>83.160835</td>\n      <td>18.028630</td>\n      <td>510.857341</td>\n      <td>65.061868</td>\n      <td>17.896562</td>\n      <td>507.162595</td>\n    </tr>\n    <tr>\n      <th>2</th>\n      <td>4</td>\n      <td>uniform</td>\n      <td>77.934837</td>\n      <td>18.078256</td>\n      <td>501.048879</td>\n      <td>66.210620</td>\n      <td>17.919766</td>\n      <td>494.459079</td>\n    </tr>\n    <tr>\n      <th>3</th>\n      <td>6</td>\n      <td>uniform</td>\n      <td>81.274344</td>\n      <td>18.094406</td>\n      <td>488.494523</td>\n      <td>60.582422</td>\n      <td>18.034397</td>\n      <td>489.933559</td>\n    </tr>\n    <tr>\n      <th>4</th>\n      <td>8</td>\n      <td>uniform</td>\n      <td>73.749402</td>\n      <td>18.187644</td>\n      <td>484.856713</td>\n      <td>61.750407</td>\n      <td>18.231814</td>\n      <td>489.640638</td>\n    </tr>\n    <tr>\n      <th>5</th>\n      <td>12</td>\n      <td>uniform</td>\n      <td>66.211378</td>\n      <td>18.348543</td>\n      <td>485.680540</td>\n      <td>59.680669</td>\n      <td>18.581579</td>\n      <td>494.372708</td>\n    </tr>\n    <tr>\n      <th>6</th>\n      <td>2</td>\n      <td>distance</td>\n      <td>89.072355</td>\n      <td>17.783653</td>\n      <td>528.244336</td>\n      <td>78.812729</td>\n      <td>17.235619</td>\n      <td>505.829442</td>\n    </tr>\n    <tr>\n      <th>7</th>\n      <td>3</td>\n      <td>distance</td>\n      <td>84.961981</td>\n      <td>17.258784</td>\n      <td>486.567350</td>\n      <td>70.622404</td>\n      <td>16.772979</td>\n      <td>468.585801</td>\n    </tr>\n    <tr>\n      <th>8</th>\n      <td>4</td>\n      <td>distance</td>\n      <td>79.226998</td>\n      <td>17.063330</td>\n      <td>467.458246</td>\n      <td>65.992534</td>\n      <td>16.610575</td>\n      <td>449.425761</td>\n    </tr>\n    <tr>\n      <th>9</th>\n      <td>6</td>\n      <td>distance</td>\n      <td>81.910305</td>\n      <td>16.879194</td>\n      <td>446.390495</td>\n      <td>58.205813</td>\n      <td>16.462363</td>\n      <td>433.287782</td>\n    </tr>\n    <tr>\n      <th>10</th>\n      <td>8</td>\n      <td>distance</td>\n      <td>77.249014</td>\n      <td>16.849799</td>\n      <td>438.112417</td>\n      <td>60.058783</td>\n      <td>16.427240</td>\n      <td>426.393452</td>\n    </tr>\n    <tr>\n      <th>11</th>\n      <td>12</td>\n      <td>distance</td>\n      <td>70.458696</td>\n      <td>16.884871</td>\n      <td>432.334187</td>\n      <td>58.773640</td>\n      <td>16.619039</td>\n      <td>424.812688</td>\n    </tr>\n  </tbody>\n</table>\n</div>"
     },
     "execution_count": 75,
     "metadata": {},
     "output_type": "execute_result"
    }
   ],
   "source": [
    "data_knn_reg = []\n",
    "\n",
    "for weight in ['uniform', 'distance']:\n",
    "    for i in [2, 3, 4, 6, 8, 12]:\n",
    "        line = []\n",
    "\n",
    "        k_model = KNeighborsRegressor(n_neighbors=i, weights=weight)\n",
    "\n",
    "        line.append(i), line.append(weight)\n",
    "\n",
    "        model, err, avg, avg_sqr = train_tree_reg(x_train, y_train, k_model, 10)\n",
    "\n",
    "        line.append(err),line.append(avg),line.append(avg_sqr)\n",
    "\n",
    "        test_predictions = model.predict(x_test)\n",
    "\n",
    "        err = max_error(y_test, test_predictions)\n",
    "        avg = mean_absolute_error(y_test, test_predictions)\n",
    "        avg_sqr = mean_squared_error(y_test, test_predictions)\n",
    "\n",
    "        line.append(err),line.append(avg),line.append(avg_sqr)\n",
    "        \n",
    "        data_knn_reg.append(line)\n",
    "\n",
    "knn_reg = pd.DataFrame.from_records(data_knn_reg, columns=['k', 'weights', 'learn max error', 'learn avg error', 'learn avg sqr error', 'test max error', 'test avg error', 'test avg sqr error'])\n",
    "\n",
    "knn_reg"
   ]
  },
  {
   "cell_type": "code",
   "execution_count": 76,
   "metadata": {
    "pycharm": {
     "name": "#%%\n"
    },
    "scrolled": true
   },
   "outputs": [
    {
     "data": {
      "text/plain": "   depth  learn max error  learn avg error  learn avg sqr error  \\\n0      1        64.130303        16.118302           394.194785   \n1      2        59.128460        13.570475           290.739776   \n2      3        50.019484         9.891110           158.604733   \n3      4        43.311309         8.431376           112.477454   \n4      5        31.041709         7.114724            79.297570   \n5      6        32.440950         7.101252            78.589082   \n6      7        33.520603         7.230359            81.815431   \n7      8        35.967480         7.472270            87.452752   \n\n   test max error  test avg error  test avg sqr error  \n0       60.171814       16.233782          392.809557  \n1       54.015793       13.667941          294.390905  \n2       40.002179        9.391759          143.469639  \n3       36.273635        8.102681          106.931918  \n4       27.298341        6.894040           73.353279  \n5       32.940904        6.908529           74.466808  \n6       35.012713        7.017299           77.052658  \n7       40.728627        7.209725           82.597476  ",
      "text/html": "<div>\n<style scoped>\n    .dataframe tbody tr th:only-of-type {\n        vertical-align: middle;\n    }\n\n    .dataframe tbody tr th {\n        vertical-align: top;\n    }\n\n    .dataframe thead th {\n        text-align: right;\n    }\n</style>\n<table border=\"1\" class=\"dataframe\">\n  <thead>\n    <tr style=\"text-align: right;\">\n      <th></th>\n      <th>depth</th>\n      <th>learn max error</th>\n      <th>learn avg error</th>\n      <th>learn avg sqr error</th>\n      <th>test max error</th>\n      <th>test avg error</th>\n      <th>test avg sqr error</th>\n    </tr>\n  </thead>\n  <tbody>\n    <tr>\n      <th>0</th>\n      <td>1</td>\n      <td>64.130303</td>\n      <td>16.118302</td>\n      <td>394.194785</td>\n      <td>60.171814</td>\n      <td>16.233782</td>\n      <td>392.809557</td>\n    </tr>\n    <tr>\n      <th>1</th>\n      <td>2</td>\n      <td>59.128460</td>\n      <td>13.570475</td>\n      <td>290.739776</td>\n      <td>54.015793</td>\n      <td>13.667941</td>\n      <td>294.390905</td>\n    </tr>\n    <tr>\n      <th>2</th>\n      <td>3</td>\n      <td>50.019484</td>\n      <td>9.891110</td>\n      <td>158.604733</td>\n      <td>40.002179</td>\n      <td>9.391759</td>\n      <td>143.469639</td>\n    </tr>\n    <tr>\n      <th>3</th>\n      <td>4</td>\n      <td>43.311309</td>\n      <td>8.431376</td>\n      <td>112.477454</td>\n      <td>36.273635</td>\n      <td>8.102681</td>\n      <td>106.931918</td>\n    </tr>\n    <tr>\n      <th>4</th>\n      <td>5</td>\n      <td>31.041709</td>\n      <td>7.114724</td>\n      <td>79.297570</td>\n      <td>27.298341</td>\n      <td>6.894040</td>\n      <td>73.353279</td>\n    </tr>\n    <tr>\n      <th>5</th>\n      <td>6</td>\n      <td>32.440950</td>\n      <td>7.101252</td>\n      <td>78.589082</td>\n      <td>32.940904</td>\n      <td>6.908529</td>\n      <td>74.466808</td>\n    </tr>\n    <tr>\n      <th>6</th>\n      <td>7</td>\n      <td>33.520603</td>\n      <td>7.230359</td>\n      <td>81.815431</td>\n      <td>35.012713</td>\n      <td>7.017299</td>\n      <td>77.052658</td>\n    </tr>\n    <tr>\n      <th>7</th>\n      <td>8</td>\n      <td>35.967480</td>\n      <td>7.472270</td>\n      <td>87.452752</td>\n      <td>40.728627</td>\n      <td>7.209725</td>\n      <td>82.597476</td>\n    </tr>\n  </tbody>\n</table>\n</div>"
     },
     "execution_count": 76,
     "metadata": {},
     "output_type": "execute_result"
    }
   ],
   "source": [
    "data_tree_reg = []\n",
    "\n",
    "tree_features_importances = []\n",
    "index_features_importances = []\n",
    "\n",
    "for i in range(1,9):\n",
    "    line = []\n",
    "    k_model = DecisionTreeRegressor(max_depth=i)\n",
    "\n",
    "    model, err, avg, avg_sqr = train_tree_reg(x_train, y_train, k_model, 10)\n",
    "\n",
    "    line.append(i),line.append(err),line.append(avg),line.append(avg_sqr)\n",
    "\n",
    "    test_predictions = model.predict(x_test)\n",
    "\n",
    "    err = max_error(y_test, test_predictions)\n",
    "    avg = mean_absolute_error(y_test, test_predictions)\n",
    "    avg_sqr = mean_squared_error(y_test, test_predictions)\n",
    "\n",
    "    line.append(err),line.append(avg),line.append(avg_sqr)\n",
    "\n",
    "    data_tree_reg.append(line)\n",
    "    \n",
    "    tree_features_importances.append(model.feature_importances_)\n",
    "    index_features_importances.append(\"tree max_depth = \" + str(i))\n",
    "\n",
    "tree_reg = pd.DataFrame.from_records(data_tree_reg, columns=['depth', 'learn max error', 'learn avg error', 'learn avg sqr error', 'test max error', 'test avg error', 'test avg sqr error'])\n",
    "\n",
    "tree_reg"
   ]
  },
  {
   "cell_type": "markdown",
   "metadata": {
    "pycharm": {
     "name": "#%% md\n"
    }
   },
   "source": [
    "### Analiza związku z celem c.d."
   ]
  },
  {
   "cell_type": "code",
   "execution_count": 77,
   "metadata": {
    "pycharm": {
     "name": "#%%\n"
    }
   },
   "outputs": [
    {
     "data": {
      "text/plain": "                    delivery_company           city     price  category  \\\nMutual info             9.248312e-02   6.169044e-01  0.000000  0.000000   \nF test                  6.813548e+02   5.583503e+02  1.244774  0.072265   \nF p-val                6.649761e-143  1.744085e-118  0.264594  0.788075   \ntree max_depth = 1      0.000000e+00   1.000000e+00  0.000000  0.000000   \ntree max_depth = 2      0.000000e+00   1.000000e+00  0.000000  0.000000   \ntree max_depth = 3      7.820999e-02   9.217900e-01  0.000000  0.000000   \ntree max_depth = 4      9.349837e-02   9.055737e-01  0.000356  0.000000   \ntree max_depth = 5      1.473192e-01   8.499569e-01  0.000785  0.000000   \ntree max_depth = 6      1.493745e-01   8.437875e-01  0.002958  0.000461   \ntree max_depth = 7      1.485016e-01   8.383994e-01  0.004675  0.000728   \ntree max_depth = 8      1.472211e-01   8.312605e-01  0.007113  0.000994   \n\n                    subcategory  purchase_hour  \nMutual info            0.009856       0.000000  \nF test                 0.687343       3.612697  \nF p-val                0.407100       0.057384  \ntree max_depth = 1     0.000000       0.000000  \ntree max_depth = 2     0.000000       0.000000  \ntree max_depth = 3     0.000000       0.000000  \ntree max_depth = 4     0.000000       0.000572  \ntree max_depth = 5     0.000188       0.001752  \ntree max_depth = 6     0.000766       0.002653  \ntree max_depth = 7     0.001253       0.006443  \ntree max_depth = 8     0.001889       0.011522  ",
      "text/html": "<div>\n<style scoped>\n    .dataframe tbody tr th:only-of-type {\n        vertical-align: middle;\n    }\n\n    .dataframe tbody tr th {\n        vertical-align: top;\n    }\n\n    .dataframe thead th {\n        text-align: right;\n    }\n</style>\n<table border=\"1\" class=\"dataframe\">\n  <thead>\n    <tr style=\"text-align: right;\">\n      <th></th>\n      <th>delivery_company</th>\n      <th>city</th>\n      <th>price</th>\n      <th>category</th>\n      <th>subcategory</th>\n      <th>purchase_hour</th>\n    </tr>\n  </thead>\n  <tbody>\n    <tr>\n      <th>Mutual info</th>\n      <td>9.248312e-02</td>\n      <td>6.169044e-01</td>\n      <td>0.000000</td>\n      <td>0.000000</td>\n      <td>0.009856</td>\n      <td>0.000000</td>\n    </tr>\n    <tr>\n      <th>F test</th>\n      <td>6.813548e+02</td>\n      <td>5.583503e+02</td>\n      <td>1.244774</td>\n      <td>0.072265</td>\n      <td>0.687343</td>\n      <td>3.612697</td>\n    </tr>\n    <tr>\n      <th>F p-val</th>\n      <td>6.649761e-143</td>\n      <td>1.744085e-118</td>\n      <td>0.264594</td>\n      <td>0.788075</td>\n      <td>0.407100</td>\n      <td>0.057384</td>\n    </tr>\n    <tr>\n      <th>tree max_depth = 1</th>\n      <td>0.000000e+00</td>\n      <td>1.000000e+00</td>\n      <td>0.000000</td>\n      <td>0.000000</td>\n      <td>0.000000</td>\n      <td>0.000000</td>\n    </tr>\n    <tr>\n      <th>tree max_depth = 2</th>\n      <td>0.000000e+00</td>\n      <td>1.000000e+00</td>\n      <td>0.000000</td>\n      <td>0.000000</td>\n      <td>0.000000</td>\n      <td>0.000000</td>\n    </tr>\n    <tr>\n      <th>tree max_depth = 3</th>\n      <td>7.820999e-02</td>\n      <td>9.217900e-01</td>\n      <td>0.000000</td>\n      <td>0.000000</td>\n      <td>0.000000</td>\n      <td>0.000000</td>\n    </tr>\n    <tr>\n      <th>tree max_depth = 4</th>\n      <td>9.349837e-02</td>\n      <td>9.055737e-01</td>\n      <td>0.000356</td>\n      <td>0.000000</td>\n      <td>0.000000</td>\n      <td>0.000572</td>\n    </tr>\n    <tr>\n      <th>tree max_depth = 5</th>\n      <td>1.473192e-01</td>\n      <td>8.499569e-01</td>\n      <td>0.000785</td>\n      <td>0.000000</td>\n      <td>0.000188</td>\n      <td>0.001752</td>\n    </tr>\n    <tr>\n      <th>tree max_depth = 6</th>\n      <td>1.493745e-01</td>\n      <td>8.437875e-01</td>\n      <td>0.002958</td>\n      <td>0.000461</td>\n      <td>0.000766</td>\n      <td>0.002653</td>\n    </tr>\n    <tr>\n      <th>tree max_depth = 7</th>\n      <td>1.485016e-01</td>\n      <td>8.383994e-01</td>\n      <td>0.004675</td>\n      <td>0.000728</td>\n      <td>0.001253</td>\n      <td>0.006443</td>\n    </tr>\n    <tr>\n      <th>tree max_depth = 8</th>\n      <td>1.472211e-01</td>\n      <td>8.312605e-01</td>\n      <td>0.007113</td>\n      <td>0.000994</td>\n      <td>0.001889</td>\n      <td>0.011522</td>\n    </tr>\n  </tbody>\n</table>\n</div>"
     },
     "execution_count": 77,
     "metadata": {},
     "output_type": "execute_result"
    }
   ],
   "source": [
    "feature_selection = pd.concat([feature_selection, pd.DataFrame.from_records(tree_features_importances, index=index_features_importances, columns=data.columns.to_numpy())])\n",
    "feature_selection\n"
   ]
  },
  {
   "cell_type": "markdown",
   "metadata": {
    "pycharm": {
     "name": "#%% md\n"
    }
   },
   "source": [
    "Jak widać największe znaczenie mają miasta i firmy kurierskiej. Zależność z podkategorią i ceną ma o wiele mniejsze znaczenie."
   ]
  },
  {
   "cell_type": "code",
   "execution_count": 78,
   "metadata": {
    "pycharm": {
     "name": "#%%\n"
    }
   },
   "outputs": [
    {
     "data": {
      "text/plain": "      delivery_company  city    price  category  subcategory  purchase_hour\n0                360.0     4   109.00         0            4      14.600000\n1                516.0     4    69.00         0            4      23.516667\n2                516.0     4  5259.00         1            2       7.133333\n3                620.0     4   553.00         2            1      12.216667\n4                360.0     4   553.00         2            1       0.850000\n...                ...   ...      ...       ...          ...            ...\n6478             360.0     7  3029.00         1            5      19.733333\n6479             516.0     7  1816.97         1            7      21.600000\n6480             516.0     7    59.90         0            4      18.266667\n6481             516.0     7   399.00         1            5       5.300000\n6483             516.0     7  1117.01         1            5       5.683333\n\n[6177 rows x 6 columns]",
      "text/html": "<div>\n<style scoped>\n    .dataframe tbody tr th:only-of-type {\n        vertical-align: middle;\n    }\n\n    .dataframe tbody tr th {\n        vertical-align: top;\n    }\n\n    .dataframe thead th {\n        text-align: right;\n    }\n</style>\n<table border=\"1\" class=\"dataframe\">\n  <thead>\n    <tr style=\"text-align: right;\">\n      <th></th>\n      <th>delivery_company</th>\n      <th>city</th>\n      <th>price</th>\n      <th>category</th>\n      <th>subcategory</th>\n      <th>purchase_hour</th>\n    </tr>\n  </thead>\n  <tbody>\n    <tr>\n      <th>0</th>\n      <td>360.0</td>\n      <td>4</td>\n      <td>109.00</td>\n      <td>0</td>\n      <td>4</td>\n      <td>14.600000</td>\n    </tr>\n    <tr>\n      <th>1</th>\n      <td>516.0</td>\n      <td>4</td>\n      <td>69.00</td>\n      <td>0</td>\n      <td>4</td>\n      <td>23.516667</td>\n    </tr>\n    <tr>\n      <th>2</th>\n      <td>516.0</td>\n      <td>4</td>\n      <td>5259.00</td>\n      <td>1</td>\n      <td>2</td>\n      <td>7.133333</td>\n    </tr>\n    <tr>\n      <th>3</th>\n      <td>620.0</td>\n      <td>4</td>\n      <td>553.00</td>\n      <td>2</td>\n      <td>1</td>\n      <td>12.216667</td>\n    </tr>\n    <tr>\n      <th>4</th>\n      <td>360.0</td>\n      <td>4</td>\n      <td>553.00</td>\n      <td>2</td>\n      <td>1</td>\n      <td>0.850000</td>\n    </tr>\n    <tr>\n      <th>...</th>\n      <td>...</td>\n      <td>...</td>\n      <td>...</td>\n      <td>...</td>\n      <td>...</td>\n      <td>...</td>\n    </tr>\n    <tr>\n      <th>6478</th>\n      <td>360.0</td>\n      <td>7</td>\n      <td>3029.00</td>\n      <td>1</td>\n      <td>5</td>\n      <td>19.733333</td>\n    </tr>\n    <tr>\n      <th>6479</th>\n      <td>516.0</td>\n      <td>7</td>\n      <td>1816.97</td>\n      <td>1</td>\n      <td>7</td>\n      <td>21.600000</td>\n    </tr>\n    <tr>\n      <th>6480</th>\n      <td>516.0</td>\n      <td>7</td>\n      <td>59.90</td>\n      <td>0</td>\n      <td>4</td>\n      <td>18.266667</td>\n    </tr>\n    <tr>\n      <th>6481</th>\n      <td>516.0</td>\n      <td>7</td>\n      <td>399.00</td>\n      <td>1</td>\n      <td>5</td>\n      <td>5.300000</td>\n    </tr>\n    <tr>\n      <th>6483</th>\n      <td>516.0</td>\n      <td>7</td>\n      <td>1117.01</td>\n      <td>1</td>\n      <td>5</td>\n      <td>5.683333</td>\n    </tr>\n  </tbody>\n</table>\n<p>6177 rows × 6 columns</p>\n</div>"
     },
     "execution_count": 78,
     "metadata": {},
     "output_type": "execute_result"
    }
   ],
   "source": [
    "data"
   ]
  }
 ],
 "metadata": {
  "kernelspec": {
   "display_name": "Python 3",
   "language": "python",
   "name": "python3"
  },
  "language_info": {
   "codemirror_mode": {
    "name": "ipython",
    "version": 3
   },
   "file_extension": ".py",
   "mimetype": "text/x-python",
   "name": "python",
   "nbconvert_exporter": "python",
   "pygments_lexer": "ipython3",
   "version": "3.6.9"
  }
 },
 "nbformat": 4,
 "nbformat_minor": 4
}