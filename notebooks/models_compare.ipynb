{
 "cells": [
  {
   "cell_type": "markdown",
   "metadata": {
    "collapsed": true,
    "pycharm": {
     "name": "#%% md\n"
    }
   },
   "source": [
    "# Projekt z Inżynierii Uczenia Maszynowego\n",
    "Semestr letni 2020, WEiTI PW\n",
    "## Autorzy\n",
    "Przemysław Stawczyk\n",
    "\n",
    "Maciej Szulik\n"
   ]
  },
  {
   "cell_type": "markdown",
   "source": [
    "## Porównanie modeli regresorów:\n",
    "- Knn\n",
    "- tree regressor\n",
    "- xgboost regressor"
   ],
   "metadata": {
    "collapsed": false,
    "pycharm": {
     "name": "#%% md\n"
    }
   }
  },
  {
   "cell_type": "code",
   "execution_count": 16,
   "outputs": [],
   "source": [
    "import json\n",
    "import numpy as np\n",
    "import pandas as pd\n",
    "import xgboost as xgb\n",
    "from sklearn import preprocessing\n",
    "from sklearn.model_selection import train_test_split, RandomizedSearchCV, GridSearchCV, KFold\n",
    "from sklearn.metrics import max_error, mean_absolute_error, mean_squared_error\n",
    "from sklearn.neighbors import KNeighborsRegressor\n",
    "from sklearn.tree import DecisionTreeRegressor\n",
    "import seaborn as sn\n"
   ],
   "metadata": {
    "collapsed": false,
    "pycharm": {
     "name": "#%%\n"
    }
   }
  },
  {
   "cell_type": "code",
   "execution_count": 17,
   "outputs": [],
   "source": [
    "def clean_nan_rows(dataframe, print_stats=False):\n",
    "    clean_df = dataframe.dropna(axis=0, how='any')\n",
    "    if print_stats:\n",
    "        print('Original Length=', len(dataframe), '\\tCleaned Length=', len(clean_df), '\\tMissing Data=',\n",
    "              len(dataframe) - len(clean_df))\n",
    "    return clean_df\n",
    "\n",
    "def load_file(filename):\n",
    "    with open(filename, encoding=\"utf8\") as f:\n",
    "        data = f.readlines()\n",
    "        data = [json.loads(line) for line in data]  # convert string to dict format\n",
    "        df = pd.json_normalize(data)\n",
    "    return df\n",
    "\n",
    "def load_tables():\n",
    "    users = load_file(r'../data/users.jsonl')\n",
    "    deliveries = load_file(r'../data//deliveries.jsonl')\n",
    "    sessions = load_file(r'../data//sessions.jsonl')\n",
    "    products = load_file(r'../data//products.jsonl')\n",
    "\n",
    "    return users, deliveries, sessions, products\n",
    "\n",
    "def create_subcategories(products):\n",
    "    category_path_arr = products['category_path'].str.split(';', 2)\n",
    "    category_arr = []\n",
    "    subcategory_arr = []\n",
    "    for path in category_path_arr:\n",
    "        if type(path) == float:\n",
    "            category_arr.append(path)\n",
    "            subcategory_arr.append(path)\n",
    "        else:\n",
    "            category_arr.append(path[0])\n",
    "            subcategory_arr.append(path[1])\n",
    "\n",
    "    products['category'] = category_arr\n",
    "    products['subcategory'] = subcategory_arr\n",
    "\n",
    "    return products\n",
    "\n",
    "def fill_missing_user_id(sessions):\n",
    "    session_user_map = sessions[sessions[\"user_id\"].notna()].set_index('session_id')['user_id'].to_dict()\n",
    "\n",
    "    for i, row in sessions.iterrows():\n",
    "        if np.isnan(row[\"user_id\"]) and row[\"session_id\"] in session_user_map:\n",
    "            sessions.at[i, 'user_id'] = session_user_map[row[\"session_id\"]]\n",
    "\n",
    "    buy_sessions = sessions[sessions.event_type == 'BUY_PRODUCT']\n",
    "\n",
    "    clean_nan_rows(dataframe=buy_sessions['user_id'], print_stats=False)\n",
    "\n",
    "    return buy_sessions\n",
    "\n",
    "def obtain_dataset_table():\n",
    "    users, deliveries, sessions, products = load_tables()\n",
    "\n",
    "    # create subcategories and fill missing user id\n",
    "    products = create_subcategories(products)\n",
    "    sessions = fill_missing_user_id(sessions)\n",
    "\n",
    "    # drop deliveries with missing delivery time\n",
    "    deliveries = deliveries.dropna()\n",
    "\n",
    "    # inner join sessions and deliveries\n",
    "    merged_data = pd.merge(left=sessions, right=deliveries, left_on='purchase_id', right_on='purchase_id')\n",
    "\n",
    "    # left join users\n",
    "    merged_data = pd.merge(left=merged_data, right=users, how='left', left_on='user_id', right_on='user_id')\n",
    "\n",
    "    # left join products\n",
    "    merged_data = pd.merge(left=merged_data, right=products, how='left', left_on='product_id', right_on='product_id')\n",
    "\n",
    "    # delivery time in hours\n",
    "    merged_data['delivery_timestamp'] = \\\n",
    "        pd.to_datetime(merged_data.delivery_timestamp)\n",
    "    merged_data['purchase_timestamp'] = \\\n",
    "        pd.to_datetime(merged_data.purchase_timestamp)\n",
    "    merged_data['delivery_total_time'] = \\\n",
    "        merged_data['delivery_timestamp'] - merged_data['purchase_timestamp']\n",
    "\n",
    "    merged_data['delivery_total_time_hours'] = \\\n",
    "        merged_data['delivery_total_time'].dt.total_seconds() / 3600\n",
    "\n",
    "    # drop unnecessary columns\n",
    "    columns = ['session_id', 'purchase_id', 'user_id', 'product_id', 'event_type',\n",
    "               'offered_discount', 'name', 'timestamp', 'product_name', 'street',\n",
    "               'purchase_timestamp', 'delivery_timestamp', 'category_path']\n",
    "    for col in columns:\n",
    "        merged_data = merged_data.drop(col, axis=1)\n",
    "\n",
    "    merged_data = clean_nan_rows(merged_data, print_stats=False)\n",
    "\n",
    "    return merged_data\n",
    "\n",
    "def code_labels(dataset):\n",
    "    # code labels\n",
    "    le_cat = preprocessing.LabelEncoder()\n",
    "    categories = np.unique(np.array(dataset['category']))\n",
    "    np.append(categories, 'missing')\n",
    "    le_cat.fit(categories)\n",
    "    dataset['category'] = le_cat.transform(dataset['category'])\n",
    "\n",
    "    le_subcat = preprocessing.LabelEncoder()\n",
    "    subcategories = np.unique(np.array(dataset['subcategory']))\n",
    "    np.append(subcategories, 'missing')\n",
    "    le_subcat.fit(subcategories)\n",
    "    dataset['subcategory'] = le_subcat.transform(dataset['subcategory'])\n",
    "\n",
    "    le_city = preprocessing.LabelEncoder()\n",
    "    cities = np.unique(np.array(dataset['city']))\n",
    "    np.append(cities, 'missing')\n",
    "    le_city.fit(cities)\n",
    "    dataset['city'] = le_city.transform(dataset['city'])\n",
    "\n",
    "    return dataset, le_cat, le_subcat, le_city"
   ],
   "metadata": {
    "collapsed": false,
    "pycharm": {
     "name": "#%%\n"
    }
   }
  },
  {
   "cell_type": "code",
   "execution_count": 18,
   "outputs": [
    {
     "data": {
      "text/plain": "      delivery_company  city   price  category  subcategory  \\\n0                360.0     4  109.00         0            4   \n1                360.0     4   32.99         0            3   \n2                620.0     4   58.97         3            9   \n3                516.0     4   69.00         0            4   \n4                360.0     4  -49.99         0            4   \n...                ...   ...     ...       ...          ...   \n6572             620.0     7  129.00         3            0   \n6573             360.0     7  299.00         3            0   \n6574             620.0     7   58.97         3            9   \n6575             620.0     7   78.90         2            6   \n6576             360.0     7   64.80         2            6   \n\n     delivery_total_time  delivery_total_time_hours  \n0        4 days 14:00:00                      110.0  \n1        4 days 14:00:00                      110.0  \n2        3 days 20:00:00                       92.0  \n3        2 days 17:00:00                       65.0  \n4        4 days 14:00:00                      110.0  \n...                  ...                        ...  \n6572     4 days 10:00:00                      106.0  \n6573     4 days 19:00:00                      115.0  \n6574     4 days 10:00:00                      106.0  \n6575     4 days 10:00:00                      106.0  \n6576     4 days 19:00:00                      115.0  \n\n[6250 rows x 7 columns]",
      "text/html": "<div>\n<style scoped>\n    .dataframe tbody tr th:only-of-type {\n        vertical-align: middle;\n    }\n\n    .dataframe tbody tr th {\n        vertical-align: top;\n    }\n\n    .dataframe thead th {\n        text-align: right;\n    }\n</style>\n<table border=\"1\" class=\"dataframe\">\n  <thead>\n    <tr style=\"text-align: right;\">\n      <th></th>\n      <th>delivery_company</th>\n      <th>city</th>\n      <th>price</th>\n      <th>category</th>\n      <th>subcategory</th>\n      <th>delivery_total_time</th>\n      <th>delivery_total_time_hours</th>\n    </tr>\n  </thead>\n  <tbody>\n    <tr>\n      <th>0</th>\n      <td>360.0</td>\n      <td>4</td>\n      <td>109.00</td>\n      <td>0</td>\n      <td>4</td>\n      <td>4 days 14:00:00</td>\n      <td>110.0</td>\n    </tr>\n    <tr>\n      <th>1</th>\n      <td>360.0</td>\n      <td>4</td>\n      <td>32.99</td>\n      <td>0</td>\n      <td>3</td>\n      <td>4 days 14:00:00</td>\n      <td>110.0</td>\n    </tr>\n    <tr>\n      <th>2</th>\n      <td>620.0</td>\n      <td>4</td>\n      <td>58.97</td>\n      <td>3</td>\n      <td>9</td>\n      <td>3 days 20:00:00</td>\n      <td>92.0</td>\n    </tr>\n    <tr>\n      <th>3</th>\n      <td>516.0</td>\n      <td>4</td>\n      <td>69.00</td>\n      <td>0</td>\n      <td>4</td>\n      <td>2 days 17:00:00</td>\n      <td>65.0</td>\n    </tr>\n    <tr>\n      <th>4</th>\n      <td>360.0</td>\n      <td>4</td>\n      <td>-49.99</td>\n      <td>0</td>\n      <td>4</td>\n      <td>4 days 14:00:00</td>\n      <td>110.0</td>\n    </tr>\n    <tr>\n      <th>...</th>\n      <td>...</td>\n      <td>...</td>\n      <td>...</td>\n      <td>...</td>\n      <td>...</td>\n      <td>...</td>\n      <td>...</td>\n    </tr>\n    <tr>\n      <th>6572</th>\n      <td>620.0</td>\n      <td>7</td>\n      <td>129.00</td>\n      <td>3</td>\n      <td>0</td>\n      <td>4 days 10:00:00</td>\n      <td>106.0</td>\n    </tr>\n    <tr>\n      <th>6573</th>\n      <td>360.0</td>\n      <td>7</td>\n      <td>299.00</td>\n      <td>3</td>\n      <td>0</td>\n      <td>4 days 19:00:00</td>\n      <td>115.0</td>\n    </tr>\n    <tr>\n      <th>6574</th>\n      <td>620.0</td>\n      <td>7</td>\n      <td>58.97</td>\n      <td>3</td>\n      <td>9</td>\n      <td>4 days 10:00:00</td>\n      <td>106.0</td>\n    </tr>\n    <tr>\n      <th>6575</th>\n      <td>620.0</td>\n      <td>7</td>\n      <td>78.90</td>\n      <td>2</td>\n      <td>6</td>\n      <td>4 days 10:00:00</td>\n      <td>106.0</td>\n    </tr>\n    <tr>\n      <th>6576</th>\n      <td>360.0</td>\n      <td>7</td>\n      <td>64.80</td>\n      <td>2</td>\n      <td>6</td>\n      <td>4 days 19:00:00</td>\n      <td>115.0</td>\n    </tr>\n  </tbody>\n</table>\n<p>6250 rows × 7 columns</p>\n</div>"
     },
     "execution_count": 18,
     "metadata": {},
     "output_type": "execute_result"
    }
   ],
   "source": [
    "dataset = obtain_dataset_table()\n",
    "dataset, le_cat, le_subcat, le_city = code_labels(dataset)\n",
    "\n",
    "dataset"
   ],
   "metadata": {
    "collapsed": false,
    "pycharm": {
     "name": "#%%\n"
    }
   }
  },
  {
   "cell_type": "code",
   "execution_count": 19,
   "outputs": [
    {
     "data": {
      "text/plain": "      delivery_company  city   price  category  subcategory\n0                360.0     4  109.00         0            4\n1                360.0     4   32.99         0            3\n2                620.0     4   58.97         3            9\n3                516.0     4   69.00         0            4\n4                360.0     4  -49.99         0            4\n...                ...   ...     ...       ...          ...\n6572             620.0     7  129.00         3            0\n6573             360.0     7  299.00         3            0\n6574             620.0     7   58.97         3            9\n6575             620.0     7   78.90         2            6\n6576             360.0     7   64.80         2            6\n\n[6250 rows x 5 columns]",
      "text/html": "<div>\n<style scoped>\n    .dataframe tbody tr th:only-of-type {\n        vertical-align: middle;\n    }\n\n    .dataframe tbody tr th {\n        vertical-align: top;\n    }\n\n    .dataframe thead th {\n        text-align: right;\n    }\n</style>\n<table border=\"1\" class=\"dataframe\">\n  <thead>\n    <tr style=\"text-align: right;\">\n      <th></th>\n      <th>delivery_company</th>\n      <th>city</th>\n      <th>price</th>\n      <th>category</th>\n      <th>subcategory</th>\n    </tr>\n  </thead>\n  <tbody>\n    <tr>\n      <th>0</th>\n      <td>360.0</td>\n      <td>4</td>\n      <td>109.00</td>\n      <td>0</td>\n      <td>4</td>\n    </tr>\n    <tr>\n      <th>1</th>\n      <td>360.0</td>\n      <td>4</td>\n      <td>32.99</td>\n      <td>0</td>\n      <td>3</td>\n    </tr>\n    <tr>\n      <th>2</th>\n      <td>620.0</td>\n      <td>4</td>\n      <td>58.97</td>\n      <td>3</td>\n      <td>9</td>\n    </tr>\n    <tr>\n      <th>3</th>\n      <td>516.0</td>\n      <td>4</td>\n      <td>69.00</td>\n      <td>0</td>\n      <td>4</td>\n    </tr>\n    <tr>\n      <th>4</th>\n      <td>360.0</td>\n      <td>4</td>\n      <td>-49.99</td>\n      <td>0</td>\n      <td>4</td>\n    </tr>\n    <tr>\n      <th>...</th>\n      <td>...</td>\n      <td>...</td>\n      <td>...</td>\n      <td>...</td>\n      <td>...</td>\n    </tr>\n    <tr>\n      <th>6572</th>\n      <td>620.0</td>\n      <td>7</td>\n      <td>129.00</td>\n      <td>3</td>\n      <td>0</td>\n    </tr>\n    <tr>\n      <th>6573</th>\n      <td>360.0</td>\n      <td>7</td>\n      <td>299.00</td>\n      <td>3</td>\n      <td>0</td>\n    </tr>\n    <tr>\n      <th>6574</th>\n      <td>620.0</td>\n      <td>7</td>\n      <td>58.97</td>\n      <td>3</td>\n      <td>9</td>\n    </tr>\n    <tr>\n      <th>6575</th>\n      <td>620.0</td>\n      <td>7</td>\n      <td>78.90</td>\n      <td>2</td>\n      <td>6</td>\n    </tr>\n    <tr>\n      <th>6576</th>\n      <td>360.0</td>\n      <td>7</td>\n      <td>64.80</td>\n      <td>2</td>\n      <td>6</td>\n    </tr>\n  </tbody>\n</table>\n<p>6250 rows × 5 columns</p>\n</div>"
     },
     "execution_count": 19,
     "metadata": {},
     "output_type": "execute_result"
    }
   ],
   "source": [
    "target = dataset['delivery_total_time_hours']\n",
    "data = dataset.drop(['delivery_total_time', 'delivery_total_time_hours'], axis=1)\n",
    "\n",
    "data"
   ],
   "metadata": {
    "collapsed": false,
    "pycharm": {
     "name": "#%%\n"
    }
   }
  },
  {
   "cell_type": "markdown",
   "source": [
    "## Split dataset on training and testing set"
   ],
   "metadata": {
    "collapsed": false,
    "pycharm": {
     "name": "#%% md\n"
    }
   }
  },
  {
   "cell_type": "code",
   "execution_count": 20,
   "outputs": [],
   "source": [
    "x_train, x_test, y_train, y_test = train_test_split(data, target, test_size=0.25, random_state=0)"
   ],
   "metadata": {
    "collapsed": false,
    "pycharm": {
     "name": "#%%\n"
    }
   }
  },
  {
   "cell_type": "markdown",
   "source": [
    "## Train models\n",
    "\n",
    "For comparison we will use exhaustive search. For normal work randomized >50% of options will be checked."
   ],
   "metadata": {
    "collapsed": false
   }
  },
  {
   "cell_type": "code",
   "execution_count": 21,
   "outputs": [],
   "source": [
    "def train_model(target, data, model_type='xgb', random_seed=42, randomized=True):\n",
    "    params = {}\n",
    "    model = None\n",
    "    crv = None\n",
    "    n_iter = 0\n",
    "\n",
    "    if model_type == 'xgb':\n",
    "        model = xgb.XGBRegressor()\n",
    "        params = {\n",
    "            'objective': ['reg:squarederror'],\n",
    "            'eval_metric': ['rmse'],\n",
    "            'learning_rate': [0.03, 0.05, 0.07],  # so called `eta` value\n",
    "            'max_depth': [4, 5, 6, 7],\n",
    "            'min_child_weight': [4],\n",
    "            'silent': [1],\n",
    "            'n_estimators': [200, 320, 450, 600],\n",
    "            'seed': [random_seed]\n",
    "        }\n",
    "        n_iter = 28\n",
    "    elif model_type == 'tree':\n",
    "        model = DecisionTreeRegressor()\n",
    "        params = {\n",
    "            'max_depth': [2, 3, 4, 5, 6, 7, 8, 9],\n",
    "            'random_state': [random_seed],\n",
    "            'criterion': ['mse', 'friedman_mse', 'mae'],\n",
    "            'splitter': ['best', 'random']\n",
    "        }\n",
    "        n_iter = 30  # ~half of possible combinations\n",
    "    elif model_type == 'knn':\n",
    "        model = KNeighborsRegressor()\n",
    "        params = {\n",
    "            'n_neighbors': [3, 4, 5, 6, 8, 12, 15, 18, 22],\n",
    "            'weights': ['uniform', 'distance'],\n",
    "            'algorithm': ['ball_tree', 'kd_tree'],\n",
    "        }\n",
    "        n_iter = 20  # ~half of possible combinations\n",
    "    else:\n",
    "        return NotImplemented\n",
    "\n",
    "    if randomized:\n",
    "        crv = RandomizedSearchCV(model, params, random_state=random_seed, n_iter=n_iter,\n",
    "                                 cv=KFold(n_splits=4, random_state=random_seed, shuffle=True), refit=True,\n",
    "                                 scoring='neg_mean_squared_error')\n",
    "    else:\n",
    "        crv = GridSearchCV(model, params, cv=KFold(n_splits=4, random_state=random_seed, shuffle=True), refit=True,\n",
    "                           scoring='neg_mean_squared_error')\n",
    "\n",
    "    crv.fit(data, target)\n",
    "\n",
    "    return crv.best_estimator_, crv.best_params_"
   ],
   "metadata": {
    "collapsed": false,
    "pycharm": {
     "name": "#%%\n"
    }
   }
  },
  {
   "cell_type": "code",
   "execution_count": 22,
   "outputs": [
    {
     "data": {
      "text/plain": "{'algorithm': 'kd_tree', 'n_neighbors': 8, 'weights': 'distance'}"
     },
     "execution_count": 22,
     "metadata": {},
     "output_type": "execute_result"
    }
   ],
   "source": [
    "model_knn, params_knn = train_model(y_train, x_train, model_type='knn', randomized=False)\n",
    "params_knn"
   ],
   "metadata": {
    "collapsed": false,
    "pycharm": {
     "name": "#%%\n"
    }
   }
  },
  {
   "cell_type": "code",
   "execution_count": 23,
   "outputs": [
    {
     "data": {
      "text/plain": "{'criterion': 'mse', 'max_depth': 7, 'random_state': 42, 'splitter': 'best'}"
     },
     "execution_count": 23,
     "metadata": {},
     "output_type": "execute_result"
    }
   ],
   "source": [
    "model_tree, params_tree = train_model(y_train, x_train, model_type='tree',randomized=False)\n",
    "params_tree"
   ],
   "metadata": {
    "collapsed": false,
    "pycharm": {
     "name": "#%%\n"
    }
   }
  },
  {
   "cell_type": "code",
   "execution_count": 24,
   "outputs": [
    {
     "data": {
      "text/plain": "{'eval_metric': 'rmse',\n 'learning_rate': 0.07,\n 'max_depth': 7,\n 'min_child_weight': 4,\n 'n_estimators': 320,\n 'objective': 'reg:squarederror',\n 'seed': 42,\n 'silent': 1}"
     },
     "execution_count": 24,
     "metadata": {},
     "output_type": "execute_result"
    }
   ],
   "source": [
    "model_xgb, params_xgb = train_model(y_train, x_train, model_type='xgb',randomized=False)\n",
    "params_xgb\n"
   ],
   "metadata": {
    "collapsed": false,
    "pycharm": {
     "name": "#%%\n"
    }
   }
  },
  {
   "cell_type": "markdown",
   "source": [
    "## Compare models on test data"
   ],
   "metadata": {
    "collapsed": false
   }
  },
  {
   "cell_type": "code",
   "execution_count": 25,
   "outputs": [],
   "source": [
    "def calc_metrics(predictions, test_y):\n",
    "    err = max_error(test_y, predictions)\n",
    "    avg = mean_absolute_error(test_y, predictions)\n",
    "    avg_sqr = mean_squared_error(test_y, predictions)\n",
    "\n",
    "    return [err, avg, avg_sqr]\n",
    "\n",
    "def compare_models(models, test_X, test_y):\n",
    "    test_predictions = []\n",
    "    for mdl in models:\n",
    "        test_predictions.append(mdl.predict(test_X))\n",
    "\n",
    "    err = []\n",
    "    for mdl_pred in test_predictions:\n",
    "        err.append(calc_metrics(mdl_pred, test_y))\n",
    "\n",
    "    error = pd.DataFrame.from_records(err, columns=['max error', 'avg error', 'avg sqr error'],\n",
    "                                      index=['mdl-' + str(index + 1) for index in range(len(models))])\n",
    "    ret = pd.DataFrame.from_records(test_X)\n",
    "    ret['target'] = test_y\n",
    "    for index, mdl in enumerate(models):\n",
    "        ret['mdl-' + str(index + 1)] = test_predictions[index]\n",
    "\n",
    "    return ret, error"
   ],
   "metadata": {
    "collapsed": false,
    "pycharm": {
     "name": "#%%\n"
    }
   }
  },
  {
   "cell_type": "code",
   "execution_count": 26,
   "outputs": [
    {
     "data": {
      "text/plain": "      max error  avg error  avg sqr error\nkNN   48.243194   1.397963   3.076448e+01\ntree   0.000000   0.000000   0.000000e+00\nxgb    0.000137   0.000047   3.813179e-09",
      "text/html": "<div>\n<style scoped>\n    .dataframe tbody tr th:only-of-type {\n        vertical-align: middle;\n    }\n\n    .dataframe tbody tr th {\n        vertical-align: top;\n    }\n\n    .dataframe thead th {\n        text-align: right;\n    }\n</style>\n<table border=\"1\" class=\"dataframe\">\n  <thead>\n    <tr style=\"text-align: right;\">\n      <th></th>\n      <th>max error</th>\n      <th>avg error</th>\n      <th>avg sqr error</th>\n    </tr>\n  </thead>\n  <tbody>\n    <tr>\n      <th>kNN</th>\n      <td>48.243194</td>\n      <td>1.397963</td>\n      <td>3.076448e+01</td>\n    </tr>\n    <tr>\n      <th>tree</th>\n      <td>0.000000</td>\n      <td>0.000000</td>\n      <td>0.000000e+00</td>\n    </tr>\n    <tr>\n      <th>xgb</th>\n      <td>0.000137</td>\n      <td>0.000047</td>\n      <td>3.813179e-09</td>\n    </tr>\n  </tbody>\n</table>\n</div>"
     },
     "execution_count": 26,
     "metadata": {},
     "output_type": "execute_result"
    }
   ],
   "source": [
    "predictions, error = compare_models([model_knn, model_tree, model_xgb], x_test, y_test)\n",
    "\n",
    "error = error.rename(index={'mdl-1': 'kNN', 'mdl-2': 'tree', 'mdl-3': 'xgb'})\n",
    "predictions = predictions.rename(columns={'mdl-1': 'kNN', 'mdl-2': 'tree', 'mdl-3': 'xgb'})\n",
    "\n",
    "predictions['category'] = le_cat.inverse_transform(predictions['category'])\n",
    "predictions['subcategory'] = le_subcat.inverse_transform(predictions['subcategory'])\n",
    "predictions['city'] = le_city.inverse_transform(predictions['city'])\n",
    "\n",
    "error"
   ],
   "metadata": {
    "collapsed": false,
    "pycharm": {
     "name": "#%%\n"
    }
   }
  },
  {
   "cell_type": "code",
   "execution_count": 27,
   "outputs": [
    {
     "data": {
      "text/plain": "    delivery_company      city         price              category  \\\n0              620.0     Kutno -4.999000e+01         Gry i konsole   \n1              516.0    Police  2.317020e+03             Komputery   \n2              516.0    Gdynia -6.118000e+01         Gry i konsole   \n3              516.0  Szczecin  2.317020e+03             Komputery   \n4              620.0    Gdynia  1.687900e+02            Sprzęt RTV   \n5              516.0     Konin -6.118000e+01         Gry i konsole   \n6              620.0  Warszawa  5.259000e+03             Komputery   \n7              620.0    Mielec  8.628000e+01  Telefony i akcesoria   \n8              620.0     Kutno  7.890000e+01            Sprzęt RTV   \n9              360.0  Szczecin  1.816970e+03             Komputery   \n10             516.0  Warszawa  3.777000e+03             Komputery   \n11             360.0    Police  7.890000e+01            Sprzęt RTV   \n12             516.0     Radom  7.890000e+01            Sprzęt RTV   \n13             516.0  Szczecin  7.990000e+01         Gry i konsole   \n14             516.0  Szczecin  2.199900e+09  Telefony i akcesoria   \n15             620.0     Kutno  4.290000e+01         Gry i konsole   \n16             620.0    Gdynia  6.480000e+01            Sprzęt RTV   \n17             516.0  Szczecin  1.930000e+02            Sprzęt RTV   \n18             516.0     Konin  1.816970e+03             Komputery   \n19             360.0  Warszawa  1.090000e+02            Sprzęt RTV   \n20             360.0     Konin  5.897000e+01  Telefony i akcesoria   \n21             620.0    Mielec  1.816970e+03             Komputery   \n22             360.0  Warszawa  2.990000e+02  Telefony i akcesoria   \n23             620.0     Radom  3.990000e+02             Komputery   \n24             360.0     Konin  1.930000e+02            Sprzęt RTV   \n\n                subcategory  target         kNN   tree         xgb  \n0            Gry na konsole     NaN   72.363636   74.0   73.999908  \n1       Tablety i akcesoria   110.0   65.000000   65.0   64.999939  \n2            Gry na konsole     NaN   43.000000   43.0   43.000008  \n3       Tablety i akcesoria     NaN   85.000000   85.0   85.000015  \n4                     Video   110.0   57.973934   74.0   73.999962  \n5            Gry na konsole     NaN   37.000000   37.0   37.000046  \n6        Drukarki i skanery     NaN  106.000000  106.0  105.999985  \n7    Akcesoria telefoniczne     NaN   68.000000   68.0   68.000000  \n8   Przenośne audio i video    65.0   74.000000   74.0   73.999908  \n9       Tablety i akcesoria     NaN  135.000000  135.0  134.999863  \n10       Drukarki i skanery     NaN   86.000000   86.0   85.999947  \n11  Przenośne audio i video     NaN  110.000000  110.0  109.999924  \n12  Przenośne audio i video    92.0   54.000000   54.0   54.000053  \n13           Gry na konsole     NaN   85.000000   85.0   85.000015  \n14       Telefony komórkowe    65.0   85.000000   85.0   85.000015  \n15          Gry komputerowe    92.0   74.000000   74.0   73.999908  \n16  Przenośne audio i video     NaN   74.000000   74.0   73.999962  \n17                    Video     NaN   85.000000   85.0   85.000015  \n18      Tablety i akcesoria     NaN   37.000000   37.0   37.000046  \n19                    Video     NaN  115.000000  115.0  114.999985  \n20     Telefony stacjonarne    65.0   88.000000   88.0   88.000023  \n21      Tablety i akcesoria     NaN   68.000000   68.0   68.000000  \n22   Akcesoria telefoniczne     NaN  115.000000  115.0  114.999985  \n23                 Monitory     NaN   73.000000   73.0   72.999992  \n24                    Video     NaN   88.000000   88.0   88.000023  ",
      "text/html": "<div>\n<style scoped>\n    .dataframe tbody tr th:only-of-type {\n        vertical-align: middle;\n    }\n\n    .dataframe tbody tr th {\n        vertical-align: top;\n    }\n\n    .dataframe thead th {\n        text-align: right;\n    }\n</style>\n<table border=\"1\" class=\"dataframe\">\n  <thead>\n    <tr style=\"text-align: right;\">\n      <th></th>\n      <th>delivery_company</th>\n      <th>city</th>\n      <th>price</th>\n      <th>category</th>\n      <th>subcategory</th>\n      <th>target</th>\n      <th>kNN</th>\n      <th>tree</th>\n      <th>xgb</th>\n    </tr>\n  </thead>\n  <tbody>\n    <tr>\n      <th>0</th>\n      <td>620.0</td>\n      <td>Kutno</td>\n      <td>-4.999000e+01</td>\n      <td>Gry i konsole</td>\n      <td>Gry na konsole</td>\n      <td>NaN</td>\n      <td>72.363636</td>\n      <td>74.0</td>\n      <td>73.999908</td>\n    </tr>\n    <tr>\n      <th>1</th>\n      <td>516.0</td>\n      <td>Police</td>\n      <td>2.317020e+03</td>\n      <td>Komputery</td>\n      <td>Tablety i akcesoria</td>\n      <td>110.0</td>\n      <td>65.000000</td>\n      <td>65.0</td>\n      <td>64.999939</td>\n    </tr>\n    <tr>\n      <th>2</th>\n      <td>516.0</td>\n      <td>Gdynia</td>\n      <td>-6.118000e+01</td>\n      <td>Gry i konsole</td>\n      <td>Gry na konsole</td>\n      <td>NaN</td>\n      <td>43.000000</td>\n      <td>43.0</td>\n      <td>43.000008</td>\n    </tr>\n    <tr>\n      <th>3</th>\n      <td>516.0</td>\n      <td>Szczecin</td>\n      <td>2.317020e+03</td>\n      <td>Komputery</td>\n      <td>Tablety i akcesoria</td>\n      <td>NaN</td>\n      <td>85.000000</td>\n      <td>85.0</td>\n      <td>85.000015</td>\n    </tr>\n    <tr>\n      <th>4</th>\n      <td>620.0</td>\n      <td>Gdynia</td>\n      <td>1.687900e+02</td>\n      <td>Sprzęt RTV</td>\n      <td>Video</td>\n      <td>110.0</td>\n      <td>57.973934</td>\n      <td>74.0</td>\n      <td>73.999962</td>\n    </tr>\n    <tr>\n      <th>5</th>\n      <td>516.0</td>\n      <td>Konin</td>\n      <td>-6.118000e+01</td>\n      <td>Gry i konsole</td>\n      <td>Gry na konsole</td>\n      <td>NaN</td>\n      <td>37.000000</td>\n      <td>37.0</td>\n      <td>37.000046</td>\n    </tr>\n    <tr>\n      <th>6</th>\n      <td>620.0</td>\n      <td>Warszawa</td>\n      <td>5.259000e+03</td>\n      <td>Komputery</td>\n      <td>Drukarki i skanery</td>\n      <td>NaN</td>\n      <td>106.000000</td>\n      <td>106.0</td>\n      <td>105.999985</td>\n    </tr>\n    <tr>\n      <th>7</th>\n      <td>620.0</td>\n      <td>Mielec</td>\n      <td>8.628000e+01</td>\n      <td>Telefony i akcesoria</td>\n      <td>Akcesoria telefoniczne</td>\n      <td>NaN</td>\n      <td>68.000000</td>\n      <td>68.0</td>\n      <td>68.000000</td>\n    </tr>\n    <tr>\n      <th>8</th>\n      <td>620.0</td>\n      <td>Kutno</td>\n      <td>7.890000e+01</td>\n      <td>Sprzęt RTV</td>\n      <td>Przenośne audio i video</td>\n      <td>65.0</td>\n      <td>74.000000</td>\n      <td>74.0</td>\n      <td>73.999908</td>\n    </tr>\n    <tr>\n      <th>9</th>\n      <td>360.0</td>\n      <td>Szczecin</td>\n      <td>1.816970e+03</td>\n      <td>Komputery</td>\n      <td>Tablety i akcesoria</td>\n      <td>NaN</td>\n      <td>135.000000</td>\n      <td>135.0</td>\n      <td>134.999863</td>\n    </tr>\n    <tr>\n      <th>10</th>\n      <td>516.0</td>\n      <td>Warszawa</td>\n      <td>3.777000e+03</td>\n      <td>Komputery</td>\n      <td>Drukarki i skanery</td>\n      <td>NaN</td>\n      <td>86.000000</td>\n      <td>86.0</td>\n      <td>85.999947</td>\n    </tr>\n    <tr>\n      <th>11</th>\n      <td>360.0</td>\n      <td>Police</td>\n      <td>7.890000e+01</td>\n      <td>Sprzęt RTV</td>\n      <td>Przenośne audio i video</td>\n      <td>NaN</td>\n      <td>110.000000</td>\n      <td>110.0</td>\n      <td>109.999924</td>\n    </tr>\n    <tr>\n      <th>12</th>\n      <td>516.0</td>\n      <td>Radom</td>\n      <td>7.890000e+01</td>\n      <td>Sprzęt RTV</td>\n      <td>Przenośne audio i video</td>\n      <td>92.0</td>\n      <td>54.000000</td>\n      <td>54.0</td>\n      <td>54.000053</td>\n    </tr>\n    <tr>\n      <th>13</th>\n      <td>516.0</td>\n      <td>Szczecin</td>\n      <td>7.990000e+01</td>\n      <td>Gry i konsole</td>\n      <td>Gry na konsole</td>\n      <td>NaN</td>\n      <td>85.000000</td>\n      <td>85.0</td>\n      <td>85.000015</td>\n    </tr>\n    <tr>\n      <th>14</th>\n      <td>516.0</td>\n      <td>Szczecin</td>\n      <td>2.199900e+09</td>\n      <td>Telefony i akcesoria</td>\n      <td>Telefony komórkowe</td>\n      <td>65.0</td>\n      <td>85.000000</td>\n      <td>85.0</td>\n      <td>85.000015</td>\n    </tr>\n    <tr>\n      <th>15</th>\n      <td>620.0</td>\n      <td>Kutno</td>\n      <td>4.290000e+01</td>\n      <td>Gry i konsole</td>\n      <td>Gry komputerowe</td>\n      <td>92.0</td>\n      <td>74.000000</td>\n      <td>74.0</td>\n      <td>73.999908</td>\n    </tr>\n    <tr>\n      <th>16</th>\n      <td>620.0</td>\n      <td>Gdynia</td>\n      <td>6.480000e+01</td>\n      <td>Sprzęt RTV</td>\n      <td>Przenośne audio i video</td>\n      <td>NaN</td>\n      <td>74.000000</td>\n      <td>74.0</td>\n      <td>73.999962</td>\n    </tr>\n    <tr>\n      <th>17</th>\n      <td>516.0</td>\n      <td>Szczecin</td>\n      <td>1.930000e+02</td>\n      <td>Sprzęt RTV</td>\n      <td>Video</td>\n      <td>NaN</td>\n      <td>85.000000</td>\n      <td>85.0</td>\n      <td>85.000015</td>\n    </tr>\n    <tr>\n      <th>18</th>\n      <td>516.0</td>\n      <td>Konin</td>\n      <td>1.816970e+03</td>\n      <td>Komputery</td>\n      <td>Tablety i akcesoria</td>\n      <td>NaN</td>\n      <td>37.000000</td>\n      <td>37.0</td>\n      <td>37.000046</td>\n    </tr>\n    <tr>\n      <th>19</th>\n      <td>360.0</td>\n      <td>Warszawa</td>\n      <td>1.090000e+02</td>\n      <td>Sprzęt RTV</td>\n      <td>Video</td>\n      <td>NaN</td>\n      <td>115.000000</td>\n      <td>115.0</td>\n      <td>114.999985</td>\n    </tr>\n    <tr>\n      <th>20</th>\n      <td>360.0</td>\n      <td>Konin</td>\n      <td>5.897000e+01</td>\n      <td>Telefony i akcesoria</td>\n      <td>Telefony stacjonarne</td>\n      <td>65.0</td>\n      <td>88.000000</td>\n      <td>88.0</td>\n      <td>88.000023</td>\n    </tr>\n    <tr>\n      <th>21</th>\n      <td>620.0</td>\n      <td>Mielec</td>\n      <td>1.816970e+03</td>\n      <td>Komputery</td>\n      <td>Tablety i akcesoria</td>\n      <td>NaN</td>\n      <td>68.000000</td>\n      <td>68.0</td>\n      <td>68.000000</td>\n    </tr>\n    <tr>\n      <th>22</th>\n      <td>360.0</td>\n      <td>Warszawa</td>\n      <td>2.990000e+02</td>\n      <td>Telefony i akcesoria</td>\n      <td>Akcesoria telefoniczne</td>\n      <td>NaN</td>\n      <td>115.000000</td>\n      <td>115.0</td>\n      <td>114.999985</td>\n    </tr>\n    <tr>\n      <th>23</th>\n      <td>620.0</td>\n      <td>Radom</td>\n      <td>3.990000e+02</td>\n      <td>Komputery</td>\n      <td>Monitory</td>\n      <td>NaN</td>\n      <td>73.000000</td>\n      <td>73.0</td>\n      <td>72.999992</td>\n    </tr>\n    <tr>\n      <th>24</th>\n      <td>360.0</td>\n      <td>Konin</td>\n      <td>1.930000e+02</td>\n      <td>Sprzęt RTV</td>\n      <td>Video</td>\n      <td>NaN</td>\n      <td>88.000000</td>\n      <td>88.0</td>\n      <td>88.000023</td>\n    </tr>\n  </tbody>\n</table>\n</div>"
     },
     "execution_count": 27,
     "metadata": {},
     "output_type": "execute_result"
    }
   ],
   "source": [
    "predictions.head(25)"
   ],
   "metadata": {
    "collapsed": false,
    "pycharm": {
     "name": "#%%\n"
    }
   }
  },
  {
   "cell_type": "markdown",
   "source": [
    "As we can see xgboost and tree model performs a lot better than KNN regressor. Lets compare diffrences between those two models.\n"
   ],
   "metadata": {
    "collapsed": false
   }
  },
  {
   "cell_type": "code",
   "execution_count": 28,
   "outputs": [
    {
     "data": {
      "text/plain": "      delivery_company      city    price              category  \\\n0                620.0     Kutno   -49.99         Gry i konsole   \n1                516.0    Police  2317.02             Komputery   \n2                516.0    Gdynia   -61.18         Gry i konsole   \n3                516.0  Szczecin  2317.02             Komputery   \n4                620.0    Gdynia   168.79            Sprzęt RTV   \n...                ...       ...      ...                   ...   \n1558             620.0  Warszawa   799.00             Komputery   \n1559             620.0     Konin    54.99  Telefony i akcesoria   \n1560             360.0     Kutno    78.90            Sprzęt RTV   \n1561             516.0     Konin  1303.96  Telefony i akcesoria   \n1562             360.0    Gdynia   327.47  Telefony i akcesoria   \n\n                  subcategory  target         kNN   tree         xgb  \\\n0              Gry na konsole     NaN   72.363636   74.0   73.999908   \n1         Tablety i akcesoria   110.0   65.000000   65.0   64.999939   \n2              Gry na konsole     NaN   43.000000   43.0   43.000008   \n3         Tablety i akcesoria     NaN   85.000000   85.0   85.000015   \n4                       Video   110.0   57.973934   74.0   73.999962   \n...                       ...     ...         ...    ...         ...   \n1558                 Monitory     NaN  106.000000  106.0  105.999985   \n1559   Akcesoria telefoniczne     NaN   53.000000   53.0   53.000015   \n1560  Przenośne audio i video   100.0   90.000000   90.0   89.999886   \n1561   Akcesoria telefoniczne     NaN   37.000000   37.0   37.000046   \n1562   Akcesoria telefoniczne   100.0  100.000000  100.0   99.999924   \n\n      XGB-tree diff  \n0         -0.000092  \n1         -0.000061  \n2          0.000008  \n3          0.000015  \n4         -0.000038  \n...             ...  \n1558      -0.000015  \n1559       0.000015  \n1560      -0.000114  \n1561       0.000046  \n1562      -0.000076  \n\n[1563 rows x 10 columns]",
      "text/html": "<div>\n<style scoped>\n    .dataframe tbody tr th:only-of-type {\n        vertical-align: middle;\n    }\n\n    .dataframe tbody tr th {\n        vertical-align: top;\n    }\n\n    .dataframe thead th {\n        text-align: right;\n    }\n</style>\n<table border=\"1\" class=\"dataframe\">\n  <thead>\n    <tr style=\"text-align: right;\">\n      <th></th>\n      <th>delivery_company</th>\n      <th>city</th>\n      <th>price</th>\n      <th>category</th>\n      <th>subcategory</th>\n      <th>target</th>\n      <th>kNN</th>\n      <th>tree</th>\n      <th>xgb</th>\n      <th>XGB-tree diff</th>\n    </tr>\n  </thead>\n  <tbody>\n    <tr>\n      <th>0</th>\n      <td>620.0</td>\n      <td>Kutno</td>\n      <td>-49.99</td>\n      <td>Gry i konsole</td>\n      <td>Gry na konsole</td>\n      <td>NaN</td>\n      <td>72.363636</td>\n      <td>74.0</td>\n      <td>73.999908</td>\n      <td>-0.000092</td>\n    </tr>\n    <tr>\n      <th>1</th>\n      <td>516.0</td>\n      <td>Police</td>\n      <td>2317.02</td>\n      <td>Komputery</td>\n      <td>Tablety i akcesoria</td>\n      <td>110.0</td>\n      <td>65.000000</td>\n      <td>65.0</td>\n      <td>64.999939</td>\n      <td>-0.000061</td>\n    </tr>\n    <tr>\n      <th>2</th>\n      <td>516.0</td>\n      <td>Gdynia</td>\n      <td>-61.18</td>\n      <td>Gry i konsole</td>\n      <td>Gry na konsole</td>\n      <td>NaN</td>\n      <td>43.000000</td>\n      <td>43.0</td>\n      <td>43.000008</td>\n      <td>0.000008</td>\n    </tr>\n    <tr>\n      <th>3</th>\n      <td>516.0</td>\n      <td>Szczecin</td>\n      <td>2317.02</td>\n      <td>Komputery</td>\n      <td>Tablety i akcesoria</td>\n      <td>NaN</td>\n      <td>85.000000</td>\n      <td>85.0</td>\n      <td>85.000015</td>\n      <td>0.000015</td>\n    </tr>\n    <tr>\n      <th>4</th>\n      <td>620.0</td>\n      <td>Gdynia</td>\n      <td>168.79</td>\n      <td>Sprzęt RTV</td>\n      <td>Video</td>\n      <td>110.0</td>\n      <td>57.973934</td>\n      <td>74.0</td>\n      <td>73.999962</td>\n      <td>-0.000038</td>\n    </tr>\n    <tr>\n      <th>...</th>\n      <td>...</td>\n      <td>...</td>\n      <td>...</td>\n      <td>...</td>\n      <td>...</td>\n      <td>...</td>\n      <td>...</td>\n      <td>...</td>\n      <td>...</td>\n      <td>...</td>\n    </tr>\n    <tr>\n      <th>1558</th>\n      <td>620.0</td>\n      <td>Warszawa</td>\n      <td>799.00</td>\n      <td>Komputery</td>\n      <td>Monitory</td>\n      <td>NaN</td>\n      <td>106.000000</td>\n      <td>106.0</td>\n      <td>105.999985</td>\n      <td>-0.000015</td>\n    </tr>\n    <tr>\n      <th>1559</th>\n      <td>620.0</td>\n      <td>Konin</td>\n      <td>54.99</td>\n      <td>Telefony i akcesoria</td>\n      <td>Akcesoria telefoniczne</td>\n      <td>NaN</td>\n      <td>53.000000</td>\n      <td>53.0</td>\n      <td>53.000015</td>\n      <td>0.000015</td>\n    </tr>\n    <tr>\n      <th>1560</th>\n      <td>360.0</td>\n      <td>Kutno</td>\n      <td>78.90</td>\n      <td>Sprzęt RTV</td>\n      <td>Przenośne audio i video</td>\n      <td>100.0</td>\n      <td>90.000000</td>\n      <td>90.0</td>\n      <td>89.999886</td>\n      <td>-0.000114</td>\n    </tr>\n    <tr>\n      <th>1561</th>\n      <td>516.0</td>\n      <td>Konin</td>\n      <td>1303.96</td>\n      <td>Telefony i akcesoria</td>\n      <td>Akcesoria telefoniczne</td>\n      <td>NaN</td>\n      <td>37.000000</td>\n      <td>37.0</td>\n      <td>37.000046</td>\n      <td>0.000046</td>\n    </tr>\n    <tr>\n      <th>1562</th>\n      <td>360.0</td>\n      <td>Gdynia</td>\n      <td>327.47</td>\n      <td>Telefony i akcesoria</td>\n      <td>Akcesoria telefoniczne</td>\n      <td>100.0</td>\n      <td>100.000000</td>\n      <td>100.0</td>\n      <td>99.999924</td>\n      <td>-0.000076</td>\n    </tr>\n  </tbody>\n</table>\n<p>1563 rows × 10 columns</p>\n</div>"
     },
     "execution_count": 28,
     "metadata": {},
     "output_type": "execute_result"
    }
   ],
   "source": [
    "predictions['XGB-tree diff'] = predictions['xgb'] - predictions['tree']\n",
    "\n",
    "predictions"
   ],
   "metadata": {
    "collapsed": false,
    "pycharm": {
     "name": "#%%\n"
    }
   }
  },
  {
   "cell_type": "code",
   "execution_count": 29,
   "outputs": [
    {
     "data": {
      "text/plain": "<matplotlib.axes._subplots.AxesSubplot at 0x7f8678c4f518>"
     },
     "execution_count": 29,
     "metadata": {},
     "output_type": "execute_result"
    },
    {
     "data": {
      "text/plain": "<Figure size 432x288 with 1 Axes>",
      "image/png": "[encoded data removed]"
     },
     "metadata": {
      "needs_background": "light"
     },
     "output_type": "display_data"
    }
   ],
   "source": [
    "sn.distplot(predictions['XGB-tree diff'], bins=40)"
   ],
   "metadata": {
    "collapsed": false,
    "pycharm": {
     "name": "#%%\n"
    }
   }
  },
  {
   "cell_type": "code",
   "execution_count": 30,
   "outputs": [
    {
     "data": {
      "text/plain": "<matplotlib.axes._subplots.AxesSubplot at 0x7f86790df5f8>"
     },
     "execution_count": 30,
     "metadata": {},
     "output_type": "execute_result"
    },
    {
     "data": {
      "text/plain": "<Figure size 432x288 with 1 Axes>",
      "image/png": "[encoded data removed]"
     },
     "metadata": {
      "needs_background": "light"
     },
     "output_type": "display_data"
    }
   ],
   "source": [
    "sn.distplot(np.abs(predictions['XGB-tree diff']), bins=40)"
   ],
   "metadata": {
    "collapsed": false,
    "pycharm": {
     "name": "#%%\n"
    }
   }
  },
  {
   "cell_type": "markdown",
   "source": [
    "Jak widać w praktyce róznice pomiędzy tymi dwoma modelami na zbiorze testowym są naprawdę minimalne. Wybór pomiędzy nimi zależy od innych kryteriów jak np. możliwość wyjaśnienia predykcji gdzie model drzewiasty powinien sprawdzić się lepiej.\n"
   ],
   "metadata": {
    "collapsed": false,
    "pycharm": {
     "name": "#%% md\n"
    }
   }
  }
 ],
 "metadata": {
  "kernelspec": {
   "display_name": "Python 3",
   "language": "python",
   "name": "python3"
  },
  "language_info": {
   "codemirror_mode": {
    "name": "ipython",
    "version": 2
   },
   "file_extension": ".py",
   "mimetype": "text/x-python",
   "name": "python",
   "nbconvert_exporter": "python",
   "pygments_lexer": "ipython2",
   "version": "2.7.6"
  }
 },
 "nbformat": 4,
 "nbformat_minor": 0
}