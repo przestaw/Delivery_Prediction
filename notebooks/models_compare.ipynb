{
 "cells": [
  {
   "cell_type": "markdown",
   "metadata": {
    "collapsed": true,
    "pycharm": {
     "name": "#%% md\n"
    }
   },
   "source": [
    "# Projekt z Inżynierii Uczenia Maszynowego\n",
    "Semestr letni 2020, WEiTI PW\n",
    "## Autorzy\n",
    "Przemysław Stawczyk\n",
    "\n",
    "Maciej Szulik\n"
   ]
  },
  {
   "cell_type": "markdown",
   "metadata": {
    "pycharm": {
     "name": "#%% md\n"
    }
   },
   "source": [
    "## Porównanie modeli regresorów:\n",
    "- kNN\n",
    "- tree regressor\n",
    "- xgboost regressor"
   ]
  },
  {
   "cell_type": "code",
   "execution_count": 4,
   "metadata": {
    "pycharm": {
     "name": "#%%\n"
    }
   },
   "outputs": [],
   "source": [
    "import json\n",
    "import numpy as np\n",
    "import pandas as pd\n",
    "import xgboost as xgb\n",
    "from sklearn import preprocessing\n",
    "from sklearn.model_selection import train_test_split, RandomizedSearchCV, GridSearchCV, KFold\n",
    "from sklearn.metrics import max_error, mean_absolute_error, mean_squared_error\n",
    "from sklearn.neighbors import KNeighborsRegressor\n",
    "from sklearn.tree import DecisionTreeRegressor\n",
    "from sklearn.ensemble import RandomForestRegressor\n",
    "import seaborn as sn\n"
   ]
  },
  {
   "cell_type": "code",
   "execution_count": 5,
   "metadata": {
    "pycharm": {
     "name": "#%%\n"
    }
   },
   "outputs": [],
   "source": [
    "def clean_nan_rows(dataframe, print_stats=False):\n",
    "    clean_df = dataframe.dropna(axis=0, how='any')\n",
    "    if print_stats:\n",
    "        print('Original Length=', len(dataframe), '\\tCleaned Length=', len(clean_df), '\\tMissing Data=',\n",
    "              len(dataframe) - len(clean_df))\n",
    "    return clean_df\n",
    "\n",
    "def load_file(filename):\n",
    "    with open(filename, encoding=\"utf8\") as f:\n",
    "        data = f.readlines()\n",
    "        data = [json.loads(line) for line in data]  # convert string to dict format\n",
    "        df = pd.json_normalize(data)\n",
    "    return df\n",
    "\n",
    "def load_tables():\n",
    "    users = load_file(r'../data/users.jsonl')\n",
    "    deliveries = load_file(r'../data/deliveries.jsonl')\n",
    "    sessions = load_file(r'../data/sessions.jsonl')\n",
    "    products = load_file(r'../data/products.jsonl')\n",
    "\n",
    "    return users, deliveries, sessions, products\n",
    "\n",
    "def create_subcategories(products):\n",
    "    category_path_arr = products['category_path'].str.split(';', 2)\n",
    "    category_arr = []\n",
    "    subcategory_arr = []\n",
    "    for path in category_path_arr:\n",
    "        if type(path) == float:\n",
    "            category_arr.append(path)\n",
    "            subcategory_arr.append(path)\n",
    "        else:\n",
    "            category_arr.append(path[0])\n",
    "            subcategory_arr.append(path[1])\n",
    "\n",
    "    products['category'] = category_arr\n",
    "    products['subcategory'] = subcategory_arr\n",
    "\n",
    "    return products\n",
    "\n",
    "def fill_missing_user_id(sessions):\n",
    "    session_user_map = sessions[sessions[\"user_id\"].notna()].set_index('session_id')['user_id'].to_dict()\n",
    "\n",
    "    for i, row in sessions.iterrows():\n",
    "        if np.isnan(row[\"user_id\"]) and row[\"session_id\"] in session_user_map:\n",
    "            sessions.at[i, 'user_id'] = session_user_map[row[\"session_id\"]]\n",
    "\n",
    "    buy_sessions = sessions[sessions.event_type == 'BUY_PRODUCT']\n",
    "\n",
    "    clean_nan_rows(dataframe=buy_sessions['user_id'], print_stats=False)\n",
    "\n",
    "    return buy_sessions\n",
    "\n",
    "def obtain_dataset_table():\n",
    "    users, deliveries, sessions, products = load_tables()\n",
    "\n",
    "    # create subcategories and fill missing user id\n",
    "    products = create_subcategories(products)\n",
    "    sessions = fill_missing_user_id(sessions)\n",
    "\n",
    "    # drop deliveries with missing delivery time\n",
    "    deliveries = deliveries.dropna()\n",
    "\n",
    "    # inner join sessions and deliveries\n",
    "    merged_data = pd.merge(left=sessions, right=deliveries, left_on='purchase_id', right_on='purchase_id')\n",
    "\n",
    "    # left join users\n",
    "    merged_data = pd.merge(left=merged_data, right=users, how='left', left_on='user_id', right_on='user_id')\n",
    "\n",
    "    # left join products\n",
    "    merged_data = pd.merge(left=merged_data, right=products, how='left', left_on='product_id', right_on='product_id')\n",
    "\n",
    "    # delivery time in hours\n",
    "    merged_data['delivery_timestamp'] = \\\n",
    "        pd.to_datetime(merged_data.delivery_timestamp)\n",
    "    merged_data['purchase_timestamp'] = \\\n",
    "        pd.to_datetime(merged_data.purchase_timestamp)\n",
    "    merged_data['delivery_total_time'] = \\\n",
    "        merged_data['delivery_timestamp'] - merged_data['purchase_timestamp']\n",
    "\n",
    "    merged_data['delivery_total_time_hours'] = \\\n",
    "        merged_data['delivery_total_time'].dt.total_seconds() / 3600\n",
    "\n",
    "    #merged_data['purchase_hour'] = \\\n",
    "    #    merged_data['purchase_timestamp'].dt.hour + merged_data['purchase_timestamp'].dt.minute / 60\n",
    "\n",
    "    # drop unnecessary columns\n",
    "    columns = ['session_id', 'purchase_id', 'user_id', 'product_id', 'event_type',\n",
    "               'offered_discount', 'name', 'timestamp', 'product_name', 'street',\n",
    "               'purchase_timestamp', 'delivery_timestamp', 'category_path']\n",
    "    for col in columns:\n",
    "        merged_data = merged_data.drop(col, axis=1)\n",
    "\n",
    "    merged_data = clean_nan_rows(merged_data, print_stats=False)\n",
    "\n",
    "    return merged_data\n",
    "\n",
    "def code_labels(dataset):\n",
    "    # code labels\n",
    "    le_cat = preprocessing.LabelEncoder()\n",
    "    categories = np.unique(np.array(dataset['category']))\n",
    "    np.append(categories, 'missing')\n",
    "    le_cat.fit(categories)\n",
    "    dataset['category'] = le_cat.transform(dataset['category'])\n",
    "\n",
    "    le_subcat = preprocessing.LabelEncoder()\n",
    "    subcategories = np.unique(np.array(dataset['subcategory']))\n",
    "    np.append(subcategories, 'missing')\n",
    "    le_subcat.fit(subcategories)\n",
    "    dataset['subcategory'] = le_subcat.transform(dataset['subcategory'])\n",
    "\n",
    "    le_city = preprocessing.LabelEncoder()\n",
    "    cities = np.unique(np.array(dataset['city']))\n",
    "    np.append(cities, 'missing')\n",
    "    le_city.fit(cities)\n",
    "    dataset['city'] = le_city.transform(dataset['city'])\n",
    "\n",
    "    return dataset, le_cat, le_subcat, le_city"
   ]
  },
  {
   "cell_type": "code",
   "execution_count": 6,
   "metadata": {
    "pycharm": {
     "name": "#%%\n"
    }
   },
   "outputs": [
    {
     "data": {
      "text/plain": "      delivery_company  city    price  category  subcategory  \\\n0                360.0     4   109.00         0            4   \n1                516.0     4    69.00         0            4   \n2                516.0     4  5259.00         1            2   \n3                620.0     4   553.00         2            1   \n4                360.0     4   553.00         2            1   \n...                ...   ...      ...       ...          ...   \n6485             360.0     7  3029.00         1            5   \n6486             516.0     7  1816.97         1            7   \n6487             516.0     7    59.90         0            4   \n6488             516.0     7   399.00         1            5   \n6490             516.0     7  1117.01         1            5   \n\n        delivery_total_time  delivery_total_time_hours  \n0    2 days 23:33:51.034629                  71.564176  \n1    2 days 22:24:05.574877                  70.401549  \n2    3 days 04:54:00.187799                  76.900052  \n3    2 days 10:19:15.697450                  58.321027  \n4    2 days 20:05:36.327567                  68.093424  \n...                     ...                        ...  \n6485 1 days 07:24:36.353180                  31.410098  \n6486 1 days 21:58:50.399789                  45.980667  \n6487 1 days 21:49:11.868149                  45.819963  \n6488 2 days 06:54:03.191550                  54.900887  \n6490 1 days 16:26:37.799077                  40.443833  \n\n[6177 rows x 7 columns]",
      "text/html": "<div>\n<style scoped>\n    .dataframe tbody tr th:only-of-type {\n        vertical-align: middle;\n    }\n\n    .dataframe tbody tr th {\n        vertical-align: top;\n    }\n\n    .dataframe thead th {\n        text-align: right;\n    }\n</style>\n<table border=\"1\" class=\"dataframe\">\n  <thead>\n    <tr style=\"text-align: right;\">\n      <th></th>\n      <th>delivery_company</th>\n      <th>city</th>\n      <th>price</th>\n      <th>category</th>\n      <th>subcategory</th>\n      <th>delivery_total_time</th>\n      <th>delivery_total_time_hours</th>\n    </tr>\n  </thead>\n  <tbody>\n    <tr>\n      <th>0</th>\n      <td>360.0</td>\n      <td>4</td>\n      <td>109.00</td>\n      <td>0</td>\n      <td>4</td>\n      <td>2 days 23:33:51.034629</td>\n      <td>71.564176</td>\n    </tr>\n    <tr>\n      <th>1</th>\n      <td>516.0</td>\n      <td>4</td>\n      <td>69.00</td>\n      <td>0</td>\n      <td>4</td>\n      <td>2 days 22:24:05.574877</td>\n      <td>70.401549</td>\n    </tr>\n    <tr>\n      <th>2</th>\n      <td>516.0</td>\n      <td>4</td>\n      <td>5259.00</td>\n      <td>1</td>\n      <td>2</td>\n      <td>3 days 04:54:00.187799</td>\n      <td>76.900052</td>\n    </tr>\n    <tr>\n      <th>3</th>\n      <td>620.0</td>\n      <td>4</td>\n      <td>553.00</td>\n      <td>2</td>\n      <td>1</td>\n      <td>2 days 10:19:15.697450</td>\n      <td>58.321027</td>\n    </tr>\n    <tr>\n      <th>4</th>\n      <td>360.0</td>\n      <td>4</td>\n      <td>553.00</td>\n      <td>2</td>\n      <td>1</td>\n      <td>2 days 20:05:36.327567</td>\n      <td>68.093424</td>\n    </tr>\n    <tr>\n      <th>...</th>\n      <td>...</td>\n      <td>...</td>\n      <td>...</td>\n      <td>...</td>\n      <td>...</td>\n      <td>...</td>\n      <td>...</td>\n    </tr>\n    <tr>\n      <th>6485</th>\n      <td>360.0</td>\n      <td>7</td>\n      <td>3029.00</td>\n      <td>1</td>\n      <td>5</td>\n      <td>1 days 07:24:36.353180</td>\n      <td>31.410098</td>\n    </tr>\n    <tr>\n      <th>6486</th>\n      <td>516.0</td>\n      <td>7</td>\n      <td>1816.97</td>\n      <td>1</td>\n      <td>7</td>\n      <td>1 days 21:58:50.399789</td>\n      <td>45.980667</td>\n    </tr>\n    <tr>\n      <th>6487</th>\n      <td>516.0</td>\n      <td>7</td>\n      <td>59.90</td>\n      <td>0</td>\n      <td>4</td>\n      <td>1 days 21:49:11.868149</td>\n      <td>45.819963</td>\n    </tr>\n    <tr>\n      <th>6488</th>\n      <td>516.0</td>\n      <td>7</td>\n      <td>399.00</td>\n      <td>1</td>\n      <td>5</td>\n      <td>2 days 06:54:03.191550</td>\n      <td>54.900887</td>\n    </tr>\n    <tr>\n      <th>6490</th>\n      <td>516.0</td>\n      <td>7</td>\n      <td>1117.01</td>\n      <td>1</td>\n      <td>5</td>\n      <td>1 days 16:26:37.799077</td>\n      <td>40.443833</td>\n    </tr>\n  </tbody>\n</table>\n<p>6177 rows × 7 columns</p>\n</div>"
     },
     "execution_count": 6,
     "metadata": {},
     "output_type": "execute_result"
    }
   ],
   "source": [
    "dataset = obtain_dataset_table()\n",
    "dataset, le_cat, le_subcat, le_city = code_labels(dataset)\n",
    "\n",
    "dataset"
   ]
  },
  {
   "cell_type": "code",
   "execution_count": 7,
   "metadata": {
    "pycharm": {
     "name": "#%%\n"
    }
   },
   "outputs": [
    {
     "data": {
      "text/plain": "      delivery_company  city    price  category  subcategory\n0                360.0     4   109.00         0            4\n1                516.0     4    69.00         0            4\n2                516.0     4  5259.00         1            2\n3                620.0     4   553.00         2            1\n4                360.0     4   553.00         2            1\n...                ...   ...      ...       ...          ...\n6485             360.0     7  3029.00         1            5\n6486             516.0     7  1816.97         1            7\n6487             516.0     7    59.90         0            4\n6488             516.0     7   399.00         1            5\n6490             516.0     7  1117.01         1            5\n\n[6177 rows x 5 columns]",
      "text/html": "<div>\n<style scoped>\n    .dataframe tbody tr th:only-of-type {\n        vertical-align: middle;\n    }\n\n    .dataframe tbody tr th {\n        vertical-align: top;\n    }\n\n    .dataframe thead th {\n        text-align: right;\n    }\n</style>\n<table border=\"1\" class=\"dataframe\">\n  <thead>\n    <tr style=\"text-align: right;\">\n      <th></th>\n      <th>delivery_company</th>\n      <th>city</th>\n      <th>price</th>\n      <th>category</th>\n      <th>subcategory</th>\n    </tr>\n  </thead>\n  <tbody>\n    <tr>\n      <th>0</th>\n      <td>360.0</td>\n      <td>4</td>\n      <td>109.00</td>\n      <td>0</td>\n      <td>4</td>\n    </tr>\n    <tr>\n      <th>1</th>\n      <td>516.0</td>\n      <td>4</td>\n      <td>69.00</td>\n      <td>0</td>\n      <td>4</td>\n    </tr>\n    <tr>\n      <th>2</th>\n      <td>516.0</td>\n      <td>4</td>\n      <td>5259.00</td>\n      <td>1</td>\n      <td>2</td>\n    </tr>\n    <tr>\n      <th>3</th>\n      <td>620.0</td>\n      <td>4</td>\n      <td>553.00</td>\n      <td>2</td>\n      <td>1</td>\n    </tr>\n    <tr>\n      <th>4</th>\n      <td>360.0</td>\n      <td>4</td>\n      <td>553.00</td>\n      <td>2</td>\n      <td>1</td>\n    </tr>\n    <tr>\n      <th>...</th>\n      <td>...</td>\n      <td>...</td>\n      <td>...</td>\n      <td>...</td>\n      <td>...</td>\n    </tr>\n    <tr>\n      <th>6485</th>\n      <td>360.0</td>\n      <td>7</td>\n      <td>3029.00</td>\n      <td>1</td>\n      <td>5</td>\n    </tr>\n    <tr>\n      <th>6486</th>\n      <td>516.0</td>\n      <td>7</td>\n      <td>1816.97</td>\n      <td>1</td>\n      <td>7</td>\n    </tr>\n    <tr>\n      <th>6487</th>\n      <td>516.0</td>\n      <td>7</td>\n      <td>59.90</td>\n      <td>0</td>\n      <td>4</td>\n    </tr>\n    <tr>\n      <th>6488</th>\n      <td>516.0</td>\n      <td>7</td>\n      <td>399.00</td>\n      <td>1</td>\n      <td>5</td>\n    </tr>\n    <tr>\n      <th>6490</th>\n      <td>516.0</td>\n      <td>7</td>\n      <td>1117.01</td>\n      <td>1</td>\n      <td>5</td>\n    </tr>\n  </tbody>\n</table>\n<p>6177 rows × 5 columns</p>\n</div>"
     },
     "execution_count": 7,
     "metadata": {},
     "output_type": "execute_result"
    }
   ],
   "source": [
    "target = dataset['delivery_total_time_hours']\n",
    "data = dataset.drop(['delivery_total_time', 'delivery_total_time_hours'], axis=1)\n",
    "\n",
    "data"
   ]
  },
  {
   "cell_type": "markdown",
   "metadata": {
    "pycharm": {
     "name": "#%% md\n"
    }
   },
   "source": [
    "## Podział zbioru danych na treningowy i testowy"
   ]
  },
  {
   "cell_type": "code",
   "execution_count": 8,
   "metadata": {
    "pycharm": {
     "name": "#%%\n"
    }
   },
   "outputs": [],
   "source": [
    "x_train, x_test, y_train, y_test = train_test_split(data, target, test_size=0.25, random_state=0)"
   ]
  },
  {
   "cell_type": "markdown",
   "metadata": {},
   "source": [
    "## Trenowanie modeli\n",
    "\n",
    "Na potrzeby porównania modeli poszukiwanie parametrów na siatce będzie odbywać się wyczerpująco - na potrzeby zwykłego działania sprawdzenie ok ~50% kombinacji powinno przyniesć dobre rezultaty i krtótszy czas trenowania modelu."
   ]
  },
  {
   "cell_type": "code",
   "execution_count": 9,
   "metadata": {
    "pycharm": {
     "name": "#%%\n"
    }
   },
   "outputs": [],
   "source": [
    "def train_model(target, data, model_type='xgb', random_seed=42, randomized=True):\n",
    "    params = {}\n",
    "    model = None\n",
    "    crv = None\n",
    "\n",
    "    if model_type == 'xgb':\n",
    "        model = xgb.XGBRegressor()\n",
    "        params = {\n",
    "            'objective': ['reg:squarederror'],\n",
    "            'eval_metric': ['rmse'],\n",
    "            'learning_rate': [0.03, 0.05, 0.07, 0.12],  # so called `eta` value\n",
    "            'max_depth': [3, 4, 5, 6, 7, 8, 9],\n",
    "            'min_child_weight': [1, 2, 4, 7],\n",
    "            'silent': [1],\n",
    "            'n_estimators': [100, 200, 320, 450],\n",
    "            'seed': [random_seed]\n",
    "        }\n",
    "    elif model_type == 'tree':\n",
    "        model = DecisionTreeRegressor()\n",
    "        params = {\n",
    "            'max_depth': [3, 4, 5, 6, 7, 8, 9],\n",
    "            'random_state': [random_seed],\n",
    "            'criterion': ['mse', 'friedman_mse', 'mae'],\n",
    "            'splitter': ['best', 'random'],\n",
    "            'min_samples_leaf': [1, 2, 4],\n",
    "            'min_samples_split': [2, 5, 10],\n",
    "        }\n",
    "    elif model_type == 'knn':\n",
    "        model = KNeighborsRegressor()\n",
    "        params = {\n",
    "            'n_neighbors': [i for i in range(1, 32)],\n",
    "            'weights': ['uniform', 'distance'],\n",
    "            'algorithm': ['ball_tree', 'kd_tree'],\n",
    "        }\n",
    "    else:\n",
    "        return NotImplemented\n",
    "\n",
    "    crv = GridSearchCV(model, params, cv=KFold(n_splits=4, random_state=random_seed, shuffle=True), refit=True,\n",
    "                           scoring='neg_mean_squared_error')\n",
    "\n",
    "    crv.fit(data, target)\n",
    "\n",
    "    return crv.best_estimator_, crv.best_params_"
   ]
  },
  {
   "cell_type": "markdown",
   "metadata": {
    "pycharm": {
     "is_executing": true,
     "name": "#%% md\n"
    }
   },
   "source": [
    "## Trenowanie modeli\n",
    "Trenowanie modeli na zborze uczącym w formie 4-krotnej walidacji krzyżowej i przeszukania po hipersiatce parametrów."
   ]
  },
  {
   "cell_type": "code",
   "execution_count": 10,
   "outputs": [
    {
     "data": {
      "text/plain": "{'algorithm': 'ball_tree', 'n_neighbors': 26, 'weights': 'distance'}"
     },
     "execution_count": 10,
     "metadata": {},
     "output_type": "execute_result"
    }
   ],
   "source": [
    "model_knn, params_knn = train_model(y_train, x_train, model_type='knn')\n",
    "params_knn"
   ],
   "metadata": {
    "collapsed": false,
    "pycharm": {
     "name": "#%%\n"
    }
   }
  },
  {
   "cell_type": "code",
   "execution_count": 11,
   "metadata": {
    "pycharm": {
     "name": "#%%\n"
    }
   },
   "outputs": [
    {
     "data": {
      "text/plain": "{'criterion': 'friedman_mse',\n 'max_depth': 7,\n 'min_samples_leaf': 4,\n 'min_samples_split': 2,\n 'random_state': 42,\n 'splitter': 'random'}"
     },
     "execution_count": 11,
     "metadata": {},
     "output_type": "execute_result"
    }
   ],
   "source": [
    "model_tree, params_tree = train_model(y_train, x_train, model_type='tree')\n",
    "params_tree"
   ]
  },
  {
   "cell_type": "code",
   "execution_count": 12,
   "metadata": {
    "pycharm": {
     "name": "#%%\n"
    }
   },
   "outputs": [
    {
     "data": {
      "text/plain": "{'eval_metric': 'rmse',\n 'learning_rate': 0.05,\n 'max_depth': 5,\n 'min_child_weight': 7,\n 'n_estimators': 100,\n 'objective': 'reg:squarederror',\n 'seed': 42,\n 'silent': 1}"
     },
     "execution_count": 12,
     "metadata": {},
     "output_type": "execute_result"
    }
   ],
   "source": [
    "model_xgb, params_xgb = train_model(y_train, x_train, model_type='xgb')\n",
    "params_xgb"
   ]
  },
  {
   "cell_type": "markdown",
   "metadata": {},
   "source": [
    "## Porównanie modeli na danych testowych\n",
    "\n",
    "Obliczenie metryk dokładności modeli na zbiorze testowym"
   ]
  },
  {
   "cell_type": "code",
   "execution_count": 13,
   "metadata": {
    "pycharm": {
     "name": "#%%\n"
    }
   },
   "outputs": [],
   "source": [
    "def calc_metrics(predictions, test_y):\n",
    "    err = max_error(test_y, predictions)\n",
    "    avg = mean_absolute_error(test_y, predictions)\n",
    "    avg_sqr = mean_squared_error(test_y, predictions)\n",
    "    \n",
    "    return [err, avg, avg_sqr]\n",
    "\n",
    "def compare_models(models, test_X, test_y):\n",
    "    test_predictions = []\n",
    "    for mdl in models:\n",
    "        test_predictions.append(mdl.predict(test_X))\n",
    "\n",
    "    err = []\n",
    "    for mdl_pred in test_predictions:\n",
    "        err.append(calc_metrics(mdl_pred, test_y))\n",
    "\n",
    "    error = pd.DataFrame.from_records(err, columns=['max error', 'avg error', 'avg sqr error'],\n",
    "                                      index=['mdl-' + str(index + 1) for index in range(len(models))])\n",
    "    ret = pd.DataFrame.from_records(test_X)\n",
    "    ret['target'] = np.asarray(test_y)\n",
    "    for index, mdl in enumerate(models):\n",
    "        ret['mdl-' + str(index + 1)] = test_predictions[index]\n",
    "\n",
    "    return ret, error"
   ]
  },
  {
   "cell_type": "code",
   "execution_count": 14,
   "metadata": {
    "pycharm": {
     "name": "#%%\n"
    }
   },
   "outputs": [
    {
     "data": {
      "text/plain": "      delivery_company      city    price              category  \\\n0                360.0     Konin  1816.97             Komputery   \n1                620.0    Gdynia  5301.90             Komputery   \n2                360.0    Police  1117.01             Komputery   \n3                620.0    Police  2317.02             Komputery   \n4                620.0  Szczecin    99.99         Gry i konsole   \n...                ...       ...      ...                   ...   \n1540             360.0     Kutno    79.90         Gry i konsole   \n1541             360.0     Kutno   189.00            Sprzęt RTV   \n1542             620.0  Warszawa  2199.90  Telefony i akcesoria   \n1543             516.0     Radom   119.00            Sprzęt RTV   \n1544             516.0  Szczecin  2317.02             Komputery   \n\n              subcategory     target        kNN       tree        xgb  \\\n0     Tablety i akcesoria  36.438362  30.533980  30.316291  30.290058   \n1      Drukarki i skanery  61.118263  57.728998  62.543261  63.193481   \n2                Monitory  72.066114  61.356915  74.377488  74.661026   \n3     Tablety i akcesoria  58.188762  53.939159  52.679625  52.334278   \n4          Gry na konsole   4.241402  15.469892  13.317820  14.467323   \n...                   ...        ...        ...        ...        ...   \n1540       Gry na konsole  58.106762  71.033095  62.943671  61.314903   \n1541                Video  66.240267  53.916527  59.514647  60.455761   \n1542   Telefony komórkowe  30.250557  32.149135  32.149135  32.957172   \n1543                Video  68.037479  49.736769  65.957018  66.134171   \n1544  Tablety i akcesoria  13.269307   5.347556  21.132944  18.952866   \n\n       kNN diff  tree diff   xgb diff  \n0      5.904382   6.122071   6.148303  \n1      3.389265  -1.424998  -2.075219  \n2     10.709199  -2.311375  -2.594912  \n3      4.249603   5.509137   5.854484  \n4    -11.228490  -9.076418 -10.225921  \n...         ...        ...        ...  \n1540 -12.926332  -4.836909  -3.208141  \n1541  12.323740   6.725620   5.784506  \n1542  -1.898578  -1.898578  -2.706615  \n1543  18.300710   2.080461   1.903308  \n1544   7.921751  -7.863637  -5.683559  \n\n[1545 rows x 12 columns]",
      "text/html": "<div>\n<style scoped>\n    .dataframe tbody tr th:only-of-type {\n        vertical-align: middle;\n    }\n\n    .dataframe tbody tr th {\n        vertical-align: top;\n    }\n\n    .dataframe thead th {\n        text-align: right;\n    }\n</style>\n<table border=\"1\" class=\"dataframe\">\n  <thead>\n    <tr style=\"text-align: right;\">\n      <th></th>\n      <th>delivery_company</th>\n      <th>city</th>\n      <th>price</th>\n      <th>category</th>\n      <th>subcategory</th>\n      <th>target</th>\n      <th>kNN</th>\n      <th>tree</th>\n      <th>xgb</th>\n      <th>kNN diff</th>\n      <th>tree diff</th>\n      <th>xgb diff</th>\n    </tr>\n  </thead>\n  <tbody>\n    <tr>\n      <th>0</th>\n      <td>360.0</td>\n      <td>Konin</td>\n      <td>1816.97</td>\n      <td>Komputery</td>\n      <td>Tablety i akcesoria</td>\n      <td>36.438362</td>\n      <td>30.533980</td>\n      <td>30.316291</td>\n      <td>30.290058</td>\n      <td>5.904382</td>\n      <td>6.122071</td>\n      <td>6.148303</td>\n    </tr>\n    <tr>\n      <th>1</th>\n      <td>620.0</td>\n      <td>Gdynia</td>\n      <td>5301.90</td>\n      <td>Komputery</td>\n      <td>Drukarki i skanery</td>\n      <td>61.118263</td>\n      <td>57.728998</td>\n      <td>62.543261</td>\n      <td>63.193481</td>\n      <td>3.389265</td>\n      <td>-1.424998</td>\n      <td>-2.075219</td>\n    </tr>\n    <tr>\n      <th>2</th>\n      <td>360.0</td>\n      <td>Police</td>\n      <td>1117.01</td>\n      <td>Komputery</td>\n      <td>Monitory</td>\n      <td>72.066114</td>\n      <td>61.356915</td>\n      <td>74.377488</td>\n      <td>74.661026</td>\n      <td>10.709199</td>\n      <td>-2.311375</td>\n      <td>-2.594912</td>\n    </tr>\n    <tr>\n      <th>3</th>\n      <td>620.0</td>\n      <td>Police</td>\n      <td>2317.02</td>\n      <td>Komputery</td>\n      <td>Tablety i akcesoria</td>\n      <td>58.188762</td>\n      <td>53.939159</td>\n      <td>52.679625</td>\n      <td>52.334278</td>\n      <td>4.249603</td>\n      <td>5.509137</td>\n      <td>5.854484</td>\n    </tr>\n    <tr>\n      <th>4</th>\n      <td>620.0</td>\n      <td>Szczecin</td>\n      <td>99.99</td>\n      <td>Gry i konsole</td>\n      <td>Gry na konsole</td>\n      <td>4.241402</td>\n      <td>15.469892</td>\n      <td>13.317820</td>\n      <td>14.467323</td>\n      <td>-11.228490</td>\n      <td>-9.076418</td>\n      <td>-10.225921</td>\n    </tr>\n    <tr>\n      <th>...</th>\n      <td>...</td>\n      <td>...</td>\n      <td>...</td>\n      <td>...</td>\n      <td>...</td>\n      <td>...</td>\n      <td>...</td>\n      <td>...</td>\n      <td>...</td>\n      <td>...</td>\n      <td>...</td>\n      <td>...</td>\n    </tr>\n    <tr>\n      <th>1540</th>\n      <td>360.0</td>\n      <td>Kutno</td>\n      <td>79.90</td>\n      <td>Gry i konsole</td>\n      <td>Gry na konsole</td>\n      <td>58.106762</td>\n      <td>71.033095</td>\n      <td>62.943671</td>\n      <td>61.314903</td>\n      <td>-12.926332</td>\n      <td>-4.836909</td>\n      <td>-3.208141</td>\n    </tr>\n    <tr>\n      <th>1541</th>\n      <td>360.0</td>\n      <td>Kutno</td>\n      <td>189.00</td>\n      <td>Sprzęt RTV</td>\n      <td>Video</td>\n      <td>66.240267</td>\n      <td>53.916527</td>\n      <td>59.514647</td>\n      <td>60.455761</td>\n      <td>12.323740</td>\n      <td>6.725620</td>\n      <td>5.784506</td>\n    </tr>\n    <tr>\n      <th>1542</th>\n      <td>620.0</td>\n      <td>Warszawa</td>\n      <td>2199.90</td>\n      <td>Telefony i akcesoria</td>\n      <td>Telefony komórkowe</td>\n      <td>30.250557</td>\n      <td>32.149135</td>\n      <td>32.149135</td>\n      <td>32.957172</td>\n      <td>-1.898578</td>\n      <td>-1.898578</td>\n      <td>-2.706615</td>\n    </tr>\n    <tr>\n      <th>1543</th>\n      <td>516.0</td>\n      <td>Radom</td>\n      <td>119.00</td>\n      <td>Sprzęt RTV</td>\n      <td>Video</td>\n      <td>68.037479</td>\n      <td>49.736769</td>\n      <td>65.957018</td>\n      <td>66.134171</td>\n      <td>18.300710</td>\n      <td>2.080461</td>\n      <td>1.903308</td>\n    </tr>\n    <tr>\n      <th>1544</th>\n      <td>516.0</td>\n      <td>Szczecin</td>\n      <td>2317.02</td>\n      <td>Komputery</td>\n      <td>Tablety i akcesoria</td>\n      <td>13.269307</td>\n      <td>5.347556</td>\n      <td>21.132944</td>\n      <td>18.952866</td>\n      <td>7.921751</td>\n      <td>-7.863637</td>\n      <td>-5.683559</td>\n    </tr>\n  </tbody>\n</table>\n<p>1545 rows × 12 columns</p>\n</div>"
     },
     "execution_count": 14,
     "metadata": {},
     "output_type": "execute_result"
    }
   ],
   "source": [
    "predictions, error = compare_models([model_knn, model_tree, model_xgb], x_test, y_test)\n",
    "\n",
    "error = error.rename(index={'mdl-1': 'kNN', 'mdl-2': 'tree', 'mdl-3': 'xgb'})#, 'mdl-4': 'forrest'})\n",
    "predictions = predictions.rename(columns={'mdl-1': 'kNN', 'mdl-2': 'tree', 'mdl-3': 'xgb'})#, 'mdl-4': 'forrest'})\n",
    "\n",
    "predictions['category'] = le_cat.inverse_transform(predictions['category'])\n",
    "predictions['subcategory'] = le_subcat.inverse_transform(predictions['subcategory'])\n",
    "predictions['city'] = le_city.inverse_transform(predictions['city'])\n",
    "\n",
    "predictions['kNN diff'] = predictions['target'] - predictions['kNN']\n",
    "predictions['tree diff'] = predictions['target'] - predictions['tree']\n",
    "predictions['xgb diff'] = predictions['target'] - predictions['xgb']\n",
    "\n",
    "predictions"
   ]
  },
  {
   "cell_type": "code",
   "execution_count": 15,
   "metadata": {
    "pycharm": {
     "name": "#%%\n"
    }
   },
   "outputs": [
    {
     "data": {
      "text/plain": "      max error  avg error  avg sqr error\nkNN   56.095889   9.021937     145.547886\ntree  28.409592   6.863751      72.505728\nxgb   28.513067   6.903586      73.335329",
      "text/html": "<div>\n<style scoped>\n    .dataframe tbody tr th:only-of-type {\n        vertical-align: middle;\n    }\n\n    .dataframe tbody tr th {\n        vertical-align: top;\n    }\n\n    .dataframe thead th {\n        text-align: right;\n    }\n</style>\n<table border=\"1\" class=\"dataframe\">\n  <thead>\n    <tr style=\"text-align: right;\">\n      <th></th>\n      <th>max error</th>\n      <th>avg error</th>\n      <th>avg sqr error</th>\n    </tr>\n  </thead>\n  <tbody>\n    <tr>\n      <th>kNN</th>\n      <td>56.095889</td>\n      <td>9.021937</td>\n      <td>145.547886</td>\n    </tr>\n    <tr>\n      <th>tree</th>\n      <td>28.409592</td>\n      <td>6.863751</td>\n      <td>72.505728</td>\n    </tr>\n    <tr>\n      <th>xgb</th>\n      <td>28.513067</td>\n      <td>6.903586</td>\n      <td>73.335329</td>\n    </tr>\n  </tbody>\n</table>\n</div>"
     },
     "execution_count": 15,
     "metadata": {},
     "output_type": "execute_result"
    }
   ],
   "source": [
    "error"
   ]
  },
  {
   "cell_type": "markdown",
   "metadata": {},
   "source": [
    "Jak widać zdecydowanie lepiej radzą sobie modele drzewiaste : XGBoost, DecisionTreeRegressor. Z naszego doswiadczenia najdłużej trwa trenowanie modeli xgboost."
   ]
  },
  {
   "cell_type": "markdown",
   "metadata": {},
   "source": [
    "### Rozkład błędów modeli"
   ]
  },
  {
   "cell_type": "code",
   "execution_count": 16,
   "metadata": {
    "pycharm": {
     "name": "#%%\n"
    }
   },
   "outputs": [
    {
     "data": {
      "text/plain": "<matplotlib.axes._subplots.AxesSubplot at 0x7f1b77ec4240>"
     },
     "execution_count": 16,
     "metadata": {},
     "output_type": "execute_result"
    },
    {
     "data": {
      "text/plain": "<Figure size 432x288 with 1 Axes>",
      "image/png": "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\n"
     },
     "metadata": {
      "needs_background": "light"
     },
     "output_type": "display_data"
    }
   ],
   "source": [
    "sn.distplot(predictions['kNN diff'], bins=40)"
   ]
  },
  {
   "cell_type": "code",
   "execution_count": 17,
   "metadata": {
    "pycharm": {
     "name": "#%%\n"
    }
   },
   "outputs": [
    {
     "data": {
      "text/plain": "<matplotlib.axes._subplots.AxesSubplot at 0x7f1b77f625c0>"
     },
     "execution_count": 17,
     "metadata": {},
     "output_type": "execute_result"
    },
    {
     "data": {
      "text/plain": "<Figure size 432x288 with 1 Axes>",
      "image/png": "iVBORw0KGgoAAAANSUhEUgAAAXoAAAEGCAYAAABrQF4qAAAABHNCSVQICAgIfAhkiAAAAAlwSFlzAAALEgAACxIB0t1+/AAAADh0RVh0U29mdHdhcmUAbWF0cGxvdGxpYiB2ZXJzaW9uMy4yLjEsIGh0dHA6Ly9tYXRwbG90bGliLm9yZy+j8jraAAAgAElEQVR4nO3deXyU5bn/8c81mUz2fSEhewg7CEIAEXesoj0V64paq9VWa0vP6a/LOfbX37E9drH29NT2tLbVo1ardavWFi0WtK4oYNghBMhCzL7vZE/u3x8zeGIMMCSTPLNc79crr848zzPJN3bm4s793M/1iDEGpZRS/stmdQCllFKTSwu9Ukr5OS30Sinl57TQK6WUn9NCr5RSfs5udYDREhMTTXZ2ttUxlFLKp+zcubPJGJM01j6vK/TZ2dns2LHD6hhKKeVTROTDE+3TqRullPJzWuiVUsrPaaFXSik/p4VeKaX8nBZ6pZTyc1rolVLKz2mhV0opP6eFXiml/JwWeqWU8nNed2WsUlZ7envFCffduCJzCpMo5Rk6oldKKT/nVqEXkTUiclhESkTk7jH2h4jIc67920Uk27U9W0R6RGSP6+t3no2vlFLqVE45dSMiQcCDwKeAKqBARDYYYw6OOOx2oNUYkyci64D7getd+0qNMYs9nFsppZSb3BnRLwdKjDFlxph+4Flg7ahj1gJPuB6/AKwWEfFcTKWUUuPlTqFPAypHPK9ybRvzGGPMINAOJLj25YjIbhF5W0TOHesHiMgdIrJDRHY0Njae1i+glFLq5Cb7ZGwtkGmMORP4BvC0iESPPsgY87AxJt8Yk5+UNGbffKWUUuPkTqGvBjJGPE93bRvzGBGxAzFAszGmzxjTDGCM2QmUArMmGloppZT73Cn0BcBMEckREQewDtgw6pgNwC2ux9cAbxhjjIgkuU7mIiK5wEygzDPRlVJKueOUq26MMYMish7YBAQBjxljCkXkXmCHMWYD8CjwpIiUAC04/zEAOA+4V0QGgGHgy8aYlsn4RZRSSo3NrStjjTEbgY2jtt0z4nEvcO0Yr3sReHGCGZVSSk2AXhmrlFJ+Tgu9Ukr5OS30Sinl57TQK6WUn9NCr5RSfk4LvVJK+Tkt9Eop5ee00CullJ/TWwkqNYlOdFtCvSWhmko6oldKKT+nhV4ppfycFnqllPJzWuiVUsrPaaFXSik/p4VeKaX8nC6vVOoE+gaGqGztoaLlGH2Dw8xJiWZo2BBkE6ujKXVatNArNUpH7wCv7KulsLodAwhgE+Hd4iZe2l3NlYun8+01swmxB1kdVSm3aKFXysUYw/M7KvnF60cYHDKck5fIjORIMuLCsQkcru+ko3eAR7Ycpaiug4duzicyRD9Cyvvpu1QpoLN3gH95dg9vHGogOyGCq85MIzEq5GPHnJEey40rMnlxZxX/+uI+bvqfbfz+C8uJj3BYlFop92ihVwGvpq2H2x4voLihi+99Zh7BQTZscuJ5+KuXphMTFsxXn97FdQ9t5aWvnE1UaPAUJlbq9GihV35jPH1l9le1c/sTBfT0D/H7W5dx3qykE36fkS6eN43f37qMzz26nR9vLOK+q84Yd26lJpsur1QBa3NhHdc9tJXgIBsv3HU2581KOq3Xn52XyJfOy+WZDyp5+0jjJKVUauK00KuAY4zhkXfLuPOpncyaFslLXz2b2SlR4/pe/+fiWeQlR3L3i/vo6B3wcFKlPEMLvQoovQND/N+X9vPDvxWxZn4Kz96xkuSo0HF/v9DgIH527SLqO3r50StFHkyqlOfoHL3ySiebJx9vL/cD1e18/bk9lDR0cdcFM/j2JbOxeeDip8UZsdx5/gx++1Yp1y1LZ2lW/IS/p1KepCN65fd6B4Z48M0SPvub9+joGeDJ25fzb2vmeKTIH/e1i/JIiHDwi9eLPfY9lfIUHdErvzUwNExBeQsPvH6Exs4+1sxP4b6rFhLnWvfuzuqa0U62sufO83P58cZD7PywRUf1yqtooVd+p76jl90VreyuaKOzb5DlOfH86oYzOSs3YVJ/7ufOyuKht8v4xevFPHn7ikn9WUqdDi30yi909A6w/WgzOz9spaq1B5vArGlRnD0jkX//p7nISS6A8pRwh11H9coraaFXPq2ypZtfvF7M3/bX0DswTEp0KJcvTGVResxHV6tORZE/Tkf1yhtpoVc+qbt/kN+8WcrD75ZhtwnXLE0nOjSYtNiwKS3so40c1e+pbLMsh1IjubXqRkTWiMhhESkRkbvH2B8iIs+59m8XkexR+zNFpEtEvuWZ2CqQHahuZ/V/vc2v3yzh0wtTeeObF/DDKxeSHhduaZE/7sYVWUSG2PnD1nKroygFuDGiF5Eg4EHgU0AVUCAiG4wxB0ccdjvQaozJE5F1wP3A9SP2/xx41XOxVaCqaD7Gfa8WER0azIt3rfSaefDRq3EWpEWzYU8Nc1OiidBWxspi7ozolwMlxpgyY0w/8CywdtQxa4EnXI9fAFaLa2glIlcCR4FCz0RWgaqssYvH3isnIcLBn77sPUV+LCtyEhgcNuz8sNXqKEq5NUefBlSOeF4FjD7L9NExxphBEWkHEkSkF/g3nH8NnHDaRkTuAO4AyMwc31WPyr9VtnTz+PvlxEc4WLc8k7cOu99EbDzr5SdqWnQoOYkRbD/azDkzE0/a9lipyTbZV8Z+H3jAGNN1soOMMQ8bY/KNMflJSafXQVD5v/7BYf60s5LIEDtfPDeXaB/p/X5WbgKt3QMcqe+0OooKcO6M6KuBjBHP013bxjqmSkTsQAzQjHPkf42I/BSIBYZFpNcY8+sJJ1d+wZ3R9msH62jq6ue2VTk+deu+eanRRIXY2V7WwpyUaKvjqADmzoi+AJgpIjki4gDWARtGHbMBuMX1+BrgDeN0rjEm2xiTDfwC+LEWeXU6yhq7eK+0mbNyE8hLjrQ6zmkJsgnLcuI5Ut9Jy7F+q+OoAHbKQm+MGQTWA5uAIuB5Y0yhiNwrIle4DnsU55x8CfAN4BNLMJU6XX0DQ7y4q4qECAdr5qdYHWdclmU7TxjrSVllJbf+DjbGbAQ2jtp2z4jHvcC1p/ge3x9HPhXA3ilupLV7gDvPy8Vh981GqzFhweQlR7K7opXVc5P1pKyyhG9+epTf6+kf4v3SZhZMjyYrIcLqOBOyJDOOtp4BjjYdszqKClBa6JVXer+0ib7BYS6ck2x1lAmbNz2aELuNXTp9oyyihV55nd6BId4rbWJeajSpMWFWx5mw4CAbZ6THUFjTQd/gkNVxVADSQq+8ztayZnoHhrnID0bzxy3JjKN/aJgD1R1WR1EBSAu98ip9A0NsKW5iTkoU02N9fzR/XGZ8OAkRDnZV6PSNmnpa6JVXKShvoWdgyK9G8+DsiX9mZhxHm47pmno15bTQK69hjOGD8lay4sNJjwu3Oo7HLcmMBWB3pY7q1dTSQq+8RnlzN01dfeRne29XyomIDXeQkxjB3so2jDFWx1EBRAu98ho7ylsIsdtYmBZjdZRJc2ZGLE1d/eyrarc6igogWuiVV+jpH2J/dTuLMmJ99ipYd8yfHoPdJry0e3RfQKUmj/9+opRP2VPVxuCw+ag3jL8KcwQxJyWKl/fWMDA0bHUcFSC00CvLGWPYUd7C9JhQ0vxoSeWJLM6Io/lYP1tKmqyOogKEFnplueq2Hmrbe/32JOxos1IiiQ0P5qVdOn2jpoYWemW5XRWt2G3CovRYq6NMCbvNxqcXprL5YB1dfYNWx1EBQAu9stTQsGF/dQdzUqIIcwRZHWfKfPbMNHoHhvn7gTqro6gAoIVeWepo0zGO9Q1yRoCM5o9bmhVHZnw4f95VZXUUFQC00CtL7atqw2G3MTslyuooU0pEuGpJGlvLmqlu67E6jvJzWuiVZQaGhims6WBuShTBQYH3VrzqzHSMgb/omno1yQLv06W8xpaSJnoGhgJu2ua4zIRwlmfH8+LOKm2JoCaVFnplmVf21hIabGNmcqTVUSxz9dI0ypqOsbuyzeooyo9poVeW6B0YYnNhHfNSY7AH4LTNcZcvTCU02MaLO/WkrJo8gfsJU5Z650gjnX2DnJHuvw3M3BEVGsyl81N4eW+N3mZQTRq71QFUYNq4v5bY8GBmJAXutM1xVy1J5697avhHUQOXL0w94XFPb68Yc/uNKzInK5ryEzqiV1Ouf3CYfxQ18Km50wiyidVxLHdOXiIp0aE8V1BpdRTlp7TQqyn3fmkTnX2DrFmQYnUUrxBkE65blsE7xY1UtnRbHUf5IS30asptKqwnwhHEqrxEq6N4jeuXZSCgo3o1KbTQqyk1NGx47WAdF8xJJjQ4cHrbnEpabBgXzE7m+R2V2qdeeZwWejWldlW00tTVz5r5Om0z2g3LM2no7OONQw1WR1F+Rgu9mlJ/P1CHI8jGBbOTrI7idS6cncS06JATrq5Rary00KspY4zh7wfqOGdmIlGhwVbH8Tr2IBvX5+tJWeV5WujVlCms6aC6rUenbU7i+uXONfHPFuioXnmOW4VeRNaIyGERKRGRu8fYHyIiz7n2bxeRbNf25SKyx/W1V0Q+69n4ypdsKqzDJrB6brLVUbxWWmwYq+ck88wHlfQO6JWyyjNOWehFJAh4ELgMmAfcICLzRh12O9BqjMkDHgDud20/AOQbYxYDa4CHRESvxg1QmwrrWJYdT0JkiNVRvNptq3JoOdbPhj01VkdRfsKdEf1yoMQYU2aM6QeeBdaOOmYt8ITr8QvAahERY0y3Meb4TTFDAe3FGqCONh3jSH0Xl+q0zSmtnJHA7GlRPPbeUW1frDzCnUKfBoy8iqPKtW3MY1yFvR1IABCRFSJSCOwHvjyi8KsAsqnQeW/US+ZPsziJ9xMRbjsnm0N1nWwta7Y6jvIDk34y1hiz3RgzH1gGfEdEQkcfIyJ3iMgOEdnR2Ng42ZGUBTYV1rEgLZr0uHCro/iEtYvTiAsP5vfvlVsdRfkBdwp9NZAx4nm6a9uYx7jm4GOAjw1FjDFFQBewYPQPMMY8bIzJN8bkJyXp+mp/U9/Ry+6KNi6dp9M27goNDuKmFVm8XlTPh83HrI6jfJw7J0YLgJkikoOzoK8Dbhx1zAbgFmArcA3whjHGuF5TaYwZFJEsYA5Q7qnwyje8drAegEu1idlHTnZR1PG2wzevzOJ3b5fy+/fK+f4V86cqmvJDpxzRu+bU1wObgCLgeWNMoYjcKyJXuA57FEgQkRLgG8DxJZjnAHtFZA/wEvAVY0yTp38J5d02FdaRkxgR0LcMHI9p0aF8ZtF0nt9RSVt3v9VxlA9za6mjMWYjsHHUtntGPO4Frh3jdU8CT04wo/Jh7T0DbC1t5uwZCTzzgXZmPF13nJfLS7ureWrbh8RH6LJUNT56ZayaVG8eamBw2DBvemDfMnC85qZGc/6sJB5/v1y7Wqpx00KvJtWmwjqSo0JIjwuzOorP+vL5M2jq6mdXRavVUZSP0kKvJk13/yBvHW7kkvnTsIneMnC8zsqNZ1F6DFuKmxjWC6jUOGihV5Pm7cON9AwMnfSG1+rURIQ7z59B87F+Cms6rI6jfJAWejVpNh6oIyHCwfLseKuj+LxL56eQEOHgnSON2hZBnTYt9GpS9A4M8UZRPZfMT8EepG+ziQqyCefMTKS6rYeyJr2ASp0e/QSqSfFucRPH+oe4TC+S8pglmXFEhNh5t1jbhKjTo4VeTYpX99cSExbMyhkJVkfxG8FBNlbNSOBIfRe17T1Wx1E+RAu98ri+wSFeK6rnknnTCNZpG49akZOAw27j3WK9wFy5Tz+FyuPeL2mms3dQV9tMgjBHEMuz49lX1UartkVQbtJCrzxu4/5aokLtnJ2n0zaT4WzXdNiWEh3VK/fobf2UR/UPDrP5YD0Xz51GiD3I6jg+6WSdLQFiwx0sSo9lZ3krF8/RG7moU9MRvfKod4400t4zwBWLplsdxa+dMzOR/qFhCspbrI6ifIAWeuVRL++rITY8mFV5iVZH8WupMWHkJkawtaxZm52pU9JCrzymp3+I1w7Wc9mCVBx2fWtNtlV5ibT3DPDqgTqroygvp59G5TGvF9XT3T/EZxbpapupMDslioQIB49uOaptEdRJaaFXHvPy3hqSo0JYkaOrbaaCTYRVeYnsrWzTFsbqpHTVjfKI9p4B3jrcyLLsOJ4r0DtJTZUlmXG8faSRR949ytIsbR6nxqYjeuURmwvr6B8a5oz0WKujBBSH3cYNyzPZVFhHTZu2RVBj0xG9Om1jrfP+/XtHiQsP1jtJWeCmFZk89E4pz3xQwTcvmf3R9pOtx79xReZURFNeQkf0asI6ewcoaehiUXosoneSmnIZ8eFcNDuZZz6opH9Ql1qqT9JCryZsb2UbBlicqdM2Vrl5ZRZNXX38vVCXWqpP0kKvJmx3ZRvpcWEkR4VaHSVgnTcziayEcJ7cWm51FOWFtNCrCalt76G2vZczM+OsjhLQbDbhcyuyKChvpahW7yurPk4LvZqQ3RVtBIlwRlqM1VEC3rX56YTYbTy17UOroygvo4VejdvQsGFvZRuzU6KICNEFXFaLDXdwxaLpvLS7ms7eAavjKC+ihV6NW2ljF519g5ypJ2G9xg0rMunuH+LlvbVWR1FeRAu9GrddFa2EBQcxe1qU1VGUy5kZscyeFsVzBSfvaa8CixZ6NS49/UMcrOngjPQY7HpfWK8hIqxbnsHeqna9gbj6iH5C1bjsrWpjcNiQr/1VvM5nz0zDYbfpTUnUR7TQq3HZUd5Cakwo02N17by3iQ13cNmCFPZUtulNSRSghV6NQ3VbDzXtveRnx2vLAy+1blkmvQPDHKhutzqK8gJuFXoRWSMih0WkRETuHmN/iIg859q/XUSyXds/JSI7RWS/638v8mx8ZYUd5S3YbcJi7VTptc7KjSchwqHTNwpwo9CLSBDwIHAZMA+4QUTmjTrsdqDVGJMHPADc79reBHzGGLMQuAV40lPBlTV6+ofYW9XGgrQYwhxBVsdRJyAi5GfHU97cTVNnn9VxlMXcGdEvB0qMMWXGmH7gWWDtqGPWAk+4Hr8ArBYRMcbsNsbUuLYXAmEiEuKJ4Moarx6opXdgmPxsbXng7c7MjMUmsFPvPhXw3Cn0acDIWwZVubaNeYwxZhBoB0bfT+5qYJcx5hPDCxG5Q0R2iMiOxsZGd7MrCzxbUElChIOchAiro6hTiA4NZmZyFLsrWhnWe8oGtCk5GSsi83FO59w51n5jzMPGmHxjTH5SUtJURFLjUNLQyQdHW8jPitOTsD5iaVYcHb2DFNd3WR1FWcidQl8NZIx4nu7aNuYxImIHYoBm1/N04CXg88aY0okGVtZ5alsFjiAbS7N17byvmJMaRbgjSKdvApw7hb4AmCkiOSLiANYBG0YdswHnyVaAa4A3jDFGRGKBvwF3G2Pe81RoNfWO9Q3y4s4qPn1GKpHawMxn2G02FmfEUlTbQXffoNVxlEVOWehdc+7rgU1AEfC8MaZQRO4VkStchz0KJIhICfAN4PgSzPVAHnCPiOxxfSV7/LdQk+6l3dV09g3yubOyrI6iTtPSrDiGhg17qtqsjqIs4tbQzBizEdg4ats9Ix73AteO8bofAj+cYEZlMWMMT237kPnTo1mSGcvhuk6rI6nTkBoTxvTYUHZ92MrZMxKtjqMsoFfGqlMqKG/lUF0nn1+ZpSdhfdTSzDhq2nupadNGZ4FIC706pT9sLSc61M4Vi0avqlW+YlFGLEE20ZOyAUoLvTqpho5e/n6gjmvzM/RKWB8W7rAzLzWaPRVtDGqjs4CjhV6d1OPvlzNkDJ9fqSdhfd3SrDh6BoYo0nMsAUcLvTqhY32D/HF7BWvmp5ClV8L6vLzkSGLCgtn5oTY6CzRa6NUJ/WlHJe09A3zx3FyroygPsImwJDOW4vouvftUgNErX9SYhoYNj753lCWZsSzN0gZm3uzp7e7fH3ZJZhxvHm7kz7uq+eqFeZOYSnkTHdGrMW0qrKOypYcv6WjeryREhpCTGMHzOyox2ugsYOiIXn2CMYaH3ykjPsJB87H+0xoxKu+3NCuOF3ZWsa2shZUzRjeZVf5IR/TqEwrKW9lT2caqGQnY9AIpv7NgegxRoXae/kD/AQ8UWujVJ/zqjWISIx0szdIulf7IYbdx9ZJ0/n6gluYuvftUINBCrz5md0Ur7xY38aVzc3HY9e3hr25ckcnAkOGFnVVWR1FTQD/J6mN+9UYJceHB2qXSz82aFkV+VhzPfFDB8LCelPV3WujVRw5Ut/PGoQZuPyeHCO057/duXJFJeXM3W8uarY6iJpkWevWRX71RTHSonc+fnW11FDUFLl+YSkxYsK6qCgBa6BUARbUdbCqs5wurcogODbY6jpoCocFBXL0knU2FdTR26klZf6aFXgHwX5uPEBVq57ZVOVZHUVPoprMyGRw2Oqr3c1roFbsqWnm9qJ4vnz+DmHAdzQeSGUmRXDg7iSe3ldM7MGR1HDVJtNArfrbpMImRDm7VufmA9KVzc2nq6ucvu6utjqImiRb6APdeSRPvlzbz1QvzdKVNgFo5I4F5qdE8suWo9r/xU/rJDiCj52GNMfz27VKmx4Ry44pMi1IpK4x+L8yfHs2fdlbx1pFGLpydbFEqNVl0RB/Aimo7qGrt4V8unkmIXW8TGMgWpscQHWrn0XePWh1FTQIt9AFqaNiwqbCexMgQrl6SbnUcZTG7zcbK3AS2lDRRWNNudRzlYVroA9TOD1tp7Opjzfxp2IP0baBgeU4CUSF2fvl6sdVRlIfpJzwA9Q8O84+iejLjw5mbGm11HOUlwhxBfPHcXDYfrGdvZZvVcZQH6cnYALSlpInOvkFuXJGJiOjFMuojt5+bwxNby/nZ5sM8efsKq+MoD9ERfYDp6hvk3eJG5qZGk5UQYXUc5WUiQ+zcdf4M3i1uYrs2O/MbOqIPMG8eaqB/cJhL502zOoryUjevzOKRLWX8bPNhnr9z5Un/6tNlub5BR/QBpLmrjw+OtpCfHU9ydKjVcZSXCg0OYv1FMykob+XNww1Wx1EeoIU+gGw+WI/NBqvn6gUx6uSuz88gNzGCe18+qD1w/IAW+gCxt7KN/dXtnJOXqG2I1Sk57DZ+cOUCypu7+e1bpVbHURPk1hy9iKwBfgkEAY8YY34yan8I8AdgKdAMXG+MKReRBOAFYBnwuDFmvSfDq7GN1ergkS1HCXcEce7MJItSKV+zKi+RKxZN57dvl7L+wjwSI0OsjqTG6ZQjehEJAh4ELgPmATeIyLxRh90OtBpj8oAHgPtd23uBfwe+5bHE6rQdqe/kaNMxVs9JJjRYWx0o9/2/T88lJMjGy3trtOGZD3Nn6mY5UGKMKTPG9APPAmtHHbMWeML1+AVgtYiIMeaYMWYLzoKvLDBsnK0O4iMcLMuJtzqO8jHJ0aF885JZFDd0sa9aWyP4KncKfRpQOeJ5lWvbmMcYYwaBdiDB3RAicoeI7BCRHY2Nje6+TLlhT2UbdR29XDJvGnabnpJRp+9zZ2WRHhfGhj01dPQMWB1HjYNXfPKNMQ8bY/KNMflJSTqH7CkDQ8O8frCetNgwFqTFWB1H+Sh7kI1rl2YwODzMi7uqdArHB7lT6KuBjBHP013bxjxGROxADM6TsspC28qaaesZYM2CFGwiVsdRPiwpKoTLFqRS3NDFtqMtVsdRp8mdQl8AzBSRHBFxAOuADaOO2QDc4np8DfCG0X/2LdXTP8RbhxuZmRzJjKRIq+MoP7AiJ55Z0yJ5dX8tDZ162s2XnLLQu+bc1wObgCLgeWNMoYjcKyJXuA57FEgQkRLgG8Ddx18vIuXAz4FbRaRqjBU7ahK8faSR3oEhLp2fYnUU5SdEhKuWpOOw23iuoJKBoWGrIyk3ubWO3hizEdg4ats9Ix73Atee4LXZE8inxqGtu5/3S5tYlBHL9Ngwq+MoPxIdGsw1S9L5w7YPefVALbfoDeV9glecjFWe9XqRsz/Jp7RxmZoEc1KjOScvkW1lLWzcX2t1HOUGLfR+pqi2g90VrayckUBcuMPqOMpPXTJ/GulxYfzbC/uoaO62Oo46BS30fuYnrx4iNDiIC2Zp4zI1eew2G+uWZYLA+md20Teojc+8mRZ6P7KluIm3jzRy4ewkwhza6kBNrvgIB/95zSL2VbVz38ZDVsdRJ6GF3k8MDRt+tLGI9Lgwzsp1+6JkpSZkzYIUvrAqm8ffL+fvB3S+3lvpHab8xLMFFRTVdvCbm5bQ1q2Xqaup8fT2CnISI0iPC+Prz+1hfcMx4iMceucpL6Mjej/Q3jPAf20+wvKceC5boOvm1dSy22zcsMxZ2J/5oIJBXV/vdbTQ+4H//kcxrd39fO8z8xBtdaAsEBfh4NqlGVS39bBRp3C8jhZ6H1fS0MUT75ezblkG86dr4zJlnbkj1te/sq/G6jhqBJ2j92HGGP7j5ULCgoP45iWzrY6j/MDou5Odrkvnp1DR0s3dL+5n/vQYchIjPJRMTYSO6H3YX/ZU825xE9+8ZJbe5k15hSCbsG5ZBsFBwl1P7aSnX9fXewMt9D6quauPe18+yJLMWG5emW11HKU+Ehvu4IHrF3O4vpPvvrRf+9d7AS30PureVw7S1TfIT64+gyCbnoBV3uWC2cl8ffUs/ry7mqcmOB2kJk4LvQ9681ADf91Tw1cuyGPWtCir4yg1pq9dlMeFs5O49+VCdlW0Wh0noGmh9zHNXX3c/ed95CVH8pULZ1gdR6kTstmEX1x/Jikxodz11E5q23usjhSwxNvmz/Lz882OHTusjuGVhocNtz5ewLayZu44N1d7zSufUNfey0PvlBIf4eCO83L5wqocqyP5JRHZaYzJH2ufjuh9yG/eKuGdI43c80/ztMgrn5ESE8q6ZZnUtffyXEElQ8PeNbgMBFrofcTW0mZ+/toRrlg0nZu0j4jyMbNTovjMoukcquvkB68c1JU4U0wvmPIBZY1dfO2ZXWQnRPDjqxZqmwPlk87KTaC5q4/H3y8n3BHEty+dre/lKaKF3stVt/XwuUe2Ywz8zy35RIbo/2XKd122MJXMhAh+81YpIvCtS7TYTwWtGl6ssbOPmx/ZTmffIM986YfU91QAAAxUSURBVCxmJEVaHUmpCbGJ8KMrFwCGB98sBbTYTwUt9F6quq2H2x8voLK1m9tW5bCvqp19Ve1Wx1Jqwmw24UdXLgTgwTdLqWjp4adXn6F3RZtEWui90PayZr7yx130Dw5z81nZZCVoYyjlX2w24cefXUhmfAQ/3XSI0oYuHrp5KRnx4VZH80u66saLGGP4w9ZybnpkOzFhwfxl/SryknW6RvknEeGuC2bw2K3LqGzt5jO/3sLzOyp1Rc4k0ELvJQ7WdHDt77Zyz18LOWdmIi99dZXOyauAcOHsZDasP4cZSZH86wv7uO6hrRyu67Q6ll/RqRuL1bT18NDbpTy57UNiwx3cf/VCrl2agU0blSk/daKe93+6cyUv7KzivleLuOyX73D5wlS+dG4uhTUdYx6v96V1nxZ6Cxhj2F3ZxmNbjvLqgTqMMdy4IpNvXTKb2HCH1fGUsoTNJly3LIOL503jobdLeXp7Ba/sqyU7IZwlmXHMmx5NuENL1njof7UpYoyhuKGL+zYeYl9VG83H+gmx21iZm8DKGQl89cI8qyMq5RXiIxx85/K5rL8oj+cKKvntW6X8eXc1f9lTTV5yJHNSopmp565Oixb6SdQ/OExBeQv/KGrgjUP1lDd3I0BuUgTnzUzijPQYQoJ1SZlSY4kKDeaL5+YSFhxETXsv+6vaOFDTwYa9zvvRvrCripW5CazIjWdFToL2fzoJLfQeVtnSzc82H+ZIfReljV30Dw5jtwm5SRFcsWg686dHExUabHVMpbzOiebuRYS02DDSYsO4dH4Kzcf6KW7ooqd/iI37a3m2oBKAtNgwlmXHsTQ7noaOXpKjQj9xU55AndfXQj9BXX2DfHC0mXeONPFOcSNljccAiA0PZnFGLLOnRTEjKRKHXRc4KTVRIkJiZAiJkSHcuCKToWFDUW0H24+2sKO8hfdKm/nLHueI3xFkIy0ujPS4MKbHhpEWE8bwsAnIhQ7aj/409fQPsauile1HW9iwp5qKlm6GDQQHCTmJEcxMjmJmciRJUSF6WbdSk2is0bkxhoqWbh58s5TKlm4qW7upbe/9qDVyaLCNvORIZiVHMSM5kqyEcLITIthe1kJosO0Tn1lf+gvgZP3o3RrRi8ga4JdAEPCIMeYno/aHAH8AlgLNwPXGmHLXvu8AtwNDwD8bYzaN8/eYct39g5Q1HuNgTQf7qtvYV9XOwZoOBocNNoHUmDDOnZlEXnIkmfHhBAfpqF0pK4kIWQkRLM6IZXFGLABDw4aGzl6qW3uIDXdQ3NDJe6VN/Hl39cdeG2K3ERMWTGx4MNGhwUSHOadYp0WHMC06lOToEBIiQnzyHs2nHNGLSBBwBPgUUAUUADcYYw6OOOYrwBnGmC+LyDrgs8aY60VkHvAMsByYDrwOzDLGDJ3o53l6RG+MwRgYGB5mYMgwODRMz8AQ3f1DdPcN0dE7QGt3P63dAzR29FLT3kttew/lTd1Ut/3vrc+iQuwsSIthcWYsy3PiWZoVxyt7az2WUyk1+UaO0I/1DfJhczcfNh9jw94a2noGaO8eoL1ngI6eAbr6BhldHW0CCZEhJEWGkBgVQmKEg4RIB7HhDmLDg4kJCyYqNJjIkCAiQuyEBQcRYg8iNNiGPciG3SY4gmyTMn000RH9cqDEGFPm+mbPAmuBgyOOWQt83/X4BeDX4vwbaC3wrDGmDzgqIiWu77d1PL/IyeyrauO6h7ZiDBicBX5o2HA6N7OxCSRHhZIaG0p+dhzrkjKcf+alRJGTEBGQc3tK+auIEDvzpkczb3o0rd0Dn9g/NGxYPTeZhs4+6jt6qe/opbGzj4aOPhq7+mju6qO0oYvmY330Dgyf9s+3CQTZBEFAnM8vX5jKz69b7Ilf72PcKfRpQOWI51XAihMdY4wZFJF2IMG1fduo16aN/gEicgdwh+tpl4gcdiv9ySUCTaf7oqMe+MEeMK7sXkKzW0Ozu+Emz39Lj2Y/DDxw/bhfnnWiHV6x6sYY8zDwsCe/p4jsONGfMd5Os1tDs1tDs08+d84eVgMZI56nu7aNeYyI2IEYnCdl3XmtUkqpSeROoS8AZopIjog4gHXAhlHHbABucT2+BnjDOM/ybgDWiUiIiOQAM4EPPBNdKaWUO045deOac18PbMK5vPIxY0yhiNwL7DDGbAAeBZ50nWxtwfmPAa7jnsd54nYQ+OrJVtx4mEengqaYZreGZreGZp9kXnfBlFJKKc/SK3yUUsrPaaFXSik/53eFXkR+ICL7RGSPiGwWkemu7SIi/y0iJa79S6zOOpqI/KeIHHLle0lEYkfs+44r+2ERudTKnGMRkWtFpFBEhkUkf9Q+b8++xpWtRETutjrPqYjIYyLSICIHRmyLF5HXRKTY9b9xVmYci4hkiMibInLQ9V75F9d2X8geKiIfiMheV/b/cG3PEZHtrvfOc64FK97H2SLAf76A6BGP/xn4nevx5cCrgABnAdutzjpG9ksAu+vx/cD9rsfzgL1ACJADlAJBVucdlX0uMBt4C8gfsd2rs+NcYFAK5AIOV9Z5Vuc6RebzgCXAgRHbfgrc7Xp89/H3jjd9AanAEtfjKJytVeb5SHYBIl2Pg4HtrjryPLDOtf13wF1WZx3ry+9G9MaYkTeYjICP2lWsBf5gnLYBsSKSOuUBT8IYs9kYM+h6ug3ndQcwopWEMeYocLyVhNcwxhQZY8a6otnbs3/U4sMY0w8cb/HhtYwx7+Bc3TbSWuAJ1+MngCunNJQbjDG1xphdrsedQBHOK+V9IbsxxnS5nga7vgxwEc62L+Cl2cEPp24ARORHIlKJ84rne1ybx2rl8Il2DF7kNpx/gYDvZR/J27N7ez53TTPGHO+yVwdMszLMqYhINnAmzpGxT2QXkSAR2QM0AK/h/EuwbcTgzGvfOz5Z6EXkdRE5MMbXWgBjzHeNMRnAH4H11qb9uFNldx3zXZzXHfzRuqSf5E52ZT3jnEfw2nXTIhIJvAh8fdRf4F6d3RgzZIxZjPMv7eXAHIsjuc0ret2cLmPMxW4e+kdgI/A9vKQdw6myi8itwD8Bq11vevCR7CfgFdlPwtvzuateRFKNMbWuKckGqwONRUSCcRb5Pxpj/uza7BPZjzPGtInIm8BKnFPAdteo3mvfOz45oj8ZEZk54ula4JDr8Qbg867VN2cB7SP+XPQK4rzBy78CVxhjukfs8uVWEt6e3Z0WH75gZBuSW4C/WphlTCIiOK+iLzLG/HzELl/InnR8FZyIhOG8P0cR8CbOti/gpdkBv1x18yJwANgHvAykmf89a/4gznm1/YxYGeItXzhPVFYCe1xfvxux77uu7IeBy6zOOkb2z+Kco+wD6oFNPpT9cpwrQEqB71qdx428zwC1wIDrv/ntONuC/wMoxnmDn3irc46R+xyc0zL7RrzHL/eR7GcAu13ZDwD3uLbn4hy4lAB/AkKszjrWl7ZAUEopP+d3UzdKKaU+Tgu9Ukr5OS30Sinl57TQK6WUn9NCr5RSfk4LvfJrIhIrIl+Zop91q4j82vX4yyLyedfjOa5uqrtFZIaI/LOIFImIV135rPyXLq9Ufs3VU+UVY8yCMfYdv6LRUz/rVpzXZ6wftf1unF1Jf+h6fgi42BhT5amfrdTJ+GQLBKVOw0+AGa5mVK8BfwN+ALQCc0RkruuYC3C2Un7QGPMQgIh8G7jOtf0lY8z3Rn9zEfkC8B2gDWeL4z7X9u8DXTjvl/x1YEhEVuO8aCwXeFVEHjPGPDA5v7ZS/0sLvfJ3dwMLjLMZFSJyAc5e7guMMUdF5A6c7TCWiUgI8J6IbMbZqmEmzuZVAmwQkfOMs0Uwru+VCvwHsBRox3k5/O6RP9wYs1FEfgd0GWN+5nrdGuBCY0zTZP7iSh2nhV4Fog+Mszc+OG/2coaIHO9XEoOzwF/i+jpeuCNd298Z8X1WAG8ZYxoBROQ5YNYkZ1fqtGmhV4Ho2IjHAnzNGLNp5AGuWx7ed3waRylfpqtulL/rxHnbuhPZBNzlap+LiMwSkQjX9ttcvdMRkTQRSR712u3A+SKS4Hr9tZ6Pr9TE6Yhe+TVjTLOIvOe6kfarOE/GjvQIkA3scrXRbQSuNMZsdp2o3ercTBfwOUb0SjfO/unfB7biPBm7Z5J/HaXGRZdXKqWUn9OpG6WU8nNa6JVSys9poVdKKT+nhV4ppfycFnqllPJzWuiVUsrPaaFXSik/9/8BE9ES8ugZ5aAAAAAASUVORK5CYII=\n"
     },
     "metadata": {
      "needs_background": "light"
     },
     "output_type": "display_data"
    }
   ],
   "source": [
    "sn.distplot(predictions['tree diff'], bins=40)"
   ]
  },
  {
   "cell_type": "code",
   "execution_count": 18,
   "metadata": {},
   "outputs": [
    {
     "data": {
      "text/plain": "<matplotlib.axes._subplots.AxesSubplot at 0x7f1b77de9780>"
     },
     "execution_count": 18,
     "metadata": {},
     "output_type": "execute_result"
    },
    {
     "data": {
      "text/plain": "<Figure size 432x288 with 1 Axes>",
      "image/png": "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\n"
     },
     "metadata": {
      "needs_background": "light"
     },
     "output_type": "display_data"
    }
   ],
   "source": [
    "sn.distplot(predictions['xgb diff'], bins=40)"
   ]
  },
  {
   "cell_type": "markdown",
   "metadata": {
    "pycharm": {
     "name": "#%% md\n"
    }
   },
   "source": [
    "Jak widać w praktyce najgorzej radzi sobie model kNN, posiada też wyraźn, co pokrywa się z naszymi przewidywaniami. Róznice pomiędzy pomiędzy pozostałymi modelami na zbiorze testowym są naprawdę małe."
   ]
  },
  {
   "cell_type": "code",
   "execution_count": 18,
   "outputs": [],
   "source": [],
   "metadata": {
    "collapsed": false,
    "pycharm": {
     "name": "#%%\n"
    }
   }
  },
  {
   "cell_type": "markdown",
   "source": [
    "Model kNN ma wyraźne zachwianie rozkładu błędu względem rozkładu normalnego. Własności tej nie mają rozkłady błędów pozostałych modeli co wskazuje, że mierzone błędy moga być spowodowane 'zaszumieniem' wartości celu.\n",
    "Wybór pomiędzy nimi zależy od innych kryteriów jak np. czas trenowania modelu czy możliwość wyjaśnienia predykcji. Z tego powodu zdecydowaliśmy sie na model *DecisionTreeRegressor*\n",
    "W przypadku preferowania szybkości czasu uczenia i wsparcia GPU preferowany mógłby być model XGB [po wcześniejszej kompilacji pod wsparcie akceleracji GPU]\n"
   ],
   "metadata": {
    "collapsed": false,
    "pycharm": {
     "name": "#%% md\n"
    }
   }
  },
    {
   "cell_type": "markdown",
   "source": [
   "### Założenia:\n"
    "- Eksperyment A/B jest przeprowadzany:\n"
    "	- poprzez zbieranie danych wraz predykcjami i informacją o użytym modelu jako, że nie istnieje natychmiastowa informacja zwrotna.\n"
    "	- z podziałem ruchu na poziomie zapytań, jako że każda dostawa jest traktowana jako zjawisko niezależne, jeden użytkownik\n"
    "\n"
    "- Api będzie udostępniało możliwość pobrania historii predykcji:\n"
    "	- w formie historii wraz z informacjami o uzytym modelu\n"
    "	- w formie rekordów z predykcjami porównywanych modeli\n"
    "\n"
    "- Wytrenowane modele będą przechowywane w formie plików i ładowane zgodnie z parametrami uruchomienia programu.\n"
    "\n"
    "- Konfiguracja eksperymentu A/B następować będzie przy uruchomieniu programu.\n"
   ],
   "metadata": {
    "collapsed": false,
    "pycharm": {
     "name": "#%% md\n"
    }
   }
  }
 ],
 "metadata": {
  "kernelspec": {
   "display_name": "Python 3",
   "language": "python",
   "name": "python3"
  },
  "language_info": {
   "codemirror_mode": {
    "name": "ipython",
    "version": 3
   },
   "file_extension": ".py",
   "mimetype": "text/x-python",
   "name": "python",
   "nbconvert_exporter": "python",
   "pygments_lexer": "ipython3",
   "version": "3.6.9"
  }
 },
 "nbformat": 4,
 "nbformat_minor": 1
}
